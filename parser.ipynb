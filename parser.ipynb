{
 "cells": [
  {
   "cell_type": "code",
   "execution_count": 92,
   "metadata": {},
   "outputs": [
    {
     "name": "stdout",
     "output_type": "stream",
     "text": [
      "(12, 6)\n"
     ]
    },
    {
     "data": {
      "image/png": "[encoded data removed]",
      "text/plain": [
       "<Figure size 432x288 with 1 Axes>"
      ]
     },
     "metadata": {
      "needs_background": "light"
     },
     "output_type": "display_data"
    },
    {
     "name": "stdout",
     "output_type": "stream",
     "text": [
      "[['30.04.2020'\n",
      "  'Joel Remmel \"Live at Taff Club\" vinüülplaadi väljaandmine' 'Muusika'\n",
      "  1000 1515 57]\n",
      " ['01.05.2020' 'Tiutle 2' 'Kat 2' 222 121 232]\n",
      " ['02.05.2020' 'Tiutle 3' 'Kat 3' 1000 1515 57]\n",
      " ['03.05.2020' 'Tiutle 4' 'Kat 4' 1778 2909 57]\n",
      " ['04.05.2020' 'aaa Remmel \"Live at Taff Club\" vinüülplaadi väljaandmine'\n",
      "  'Muusika' 222 121 232]\n",
      " ['05.05.2020' 'Tiutle 5' 'Kat 5' 1000 1515 57]\n",
      " ['06.05.2020' 'Tiutle 6' 'Kat 6' 1778 2909 232]\n",
      " ['07.05.2020' 'Tiutle 7' 'Kat 7' 222 121 232]]\n",
      "144.0\n",
      "['Лист1', 'Лист2']\n",
      "    nim  toe 1  kog 1  toe 2  kog 2  toe 1.1  kog 1.1  toe 2.1  kog 2.1\n",
      "0  Dago     15    393     40    142      NaN      NaN      NaN      NaN\n",
      "1  Joel      5      4     18     36     35.0      2.0     65.0      4.0\n",
      "0    Dago\n",
      "1    Joel\n",
      "Name: nim, dtype: object\n",
      "toe 1       10.0\n",
      "kog 1      198.5\n",
      "toe 2       29.0\n",
      "kog 2       89.0\n",
      "toe 1.1     35.0\n",
      "kog 1.1      2.0\n",
      "toe 2.1     65.0\n",
      "kog 2.1      4.0\n",
      "dtype: float64\n"
     ]
    }
   ],
   "source": [
    "import numpy as np\n",
    "import matplotlib.pyplot as plt\n",
    "import pandas as pd\n",
    "\n",
    "#инкапсуляция цифт через библеотеку numpy\n",
    "data = np.loadtxt(\"http://digo.ee/task04.txt\", delimiter=\",\")\n",
    "#data = np.loadtxt(\"http://digo.ee/task04.txt\", delimiter=\",\", skiprows=1, max_rows=1)\n",
    "#вывод формы файла\n",
    "print (data.shape)\n",
    "#Преобразуем данные и сделаем матрицу - квадрат\n",
    "data = np.reshape(data[0], (2, 3))\n",
    "plt.imshow(data, cmap='Greys')\n",
    "plt.show()\n",
    "\n",
    "#вывод серии данных через pandas\n",
    "data = pd.read_csv(\"http://digo.ee/test.csv\", na_values=\"NA\", decimal=\",\")\n",
    "data.fillna(0, axis=1, inplace=True)\n",
    "#снятие статистики всех проектов\n",
    "#print (data.head())\n",
    "data_array = data.values\n",
    "print (data_array)\n",
    "#вывод среднего числа (пользовотелей) по первой категории\n",
    "#округление среднего числа пользователей\n",
    "print (data[\"bak\"].mean().round())\n",
    "\n",
    "#загрузка данных из excel\n",
    "#анализ подарков и преобразование данных (дата)\n",
    "data = pd.ExcelFile(\"http://digo.ee/bake.xlsx\")\n",
    "print (data.sheet_names)\n",
    "data=data.parse(sheet_name=1, converters={\"Date\": pd.to_datetime, \"DOM time\": int})\n",
    "#переименование колонолк в удобный формат #data=data.parse(sheet_name=1, names=[\"nimi\"], [\"num 1\"], [\"toe 1\"], [\"num 1\"])\n",
    "print (data.head())\n",
    "#вызов отдельной колонки\n",
    "print (data[\"nim\"])\n",
    "#вызов среднего значения\n",
    "print (data.mean())\n",
    "\n"
   ]
  },
  {
   "cell_type": "markdown",
   "metadata": {},
   "source": []
  },
  {
   "cell_type": "code",
   "execution_count": null,
   "metadata": {},
   "outputs": [],
   "source": []
  }
 ],
 "metadata": {
  "kernelspec": {
   "display_name": "Python 3",
   "language": "python",
   "name": "python3"
  },
  "language_info": {
   "codemirror_mode": {
    "name": "ipython",
    "version": 3
   },
   "file_extension": ".py",
   "mimetype": "text/x-python",
   "name": "python",
   "nbconvert_exporter": "python",
   "pygments_lexer": "ipython3",
   "version": "3.8.2"
  }
 },
 "nbformat": 4,
 "nbformat_minor": 4
}
