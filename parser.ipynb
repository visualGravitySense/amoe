{
 "cells": [
  {
   "cell_type": "code",
   "execution_count": 1,
   "metadata": {},
   "outputs": [
    {
     "name": "stdout",
     "output_type": "stream",
     "text": [
      "(12, 6)\n"
     ]
    },
    {
     "data": {
      "image/png": "[encoded data removed]",
      "text/plain": [
       "<Figure size 432x288 with 1 Axes>"
      ]
     },
     "metadata": {
      "needs_background": "light"
     },
     "output_type": "display_data"
    },
    {
     "name": "stdout",
     "output_type": "stream",
     "text": [
      "[['30.04.2020'\n",
      "  'Joel Remmel \"Live at Taff Club\" vinüülplaadi väljaandmine' 'Muusika'\n",
      "  1000 1515 57]\n",
      " ['01.05.2020' 'Tiutle 2' 'Kat 2' 222 121 232]\n",
      " ['02.05.2020' 'Tiutle 3' 'Kat 3' 1000 1515 57]\n",
      " ['03.05.2020' 'Tiutle 4' 'Kat 4' 1778 2909 57]\n",
      " ['04.05.2020' 'aaa Remmel \"Live at Taff Club\" vinüülplaadi väljaandmine'\n",
      "  'Muusika' 222 121 232]\n",
      " ['05.05.2020' 'Tiutle 5' 'Kat 5' 1000 1515 57]\n",
      " ['06.05.2020' 'Tiutle 6' 'Kat 6' 1778 2909 232]\n",
      " ['07.05.2020' 'Tiutle 7' 'Kat 7' 222 121 232]]\n",
      "144.0\n",
      "['Лист1', 'Лист2']\n",
      "    nim  toe 1  kog 1  toe 2  kog 2  toe 1.1  kog 1.1  toe 2.1  kog 2.1\n",
      "0  Dago     15    393     40    142      NaN      NaN      NaN      NaN\n",
      "1  Joel      5      4     18     36     35.0      2.0     65.0      4.0\n",
      "0    Dago\n",
      "1    Joel\n",
      "Name: nim, dtype: object\n",
      "toe 1       10.0\n",
      "kog 1      198.5\n",
      "toe 2       29.0\n",
      "kog 2       89.0\n",
      "toe 1.1     35.0\n",
      "kog 1.1      2.0\n",
      "toe 2.1     65.0\n",
      "kog 2.1      4.0\n",
      "dtype: float64\n"
     ]
    }
   ],
   "source": [
    "%matplotlib inline\n",
    "import numpy as np\n",
    "import matplotlib.pyplot as plt\n",
    "import pandas as pd\n",
    "\n",
    "#инкапсуляция цифт через библеотеку numpy\n",
    "data = np.loadtxt(\"http://digo.ee/task04.txt\", delimiter=\",\")\n",
    "#data = np.loadtxt(\"http://digo.ee/task04.txt\", delimiter=\",\", skiprows=1, max_rows=1)\n",
    "#вывод формы файла\n",
    "print (data.shape)\n",
    "#Преобразуем данные и сделаем матрицу - квадрат\n",
    "data = np.reshape(data[0], (2, 3))\n",
    "plt.imshow(data, cmap='Greys')\n",
    "plt.show()\n",
    "\n",
    "#вывод серии данных через pandas\n",
    "data = pd.read_csv(\"http://digo.ee/test.csv\", na_values=\"NA\", decimal=\",\")\n",
    "data.fillna(0, axis=1, inplace=True)\n",
    "#снятие статистики всех проектов\n",
    "#print (data.head())\n",
    "data_array = data.values\n",
    "print (data_array)\n",
    "#вывод среднего числа (пользовотелей) по первой категории\n",
    "#округление среднего числа пользователей\n",
    "print (data[\"bak\"].mean().round())\n",
    "\n",
    "#загрузка данных из excel\n",
    "#анализ подарков и преобразование данных (дата)\n",
    "data = pd.ExcelFile(\"http://digo.ee/bake.xlsx\")\n",
    "print (data.sheet_names)\n",
    "data=data.parse(sheet_name=1, converters={\"Date\": pd.to_datetime, \"DOM time\": int})\n",
    "#переименование колонолк в удобный формат #data=data.parse(sheet_name=1, names=[\"nimi\"], [\"num 1\"], [\"toe 1\"], [\"num 1\"])\n",
    "print (data.head())\n",
    "#вызов отдельной колонки\n",
    "print (data[\"nim\"])\n",
    "#вызов среднего значения\n",
    "print (data.mean())"
   ]
  },
  {
   "cell_type": "code",
   "execution_count": 81,
   "metadata": {},
   "outputs": [
    {
     "name": "stdout",
     "output_type": "stream",
     "text": [
      "индексы данных                                              Projekt   Toetus\n",
      "0                                   Lühifilm \"Ohver\"   1535.0\n",
      "1  Mari Kalkuni plaadi \"Õunaaia album\" ja video v...   7338.0\n",
      "2         Kinkeraamat #õnnelikteekond #becominghappy   2283.0\n",
      "3         Lexsoul Dancemachine \"Lexplosion II\" album   6515.0\n",
      "4  Endise spordiajakirjaniku Valeri Maksimovi elu...   2353.0\n",
      "5                            Narva Airsoft CQB areen   4185.0\n",
      "6                           VORONJA SKULPTUURIDE AED   8245.0\n",
      "7                                      Film \"Ankeet\"   3067.0\n",
      "8  Curly Strings ja sõbrad - heategevusliku album...  13389.0\n",
      "9  \"mujal nüüd – elsewhere today\" raamatu väljaan...      NaN\n"
     ]
    },
    {
     "data": {
      "image/png": "[encoded data removed]",
      "text/plain": [
       "<Figure size 432x288 with 1 Axes>"
      ]
     },
     "metadata": {
      "needs_background": "light"
     },
     "output_type": "display_data"
    },
    {
     "name": "stdout",
     "output_type": "stream",
     "text": [
      "мультииндексы                                                              Toetus\n",
      "Type    Projekt                                                    \n",
      "MUU     \"mujal nüüd – elsewhere today\" raamatu väljaand...      NaN\n",
      "        Endise spordiajakirjaniku Valeri Maksimovi elul...   2353.0\n",
      "        Film \"Ankeet\"                                        3067.0\n",
      "        Kinkeraamat #õnnelikteekond #becominghappy           2283.0\n",
      "        Lühifilm \"Ohver\"                                     1535.0\n",
      "        Narva Airsoft CQB areen                              4185.0\n",
      "        VORONJA SKULPTUURIDE AED                             8245.0\n",
      "MUUSIKA Curly Strings ja sõbrad - heategevusliku albumi...  13389.0\n",
      "        Lexsoul Dancemachine \"Lexplosion II\" album           6515.0\n",
      "        Mari Kalkuni plaadi \"Õunaaia album\" ja video vä...   7338.0\n",
      "срезы данных через индексы                                                      Toetus\n",
      "Projekt                                                    \n",
      "Curly Strings ja sõbrad - heategevusliku albumi...  13389.0\n",
      "Lexsoul Dancemachine \"Lexplosion II\" album           6515.0\n",
      "Mari Kalkuni plaadi \"Õunaaia album\" ja video vä...   7338.0\n",
      "объединение фреймов                                                     Toetus_x  Toetus_y\n",
      "Projekt                                                               \n",
      "Lühifilm \"Ohver\"                                      1535.0      2000\n",
      "Mari Kalkuni plaadi \"Õunaaia album\" ja video vä...    7338.0      3000\n",
      "Kinkeraamat #õnnelikteekond #becominghappy            2283.0      2222\n",
      "Lexsoul Dancemachine \"Lexplosion II\" album            6515.0      5000\n",
      "Endise spordiajakirjaniku Valeri Maksimovi elul...    2353.0      2200\n",
      "Narva Airsoft CQB areen                               4185.0      3500\n",
      "VORONJA SKULPTUURIDE AED                              8245.0     10500\n",
      "Film \"Ankeet\"                                         3067.0      3000\n",
      "Curly Strings ja sõbrad - heategevusliku albumi...   13389.0     13250\n",
      "\"mujal nüüd – elsewhere today\" raamatu väljaand...       NaN      1500\n",
      "График всех пожертвований\n"
     ]
    },
    {
     "data": {
      "image/png": "[encoded data removed]",
      "text/plain": [
       "<Figure size 432x288 with 1 Axes>"
      ]
     },
     "metadata": {
      "needs_background": "light"
     },
     "output_type": "display_data"
    },
    {
     "name": "stdout",
     "output_type": "stream",
     "text": [
      "соотношение двух таблиц поиск зависимости одних данных от других Calls\n",
      "220    13465\n",
      "Name: UnemployedMen, dtype: int64\n"
     ]
    }
   ],
   "source": [
    "# индексы данных\n",
    "#data = pd.read_csv(\"http://digo.ee/hooandja.csv\", na_values=\"NA\", decimal=\".\")\n",
    "#print (data)\n",
    "data = pd.read_csv(\"http://digo.ee/hooandja.csv\", na_values=\"NA\", decimal=\".\", skiprows=1, names=[\"Projekt\", \"Toetus\"])\n",
    "#data_indexed = pd.Series(data[\"Toetus\"].values, index=data[\"Projekt\"].values)\n",
    "#print (data_indexed)\n",
    "#print (data_indexed.index)\n",
    "#print (data)\n",
    "#data = data.reset_index()\n",
    "print (\"индексы данных\", data)\n",
    "data.plot.line()\n",
    "plt.show()\n",
    "\n",
    "# мультииндексы\n",
    "area_indexes = data[data[\"Projekt\"].str.contains(\"album\")].index\n",
    "#создаём генератор\n",
    "data_areas_index = [(lambda n: \"MUUSIKA\" if n in area_indexes else \"MUU\")(i) for i in range(0, len(data.index))]\n",
    "data[\"Type\"] = data_areas_index\n",
    "data = data.set_index([\"Type\", \"Projekt\"])\n",
    "data = data.sort_index()\n",
    "print (\"мультииндексы\", data)\n",
    "\n",
    "\n",
    "# срезы данных через индексы\n",
    "areas = data.loc[\"MUUSIKA\"]\n",
    "print (\"срезы данных через индексы\", areas)\n",
    "\n",
    "# объединение фреймов\n",
    "data_m = pd.read_csv(\"http://digo.ee/hooandja.csv\", na_values=\"NA\", decimal=\".\", skiprows=1, names=[\"Projekt\", \"Toetus\"], index_col=\"Projekt\")\n",
    "data_n = pd.read_csv(\"http://digo.ee/hooandja_p.csv\", na_values=\"NA\", decimal=\".\", skiprows=1, names=[\"Projekt\", \"Toetus\"], index_col=\"Projekt\")\n",
    "data_a = pd.merge(data_m, data_n, left_index=True, right_index=True)\n",
    "print (\"объединение фреймов\", data_a)\n",
    "data.fillna(0, axis=1, inplace=True)\n",
    "\n",
    "data.plot.line()\n",
    "print (\"График всех пожертвований\")\n",
    "plt.show()\n",
    "\n",
    "# объединение данных и сортировка по индексам\n",
    "# пример из урока\n",
    "\n",
    "data_1 = pd.read_csv('http://video.ittensive.com/python-advanced/data-9753-2019-07-25.utf.csv', delimiter=';')\n",
    "data_1 = data_1.set_index(['Year', 'Period'])\n",
    "\n",
    "data_2 = pd.read_csv('http://video.ittensive.com/python-advanced/data-5283-2019-10-04.utf.csv', delimiter=';')\n",
    "data_2 = data_2.set_index(['AdmArea', 'Year', 'Month'])\n",
    "data_2 = data_2.loc['Центральный административный округ']\n",
    "data_2.index.names = ['Year', 'Period']\n",
    "\n",
    "data = pd.merge(data_1, data_2, left_index=True, right_index=True)\n",
    "\n",
    "data = data.reset_index()\n",
    "data = data.set_index('Calls')\n",
    "# print(data_1.head())\n",
    "# print(data_2.head())\n",
    "data = data.sort_index()\n",
    "print(\"соотношение двух таблиц поиск зависимости одних данных от других\", data['UnemployedMen'][0:1])"
   ]
  },
  {
   "cell_type": "code",
   "execution_count": null,
   "metadata": {},
   "outputs": [],
   "source": []
  },
  {
   "cell_type": "code",
   "execution_count": null,
   "metadata": {},
   "outputs": [],
   "source": []
  },
  {
   "cell_type": "code",
   "execution_count": null,
   "metadata": {},
   "outputs": [],
   "source": []
  },
  {
   "cell_type": "code",
   "execution_count": null,
   "metadata": {},
   "outputs": [],
   "source": []
  },
  {
   "cell_type": "code",
   "execution_count": null,
   "metadata": {},
   "outputs": [],
   "source": []
  },
  {
   "cell_type": "code",
   "execution_count": null,
   "metadata": {},
   "outputs": [],
   "source": []
  },
  {
   "cell_type": "code",
   "execution_count": null,
   "metadata": {},
   "outputs": [],
   "source": []
  },
  {
   "cell_type": "code",
   "execution_count": null,
   "metadata": {},
   "outputs": [],
   "source": []
  },
  {
   "cell_type": "code",
   "execution_count": null,
   "metadata": {},
   "outputs": [],
   "source": []
  },
  {
   "cell_type": "code",
   "execution_count": null,
   "metadata": {},
   "outputs": [],
   "source": []
  },
  {
   "cell_type": "code",
   "execution_count": null,
   "metadata": {},
   "outputs": [],
   "source": []
  },
  {
   "cell_type": "code",
   "execution_count": null,
   "metadata": {},
   "outputs": [],
   "source": []
  },
  {
   "cell_type": "code",
   "execution_count": null,
   "metadata": {},
   "outputs": [],
   "source": []
  },
  {
   "cell_type": "code",
   "execution_count": null,
   "metadata": {},
   "outputs": [],
   "source": []
  },
  {
   "cell_type": "code",
   "execution_count": null,
   "metadata": {},
   "outputs": [],
   "source": []
  },
  {
   "cell_type": "code",
   "execution_count": null,
   "metadata": {},
   "outputs": [],
   "source": []
  },
  {
   "cell_type": "code",
   "execution_count": null,
   "metadata": {},
   "outputs": [],
   "source": []
  },
  {
   "cell_type": "code",
   "execution_count": null,
   "metadata": {},
   "outputs": [],
   "source": []
  },
  {
   "cell_type": "code",
   "execution_count": null,
   "metadata": {},
   "outputs": [],
   "source": []
  },
  {
   "cell_type": "code",
   "execution_count": null,
   "metadata": {},
   "outputs": [],
   "source": []
  },
  {
   "cell_type": "code",
   "execution_count": null,
   "metadata": {},
   "outputs": [],
   "source": []
  },
  {
   "cell_type": "code",
   "execution_count": null,
   "metadata": {},
   "outputs": [],
   "source": []
  },
  {
   "cell_type": "code",
   "execution_count": null,
   "metadata": {},
   "outputs": [],
   "source": []
  },
  {
   "cell_type": "code",
   "execution_count": null,
   "metadata": {},
   "outputs": [],
   "source": []
  },
  {
   "cell_type": "code",
   "execution_count": null,
   "metadata": {},
   "outputs": [],
   "source": []
  },
  {
   "cell_type": "code",
   "execution_count": null,
   "metadata": {},
   "outputs": [],
   "source": []
  },
  {
   "cell_type": "code",
   "execution_count": null,
   "metadata": {},
   "outputs": [],
   "source": []
  },
  {
   "cell_type": "code",
   "execution_count": null,
   "metadata": {},
   "outputs": [],
   "source": []
  },
  {
   "cell_type": "code",
   "execution_count": null,
   "metadata": {},
   "outputs": [],
   "source": []
  },
  {
   "cell_type": "code",
   "execution_count": null,
   "metadata": {},
   "outputs": [],
   "source": []
  },
  {
   "cell_type": "code",
   "execution_count": null,
   "metadata": {},
   "outputs": [],
   "source": []
  },
  {
   "cell_type": "code",
   "execution_count": null,
   "metadata": {},
   "outputs": [],
   "source": []
  },
  {
   "cell_type": "code",
   "execution_count": null,
   "metadata": {},
   "outputs": [],
   "source": []
  },
  {
   "cell_type": "code",
   "execution_count": null,
   "metadata": {},
   "outputs": [],
   "source": []
  },
  {
   "cell_type": "code",
   "execution_count": null,
   "metadata": {},
   "outputs": [],
   "source": []
  },
  {
   "cell_type": "code",
   "execution_count": null,
   "metadata": {},
   "outputs": [],
   "source": []
  },
  {
   "cell_type": "code",
   "execution_count": null,
   "metadata": {},
   "outputs": [],
   "source": []
  },
  {
   "cell_type": "code",
   "execution_count": null,
   "metadata": {},
   "outputs": [],
   "source": []
  },
  {
   "cell_type": "code",
   "execution_count": null,
   "metadata": {},
   "outputs": [],
   "source": []
  },
  {
   "cell_type": "code",
   "execution_count": null,
   "metadata": {},
   "outputs": [],
   "source": []
  },
  {
   "cell_type": "code",
   "execution_count": null,
   "metadata": {},
   "outputs": [],
   "source": []
  },
  {
   "cell_type": "code",
   "execution_count": null,
   "metadata": {},
   "outputs": [],
   "source": []
  },
  {
   "cell_type": "code",
   "execution_count": null,
   "metadata": {},
   "outputs": [],
   "source": []
  },
  {
   "cell_type": "code",
   "execution_count": null,
   "metadata": {},
   "outputs": [],
   "source": []
  },
  {
   "cell_type": "code",
   "execution_count": null,
   "metadata": {},
   "outputs": [],
   "source": []
  },
  {
   "cell_type": "code",
   "execution_count": null,
   "metadata": {},
   "outputs": [],
   "source": []
  },
  {
   "cell_type": "code",
   "execution_count": null,
   "metadata": {},
   "outputs": [],
   "source": []
  },
  {
   "cell_type": "code",
   "execution_count": null,
   "metadata": {},
   "outputs": [],
   "source": []
  },
  {
   "cell_type": "code",
   "execution_count": null,
   "metadata": {},
   "outputs": [],
   "source": []
  },
  {
   "cell_type": "code",
   "execution_count": null,
   "metadata": {},
   "outputs": [],
   "source": []
  },
  {
   "cell_type": "code",
   "execution_count": null,
   "metadata": {},
   "outputs": [],
   "source": []
  },
  {
   "cell_type": "code",
   "execution_count": null,
   "metadata": {},
   "outputs": [],
   "source": []
  },
  {
   "cell_type": "code",
   "execution_count": null,
   "metadata": {},
   "outputs": [],
   "source": []
  },
  {
   "cell_type": "code",
   "execution_count": null,
   "metadata": {},
   "outputs": [],
   "source": []
  },
  {
   "cell_type": "code",
   "execution_count": null,
   "metadata": {},
   "outputs": [],
   "source": []
  },
  {
   "cell_type": "code",
   "execution_count": null,
   "metadata": {},
   "outputs": [],
   "source": []
  },
  {
   "cell_type": "code",
   "execution_count": null,
   "metadata": {},
   "outputs": [],
   "source": []
  },
  {
   "cell_type": "code",
   "execution_count": null,
   "metadata": {},
   "outputs": [],
   "source": []
  },
  {
   "cell_type": "code",
   "execution_count": null,
   "metadata": {},
   "outputs": [],
   "source": []
  },
  {
   "cell_type": "code",
   "execution_count": null,
   "metadata": {},
   "outputs": [],
   "source": []
  },
  {
   "cell_type": "code",
   "execution_count": null,
   "metadata": {},
   "outputs": [],
   "source": []
  },
  {
   "cell_type": "code",
   "execution_count": null,
   "metadata": {},
   "outputs": [],
   "source": []
  },
  {
   "cell_type": "code",
   "execution_count": null,
   "metadata": {},
   "outputs": [],
   "source": []
  },
  {
   "cell_type": "code",
   "execution_count": null,
   "metadata": {},
   "outputs": [],
   "source": []
  },
  {
   "cell_type": "code",
   "execution_count": null,
   "metadata": {},
   "outputs": [],
   "source": []
  },
  {
   "cell_type": "code",
   "execution_count": null,
   "metadata": {},
   "outputs": [],
   "source": []
  },
  {
   "cell_type": "code",
   "execution_count": null,
   "metadata": {},
   "outputs": [],
   "source": []
  },
  {
   "cell_type": "code",
   "execution_count": null,
   "metadata": {},
   "outputs": [],
   "source": []
  },
  {
   "cell_type": "code",
   "execution_count": null,
   "metadata": {},
   "outputs": [],
   "source": []
  },
  {
   "cell_type": "code",
   "execution_count": null,
   "metadata": {},
   "outputs": [],
   "source": []
  },
  {
   "cell_type": "code",
   "execution_count": null,
   "metadata": {},
   "outputs": [],
   "source": []
  },
  {
   "cell_type": "code",
   "execution_count": null,
   "metadata": {},
   "outputs": [],
   "source": []
  },
  {
   "cell_type": "code",
   "execution_count": null,
   "metadata": {},
   "outputs": [],
   "source": []
  },
  {
   "cell_type": "code",
   "execution_count": null,
   "metadata": {},
   "outputs": [],
   "source": []
  },
  {
   "cell_type": "code",
   "execution_count": null,
   "metadata": {},
   "outputs": [],
   "source": []
  },
  {
   "cell_type": "code",
   "execution_count": null,
   "metadata": {},
   "outputs": [],
   "source": []
  }
 ],
 "metadata": {
  "kernelspec": {
   "display_name": "Python 3",
   "language": "python",
   "name": "python3"
  },
  "language_info": {
   "codemirror_mode": {
    "name": "ipython",
    "version": 3
   },
   "file_extension": ".py",
   "mimetype": "text/x-python",
   "name": "python",
   "nbconvert_exporter": "python",
   "pygments_lexer": "ipython3",
   "version": "3.8.2"
  }
 },
 "nbformat": 4,
 "nbformat_minor": 4
}
