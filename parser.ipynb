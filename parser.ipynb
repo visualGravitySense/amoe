{
 "cells": [
  {
   "cell_type": "markdown",
   "metadata": {},
   "source": [
    "### Парсер Hooandja\n",
    "Библиотеки\n",
    "Этика Парсинга"
   ]
  },
  {
   "cell_type": "code",
   "execution_count": 5,
   "metadata": {},
   "outputs": [],
   "source": [
    "import time\n",
    "import requests\n",
    "from bs4 import BeautifulSoup\n",
    "import lxml\n",
    "from multiprocess import Pool\n",
    "from multiprocess import cpu_count"
   ]
  },
  {
   "cell_type": "code",
   "execution_count": 26,
   "metadata": {},
   "outputs": [
    {
     "name": "stdout",
     "output_type": "stream",
     "text": [
      "<!DOCTYPE html PUBLIC \"-//W3C//DTD XHTML 1.0 Strict//EN\" \"http://www.w3.org/TR/xhtml1/DTD/xhtml1-strict.dtd\">\n",
      "<html dir=\"ltr\" lang=\"et\" xml:lang=\"et\" xmlns=\"http://www.w3.org/1999/xhtml\" xmlns:fb=\"http://www.facebook.com/2008/fbml\" xmlns:og=\"http://opengraphprotocol.org/schema/\">\n",
      "<head profile=\"http://www.w3.org/1999/xhtml/vocab\">\n",
      "<meta content=\"text/html; charset=utf-8\" http-equiv=\"Content-Type\"/>\n",
      "<link href=\"https://www.hooandja.ee/sites/default/files/favicon.ico\" rel=\"shortcut icon\" type=\"image/vnd.microsoft.icon\"/>\n",
      "<meta content=\"438597739485962\" property=\"fb:app_id\"/>\n",
      "<title>Edukalt lõppenud | Hooandja</title>\n",
      "<link href=\"https://www.hooandja.ee/sites/default/files/css/css_xE-rWrJf-fncB6ztZfd2huxqgxu4WO-qwma6Xer30m4.css\" media=\"all\" rel=\"stylesheet\" type=\"text/css\"/>\n",
      "<link href=\"https://www.hooandja.ee/sites/default/files/css/css_n7aK8s-ciXhQyEYWNOJtISbWxtxQiQvnD-N_xWUtD5A.css\" media=\"all\" rel=\"stylesheet\" type=\"text/css\"/>\n",
      "<link href=\"https://www.hooandja.ee/sites/default/files/css/css_MnXiytJtb186Ydycnpwpw34cuUsHaKc80ey5LiQXhSY.css\" media=\"all\" rel=\"stylesheet\" type=\"text/css\"/>\n",
      "<link href=\"https://www.hooandja.ee/sites/default/files/css/css_K6lib0K0TE889mURLZcBACwav7NaKlAw-JGixrDUzAU.css\" media=\"all\" rel=\"stylesheet\" type=\"text/css\"/>\n",
      "<link href=\"https://fonts.googleapis.com/css?family=Cabin:400,500,600,700\" rel=\"stylesheet\" type=\"text/css\"/>\n",
      "<script src=\"https://www.hooandja.ee/sites/default/files/js/js_Ua98zxjH9I2U2rTee9IFt0Bz0daoaQQTSnaDxCxt3Kc.js\" type=\"text/javascript\"></script>\n",
      "<script src=\"https://www.hooandja.ee/sites/default/files/js/js_IozhrXSbuuVdzA0V8ii0DY3xpN1lJIFw6EXnT8mdcxc.js\" type=\"text/javascript\"></script>\n",
      "<script type=\"text/javascript\">\n",
      "<!--//--><![CDATA[//><!--\n",
      "(function($){$().ready(function(){\n",
      "      //sendsmaily e-mail js validate\n",
      "      $(\"#block-block-6 form\").prepend('<div id=\"block-block-6-errors\"></div>');\n",
      "      $(\"#block-block-6 form\").submit(function(e){\n",
      "        if(!validateEmail($(\"input[name$='email']\").val())){\n",
      "          e.preventDefault();\n",
      "          $(\"#block-block-6-errors\").html(Drupal.t(\"Incorrect email address provided!\"));\n",
      "        }\n",
      "      });\n",
      "    });})(jQuery);\n",
      "\n",
      "    //js validate function\n",
      "    function validateEmail($email) {  var emailReg = /^([\\w-\\.]+@([\\w-]+\\.)+[\\w-]{2,4})?$/; return emailReg.test( $email );}\n",
      "//--><!]]>\n",
      "</script>\n",
      "<script src=\"https://www.hooandja.ee/sites/default/files/js/js_IDBX5SzkJ9gGNq7x-qOE_2DZsexqguTJQGMKvi4w-Uw.js\" type=\"text/javascript\"></script>\n",
      "<script src=\"https://www.hooandja.ee/sites/default/files/js/js_RezxzLf_---cK6xahYcyI0e04z3GPoNzDcNc_xxkqOE.js\" type=\"text/javascript\"></script>\n",
      "<script type=\"text/javascript\">\n",
      "<!--//--><![CDATA[//><!--\n",
      "jQuery.extend(Drupal.settings, {\"basePath\":\"\\/\",\"pathPrefix\":\"\",\"ajaxPageState\":{\"theme\":\"hooandjatheme\",\"theme_token\":\"LSXS8VrDmSS7pL_q0nXPjNddMDtyVyQ9tgb0ADPk8so\",\"js\":{\"0\":1,\"misc\\/jquery.js\":1,\"misc\\/jquery-extend-3.4.0.js\":1,\"misc\\/jquery-html-prefilter-3.5.0-backport.js\":1,\"misc\\/jquery.once.js\":1,\"misc\\/drupal.js\":1,\"public:\\/\\/languages\\/et_hucxUWPYi589bY8mdtvVneNTVY9rOm7G_PvA6trML2g.js\":1,\"1\":1,\"sites\\/all\\/modules\\/google_analytics\\/googleanalytics.js\":1,\"sites\\/all\\/themes\\/hooandjatheme\\/static\\/js\\/jquery-1.7.min.js\":1,\"sites\\/all\\/themes\\/hooandjatheme\\/static\\/js\\/jquery.custom_form.js\":1,\"sites\\/all\\/themes\\/hooandjatheme\\/static\\/js\\/jquery.validate.js\":1,\"sites\\/all\\/themes\\/hooandjatheme\\/static\\/js\\/jquery.functions.js\":1,\"sites\\/all\\/themes\\/hooandjatheme\\/static\\/js\\/jquery.tabify.js\":1,\"sites\\/all\\/themes\\/hooandjatheme\\/static\\/js\\/jquery.notification.js\":1,\"sites\\/all\\/themes\\/hooandjatheme\\/static\\/js\\/jquery.countdown.min.js\":1},\"css\":{\"modules\\/system\\/system.base.css\":1,\"modules\\/system\\/system.menus.css\":1,\"modules\\/system\\/system.messages.css\":1,\"modules\\/system\\/system.theme.css\":1,\"modules\\/comment\\/comment.css\":1,\"sites\\/all\\/modules\\/date\\/date_api\\/date.css\":1,\"sites\\/all\\/modules\\/date\\/date_popup\\/themes\\/datepicker.1.7.css\":1,\"modules\\/field\\/theme\\/field.css\":1,\"modules\\/node\\/node.css\":1,\"modules\\/search\\/search.css\":1,\"modules\\/user\\/user.css\":1,\"sites\\/all\\/modules\\/views\\/css\\/views.css\":1,\"sites\\/all\\/modules\\/ctools\\/css\\/ctools.css\":1,\"sites\\/all\\/themes\\/hooandjatheme\\/static\\/styles\\/fonts.css\":1,\"sites\\/all\\/themes\\/hooandjatheme\\/static\\/styles\\/style.css\":1,\"sites\\/all\\/themes\\/hooandjatheme\\/static\\/styles\\/overrides.css\":1,\"sites\\/all\\/themes\\/hooandjatheme\\/static\\/styles\\/fontello.css\":1}},\"googleanalytics\":{\"trackOutbound\":1,\"trackMailto\":1,\"trackDownload\":1,\"trackDownloadExtensions\":\"7z|aac|arc|arj|asf|asx|avi|bin|csv|doc|exe|flv|gif|gz|gzip|hqx|jar|jpe?g|js|mp(2|3|4|e?g)|mov(ie)?|msi|msp|pdf|phps|png|ppt|qtm?|ra(m|r)?|sea|sit|tar|tgz|torrent|txt|wav|wma|wmv|wpd|xls|xml|z|zip\"}});\n",
      "//--><!]]>\n",
      "</script>\n",
      "</head>\n",
      "<body class=\"html not-front not-logged-in no-sidebars page-avasta page-avasta-edukad domain-www-hooandja-ee i18n-et\">\n",
      "<header>\n",
      "<ul class=\"left\">\n",
      "<li><a href=\"/\" id=\"logo\"><img alt=\"Home\" src=\"https://www.hooandja.ee/sites/all/themes/hooandjatheme/logo.png\"/></a></li>\n",
      "<li class=\"active\"><a href=\"/avasta/viimati-lisatud\"><span>Avasta</span>suurepäraseid projekte</a></li>\n",
      "<li><a href=\"/alusta\"><span>Alusta</span> oma projektiga</a></li>\n",
      "</ul>\n",
      "<ul class=\"right\">\n",
      "<li class=\"item user\">\n",
      "<a class=\"primary\" href=\"/user\">Logi sisse</a>\n",
      "</li>\n",
      "<li class=\"item logIn\"><a class=\"primary\" href=\"\">Eesti</a>\n",
      "<div class=\"more\" style=\"display: none;\">\n",
      "<div class=\"inner\"><a class=\"language-link active\" href=\"/avasta/edukad\" xml:lang=\"et\">Eesti</a><a class=\"language-link\" href=\"/en/avasta/edukad\" xml:lang=\"en\">English</a><a class=\"language-link\" href=\"/ru/avasta/edukad\" xml:lang=\"ru\">Русский</a></div><!--/inner-->\n",
      "</div><!--/more-->\n",
      "</li>\n",
      "</ul>\n",
      "</header>\n",
      "<div class=\"mainContentwrap\">\n",
      "<div class=\"mainContent\">\n",
      "<div class=\"leftside w700\">\n",
      "<div class=\"inner\">\n",
      "<div class=\"region region-content\">\n",
      "<div class=\"block block-system\" id=\"block-system-main\">\n",
      "<div class=\"content\">\n",
      "<div class=\"project_white_box\">\n",
      "<div class=\"title\"><a href=\"https://www.hooandja.ee/users/erikjuhandi\" target=\"_top\"><span>Erik Juhandi </span></a><a href=\"https://www.hooandja.ee/avasta/kategooriad/trukis\" target=\"_top\">Trükis</a></div><!--title-->\n",
      "<div class=\"image\">\n",
      "<a href=\"https://www.hooandja.ee/projekt/exitus\" target=\"_top\"><img src=\"https://www.hooandja.ee/sites/default/files/styles/200x229/public/project_images/20171010_174054000_ios.jpg?itok=ATinqSlx\" width=\"200\"/></a><div class=\"desc\">\n",
      "<h3>Erik Juhandi debüütluulekogu \"Exitus\"</h3>\n",
      "</div><!--desc-->\n",
      "</div><!--image-->\n",
      "<div class=\"progress\"><div class=\"progress_bar\" style=\"width:100%;\"></div></div>\n",
      "<div class=\"data\">\n",
      "<ul>\n",
      "<li><strong>125%</strong><span>kogutud</span></li>\n",
      "<li><strong>1064€</strong><span>toetatud</span></li>\n",
      "<li><strong>Toetatud</strong><span>11.06.2020</span></li>\n",
      "</ul>\n",
      "</div><!--data-->\n",
      "</div><div class=\"project_white_box\">\n",
      "<div class=\"title\"><a href=\"https://www.hooandja.ee/users/nataliamachenene\" target=\"_top\"><span>Natalja Matsenene </span></a><a href=\"https://www.hooandja.ee/avasta/kategooriad/film-foto\" target=\"_top\">Film &amp; Foto</a></div><!--title-->\n",
      "<div class=\"image\">\n",
      "<a href=\"https://www.hooandja.ee/projekt/luhifilm-ohver\" target=\"_top\"><img src=\"https://www.hooandja.ee/sites/default/files/styles/200x229/public/project_images/foto1.png?itok=Hffi9ME5\" width=\"200\"/></a><div class=\"desc\">\n",
      "<h3>Lühifilm \"Ohver\"</h3>\n",
      "</div><!--desc-->\n",
      "</div><!--image-->\n",
      "<div class=\"progress\"><div class=\"progress_bar\" style=\"width:77%;\"></div></div>\n",
      "<div class=\"data\">\n",
      "<ul>\n",
      "<li><strong>77%</strong><span>kogutud</span></li>\n",
      "<li><strong>1535€</strong><span>toetatud</span></li>\n",
      "<li><strong><span class=\"failed\">Lõppenud</span></strong><span>08.06.2020</span></li>\n",
      "</ul>\n",
      "</div><!--data-->\n",
      "</div><div class=\"project_white_box\">\n",
      "<div class=\"title\"><a href=\"https://www.hooandja.ee/users/marikalkun\" target=\"_top\"><span>Mari Kalkun </span></a><a href=\"https://www.hooandja.ee/avasta/kategooriad/muusika\" target=\"_top\">Muusika</a></div><!--title-->\n",
      "<div class=\"image\">\n",
      "<a href=\"https://www.hooandja.ee/projekt/mari-kalkuni-ounaaia-luhialbum\" target=\"_top\"><img src=\"https://www.hooandja.ee/sites/default/files/styles/200x229/public/project_images/mari_kalkun_ruudurahumaru_2019_12.jpg?itok=0pylvjD-\" width=\"200\"/></a><div class=\"desc\">\n",
      "<h3>Mari Kalkuni plaadi \"Õunaaia album\" ja video väljaandmine</h3>\n",
      "</div><!--desc-->\n",
      "</div><!--image-->\n",
      "<div class=\"progress\"><div class=\"progress_bar\" style=\"width:100%;\"></div></div>\n",
      "<div class=\"data\">\n",
      "<ul>\n",
      "<li><strong>245%</strong><span>kogutud</span></li>\n",
      "<li><strong>7338€</strong><span>toetatud</span></li>\n",
      "<li><strong>Toetatud</strong><span>05.06.2020</span></li>\n",
      "</ul>\n",
      "</div><!--data-->\n",
      "</div><div class=\"project_white_box\">\n",
      "<div class=\"title\"><a href=\"https://www.hooandja.ee/users/birgititse\" target=\"_top\"><span>Birgit Itse </span></a><a href=\"https://www.hooandja.ee/avasta/kategooriad/trukis\" target=\"_top\">Trükis</a></div><!--title-->\n",
      "<div class=\"image\">\n",
      "<a href=\"https://www.hooandja.ee/projekt/kinkeraamat-onnelikteekond-becominghappy\" target=\"_top\"><img src=\"https://www.hooandja.ee/sites/default/files/styles/200x229/public/project_images/100733368_273507630504012_8516640661561147392_n.jpg?itok=mvaj0P_Z\" width=\"200\"/></a><div class=\"desc\">\n",
      "<h3>Kinkeraamat #õnnelikteekond #becominghappy</h3>\n",
      "</div><!--desc-->\n",
      "</div><!--image-->\n",
      "<div class=\"progress\"><div class=\"progress_bar\" style=\"width:100%;\"></div></div>\n",
      "<div class=\"data\">\n",
      "<ul>\n",
      "<li><strong>103%</strong><span>kogutud</span></li>\n",
      "<li><strong>2283€</strong><span>toetatud</span></li>\n",
      "<li><strong>Toetatud</strong><span>03.06.2020</span></li>\n",
      "</ul>\n",
      "</div><!--data-->\n",
      "</div><div class=\"project_white_box\">\n",
      "<div class=\"title\"><a href=\"https://www.hooandja.ee/users/353\" target=\"_top\"><span>Lexsoul Dancemachine </span></a><a href=\"https://www.hooandja.ee/avasta/kategooriad/muusika\" target=\"_top\">Muusika</a></div><!--title-->\n",
      "<div class=\"image\">\n",
      "<a href=\"https://www.hooandja.ee/projekt/lexsoul-dancemachine-lexplosion-ii-album\" target=\"_top\"><img src=\"https://www.hooandja.ee/sites/default/files/styles/200x229/public/project_images/lexplosion_ii_lp_cover.jpg?itok=q_UUBiQm\" width=\"200\"/></a><div class=\"desc\">\n",
      "<h3>Lexsoul Dancemachine \"Lexplosion II\" album</h3>\n",
      "</div><!--desc-->\n",
      "</div><!--image-->\n",
      "<div class=\"progress\"><div class=\"progress_bar\" style=\"width:100%;\"></div></div>\n",
      "<div class=\"data\">\n",
      "<ul>\n",
      "<li><strong>130%</strong><span>kogutud</span></li>\n",
      "<li><strong>6515€</strong><span>toetatud</span></li>\n",
      "<li><strong>Toetatud</strong><span>02.06.2020</span></li>\n",
      "</ul>\n",
      "</div><!--data-->\n",
      "</div><div class=\"project_white_box\">\n",
      "<div class=\"title\"><a href=\"https://www.hooandja.ee/users/tiinalelumees\" target=\"_top\"><span>Tiina Lelumees </span></a><a href=\"https://www.hooandja.ee/avasta/kategooriad/trukis\" target=\"_top\">Trükis</a></div><!--title-->\n",
      "<div class=\"image\">\n",
      "<a href=\"https://www.hooandja.ee/projekt/valeri-maksimovi-elulooraamat\" target=\"_top\"><img src=\"https://www.hooandja.ee/sites/default/files/styles/200x229/public/project_images/valeri12_0.jpg?itok=koRS3pEC\" width=\"200\"/></a><div class=\"desc\">\n",
      "<h3>Endise spordiajakirjaniku Valeri Maksimovi elulooraamat \"Hiiumehe ränd\"</h3>\n",
      "</div><!--desc-->\n",
      "</div><!--image-->\n",
      "<div class=\"progress\"><div class=\"progress_bar\" style=\"width:100%;\"></div></div>\n",
      "<div class=\"data\">\n",
      "<ul>\n",
      "<li><strong>107%</strong><span>kogutud</span></li>\n",
      "<li><strong>2353€</strong><span>toetatud</span></li>\n",
      "<li><strong>Toetatud</strong><span>02.06.2020</span></li>\n",
      "</ul>\n",
      "</div><!--data-->\n",
      "</div><div class=\"project_white_box\">\n",
      "<div class=\"title\"><a href=\"https://www.hooandja.ee/users/zrasahan\" target=\"_top\"><span>Alex Zrajev </span></a><a href=\"https://www.hooandja.ee/avasta/kategooriad/sport\" target=\"_top\">Sport</a></div><!--title-->\n",
      "<div class=\"image\">\n",
      "<a href=\"https://www.hooandja.ee/projekt/narva-airsoft-cqb-areen\" target=\"_top\"><img src=\"https://www.hooandja.ee/sites/default/files/styles/200x229/public/project_images/kaanepilt_ida-paasuke.jpg?itok=Elo8Ohwb\" width=\"200\"/></a><div class=\"desc\">\n",
      "<h3>Narva Airsoft CQB areen</h3>\n",
      "</div><!--desc-->\n",
      "</div><!--image-->\n",
      "<div class=\"progress\"><div class=\"progress_bar\" style=\"width:100%;\"></div></div>\n",
      "<div class=\"data\">\n",
      "<ul>\n",
      "<li><strong>120%</strong><span>kogutud</span></li>\n",
      "<li><strong>4185€</strong><span>toetatud</span></li>\n",
      "<li><strong>Toetatud</strong><span>01.06.2020</span></li>\n",
      "</ul>\n",
      "</div><!--data-->\n",
      "</div><div class=\"project_white_box\">\n",
      "<div class=\"title\"><a href=\"https://www.hooandja.ee/users/raul\" target=\"_top\"><span>Raul Oreškin </span></a><a href=\"https://www.hooandja.ee/avasta/kategooriad/kunst\" target=\"_top\">Kunst</a></div><!--title-->\n",
      "<div class=\"image\">\n",
      "<a href=\"https://www.hooandja.ee/projekt/voronja-skulptuuride-aed\" target=\"_top\"><img src=\"https://www.hooandja.ee/sites/default/files/styles/200x229/public/project_images/hooandja_paisepilt.jpg?itok=zpVGcFMs\" width=\"200\"/></a><div class=\"desc\">\n",
      "<h3>VORONJA SKULPTUURIDE AED</h3>\n",
      "</div><!--desc-->\n",
      "</div><!--image-->\n",
      "<div class=\"progress\"><div class=\"progress_bar\" style=\"width:79%;\"></div></div>\n",
      "<div class=\"data\">\n",
      "<ul>\n",
      "<li><strong>79%</strong><span>kogutud</span></li>\n",
      "<li><strong>8245€</strong><span>toetatud</span></li>\n",
      "<li><strong><span class=\"failed\">Lõppenud</span></strong><span>01.06.2020</span></li>\n",
      "</ul>\n",
      "</div><!--data-->\n",
      "</div><div class=\"project_white_box\">\n",
      "<div class=\"title\"><a href=\"https://www.hooandja.ee/users/saljona\" target=\"_top\"><span>Aljona Surzhikova </span></a><a href=\"https://www.hooandja.ee/avasta/kategooriad/film-foto\" target=\"_top\">Film &amp; Foto</a></div><!--title-->\n",
      "<div class=\"image\">\n",
      "<a href=\"https://www.hooandja.ee/projekt/film-ankeet\" target=\"_top\"><img src=\"https://www.hooandja.ee/sites/default/files/styles/200x229/public/project_images/algus2.jpg?itok=Id7l8g8f\" width=\"200\"/></a><div class=\"desc\">\n",
      "<h3>Film \"Ankeet\"</h3>\n",
      "</div><!--desc-->\n",
      "</div><!--image-->\n",
      "<div class=\"progress\"><div class=\"progress_bar\" style=\"width:100%;\"></div></div>\n",
      "<div class=\"data\">\n",
      "<ul>\n",
      "<li><strong>102%</strong><span>kogutud</span></li>\n",
      "<li><strong>3067€</strong><span>toetatud</span></li>\n",
      "<li><strong>Toetatud</strong><span>01.06.2020</span></li>\n",
      "</ul>\n",
      "</div><!--data-->\n",
      "</div><div class=\"project_white_box\">\n",
      "<div class=\"title\"><a href=\"https://www.hooandja.ee/users/curlystringsestonia\" target=\"_top\"><span>Curly Strings </span></a><a href=\"https://www.hooandja.ee/avasta/kategooriad/trukis\" target=\"_top\">Trükis</a></div><!--title-->\n",
      "<div class=\"image\">\n",
      "<a href=\"https://www.hooandja.ee/projekt/curly-strings-heategevuslik-album-lastele\" target=\"_top\"><img src=\"https://www.hooandja.ee/sites/default/files/styles/200x229/public/project_images/zfpveg3c.jpeg?itok=Xe9Ll-Ns\" width=\"200\"/></a><div class=\"desc\">\n",
      "<h3>Curly Strings ja sõbrad - heategevusliku albumi \"Lastele\" välja andmine</h3>\n",
      "</div><!--desc-->\n",
      "</div><!--image-->\n",
      "<div class=\"progress\"><div class=\"progress_bar\" style=\"width:100%;\"></div></div>\n",
      "<div class=\"data\">\n",
      "<ul>\n",
      "<li><strong>101%</strong><span>kogutud</span></li>\n",
      "<li><strong>13389€</strong><span>toetatud</span></li>\n",
      "<li><strong>Toetatud</strong><span>30.05.2020</span></li>\n",
      "</ul>\n",
      "</div><!--data-->\n",
      "</div><div class=\"project_white_box\">\n",
      "<div class=\"title\"><a href=\"https://www.hooandja.ee/users/lembelokk\" target=\"_top\"><span>Lembe Lokk </span></a><a href=\"https://www.hooandja.ee/avasta/kategooriad/trukis\" target=\"_top\">Trükis</a></div><!--title-->\n",
      "<div class=\"image\">\n",
      "<a href=\"https://www.hooandja.ee/projekt/elsewhere-today\" target=\"_top\"><img src=\"https://www.hooandja.ee/sites/default/files/styles/200x229/public/project_images/hooandja_lembe_lokk.jpg?itok=Xuf5igRb\" width=\"200\"/></a><div class=\"desc\">\n",
      "<h3>\"mujal nüüd – elsewhere today\" raamatu väljaandmine</h3>\n",
      "</div><!--desc-->\n",
      "</div><!--image-->\n",
      "<div class=\"progress\"><div class=\"progress_bar\" style=\"width:100%;\"></div></div>\n",
      "<div class=\"data\">\n",
      "<ul>\n",
      "<li><strong>112%</strong><span>kogutud</span></li>\n",
      "<li><strong>1677€</strong><span>toetatud</span></li>\n",
      "<li><strong>Toetatud</strong><span>23.05.2020</span></li>\n",
      "</ul>\n",
      "</div><!--data-->\n",
      "</div><div class=\"project_white_box\">\n",
      "<div class=\"title\"><a href=\"https://www.hooandja.ee/users/meritraju\" target=\"_top\"><span>Merit Raju </span></a><a href=\"https://www.hooandja.ee/avasta/kategooriad/trukis\" target=\"_top\">Trükis</a></div><!--title-->\n",
      "<div class=\"image\">\n",
      "<a href=\"https://www.hooandja.ee/projekt/raamat-soltumatu-naine\" target=\"_top\"><img src=\"https://www.hooandja.ee/sites/default/files/styles/200x229/public/project_images/merit_raju-fotograaf_triin_maasik.jpg?itok=i-0Zazrf\" width=\"200\"/></a><div class=\"desc\">\n",
      "<h3>Investeerimisraamat \"Sõltumatu naine. 5 sammu rahalise vabaduseni\"</h3>\n",
      "</div><!--desc-->\n",
      "</div><!--image-->\n",
      "<div class=\"progress\"><div class=\"progress_bar\" style=\"width:100%;\"></div></div>\n",
      "<div class=\"data\">\n",
      "<ul>\n",
      "<li><strong>116%</strong><span>kogutud</span></li>\n",
      "<li><strong>4620€</strong><span>toetatud</span></li>\n",
      "<li><strong>Toetatud</strong><span>21.05.2020</span></li>\n",
      "</ul>\n",
      "</div><!--data-->\n",
      "</div><div class=\"project_white_box\">\n",
      "<div class=\"title\"><a href=\"https://www.hooandja.ee/users/terjevooglaid\" target=\"_top\"><span>Terje Vooglaid </span></a><a href=\"https://www.hooandja.ee/avasta/kategooriad/trukis\" target=\"_top\">Trükis</a></div><!--title-->\n",
      "<div class=\"image\">\n",
      "<a href=\"https://www.hooandja.ee/projekt/ei-taha-ei-taha\" target=\"_top\"><img src=\"https://www.hooandja.ee/sites/default/files/styles/200x229/public/project_images/eitaharaamat.png?itok=ZXew5vwh\" width=\"200\"/></a><div class=\"desc\">\n",
      "<h3>Lasteraamat \"Ei taha! Ei taha!\"</h3>\n",
      "</div><!--desc-->\n",
      "</div><!--image-->\n",
      "<div class=\"progress\"><div class=\"progress_bar\" style=\"width:100%;\"></div></div>\n",
      "<div class=\"data\">\n",
      "<ul>\n",
      "<li><strong>103%</strong><span>kogutud</span></li>\n",
      "<li><strong>615€</strong><span>toetatud</span></li>\n",
      "<li><strong>Toetatud</strong><span>21.05.2020</span></li>\n",
      "</ul>\n",
      "</div><!--data-->\n",
      "</div><div class=\"project_white_box\">\n",
      "<div class=\"title\"><a href=\"https://www.hooandja.ee/users/tiitkuusemaa\" target=\"_top\"><span>Tiit Kuusemaa </span></a><a href=\"https://www.hooandja.ee/avasta/kategooriad/kodanikualgatus\" target=\"_top\">Kodanikualgatus</a></div><!--title-->\n",
      "<div class=\"image\">\n",
      "<a href=\"https://www.hooandja.ee/projekt/puhja-kiriku-luhtrite-restaureerimine\" target=\"_top\"><img src=\"https://www.hooandja.ee/sites/default/files/styles/200x229/public/project_images/hooandjale_0.jpg?itok=dGRoP4cg\" width=\"200\"/></a><div class=\"desc\">\n",
      "<h3>Puhja kiriku lühtrite restaureerimine</h3>\n",
      "</div><!--desc-->\n",
      "</div><!--image-->\n",
      "<div class=\"progress\"><div class=\"progress_bar\" style=\"width:100%;\"></div></div>\n",
      "<div class=\"data\">\n",
      "<ul>\n",
      "<li><strong>129%</strong><span>kogutud</span></li>\n",
      "<li><strong>1550€</strong><span>toetatud</span></li>\n",
      "<li><strong>Toetatud</strong><span>18.05.2020</span></li>\n",
      "</ul>\n",
      "</div><!--data-->\n",
      "</div><div class=\"project_white_box\">\n",
      "<div class=\"title\"><a href=\"https://www.hooandja.ee/users/ruudusandra\" target=\"_top\"><span>Ruudu Sandra </span></a><a href=\"https://www.hooandja.ee/avasta/kategooriad/kunst\" target=\"_top\">Kunst</a></div><!--title-->\n",
      "<div class=\"image\">\n",
      "<a href=\"https://www.hooandja.ee/projekt/templihoidjad\" target=\"_top\"><img src=\"https://www.hooandja.ee/sites/default/files/styles/200x229/public/project_images/projekti_iseloomustav_pilt_2_1.jpg?itok=b6EEJrSh\" width=\"200\"/></a><div class=\"desc\">\n",
      "<h3>Ruudu Rahumaru fotomaali näitus \"Templihoidjad\"</h3>\n",
      "</div><!--desc-->\n",
      "</div><!--image-->\n",
      "<div class=\"progress\"><div class=\"progress_bar\" style=\"width:100%;\"></div></div>\n",
      "<div class=\"data\">\n",
      "<ul>\n",
      "<li><strong>115%</strong><span>kogutud</span></li>\n",
      "<li><strong>4042€</strong><span>toetatud</span></li>\n",
      "<li><strong>Toetatud</strong><span>17.05.2020</span></li>\n",
      "</ul>\n",
      "</div><!--data-->\n",
      "</div><div class=\"project_white_box\">\n",
      "<div class=\"title\"><a href=\"https://www.hooandja.ee/users/teejakohvi\" target=\"_top\"><span>Indrek Koff </span></a><a href=\"https://www.hooandja.ee/avasta/kategooriad/trukis\" target=\"_top\">Trükis</a></div><!--title-->\n",
      "<div class=\"image\">\n",
      "<a href=\"https://www.hooandja.ee/projekt/palavikulilled\" target=\"_top\"><img src=\"https://www.hooandja.ee/sites/default/files/styles/200x229/public/project_images/capture_decran_2020-03-27_a_07.28.32.jpg?itok=XY77cFeH\" width=\"200\"/></a><div class=\"desc\">\n",
      "<h3>Palavikulilled</h3>\n",
      "</div><!--desc-->\n",
      "</div><!--image-->\n",
      "<div class=\"progress\"><div class=\"progress_bar\" style=\"width:100%;\"></div></div>\n",
      "<div class=\"data\">\n",
      "<ul>\n",
      "<li><strong>118%</strong><span>kogutud</span></li>\n",
      "<li><strong>5101€</strong><span>toetatud</span></li>\n",
      "<li><strong>Toetatud</strong><span>16.05.2020</span></li>\n",
      "</ul>\n",
      "</div><!--data-->\n",
      "</div><div class=\"project_white_box\">\n",
      "<div class=\"title\"><a href=\"https://www.hooandja.ee/users/joelremmel\" target=\"_top\"><span>joelremmel </span></a><a href=\"https://www.hooandja.ee/avasta/kategooriad/muusika\" target=\"_top\">Muusika</a></div><!--title-->\n",
      "<div class=\"image\">\n",
      "<a href=\"https://www.hooandja.ee/projekt/joel-remmel-live-taff-club\" target=\"_top\"><img src=\"https://www.hooandja.ee/sites/default/files/styles/200x229/public/project_images/joel-ig-story3_0.jpg?itok=7-rcOYEW\" width=\"200\"/></a><div class=\"desc\">\n",
      "<h3>Joel Remmel \"Live at Taff Club\" vinüülplaadi väljaandmine</h3>\n",
      "</div><!--desc-->\n",
      "</div><!--image-->\n",
      "<div class=\"progress\"><div class=\"progress_bar\" style=\"width:100%;\"></div></div>\n",
      "<div class=\"data\">\n",
      "<ul>\n",
      "<li><strong>152%</strong><span>kogutud</span></li>\n",
      "<li><strong>1515€</strong><span>toetatud</span></li>\n",
      "<li><strong>Toetatud</strong><span>01.05.2020</span></li>\n",
      "</ul>\n",
      "</div><!--data-->\n",
      "</div><div class=\"project_white_box\">\n",
      "<div class=\"title\"><a href=\"https://www.hooandja.ee/users/reginaatkajaakson1\" target=\"_top\"><span>Regina Jaakson </span></a><a href=\"https://www.hooandja.ee/avasta/kategooriad/trukis\" target=\"_top\">Trükis</a></div><!--title-->\n",
      "<div class=\"image\">\n",
      "<a href=\"https://www.hooandja.ee/projekt/raamatu-koige-magusam-vili-ii-osa-valjaandmine\" target=\"_top\"><img src=\"https://www.hooandja.ee/sites/default/files/styles/200x229/public/project_images/poimunud_hinged-_kaas.jpg?itok=aiRJGhp9\" width=\"200\"/></a><div class=\"desc\">\n",
      "<h3>Raamatu \"Kõige magusam vili\" II osa väljaandmine</h3>\n",
      "</div><!--desc-->\n",
      "</div><!--image-->\n",
      "<div class=\"progress\"><div class=\"progress_bar\" style=\"width:100%;\"></div></div>\n",
      "<div class=\"data\">\n",
      "<ul>\n",
      "<li><strong>100%</strong><span>kogutud</span></li>\n",
      "<li><strong>1800€</strong><span>toetatud</span></li>\n",
      "<li><strong>Toetatud</strong><span>01.05.2020</span></li>\n",
      "</ul>\n",
      "</div><!--data-->\n",
      "</div><div class=\"project_white_box\">\n",
      "<div class=\"title\"><a href=\"https://www.hooandja.ee/users/lauri8\" target=\"_top\"><span>Lauri Saatpalu </span></a><a href=\"https://www.hooandja.ee/avasta/kategooriad/muusika\" target=\"_top\">Muusika</a></div><!--title-->\n",
      "<div class=\"image\">\n",
      "<a href=\"https://www.hooandja.ee/projekt/dago-kute\" target=\"_top\"><img src=\"https://www.hooandja.ee/sites/default/files/styles/200x229/public/project_images/dago-kute-esikaas-k-04.jpg?itok=qpcp2usm\" width=\"200\"/></a><div class=\"desc\">\n",
      "<h3>Dagö \"Küte\"</h3>\n",
      "</div><!--desc-->\n",
      "</div><!--image-->\n",
      "<div class=\"progress\"><div class=\"progress_bar\" style=\"width:100%;\"></div></div>\n",
      "<div class=\"data\">\n",
      "<ul>\n",
      "<li><strong>396%</strong><span>kogutud</span></li>\n",
      "<li><strong>11876€</strong><span>toetatud</span></li>\n",
      "<li><strong>Toetatud</strong><span>01.05.2020</span></li>\n",
      "</ul>\n",
      "</div><!--data-->\n",
      "</div><div class=\"project_white_box\">\n",
      "<div class=\"title\"><a href=\"https://www.hooandja.ee/users/veli1\" target=\"_top\"><span>Veli Rooger </span></a><a href=\"https://www.hooandja.ee/avasta/kategooriad/muusika\" target=\"_top\">Muusika</a></div><!--title-->\n",
      "<div class=\"image\">\n",
      "<a href=\"https://www.hooandja.ee/projekt/ansambli-boamadu-luhialbum-20\" target=\"_top\"><img src=\"https://www.hooandja.ee/sites/default/files/styles/200x229/public/project_images/boa_must_ruut_puhas_0.jpg?itok=zaULxqp9\" width=\"200\"/></a><div class=\"desc\">\n",
      "<h3>Ansambli Boamadu lühialbumi avaldamine</h3>\n",
      "</div><!--desc-->\n",
      "</div><!--image-->\n",
      "<div class=\"progress\"><div class=\"progress_bar\" style=\"width:100%;\"></div></div>\n",
      "<div class=\"data\">\n",
      "<ul>\n",
      "<li><strong>108%</strong><span>kogutud</span></li>\n",
      "<li><strong>2385€</strong><span>toetatud</span></li>\n",
      "<li><strong>Toetatud</strong><span>26.04.2020</span></li>\n",
      "</ul>\n",
      "</div><!--data-->\n",
      "</div><div class=\"project_white_box\">\n",
      "<div class=\"title\"><a href=\"https://www.hooandja.ee/users/kristiinavahk\" target=\"_top\"><span>Kristiina Vähk </span></a><a href=\"https://www.hooandja.ee/avasta/kategooriad/haridus\" target=\"_top\">Haridus</a></div><!--title-->\n",
      "<div class=\"image\">\n",
      "<a href=\"https://www.hooandja.ee/projekt/madalseiklusrada-laulasmaa-koolile\" target=\"_top\"><img src=\"https://www.hooandja.ee/sites/default/files/styles/200x229/public/project_images/89875975_3673882922653113_6932539800901648384_o.jpg?itok=tGz7pnUl\" width=\"200\"/></a><div class=\"desc\">\n",
      "<h3>Madalseiklusrada Laulasmaa Koolile</h3>\n",
      "</div><!--desc-->\n",
      "</div><!--image-->\n",
      "<div class=\"progress\"><div class=\"progress_bar\" style=\"width:100%;\"></div></div>\n",
      "<div class=\"data\">\n",
      "<ul>\n",
      "<li><strong>103%</strong><span>kogutud</span></li>\n",
      "<li><strong>7001€</strong><span>toetatud</span></li>\n",
      "<li><strong>Toetatud</strong><span>22.04.2020</span></li>\n",
      "</ul>\n",
      "</div><!--data-->\n",
      "</div><div class=\"project_white_box\">\n",
      "<div class=\"title\"><a href=\"https://www.hooandja.ee/users/keiokardla\" target=\"_top\"><span>Keio Kärdla </span></a><a href=\"https://www.hooandja.ee/avasta/kategooriad/muusika\" target=\"_top\">Muusika</a></div><!--title-->\n",
      "<div class=\"image\">\n",
      "<a href=\"https://www.hooandja.ee/projekt/culpas-leo-pold-muusikavideo\" target=\"_top\"><img src=\"https://www.hooandja.ee/sites/default/files/styles/200x229/public/project_images/img_5117.jpg?itok=JWM8yGaw\" width=\"200\"/></a><div class=\"desc\">\n",
      "<h3>Culpas - \"Leo Põld\" Muusikavideo</h3>\n",
      "</div><!--desc-->\n",
      "</div><!--image-->\n",
      "<div class=\"progress\"><div class=\"progress_bar\" style=\"width:100%;\"></div></div>\n",
      "<div class=\"data\">\n",
      "<ul>\n",
      "<li><strong>104%</strong><span>kogutud</span></li>\n",
      "<li><strong>1036€</strong><span>toetatud</span></li>\n",
      "<li><strong>Toetatud</strong><span>17.04.2020</span></li>\n",
      "</ul>\n",
      "</div><!--data-->\n",
      "</div><div class=\"project_white_box\">\n",
      "<div class=\"title\"><a href=\"https://www.hooandja.ee/users/kristiinaehin\" target=\"_top\"><span>kristiina ehin </span></a><a href=\"https://www.hooandja.ee/avasta/kategooriad/trukis\" target=\"_top\">Trükis</a></div><!--title-->\n",
      "<div class=\"image\">\n",
      "<a href=\"https://www.hooandja.ee/projekt/kristiina-ehini-uue-luulekogu-janu-koikidel-uks-valjaandmine\" target=\"_top\"><img src=\"https://www.hooandja.ee/sites/default/files/styles/200x229/public/project_images/kristina_raamatukuhjaga._kaari_pilt.jpg?itok=AMHdqQh0\" width=\"200\"/></a><div class=\"desc\">\n",
      "<h3>Kristiina Ehini uue luulekogu \"Janu on kõikidel üks\" väljaandmine</h3>\n",
      "</div><!--desc-->\n",
      "</div><!--image-->\n",
      "<div class=\"progress\"><div class=\"progress_bar\" style=\"width:100%;\"></div></div>\n",
      "<div class=\"data\">\n",
      "<ul>\n",
      "<li><strong>181%</strong><span>kogutud</span></li>\n",
      "<li><strong>10479€</strong><span>toetatud</span></li>\n",
      "<li><strong>Toetatud</strong><span>13.04.2020</span></li>\n",
      "</ul>\n",
      "</div><!--data-->\n",
      "</div><div class=\"project_white_box\">\n",
      "<div class=\"title\"><a href=\"https://www.hooandja.ee/users/silviaparmann\" target=\"_top\"><span>Silvia Pärmann </span></a><a href=\"https://www.hooandja.ee/avasta/kategooriad/trukis\" target=\"_top\">Trükis</a></div><!--title-->\n",
      "<div class=\"image\">\n",
      "<a href=\"https://www.hooandja.ee/projekt/raamat-riigid-mida-pole-olemas\" target=\"_top\"><img src=\"https://www.hooandja.ee/sites/default/files/styles/200x229/public/project_images/riigid1_0.jpg?itok=stC4Iin_\" width=\"200\"/></a><div class=\"desc\">\n",
      "<h3>Raamat \"Riigid, mida pole olemas\"</h3>\n",
      "</div><!--desc-->\n",
      "</div><!--image-->\n",
      "<div class=\"progress\"><div class=\"progress_bar\" style=\"width:100%;\"></div></div>\n",
      "<div class=\"data\">\n",
      "<ul>\n",
      "<li><strong>117%</strong><span>kogutud</span></li>\n",
      "<li><strong>4091€</strong><span>toetatud</span></li>\n",
      "<li><strong>Toetatud</strong><span>11.04.2020</span></li>\n",
      "</ul>\n",
      "</div><!--data-->\n",
      "</div><div class=\"project_white_box\">\n",
      "<div class=\"title\"><a href=\"https://www.hooandja.ee/users/kevinjurs\" target=\"_top\"><span>Kevin Jurs </span></a><a href=\"https://www.hooandja.ee/avasta/kategooriad/sport\" target=\"_top\">Sport</a></div><!--title-->\n",
      "<div class=\"image\">\n",
      "<a href=\"https://www.hooandja.ee/projekt/kevin-jurs-crossfit-gamesile-2020\" target=\"_top\"><img src=\"https://www.hooandja.ee/sites/default/files/styles/200x229/public/project_images/proktiiseloomustus.jpg?itok=fqpXsKJc\" width=\"200\"/></a><div class=\"desc\">\n",
      "<h3>Kevin Jurs CrossFit Gamesile 2020</h3>\n",
      "</div><!--desc-->\n",
      "</div><!--image-->\n",
      "<div class=\"progress\"><div class=\"progress_bar\" style=\"width:100%;\"></div></div>\n",
      "<div class=\"data\">\n",
      "<ul>\n",
      "<li><strong>116%</strong><span>kogutud</span></li>\n",
      "<li><strong>4050€</strong><span>toetatud</span></li>\n",
      "<li><strong>Toetatud</strong><span>09.04.2020</span></li>\n",
      "</ul>\n",
      "</div><!--data-->\n",
      "</div><div class=\"project_white_box\">\n",
      "<div class=\"title\"><a href=\"https://www.hooandja.ee/users/hardopajula\" target=\"_top\"><span>Hardo Pajula </span></a><a href=\"https://www.hooandja.ee/avasta/kategooriad/looduskaitse\" target=\"_top\">Sündmus</a></div><!--title-->\n",
      "<div class=\"image\">\n",
      "<a href=\"https://www.hooandja.ee/projekt/rupert-sheldrake-eestis-teadus-ja-vaimne-praktika\" target=\"_top\"><img src=\"https://www.hooandja.ee/sites/default/files/styles/200x229/public/project_images/sheldrake.jpeg?itok=kVH7m6oM\" width=\"200\"/></a><div class=\"desc\">\n",
      "<h3>Rupert Sheldrake Eestis: \"Teadus ja vaimne praktika\"</h3>\n",
      "</div><!--desc-->\n",
      "</div><!--image-->\n",
      "<div class=\"progress\"><div class=\"progress_bar\" style=\"width:100%;\"></div></div>\n",
      "<div class=\"data\">\n",
      "<ul>\n",
      "<li><strong>112%</strong><span>kogutud</span></li>\n",
      "<li><strong>11173€</strong><span>toetatud</span></li>\n",
      "<li><strong>Toetatud</strong><span>09.04.2020</span></li>\n",
      "</ul>\n",
      "</div><!--data-->\n",
      "</div><div class=\"project_white_box\">\n",
      "<div class=\"title\"><a href=\"https://www.hooandja.ee/users/vendvemmal\" target=\"_top\"><span>Gunnar Vemmal Saar </span></a><a href=\"https://www.hooandja.ee/avasta/kategooriad/trukis\" target=\"_top\">Trükis</a></div><!--title-->\n",
      "<div class=\"image\">\n",
      "<a href=\"https://www.hooandja.ee/projekt/merisiil-ja-karuake\" target=\"_top\"><img src=\"https://www.hooandja.ee/sites/default/files/styles/200x229/public/project_images/20190126_205107_0.jpg?itok=onO9_T7W\" width=\"200\"/></a><div class=\"desc\">\n",
      "<h3>Merisiil ja karuäke</h3>\n",
      "</div><!--desc-->\n",
      "</div><!--image-->\n",
      "<div class=\"progress\"><div class=\"progress_bar\" style=\"width:100%;\"></div></div>\n",
      "<div class=\"data\">\n",
      "<ul>\n",
      "<li><strong>144%</strong><span>kogutud</span></li>\n",
      "<li><strong>1978€</strong><span>toetatud</span></li>\n",
      "<li><strong>Toetatud</strong><span>04.04.2020</span></li>\n",
      "</ul>\n",
      "</div><!--data-->\n",
      "</div><div class=\"project_white_box\">\n",
      "<div class=\"title\"><a href=\"https://www.hooandja.ee/users/kpiret\" target=\"_top\"><span>Piret Kärm </span></a><a href=\"https://www.hooandja.ee/avasta/kategooriad/trukis\" target=\"_top\">Trükis</a></div><!--title-->\n",
      "<div class=\"image\">\n",
      "<a href=\"https://www.hooandja.ee/projekt/stephane-grappelli-elulooraamat\" target=\"_top\"><img src=\"https://www.hooandja.ee/sites/default/files/styles/200x229/public/project_images/20200207_kiurkaasik_grappelli.jpg?itok=jzq-oCvS\" width=\"200\"/></a><div class=\"desc\">\n",
      "<h3>Jazzilegend Stéphane Grappelli elulooraamat \"Pagasiks vaid viiul\"</h3>\n",
      "</div><!--desc-->\n",
      "</div><!--image-->\n",
      "<div class=\"progress\"><div class=\"progress_bar\" style=\"width:100%;\"></div></div>\n",
      "<div class=\"data\">\n",
      "<ul>\n",
      "<li><strong>112%</strong><span>kogutud</span></li>\n",
      "<li><strong>5595€</strong><span>toetatud</span></li>\n",
      "<li><strong>Toetatud</strong><span>01.04.2020</span></li>\n",
      "</ul>\n",
      "</div><!--data-->\n",
      "</div><div class=\"project_white_box\">\n",
      "<div class=\"title\"><a href=\"https://www.hooandja.ee/users/anti5\" target=\"_top\"><span>Anti Kadajane </span></a><a href=\"https://www.hooandja.ee/avasta/kategooriad/haridus\" target=\"_top\">Haridus</a></div><!--title-->\n",
      "<div class=\"image\">\n",
      "<a href=\"https://www.hooandja.ee/projekt/prints-ja-kerjus\" target=\"_top\"><img src=\"https://www.hooandja.ee/sites/default/files/styles/200x229/public/project_images/tamme_kooli_pilt_1.jpg?itok=iNupWgul\" width=\"200\"/></a><div class=\"desc\">\n",
      "<h3>Tartu Tamme Kooli suurlavastus \"Prints ja kerjus\"</h3>\n",
      "</div><!--desc-->\n",
      "</div><!--image-->\n",
      "<div class=\"progress\"><div class=\"progress_bar\" style=\"width:100%;\"></div></div>\n",
      "<div class=\"data\">\n",
      "<ul>\n",
      "<li><strong>104%</strong><span>kogutud</span></li>\n",
      "<li><strong>4680€</strong><span>toetatud</span></li>\n",
      "<li><strong>Toetatud</strong><span>28.03.2020</span></li>\n",
      "</ul>\n",
      "</div><!--data-->\n",
      "</div><div class=\"project_white_box\">\n",
      "<div class=\"title\"><a href=\"https://www.hooandja.ee/users/hegeleepaiste\" target=\"_top\"><span>Hege-Lee Paiste </span></a><a href=\"https://www.hooandja.ee/avasta/kategooriad/kunst\" target=\"_top\">Kunst</a></div><!--title-->\n",
      "<div class=\"image\">\n",
      "<a href=\"https://www.hooandja.ee/projekt/multimeedia-naitus-kondas-120\" target=\"_top\"><img src=\"https://www.hooandja.ee/sites/default/files/styles/200x229/public/project_images/kondas_fb_profile_v1.png?itok=sSVpnX-z\" width=\"200\"/></a><div class=\"desc\">\n",
      "<h3>Multimeedianäitus \"Kondas 120\"</h3>\n",
      "</div><!--desc-->\n",
      "</div><!--image-->\n",
      "<div class=\"progress\"><div class=\"progress_bar\" style=\"width:100%;\"></div></div>\n",
      "<div class=\"data\">\n",
      "<ul>\n",
      "<li><strong>103%</strong><span>kogutud</span></li>\n",
      "<li><strong>929€</strong><span>toetatud</span></li>\n",
      "<li><strong>Toetatud</strong><span>27.03.2020</span></li>\n",
      "</ul>\n",
      "</div><!--data-->\n",
      "</div><h2 class=\"element-invisible\">Pages</h2><div class=\"item-list\"><ul class=\"pager\"><li class=\"pager-current first\">1</li>\n",
      "<li class=\"pager-item\"><a href=\"/avasta/edukad?page=1\" title=\"Go to page 2\">2</a></li>\n",
      "<li class=\"pager-item\"><a href=\"/avasta/edukad?page=2\" title=\"Go to page 3\">3</a></li>\n",
      "<li class=\"pager-item\"><a href=\"/avasta/edukad?page=3\" title=\"Go to page 4\">4</a></li>\n",
      "<li class=\"pager-item\"><a href=\"/avasta/edukad?page=4\" title=\"Go to page 5\">5</a></li>\n",
      "<li class=\"pager-item\"><a href=\"/avasta/edukad?page=5\" title=\"Go to page 6\">6</a></li>\n",
      "<li class=\"pager-item\"><a href=\"/avasta/edukad?page=6\" title=\"Go to page 7\">7</a></li>\n",
      "<li class=\"pager-item\"><a href=\"/avasta/edukad?page=7\" title=\"Go to page 8\">8</a></li>\n",
      "<li class=\"pager-item\"><a href=\"/avasta/edukad?page=8\" title=\"Go to page 9\">9</a></li>\n",
      "<li class=\"pager-ellipsis\">…</li>\n",
      "<li class=\"pager-next\"><a href=\"/avasta/edukad?page=1\" title=\"Go to next page\">järgmine › </a></li>\n",
      "<li class=\"pager-last last\"><a href=\"/avasta/edukad?page=39\" title=\"Go to last page\">viimane » </a></li>\n",
      "</ul></div> </div>\n",
      "</div>\n",
      "</div>\n",
      "</div>\n",
      "</div>\n",
      "<div class=\"rightside w140\">\n",
      "<div class=\"rightside_nav\">\n",
      "<h4 class=\"dotted\">Tähelepanu vääriv</h4>\n",
      "<div class=\"list\">\n",
      "<div class=\"menu-block-wrapper menu-block-1 menu-name-menu-special-projects parent-mlid-0 menu-level-1\">\n",
      "<ul class=\"menu\"><li class=\"first leaf menu-mlid-503\"><a href=\"/avasta/esiletostetud\" title=\"\">Esiletõstetud</a></li>\n",
      "<li class=\"leaf active-trail active menu-mlid-602\"><a class=\"active-trail active\" href=\"/avasta/edukad\" title=\"\">Edukalt lõppenud</a></li>\n",
      "<li class=\"leaf menu-mlid-603\"><a href=\"/avasta/viimati-lisatud\" title=\"\">Viimati lisatud</a></li>\n",
      "<li class=\"leaf menu-mlid-604\"><a href=\"/avasta/loppevad\" title=\"\">Lõppevad</a></li>\n",
      "<li class=\"last leaf menu-mlid-605\"><a href=\"/avasta/enim-toetatud\" title=\"\">Enim toetatud</a></li>\n",
      "</ul></div>\n",
      "</div>\n",
      "<div class=\"block block-hooandja-ngo\" id=\"block-hooandja-ngo-project-cats\">\n",
      "<h2>Kategooriad</h2>\n",
      "<div class=\"content\">\n",
      "<ul class=\"list\"><a class=\"\" href=\"/avasta/kategooriad/disain\">Disain</a><a class=\"\" href=\"/avasta/kategooriad/kodanikualgatus\">Kodanikualgatus</a><a class=\"\" href=\"/avasta/kategooriad/film-foto\">Film &amp; Foto</a><a class=\"\" href=\"/avasta/kategooriad/ev100\">EV100</a><a class=\"\" href=\"/avasta/kategooriad/Kultuurisaadikud\">Kultuurisaadikud</a><a class=\"\" href=\"/avasta/kategooriad/kunst\">Kunst</a><a class=\"\" href=\"/avasta/kategooriad/meedia\">Meedia</a><a class=\"\" href=\"/avasta/kategooriad/muusika\">Muusika</a><a class=\"\" href=\"/avasta/kategooriad/M%C3%A4ng\">Mäng</a><a class=\"\" href=\"/avasta/kategooriad/sundmused\">Sündmus</a><a class=\"\" href=\"/avasta/kategooriad/teater\">Teater</a><a class=\"\" href=\"/avasta/kategooriad/tehnoloogia\">Tehnoloogia</a><a class=\"\" href=\"/avasta/kategooriad/trukis\">Trükis</a></ul> </div>\n",
      "</div>\n",
      "</div>\n",
      "</div>\n",
      "<div class=\"clear\"></div>\n",
      "</div><!--mainContent-->\n",
      "</div><!--mainContentwrap-->\n",
      "<footer>\n",
      "<div class=\"region region-footer-menu\">\n",
      "<div class=\"block block-hooandja\" id=\"block-hooandja-footer-menu\">\n",
      "<div class=\"content\">\n",
      "<ul><li><a class=\"top\" href=\"#top\"><img alt=\"Up\" src=\"https://www.hooandja.ee/sites/all/themes/hooandjatheme/static/imgs/up.png\"/></a></li><li><a href=\"/content/kasutustingimused\">Kasutustingimused</a><br/><a href=\"/content/hooandja-teenustasud\">Teenustasud</a></li><li><a href=\"/abinurk\">Abinurk</a><br/><a href=\"http://www.hooandja.ee/sites/default/files/uploads/pohikiri.pdf\">Põhikiri</a></li><li><a href=\"http://www.hooandja.ee/sites/default/files/uploads/eetilise_tegutsemise_pohimotted.pdf\">Eetilise tegutsemise põhimõtted</a><br/><a href=\"http://www.hooandja.ee/aruanded/\">Majandusaasta aruanded</a></li><li><a href=\"/content/projektid\">PROJEKTID</a><br/><a href=\"/content/press-meist\">Press</a></li><li class=\"social_links\"><div class=\"fb-like\" style=\"width:378px;\"><div class=\"fb-like\" data-colorscheme=\"dark\" data-font=\"lucida grande\" data-href=\"https://www.facebook.com/Hooandja\" data-send=\"true\" data-show-faces=\"false\" data-width=\"378\"></div></div></li><li class=\"social_links\" style=\"margin-right:0px;\"><div class=\"twitter\" style=\"width:60px;\"><a class=\"twitter-follow-button\" data-show-count=\"false\" data-show-screen-name=\"false\" data-size=\"large\" href=\"https://twitter.com/hooandja\">Follow @hooandja</a>\n",
      "<script>!function(d,s,id){\n",
      "\t\t\t\t\tvar js,fjs=d.getElementsByTagName(s)[0];if(!d.getElementById(id)){\n",
      "\t\t\t\t\t\tjs=d.createElement(s);js.id=id;js.src=\"//platform.twitter.com/widgets.js\";fjs.parentNode.insertBefore(js,fjs);\n",
      "\t\t\t\t\t}\n",
      "\t\t\t\t}(document,\"script\",\"twitter-wjs\");</script></div></li><li style=\"float:right\">HOOANDJA MTÜ<br/>\n",
      "\tinfo@hooandja.ee, 506 4729 <br/>Telliskivi 60 <br/>Tallinn, Estonia</li></ul> </div>\n",
      "</div>\n",
      "</div>\n",
      "<div class=\"clear\"></div>\n",
      "</footer>\n",
      "<!--\n",
      "\tGoogle Analytics\n",
      "-->\n",
      "<script type=\"text/javascript\">\n",
      "<!--//--><![CDATA[//><!--\n",
      "var _gaq = _gaq || [];_gaq.push([\"_setAccount\", \"UA-2199821-27\"]);_gaq.push([\"_trackPageview\"]);(function() {var ga = document.createElement(\"script\");ga.type = \"text/javascript\";ga.async = true;ga.src = (\"https:\" == document.location.protocol ? \"https://ssl\" : \"http://www\") + \".google-analytics.com/ga.js\";var s = document.getElementsByTagName(\"script\")[0];s.parentNode.insertBefore(ga, s);})();\n",
      "//--><!]]>\n",
      "</script>\n",
      "</body>\n",
      "</html>\n"
     ]
    }
   ],
   "source": [
    "headers = {\"User-Agent\": \"ittensive-python-scraper/1.0 (+https://www.ittenasive.com)\"}\n",
    "r = requests.get('https://www.hooandja.ee/avasta/edukad',\n",
    "                 headers=headers)\n",
    "html = BeautifulSoup(r.content)\n",
    "#html = BeautifulSoup(r.content, 'lxml')\n",
    "#t = time.now()\n",
    "#response_time = time.now() - t\n",
    "#2-3 rps, Crawl-Delay, response.time*2-3\n",
    "#time.sleep(round(response_time * 3))\n",
    "print (html)"
   ]
  },
  {
   "cell_type": "markdown",
   "metadata": {},
   "source": [
    "### Парсинг сайта *Hooandja* / сборка генератора\n",
    "Собрать все ссылки на проекты >> Получить данные со всех страниц"
   ]
  },
  {
   "cell_type": "code",
   "execution_count": null,
   "metadata": {},
   "outputs": [],
   "source": [
    "# Получение ссылок на все проекты в фаил hooandja_edukad_projektid.txt\n",
    "def find_links (links, keyword):\n",
    "    links_filtered = {}\n",
    "    for link in links:\n",
    "        if link.has_attr(\"href\") and link[\"href\"].find(keyword) > -1:\n",
    "            links_filtered[link[\"href\"]] = 1\n",
    "    return list(links_filtered.keys())\n",
    "proj = []\n",
    "proj.extend(find_links(html.find_all(\"a\"), \"/projekt/\"))\n",
    "pages = []\n",
    "pages.extend(find_links(html.find_all(\"a\"), \"/avasta/edukad?page\"))\n",
    "\n",
    "for page in pages:\n",
    "    r = requests.get(\"https://www.hooandja.ee\" + page)\n",
    "    html = BeautifulSoup(r.content)\n",
    "    proj.extend(find_links(html.find_all(\"a\"), \"/projekt/\"))\n",
    "with open(\"hooandja_edukad_projektid.txt\", \"w\") as f:\n",
    "    f.write(\"\\n\".join(proj))"
   ]
  },
  {
   "cell_type": "code",
   "execution_count": 130,
   "metadata": {},
   "outputs": [],
   "source": [
    "from multiprocess import Pool\n",
    "from multiprocess import cpu_count\n",
    "\n",
    "import requests as requests\n",
    "from bs4 import BeautifulSoup\n",
    "\n",
    "r = requests.get(\"https://www.hooandja.ee/projekt/dago-kute\", headers=headers)\n",
    "html = BeautifulSoup(r.content)\n",
    "print (html)"
   ]
  },
  {
   "cell_type": "code",
   "execution_count": null,
   "metadata": {},
   "outputs": [],
   "source": []
  },
  {
   "cell_type": "code",
   "execution_count": null,
   "metadata": {},
   "outputs": [],
   "source": []
  },
  {
   "cell_type": "code",
   "execution_count": null,
   "metadata": {},
   "outputs": [],
   "source": []
  },
  {
   "cell_type": "code",
   "execution_count": null,
   "metadata": {},
   "outputs": [],
   "source": []
  },
  {
   "cell_type": "code",
   "execution_count": 128,
   "metadata": {},
   "outputs": [],
   "source": [
    "from multiprocess import Pool\n",
    "from multiprocess import cpu_count\n",
    "\n",
    "import requests as requests\n",
    "from bs4 import BeautifulSoup\n",
    "r = requests.get(\"https://www.hooandja.ee/projekt/mari-kalkuni-ounaaia-luhialbum\")\n",
    "html_1 = BeautifulSoup(r.content)\n",
    "title = html_1.find(\"div\", {\"class\":\"leftside w780\"}).get_text()\n",
    "print (title)"
   ]
  },
  {
   "cell_type": "code",
   "execution_count": null,
   "metadata": {},
   "outputs": [],
   "source": []
  },
  {
   "cell_type": "code",
   "execution_count": null,
   "metadata": {},
   "outputs": [],
   "source": []
  },
  {
   "cell_type": "code",
   "execution_count": 121,
   "metadata": {},
   "outputs": [],
   "source": [
    "from multiprocess import Pool\n",
    "from multiprocess import cpu_count\n",
    "\n",
    "import requests as requests\n",
    "from bs4 import BeautifulSoup\n",
    "r = requests.get(\"https://www.hooandja.ee/projekt/dago-kute\")\n",
    "html = BeautifulSoup(r.content)\n",
    "title = html.find(\"div\", {\"class\":\"leftside w780\"}).get_text()\n",
    "tags = html.find_all(\"span\", {\"class\":\"h1\"})\n",
    "budget = \"\"\n",
    "sales_www = \"\"\n",
    "if len(tags) > 0:\n",
    "    sales_www = tags[0].get_text()\n",
    "    if len(tags) > 1:\n",
    "        budget = tags[0].get_text()\n",
    "        sales_www = tags[1].get_text()\n",
    "        if len(tags) > 2:\n",
    "            sales_www = tags[2].get_text()\n",
    "print (budget)"
   ]
  },
  {
   "cell_type": "code",
   "execution_count": 120,
   "metadata": {},
   "outputs": [],
   "source": [
    "from multiprocess import Pool\n",
    "from multiprocess import cpu_count\n",
    "\n",
    "import requests as requests\n",
    "from bs4 import BeautifulSoup\n",
    "r = requests.get(\"https://www.hooandja.ee/projekt/dago-kute\")\n",
    "html = BeautifulSoup(r.content)\n",
    "title = html.find(\"div\", {\"class\":\"leftside w780\"}).get_text()\n",
    "tags = html.find_all(\"span\", {\"class\":\"h1\"})\n",
    "budget = \"\"\n",
    "sales_www = \"\"\n",
    "if len(tags) > 0:\n",
    "    sales_www = tags[0].get_text()\n",
    "    if len(tags) > 1:\n",
    "        budget = tags[0].get_text()\n",
    "        sales_www = tags[1].get_text()\n",
    "        if len(tags) > 2:\n",
    "            sales_www = tags[2].get_text()\n",
    "print (title)"
   ]
  },
  {
   "cell_type": "code",
   "execution_count": null,
   "metadata": {},
   "outputs": [],
   "source": []
  },
  {
   "cell_type": "code",
   "execution_count": null,
   "metadata": {},
   "outputs": [],
   "source": []
  },
  {
   "cell_type": "code",
   "execution_count": null,
   "metadata": {},
   "outputs": [],
   "source": []
  },
  {
   "cell_type": "code",
   "execution_count": null,
   "metadata": {},
   "outputs": [],
   "source": []
  },
  {
   "cell_type": "code",
   "execution_count": null,
   "metadata": {},
   "outputs": [],
   "source": []
  },
  {
   "cell_type": "code",
   "execution_count": 114,
   "metadata": {},
   "outputs": [
    {
     "ename": "UnsupportedOperation",
     "evalue": "not readable",
     "output_type": "error",
     "traceback": [
      "\u001b[0;31m---------------------------------------------------------------------------\u001b[0m",
      "\u001b[0;31mUnsupportedOperation\u001b[0m                      Traceback (most recent call last)",
      "\u001b[0;32m<ipython-input-114-a83284b32ab0>\u001b[0m in \u001b[0;36m<module>\u001b[0;34m\u001b[0m\n\u001b[1;32m     23\u001b[0m \u001b[0mdata\u001b[0m \u001b[0;34m=\u001b[0m \u001b[0;34m[\u001b[0m\u001b[0;34m]\u001b[0m\u001b[0;34m\u001b[0m\u001b[0;34m\u001b[0m\u001b[0m\n\u001b[1;32m     24\u001b[0m \u001b[0;32mwith\u001b[0m \u001b[0mopen\u001b[0m\u001b[0;34m(\u001b[0m\u001b[0;34m\"hooandja.txt\"\u001b[0m\u001b[0;34m,\u001b[0m \u001b[0;34m\"w\"\u001b[0m\u001b[0;34m)\u001b[0m \u001b[0;32mas\u001b[0m \u001b[0mf\u001b[0m\u001b[0;34m:\u001b[0m\u001b[0;34m\u001b[0m\u001b[0;34m\u001b[0m\u001b[0m\n\u001b[0;32m---> 25\u001b[0;31m     \u001b[0mresult_iter\u001b[0m \u001b[0;34m=\u001b[0m \u001b[0mpool\u001b[0m\u001b[0;34m.\u001b[0m\u001b[0mmap\u001b[0m\u001b[0;34m(\u001b[0m\u001b[0mget_film\u001b[0m\u001b[0;34m,\u001b[0m \u001b[0mf\u001b[0m\u001b[0;34m)\u001b[0m\u001b[0;34m\u001b[0m\u001b[0;34m\u001b[0m\u001b[0m\n\u001b[0m\u001b[1;32m     26\u001b[0m     \u001b[0;32mfor\u001b[0m \u001b[0mresult\u001b[0m \u001b[0;32min\u001b[0m \u001b[0mresult_iter\u001b[0m\u001b[0;34m:\u001b[0m\u001b[0;34m\u001b[0m\u001b[0;34m\u001b[0m\u001b[0m\n\u001b[1;32m     27\u001b[0m         \u001b[0mdata\u001b[0m\u001b[0;34m.\u001b[0m\u001b[0mappend\u001b[0m\u001b[0;34m(\u001b[0m\u001b[0mresult\u001b[0m\u001b[0;34m)\u001b[0m\u001b[0;34m\u001b[0m\u001b[0;34m\u001b[0m\u001b[0m\n",
      "\u001b[0;32m~/Documents/jupyter/venv/lib/python3.8/site-packages/multiprocess/pool.py\u001b[0m in \u001b[0;36mmap\u001b[0;34m(self, func, iterable, chunksize)\u001b[0m\n\u001b[1;32m    362\u001b[0m         \u001b[0;32min\u001b[0m \u001b[0ma\u001b[0m \u001b[0mlist\u001b[0m \u001b[0mthat\u001b[0m \u001b[0;32mis\u001b[0m \u001b[0mreturned\u001b[0m\u001b[0;34m.\u001b[0m\u001b[0;34m\u001b[0m\u001b[0;34m\u001b[0m\u001b[0m\n\u001b[1;32m    363\u001b[0m         '''\n\u001b[0;32m--> 364\u001b[0;31m         \u001b[0;32mreturn\u001b[0m \u001b[0mself\u001b[0m\u001b[0;34m.\u001b[0m\u001b[0m_map_async\u001b[0m\u001b[0;34m(\u001b[0m\u001b[0mfunc\u001b[0m\u001b[0;34m,\u001b[0m \u001b[0miterable\u001b[0m\u001b[0;34m,\u001b[0m \u001b[0mmapstar\u001b[0m\u001b[0;34m,\u001b[0m \u001b[0mchunksize\u001b[0m\u001b[0;34m)\u001b[0m\u001b[0;34m.\u001b[0m\u001b[0mget\u001b[0m\u001b[0;34m(\u001b[0m\u001b[0;34m)\u001b[0m\u001b[0;34m\u001b[0m\u001b[0;34m\u001b[0m\u001b[0m\n\u001b[0m\u001b[1;32m    365\u001b[0m \u001b[0;34m\u001b[0m\u001b[0m\n\u001b[1;32m    366\u001b[0m     \u001b[0;32mdef\u001b[0m \u001b[0mstarmap\u001b[0m\u001b[0;34m(\u001b[0m\u001b[0mself\u001b[0m\u001b[0;34m,\u001b[0m \u001b[0mfunc\u001b[0m\u001b[0;34m,\u001b[0m \u001b[0miterable\u001b[0m\u001b[0;34m,\u001b[0m \u001b[0mchunksize\u001b[0m\u001b[0;34m=\u001b[0m\u001b[0;32mNone\u001b[0m\u001b[0;34m)\u001b[0m\u001b[0;34m:\u001b[0m\u001b[0;34m\u001b[0m\u001b[0;34m\u001b[0m\u001b[0m\n",
      "\u001b[0;32m~/Documents/jupyter/venv/lib/python3.8/site-packages/multiprocess/pool.py\u001b[0m in \u001b[0;36m_map_async\u001b[0;34m(self, func, iterable, mapper, chunksize, callback, error_callback)\u001b[0m\n\u001b[1;32m    473\u001b[0m         \u001b[0mself\u001b[0m\u001b[0;34m.\u001b[0m\u001b[0m_check_running\u001b[0m\u001b[0;34m(\u001b[0m\u001b[0;34m)\u001b[0m\u001b[0;34m\u001b[0m\u001b[0;34m\u001b[0m\u001b[0m\n\u001b[1;32m    474\u001b[0m         \u001b[0;32mif\u001b[0m \u001b[0;32mnot\u001b[0m \u001b[0mhasattr\u001b[0m\u001b[0;34m(\u001b[0m\u001b[0miterable\u001b[0m\u001b[0;34m,\u001b[0m \u001b[0;34m'__len__'\u001b[0m\u001b[0;34m)\u001b[0m\u001b[0;34m:\u001b[0m\u001b[0;34m\u001b[0m\u001b[0;34m\u001b[0m\u001b[0m\n\u001b[0;32m--> 475\u001b[0;31m             \u001b[0miterable\u001b[0m \u001b[0;34m=\u001b[0m \u001b[0mlist\u001b[0m\u001b[0;34m(\u001b[0m\u001b[0miterable\u001b[0m\u001b[0;34m)\u001b[0m\u001b[0;34m\u001b[0m\u001b[0;34m\u001b[0m\u001b[0m\n\u001b[0m\u001b[1;32m    476\u001b[0m \u001b[0;34m\u001b[0m\u001b[0m\n\u001b[1;32m    477\u001b[0m         \u001b[0;32mif\u001b[0m \u001b[0mchunksize\u001b[0m \u001b[0;32mis\u001b[0m \u001b[0;32mNone\u001b[0m\u001b[0;34m:\u001b[0m\u001b[0;34m\u001b[0m\u001b[0;34m\u001b[0m\u001b[0m\n",
      "\u001b[0;31mUnsupportedOperation\u001b[0m: not readable"
     ]
    },
    {
     "name": "stderr",
     "output_type": "stream",
     "text": [
      "Process ForkPoolWorker-111:\n",
      "Process ForkPoolWorker-115:\n",
      "Process ForkPoolWorker-116:\n",
      "Process ForkPoolWorker-114:\n",
      "Process ForkPoolWorker-113:\n",
      "Process ForkPoolWorker-110:\n",
      "Process ForkPoolWorker-112:\n",
      "Process ForkPoolWorker-109:\n",
      "Traceback (most recent call last):\n",
      "Traceback (most recent call last):\n",
      "Traceback (most recent call last):\n",
      "Traceback (most recent call last):\n",
      "Traceback (most recent call last):\n",
      "Traceback (most recent call last):\n",
      "Traceback (most recent call last):\n",
      "Traceback (most recent call last):\n"
     ]
    }
   ],
   "source": [
    "from multiprocess import Pool\n",
    "from multiprocess import cpu_count\n",
    "\n",
    "def get_film (url):\n",
    "    import requests as requests\n",
    "    from bs4 import BeautifulSoup\n",
    "    r = requests.get(\"https://www.hooandja.ee\" + url.strip())\n",
    "    html = BeautifulSoup(r.content)\n",
    "    title = html.find(\"div\", {\"class\":\"leftside w780\"}).get_text()\n",
    "    tags = html.find_all(\"span\", {\"class\":\"h1\"})\n",
    "    budget = \"\"\n",
    "    sales_www = \"\"\n",
    "    if len(tags) > 0:\n",
    "        sales_www = tags[0].get_text()\n",
    "        if len(tags) > 1:\n",
    "            budget = tags[0].get_text()\n",
    "            sales_www = tags[1].get_text()\n",
    "            if len(tags) > 2:\n",
    "                sales_www = tags[2].get_text()\n",
    "    return [url, title, budget, sales_www]\n",
    "\n",
    "pool = Pool(cpu_count() * 2)\n",
    "data = []\n",
    "with open(\"hooandja.txt\", \"w\") as f:\n",
    "    result_iter = pool.map(get_film, f)\n",
    "    for result in result_iter:\n",
    "        data.append(result)\n",
    "print (data)"
   ]
  },
  {
   "cell_type": "code",
   "execution_count": null,
   "metadata": {},
   "outputs": [],
   "source": []
  },
  {
   "cell_type": "code",
   "execution_count": null,
   "metadata": {},
   "outputs": [],
   "source": []
  },
  {
   "cell_type": "code",
   "execution_count": null,
   "metadata": {},
   "outputs": [],
   "source": []
  },
  {
   "cell_type": "code",
   "execution_count": null,
   "metadata": {},
   "outputs": [],
   "source": [
    "pool = Pool(cpu_count() * 2)\n",
    "data = []\n",
    "with open(\"hooandja_edukad_projektid.txt\", \"r\") as f:\n",
    "    result_iter = pool.map(get_film, f)\n",
    "    for result in result_iter:\n",
    "        data.append(result)\n",
    "\n",
    "\n",
    "#r = requests.get(\"https://www.hooandja.ee\" + url.strip())\n",
    "title = html.find(\"div\", {\"class\":\"leftside w780\"}).get_text()\n",
    "tags = html.find(\"span\", {\"class\":\"h1\"}).get_text()\n",
    "tag1 = \"\"\n",
    "tag2 = \"\"\n",
    "\n",
    "\n",
    "    budget = \"\"\n",
    "    sales_www = \"\"\n",
    "    if len(tags) > 0:\n",
    "        sales_www = tags[0].get_text()\n",
    "        if len(tags) > 1:\n",
    "            budget = tags[0].get_text()\n",
    "            sales_www = tags[1].get_text()\n",
    "            if len(tags) > 2:\n",
    "                sales_www = tags[2].get_text()\n",
    "    return [url, title, budget, sales_www]\n",
    "\n",
    "pool = Pool(cpu_count() * 2)\n",
    "data = []\n",
    "with open(\"hooandja_edukad_projektid.txt\", \"r\") as f:\n",
    "    result_iter = pool.map(get_film, f)\n",
    "    for result in result_iter:\n",
    "        data.append(result)"
   ]
  },
  {
   "cell_type": "code",
   "execution_count": null,
   "metadata": {},
   "outputs": [],
   "source": []
  },
  {
   "cell_type": "code",
   "execution_count": null,
   "metadata": {},
   "outputs": [],
   "source": []
  },
  {
   "cell_type": "code",
   "execution_count": null,
   "metadata": {},
   "outputs": [],
   "source": []
  },
  {
   "cell_type": "code",
   "execution_count": null,
   "metadata": {},
   "outputs": [],
   "source": []
  },
  {
   "cell_type": "code",
   "execution_count": null,
   "metadata": {},
   "outputs": [],
   "source": []
  },
  {
   "cell_type": "code",
   "execution_count": null,
   "metadata": {},
   "outputs": [],
   "source": []
  },
  {
   "cell_type": "code",
   "execution_count": null,
   "metadata": {},
   "outputs": [],
   "source": []
  },
  {
   "cell_type": "code",
   "execution_count": null,
   "metadata": {},
   "outputs": [],
   "source": []
  },
  {
   "cell_type": "code",
   "execution_count": null,
   "metadata": {},
   "outputs": [],
   "source": []
  },
  {
   "cell_type": "code",
   "execution_count": null,
   "metadata": {},
   "outputs": [],
   "source": []
  },
  {
   "cell_type": "code",
   "execution_count": null,
   "metadata": {},
   "outputs": [],
   "source": []
  },
  {
   "cell_type": "code",
   "execution_count": null,
   "metadata": {},
   "outputs": [],
   "source": []
  },
  {
   "cell_type": "code",
   "execution_count": null,
   "metadata": {},
   "outputs": [],
   "source": []
  },
  {
   "cell_type": "code",
   "execution_count": null,
   "metadata": {},
   "outputs": [],
   "source": []
  },
  {
   "cell_type": "code",
   "execution_count": null,
   "metadata": {},
   "outputs": [],
   "source": []
  },
  {
   "cell_type": "code",
   "execution_count": null,
   "metadata": {},
   "outputs": [],
   "source": []
  },
  {
   "cell_type": "code",
   "execution_count": null,
   "metadata": {},
   "outputs": [],
   "source": []
  },
  {
   "cell_type": "code",
   "execution_count": null,
   "metadata": {},
   "outputs": [],
   "source": []
  },
  {
   "cell_type": "code",
   "execution_count": null,
   "metadata": {},
   "outputs": [],
   "source": []
  },
  {
   "cell_type": "code",
   "execution_count": null,
   "metadata": {},
   "outputs": [],
   "source": []
  },
  {
   "cell_type": "code",
   "execution_count": null,
   "metadata": {},
   "outputs": [],
   "source": []
  },
  {
   "cell_type": "code",
   "execution_count": null,
   "metadata": {},
   "outputs": [],
   "source": []
  },
  {
   "cell_type": "code",
   "execution_count": 83,
   "metadata": {},
   "outputs": [
    {
     "ename": "NameError",
     "evalue": "name 'result_iter' is not defined",
     "output_type": "error",
     "traceback": [
      "\u001b[0;31m---------------------------------------------------------------------------\u001b[0m",
      "\u001b[0;31mNameError\u001b[0m                                 Traceback (most recent call last)",
      "\u001b[0;32m<ipython-input-83-e94a8c68204a>\u001b[0m in \u001b[0;36m<module>\u001b[0;34m\u001b[0m\n\u001b[0;32m----> 1\u001b[0;31m \u001b[0mprint\u001b[0m \u001b[0;34m(\u001b[0m\u001b[0mresult_iter\u001b[0m\u001b[0;34m)\u001b[0m\u001b[0;34m\u001b[0m\u001b[0;34m\u001b[0m\u001b[0m\n\u001b[0m",
      "\u001b[0;31mNameError\u001b[0m: name 'result_iter' is not defined"
     ]
    }
   ],
   "source": [
    "print (result_iter)"
   ]
  },
  {
   "cell_type": "code",
   "execution_count": null,
   "metadata": {},
   "outputs": [],
   "source": []
  },
  {
   "cell_type": "code",
   "execution_count": null,
   "metadata": {},
   "outputs": [],
   "source": []
  },
  {
   "cell_type": "code",
   "execution_count": null,
   "metadata": {},
   "outputs": [],
   "source": []
  },
  {
   "cell_type": "code",
   "execution_count": null,
   "metadata": {},
   "outputs": [],
   "source": []
  },
  {
   "cell_type": "code",
   "execution_count": null,
   "metadata": {},
   "outputs": [],
   "source": []
  },
  {
   "cell_type": "code",
   "execution_count": null,
   "metadata": {},
   "outputs": [],
   "source": []
  },
  {
   "cell_type": "code",
   "execution_count": null,
   "metadata": {},
   "outputs": [],
   "source": []
  },
  {
   "cell_type": "code",
   "execution_count": null,
   "metadata": {},
   "outputs": [],
   "source": []
  },
  {
   "cell_type": "code",
   "execution_count": null,
   "metadata": {},
   "outputs": [],
   "source": []
  },
  {
   "cell_type": "code",
   "execution_count": null,
   "metadata": {},
   "outputs": [],
   "source": []
  },
  {
   "cell_type": "code",
   "execution_count": null,
   "metadata": {},
   "outputs": [],
   "source": []
  },
  {
   "cell_type": "code",
   "execution_count": null,
   "metadata": {},
   "outputs": [],
   "source": []
  },
  {
   "cell_type": "code",
   "execution_count": null,
   "metadata": {},
   "outputs": [],
   "source": []
  },
  {
   "cell_type": "code",
   "execution_count": null,
   "metadata": {},
   "outputs": [],
   "source": []
  },
  {
   "cell_type": "code",
   "execution_count": null,
   "metadata": {},
   "outputs": [],
   "source": []
  },
  {
   "cell_type": "code",
   "execution_count": null,
   "metadata": {},
   "outputs": [],
   "source": []
  },
  {
   "cell_type": "code",
   "execution_count": null,
   "metadata": {},
   "outputs": [],
   "source": []
  },
  {
   "cell_type": "code",
   "execution_count": null,
   "metadata": {},
   "outputs": [],
   "source": []
  },
  {
   "cell_type": "code",
   "execution_count": null,
   "metadata": {},
   "outputs": [],
   "source": []
  },
  {
   "cell_type": "code",
   "execution_count": null,
   "metadata": {},
   "outputs": [],
   "source": []
  },
  {
   "cell_type": "code",
   "execution_count": null,
   "metadata": {},
   "outputs": [],
   "source": []
  },
  {
   "cell_type": "code",
   "execution_count": null,
   "metadata": {},
   "outputs": [],
   "source": []
  },
  {
   "cell_type": "code",
   "execution_count": null,
   "metadata": {},
   "outputs": [],
   "source": []
  },
  {
   "cell_type": "code",
   "execution_count": 58,
   "metadata": {},
   "outputs": [
    {
     "name": "stdout",
     "output_type": "stream",
     "text": [
      "\n",
      "Dagö \"Küte\"Kasutaja  Lauri Saatpalu projekt kategoorias Muusika\n",
      "\n",
      "\n"
     ]
    },
    {
     "data": {
      "text/plain": [
       "'\\ndef get_film (url):\\n    import requests as requests\\n    from bs4 import BeautifulSoup\\n    r = requests.get(\"https://www.kinopoisk.ru\" + url.strip())\\n    html = BeautifulSoup(r.content)\\n    title = html.find(\"span\", {\"class\":\"moviename-title-wrapper\"}).get_text()\\n    tags = html.find_all(\"td\", {\"class\": \"dollar\"})\\n    budget = \"\"\\n    sales_www = \"\"\\n    if len(tags) > 0:\\n        sales_www = tags[0].get_text()\\n        if len(tags) > 1:\\n            budget = tags[0].get_text()\\n            sales_www = tags[1].get_text()\\n            if len(tags) > 2:\\n                sales_www = tags[2].get_text()\\n    return [url, title, budget, sales_www]\\n\\npool = Pool(cpu_count() * 2)\\ndata = []\\nwith open(\"films.txt\", \"r\") as f:\\n    result_iter = pool.map(get_film, f)\\n    for result in result_iter:\\n        data.append(result)\\nprint (data)\\n'"
      ]
     },
     "execution_count": 58,
     "metadata": {},
     "output_type": "execute_result"
    }
   ],
   "source": [
    "#def get_data (url):  \n",
    "\n",
    "#    r = requests.get(\"https://www.hooandja.ee\" + url.strip())\n",
    "#    html = BeautifulSoup(r.content)\n",
    "title = html_d.find(\"div\", {\"class\":\"leftside w780\"}).get_text()\n",
    "#    andj = html.find(\"span\", {\"class\":\"h1\"})\n",
    "    \n",
    "print (title)\n",
    "#print (andj)\n",
    "    \n",
    "\"\"\"\n",
    "        hooa = tags[0].get_text()\n",
    "        if len(tags) > 2:\n",
    "            raha = tags[0].get_text()\n",
    "            hooa = tags[1].get_text()\n",
    "            \n",
    "            if len(tags) > 2:\n",
    "                andj = tags[2].get_text()\n",
    "#print(raha)\n",
    "return [url, title, budget, sales_www]\n",
    "\"\"\"    \n",
    "\n",
    "\"\"\"\n",
    "def get_film (url):\n",
    "    import requests as requests\n",
    "    from bs4 import BeautifulSoup\n",
    "    r = requests.get(\"https://www.kinopoisk.ru\" + url.strip())\n",
    "    html = BeautifulSoup(r.content)\n",
    "    title = html.find(\"span\", {\"class\":\"moviename-title-wrapper\"}).get_text()\n",
    "    tags = html.find_all(\"td\", {\"class\": \"dollar\"})\n",
    "    budget = \"\"\n",
    "    sales_www = \"\"\n",
    "    if len(tags) > 0:\n",
    "        sales_www = tags[0].get_text()\n",
    "        if len(tags) > 1:\n",
    "            budget = tags[0].get_text()\n",
    "            sales_www = tags[1].get_text()\n",
    "            if len(tags) > 2:\n",
    "                sales_www = tags[2].get_text()\n",
    "    return [url, title, budget, sales_www]\n",
    "\n",
    "pool = Pool(cpu_count() * 2)\n",
    "data = []\n",
    "with open(\"films.txt\", \"r\") as f:\n",
    "    result_iter = pool.map(get_film, f)\n",
    "    for result in result_iter:\n",
    "        data.append(result)\n",
    "print (data)\n",
    "\"\"\""
   ]
  },
  {
   "cell_type": "code",
   "execution_count": null,
   "metadata": {},
   "outputs": [],
   "source": []
  },
  {
   "cell_type": "code",
   "execution_count": null,
   "metadata": {},
   "outputs": [],
   "source": []
  },
  {
   "cell_type": "code",
   "execution_count": null,
   "metadata": {},
   "outputs": [],
   "source": []
  },
  {
   "cell_type": "code",
   "execution_count": null,
   "metadata": {},
   "outputs": [],
   "source": []
  },
  {
   "cell_type": "code",
   "execution_count": null,
   "metadata": {},
   "outputs": [],
   "source": []
  },
  {
   "cell_type": "code",
   "execution_count": null,
   "metadata": {},
   "outputs": [],
   "source": []
  },
  {
   "cell_type": "code",
   "execution_count": null,
   "metadata": {},
   "outputs": [],
   "source": []
  },
  {
   "cell_type": "code",
   "execution_count": null,
   "metadata": {},
   "outputs": [],
   "source": []
  },
  {
   "cell_type": "code",
   "execution_count": null,
   "metadata": {},
   "outputs": [],
   "source": []
  },
  {
   "cell_type": "code",
   "execution_count": null,
   "metadata": {},
   "outputs": [],
   "source": []
  },
  {
   "cell_type": "code",
   "execution_count": null,
   "metadata": {},
   "outputs": [],
   "source": []
  },
  {
   "cell_type": "code",
   "execution_count": null,
   "metadata": {},
   "outputs": [],
   "source": []
  },
  {
   "cell_type": "code",
   "execution_count": null,
   "metadata": {},
   "outputs": [],
   "source": []
  },
  {
   "cell_type": "code",
   "execution_count": null,
   "metadata": {},
   "outputs": [],
   "source": []
  },
  {
   "cell_type": "code",
   "execution_count": null,
   "metadata": {},
   "outputs": [],
   "source": []
  },
  {
   "cell_type": "code",
   "execution_count": null,
   "metadata": {},
   "outputs": [],
   "source": []
  },
  {
   "cell_type": "code",
   "execution_count": null,
   "metadata": {},
   "outputs": [],
   "source": []
  },
  {
   "cell_type": "code",
   "execution_count": null,
   "metadata": {},
   "outputs": [],
   "source": []
  },
  {
   "cell_type": "code",
   "execution_count": null,
   "metadata": {},
   "outputs": [],
   "source": []
  },
  {
   "cell_type": "code",
   "execution_count": null,
   "metadata": {},
   "outputs": [],
   "source": []
  },
  {
   "cell_type": "code",
   "execution_count": null,
   "metadata": {},
   "outputs": [],
   "source": []
  },
  {
   "cell_type": "code",
   "execution_count": null,
   "metadata": {},
   "outputs": [],
   "source": []
  },
  {
   "cell_type": "code",
   "execution_count": null,
   "metadata": {},
   "outputs": [],
   "source": []
  },
  {
   "cell_type": "code",
   "execution_count": null,
   "metadata": {},
   "outputs": [],
   "source": []
  },
  {
   "cell_type": "code",
   "execution_count": null,
   "metadata": {},
   "outputs": [],
   "source": []
  },
  {
   "cell_type": "code",
   "execution_count": null,
   "metadata": {},
   "outputs": [],
   "source": []
  },
  {
   "cell_type": "code",
   "execution_count": null,
   "metadata": {},
   "outputs": [],
   "source": []
  },
  {
   "cell_type": "code",
   "execution_count": null,
   "metadata": {},
   "outputs": [],
   "source": []
  },
  {
   "cell_type": "code",
   "execution_count": null,
   "metadata": {},
   "outputs": [],
   "source": []
  },
  {
   "cell_type": "code",
   "execution_count": null,
   "metadata": {},
   "outputs": [],
   "source": []
  },
  {
   "cell_type": "code",
   "execution_count": null,
   "metadata": {},
   "outputs": [],
   "source": []
  },
  {
   "cell_type": "code",
   "execution_count": null,
   "metadata": {},
   "outputs": [],
   "source": []
  },
  {
   "cell_type": "code",
   "execution_count": null,
   "metadata": {},
   "outputs": [],
   "source": []
  },
  {
   "cell_type": "code",
   "execution_count": null,
   "metadata": {},
   "outputs": [],
   "source": []
  },
  {
   "cell_type": "code",
   "execution_count": null,
   "metadata": {},
   "outputs": [],
   "source": []
  },
  {
   "cell_type": "code",
   "execution_count": null,
   "metadata": {},
   "outputs": [],
   "source": []
  },
  {
   "cell_type": "code",
   "execution_count": null,
   "metadata": {},
   "outputs": [],
   "source": []
  },
  {
   "cell_type": "code",
   "execution_count": null,
   "metadata": {},
   "outputs": [],
   "source": []
  },
  {
   "cell_type": "code",
   "execution_count": null,
   "metadata": {},
   "outputs": [],
   "source": []
  },
  {
   "cell_type": "code",
   "execution_count": null,
   "metadata": {},
   "outputs": [],
   "source": []
  },
  {
   "cell_type": "code",
   "execution_count": null,
   "metadata": {},
   "outputs": [],
   "source": []
  },
  {
   "cell_type": "code",
   "execution_count": null,
   "metadata": {},
   "outputs": [],
   "source": []
  },
  {
   "cell_type": "code",
   "execution_count": null,
   "metadata": {},
   "outputs": [],
   "source": []
  },
  {
   "cell_type": "code",
   "execution_count": null,
   "metadata": {},
   "outputs": [],
   "source": []
  },
  {
   "cell_type": "code",
   "execution_count": null,
   "metadata": {},
   "outputs": [],
   "source": []
  },
  {
   "cell_type": "code",
   "execution_count": null,
   "metadata": {},
   "outputs": [],
   "source": []
  },
  {
   "cell_type": "code",
   "execution_count": null,
   "metadata": {},
   "outputs": [],
   "source": []
  },
  {
   "cell_type": "code",
   "execution_count": null,
   "metadata": {},
   "outputs": [],
   "source": []
  },
  {
   "cell_type": "code",
   "execution_count": null,
   "metadata": {},
   "outputs": [],
   "source": []
  },
  {
   "cell_type": "code",
   "execution_count": null,
   "metadata": {},
   "outputs": [],
   "source": []
  },
  {
   "cell_type": "code",
   "execution_count": null,
   "metadata": {},
   "outputs": [],
   "source": []
  },
  {
   "cell_type": "code",
   "execution_count": null,
   "metadata": {},
   "outputs": [],
   "source": []
  },
  {
   "cell_type": "code",
   "execution_count": null,
   "metadata": {},
   "outputs": [],
   "source": []
  },
  {
   "cell_type": "code",
   "execution_count": null,
   "metadata": {},
   "outputs": [],
   "source": []
  },
  {
   "cell_type": "code",
   "execution_count": null,
   "metadata": {},
   "outputs": [],
   "source": []
  },
  {
   "cell_type": "code",
   "execution_count": null,
   "metadata": {},
   "outputs": [],
   "source": []
  },
  {
   "cell_type": "code",
   "execution_count": null,
   "metadata": {},
   "outputs": [],
   "source": []
  },
  {
   "cell_type": "code",
   "execution_count": null,
   "metadata": {},
   "outputs": [],
   "source": []
  },
  {
   "cell_type": "code",
   "execution_count": null,
   "metadata": {},
   "outputs": [],
   "source": []
  },
  {
   "cell_type": "code",
   "execution_count": null,
   "metadata": {},
   "outputs": [],
   "source": []
  },
  {
   "cell_type": "code",
   "execution_count": null,
   "metadata": {},
   "outputs": [],
   "source": []
  },
  {
   "cell_type": "code",
   "execution_count": null,
   "metadata": {},
   "outputs": [],
   "source": []
  },
  {
   "cell_type": "code",
   "execution_count": null,
   "metadata": {},
   "outputs": [],
   "source": []
  },
  {
   "cell_type": "code",
   "execution_count": null,
   "metadata": {},
   "outputs": [],
   "source": []
  },
  {
   "cell_type": "code",
   "execution_count": null,
   "metadata": {},
   "outputs": [],
   "source": []
  },
  {
   "cell_type": "code",
   "execution_count": null,
   "metadata": {},
   "outputs": [],
   "source": []
  },
  {
   "cell_type": "code",
   "execution_count": null,
   "metadata": {},
   "outputs": [],
   "source": []
  },
  {
   "cell_type": "code",
   "execution_count": null,
   "metadata": {},
   "outputs": [],
   "source": []
  },
  {
   "cell_type": "code",
   "execution_count": null,
   "metadata": {},
   "outputs": [],
   "source": []
  },
  {
   "cell_type": "code",
   "execution_count": null,
   "metadata": {},
   "outputs": [],
   "source": []
  },
  {
   "cell_type": "code",
   "execution_count": null,
   "metadata": {},
   "outputs": [],
   "source": []
  },
  {
   "cell_type": "code",
   "execution_count": null,
   "metadata": {},
   "outputs": [],
   "source": []
  },
  {
   "cell_type": "code",
   "execution_count": null,
   "metadata": {},
   "outputs": [],
   "source": []
  },
  {
   "cell_type": "code",
   "execution_count": null,
   "metadata": {},
   "outputs": [],
   "source": []
  },
  {
   "cell_type": "code",
   "execution_count": 67,
   "metadata": {},
   "outputs": [
    {
     "name": "stdout",
     "output_type": "stream",
     "text": [
      "['/avasta/viimati-lisatud', '/avasta/edukad', '/en/avasta/edukad', '/ru/avasta/edukad', 'https://www.hooandja.ee/avasta/kategooriad/trukis', 'https://www.hooandja.ee/avasta/kategooriad/film-foto', 'https://www.hooandja.ee/avasta/kategooriad/muusika', 'https://www.hooandja.ee/avasta/kategooriad/sport', 'https://www.hooandja.ee/avasta/kategooriad/kunst', 'https://www.hooandja.ee/avasta/kategooriad/kodanikualgatus', 'https://www.hooandja.ee/avasta/kategooriad/haridus', 'https://www.hooandja.ee/avasta/kategooriad/looduskaitse', '/avasta/edukad?page=1', '/avasta/edukad?page=2', '/avasta/edukad?page=3', '/avasta/edukad?page=4', '/avasta/edukad?page=5', '/avasta/edukad?page=6', '/avasta/edukad?page=7', '/avasta/edukad?page=8', '/avasta/edukad?page=39', '/avasta/esiletostetud', '/avasta/loppevad', '/avasta/enim-toetatud', '/avasta/kategooriad/disain', '/avasta/kategooriad/kodanikualgatus', '/avasta/kategooriad/film-foto', '/avasta/kategooriad/ev100', '/avasta/kategooriad/Kultuurisaadikud', '/avasta/kategooriad/kunst', '/avasta/kategooriad/meedia', '/avasta/kategooriad/muusika', '/avasta/kategooriad/M%C3%A4ng', '/avasta/kategooriad/sundmused', '/avasta/kategooriad/teater', '/avasta/kategooriad/tehnoloogia', '/avasta/kategooriad/trukis']\n"
     ]
    },
    {
     "data": {
      "text/plain": [
       "'\\ndef find_links (links, keyword):\\n    links_filtered = {}\\n    for link in links:\\n        if link.has_attr(\"href\") and link[\"href\"].find(keyword) > -1 and link[\"href\"].find(\"/project/\") == -1:\\n            links_filtered[link[\"href\"]] = 1\\n    return list(links_filtered.keys())\\nfilms = []\\nfilms.extend(find_links(html.find_all(\"a\"), \"/film/\"))\\npages = []\\npages.extend(find_links(html.find_all(\"a\"), \"/page/\"))\\nfor page in pages:\\n    r = requests.get(\"https://www.kinopoisk.ru\" + page)\\n    html = BeautifulSoup(r.content)\\n    films.extend(find_links(html.find_all(\"a\"), \"/film/\"))\\nwith open(\"films.txt\", \"w\") as f:\\n    f.write(\"\\n\".join(films))\\n'"
      ]
     },
     "execution_count": 67,
     "metadata": {},
     "output_type": "execute_result"
    }
   ],
   "source": [
    "#links = html.find_all(\"a\")\n",
    "def find_links (links, keyword):\n",
    "    links_filtered = {}\n",
    "    for link in links:\n",
    "        if link.has_attr(\"href\") and link[\"href\"].find(keyword) > -1 and link[\"href\"].find(\"/viimati-lisatud/\") == -1:\n",
    "            links_filtered[link[\"href\"]] = 1\n",
    "    return list(links_filtered.keys())\n",
    "films = []\n",
    "films.extend(find_links(html.find_all(\"a\"), \"/projekt/\"))\n",
    "pages = []\n",
    "pages.extend(find_links(html.find_all(\"a\"), \"/avasta/\"))\n",
    "print (pages)\n",
    "\n",
    "\n",
    "\n",
    "\n",
    "\"\"\"\n",
    "def find_links (links, keyword):\n",
    "    links_filtered = {}\n",
    "    for link in links:\n",
    "        if link.has_attr(\"href\") and link[\"href\"].find(keyword) > -1 and link[\"href\"].find(\"/project/\") == -1:\n",
    "            links_filtered[link[\"href\"]] = 1\n",
    "    return list(links_filtered.keys())\n",
    "films = []\n",
    "films.extend(find_links(html.find_all(\"a\"), \"/film/\"))\n",
    "pages = []\n",
    "pages.extend(find_links(html.find_all(\"a\"), \"/page/\"))\n",
    "for page in pages:\n",
    "    r = requests.get(\"https://www.kinopoisk.ru\" + page)\n",
    "    html = BeautifulSoup(r.content)\n",
    "    films.extend(find_links(html.find_all(\"a\"), \"/film/\"))\n",
    "with open(\"films.txt\", \"w\") as f:\n",
    "    f.write(\"\\n\".join(films))\n",
    "\"\"\"\n",
    "\n"
   ]
  },
  {
   "cell_type": "code",
   "execution_count": null,
   "metadata": {},
   "outputs": [],
   "source": []
  },
  {
   "cell_type": "code",
   "execution_count": null,
   "metadata": {},
   "outputs": [],
   "source": []
  },
  {
   "cell_type": "code",
   "execution_count": null,
   "metadata": {},
   "outputs": [],
   "source": []
  },
  {
   "cell_type": "code",
   "execution_count": null,
   "metadata": {},
   "outputs": [],
   "source": []
  },
  {
   "cell_type": "code",
   "execution_count": null,
   "metadata": {},
   "outputs": [],
   "source": []
  },
  {
   "cell_type": "code",
   "execution_count": null,
   "metadata": {},
   "outputs": [],
   "source": []
  },
  {
   "cell_type": "code",
   "execution_count": null,
   "metadata": {},
   "outputs": [],
   "source": []
  },
  {
   "cell_type": "code",
   "execution_count": null,
   "metadata": {},
   "outputs": [],
   "source": []
  },
  {
   "cell_type": "code",
   "execution_count": null,
   "metadata": {},
   "outputs": [],
   "source": []
  },
  {
   "cell_type": "code",
   "execution_count": null,
   "metadata": {},
   "outputs": [],
   "source": []
  },
  {
   "cell_type": "code",
   "execution_count": null,
   "metadata": {},
   "outputs": [],
   "source": []
  },
  {
   "cell_type": "code",
   "execution_count": null,
   "metadata": {},
   "outputs": [],
   "source": []
  },
  {
   "cell_type": "code",
   "execution_count": null,
   "metadata": {},
   "outputs": [],
   "source": []
  },
  {
   "cell_type": "code",
   "execution_count": null,
   "metadata": {},
   "outputs": [],
   "source": []
  },
  {
   "cell_type": "code",
   "execution_count": null,
   "metadata": {},
   "outputs": [],
   "source": []
  },
  {
   "cell_type": "code",
   "execution_count": null,
   "metadata": {},
   "outputs": [],
   "source": []
  },
  {
   "cell_type": "code",
   "execution_count": null,
   "metadata": {},
   "outputs": [],
   "source": []
  },
  {
   "cell_type": "code",
   "execution_count": null,
   "metadata": {},
   "outputs": [],
   "source": []
  },
  {
   "cell_type": "code",
   "execution_count": null,
   "metadata": {},
   "outputs": [],
   "source": []
  },
  {
   "cell_type": "code",
   "execution_count": null,
   "metadata": {},
   "outputs": [],
   "source": []
  },
  {
   "cell_type": "code",
   "execution_count": null,
   "metadata": {},
   "outputs": [],
   "source": []
  },
  {
   "cell_type": "code",
   "execution_count": null,
   "metadata": {},
   "outputs": [],
   "source": []
  },
  {
   "cell_type": "code",
   "execution_count": null,
   "metadata": {},
   "outputs": [],
   "source": []
  },
  {
   "cell_type": "code",
   "execution_count": null,
   "metadata": {},
   "outputs": [],
   "source": []
  },
  {
   "cell_type": "code",
   "execution_count": null,
   "metadata": {},
   "outputs": [],
   "source": []
  },
  {
   "cell_type": "code",
   "execution_count": null,
   "metadata": {},
   "outputs": [],
   "source": []
  },
  {
   "cell_type": "code",
   "execution_count": null,
   "metadata": {},
   "outputs": [],
   "source": []
  },
  {
   "cell_type": "code",
   "execution_count": null,
   "metadata": {},
   "outputs": [],
   "source": []
  },
  {
   "cell_type": "code",
   "execution_count": null,
   "metadata": {},
   "outputs": [],
   "source": []
  },
  {
   "cell_type": "code",
   "execution_count": null,
   "metadata": {},
   "outputs": [],
   "source": []
  },
  {
   "cell_type": "code",
   "execution_count": null,
   "metadata": {},
   "outputs": [],
   "source": []
  },
  {
   "cell_type": "code",
   "execution_count": null,
   "metadata": {},
   "outputs": [],
   "source": []
  },
  {
   "cell_type": "code",
   "execution_count": null,
   "metadata": {},
   "outputs": [],
   "source": []
  },
  {
   "cell_type": "code",
   "execution_count": null,
   "metadata": {},
   "outputs": [],
   "source": []
  },
  {
   "cell_type": "code",
   "execution_count": null,
   "metadata": {},
   "outputs": [],
   "source": []
  },
  {
   "cell_type": "code",
   "execution_count": 22,
   "metadata": {},
   "outputs": [
    {
     "name": "stdout",
     "output_type": "stream",
     "text": [
      "b'<!DOCTYPE html PUBLIC \"-//W3C//DTD XHTML 1.0 Strict//EN\" \"http://www.w3.org/TR/xhtml1/DTD/xhtml1-strict.dtd\">\\n<html xmlns=\"http://www.w3.org/1999/xhtml\" dir=\"ltr\" lang=\"et\" xml:lang=\"et\" xmlns:fb=\"http://www.facebook.com/2008/fbml\" xmlns:og=\"http://opengraphprotocol.org/schema/\">\\n\\n<head profile=\"http://www.w3.org/1999/xhtml/vocab\">\\n  <meta http-equiv=\"Content-Type\" content=\"text/html; charset=utf-8\" />\\n<link rel=\"shortcut icon\" href=\"https://www.hooandja.ee/sites/default/files/favicon.ico\" type=\"image/vnd.microsoft.icon\" />\\n  <meta property=\"fb:app_id\" content=\"438597739485962\"/>\\n  <title>Edukalt l\\xc3\\xb5ppenud | Hooandja</title>\\n  <link type=\"text/css\" rel=\"stylesheet\" href=\"https://www.hooandja.ee/sites/default/files/css/css_xE-rWrJf-fncB6ztZfd2huxqgxu4WO-qwma6Xer30m4.css\" media=\"all\" />\\n<link type=\"text/css\" rel=\"stylesheet\" href=\"https://www.hooandja.ee/sites/default/files/css/css_n7aK8s-ciXhQyEYWNOJtISbWxtxQiQvnD-N_xWUtD5A.css\" media=\"all\" />\\n<link type=\"text/css\" rel=\"stylesheet\" href=\"https://www.hooandja.ee/sites/default/files/css/css_MnXiytJtb186Ydycnpwpw34cuUsHaKc80ey5LiQXhSY.css\" media=\"all\" />\\n<link type=\"text/css\" rel=\"stylesheet\" href=\"https://www.hooandja.ee/sites/default/files/css/css_K6lib0K0TE889mURLZcBACwav7NaKlAw-JGixrDUzAU.css\" media=\"all\" />\\n  <link href=\\'https://fonts.googleapis.com/css?family=Cabin:400,500,600,700\\' rel=\\'stylesheet\\' type=\\'text/css\\'>\\n    <script type=\"text/javascript\" src=\"https://www.hooandja.ee/sites/default/files/js/js_Ua98zxjH9I2U2rTee9IFt0Bz0daoaQQTSnaDxCxt3Kc.js\"></script>\\n<script type=\"text/javascript\" src=\"https://www.hooandja.ee/sites/default/files/js/js_IozhrXSbuuVdzA0V8ii0DY3xpN1lJIFw6EXnT8mdcxc.js\"></script>\\n<script type=\"text/javascript\">\\n<!--//--><![CDATA[//><!--\\n(function($){$().ready(function(){\\n      //sendsmaily e-mail js validate\\n      $(\"#block-block-6 form\").prepend(\\'<div id=\"block-block-6-errors\"></div>\\');\\n      $(\"#block-block-6 form\").submit(function(e){\\n        if(!validateEmail($(\"input[name$=\\'email\\']\").val())){\\n          e.preventDefault();\\n          $(\"#block-block-6-errors\").html(Drupal.t(\"Incorrect email address provided!\"));\\n        }\\n      });\\n    });})(jQuery);\\n\\n    //js validate function\\n    function validateEmail($email) {  var emailReg = /^([\\\\w-\\\\.]+@([\\\\w-]+\\\\.)+[\\\\w-]{2,4})?$/; return emailReg.test( $email );}\\n//--><!]]>\\n</script>\\n<script type=\"text/javascript\" src=\"https://www.hooandja.ee/sites/default/files/js/js_IDBX5SzkJ9gGNq7x-qOE_2DZsexqguTJQGMKvi4w-Uw.js\"></script>\\n<script type=\"text/javascript\" src=\"https://www.hooandja.ee/sites/default/files/js/js_RezxzLf_---cK6xahYcyI0e04z3GPoNzDcNc_xxkqOE.js\"></script>\\n<script type=\"text/javascript\">\\n<!--//--><![CDATA[//><!--\\njQuery.extend(Drupal.settings, {\"basePath\":\"\\\\/\",\"pathPrefix\":\"\",\"ajaxPageState\":{\"theme\":\"hooandjatheme\",\"theme_token\":\"A76BwkrNs1bm8qbvKTchCg2z8jjR36ks7ekMrp7Ntls\",\"js\":{\"0\":1,\"misc\\\\/jquery.js\":1,\"misc\\\\/jquery-extend-3.4.0.js\":1,\"misc\\\\/jquery-html-prefilter-3.5.0-backport.js\":1,\"misc\\\\/jquery.once.js\":1,\"misc\\\\/drupal.js\":1,\"public:\\\\/\\\\/languages\\\\/et_hucxUWPYi589bY8mdtvVneNTVY9rOm7G_PvA6trML2g.js\":1,\"1\":1,\"sites\\\\/all\\\\/modules\\\\/google_analytics\\\\/googleanalytics.js\":1,\"sites\\\\/all\\\\/themes\\\\/hooandjatheme\\\\/static\\\\/js\\\\/jquery-1.7.min.js\":1,\"sites\\\\/all\\\\/themes\\\\/hooandjatheme\\\\/static\\\\/js\\\\/jquery.custom_form.js\":1,\"sites\\\\/all\\\\/themes\\\\/hooandjatheme\\\\/static\\\\/js\\\\/jquery.validate.js\":1,\"sites\\\\/all\\\\/themes\\\\/hooandjatheme\\\\/static\\\\/js\\\\/jquery.functions.js\":1,\"sites\\\\/all\\\\/themes\\\\/hooandjatheme\\\\/static\\\\/js\\\\/jquery.tabify.js\":1,\"sites\\\\/all\\\\/themes\\\\/hooandjatheme\\\\/static\\\\/js\\\\/jquery.notification.js\":1,\"sites\\\\/all\\\\/themes\\\\/hooandjatheme\\\\/static\\\\/js\\\\/jquery.countdown.min.js\":1},\"css\":{\"modules\\\\/system\\\\/system.base.css\":1,\"modules\\\\/system\\\\/system.menus.css\":1,\"modules\\\\/system\\\\/system.messages.css\":1,\"modules\\\\/system\\\\/system.theme.css\":1,\"modules\\\\/comment\\\\/comment.css\":1,\"sites\\\\/all\\\\/modules\\\\/date\\\\/date_api\\\\/date.css\":1,\"sites\\\\/all\\\\/modules\\\\/date\\\\/date_popup\\\\/themes\\\\/datepicker.1.7.css\":1,\"modules\\\\/field\\\\/theme\\\\/field.css\":1,\"modules\\\\/node\\\\/node.css\":1,\"modules\\\\/search\\\\/search.css\":1,\"modules\\\\/user\\\\/user.css\":1,\"sites\\\\/all\\\\/modules\\\\/views\\\\/css\\\\/views.css\":1,\"sites\\\\/all\\\\/modules\\\\/ctools\\\\/css\\\\/ctools.css\":1,\"sites\\\\/all\\\\/themes\\\\/hooandjatheme\\\\/static\\\\/styles\\\\/fonts.css\":1,\"sites\\\\/all\\\\/themes\\\\/hooandjatheme\\\\/static\\\\/styles\\\\/style.css\":1,\"sites\\\\/all\\\\/themes\\\\/hooandjatheme\\\\/static\\\\/styles\\\\/overrides.css\":1,\"sites\\\\/all\\\\/themes\\\\/hooandjatheme\\\\/static\\\\/styles\\\\/fontello.css\":1}},\"googleanalytics\":{\"trackOutbound\":1,\"trackMailto\":1,\"trackDownload\":1,\"trackDownloadExtensions\":\"7z|aac|arc|arj|asf|asx|avi|bin|csv|doc|exe|flv|gif|gz|gzip|hqx|jar|jpe?g|js|mp(2|3|4|e?g)|mov(ie)?|msi|msp|pdf|phps|png|ppt|qtm?|ra(m|r)?|sea|sit|tar|tgz|torrent|txt|wav|wma|wmv|wpd|xls|xml|z|zip\"}});\\n//--><!]]>\\n</script>\\n</head>\\n<body class=\"html not-front not-logged-in no-sidebars page-avasta page-avasta-edukad domain-www-hooandja-ee i18n-et\" >\\n    \\n<header>\\n\\t<ul class=\"left\">\\n    \\t<li><a href=\"/\" id=\"logo\"><img src=\"https://www.hooandja.ee/sites/all/themes/hooandjatheme/logo.png\" alt=\"Home\" /></a></li>\\n        <li class=\\'active\\'><a  href=\"/avasta/viimati-lisatud\" ><span>Avasta</span>suurep\\xc3\\xa4raseid projekte</a></li>\\n        <li ><a  href=\"/alusta\"><span>Alusta</span> oma projektiga</a></li>\\n    </ul>\\n\\t\\n    <ul class=\"right\">\\n               <li class=\"item user\">\\n        \\t<a href=\"/user\" class=\"primary\">Logi sisse</a>\\n          </li>\\n\\t\\t           \\t    \\n\\t    \\t\\t     <li class=\"item logIn\"><a class=\"primary\" href=\"\">Eesti</a>\\n            <div class=\"more\" style=\"display: none;\">\\n            \\t<div class=\"inner\"><a href=\"/avasta/edukad\" class=\"language-link active\" xml:lang=\"et\">Eesti</a><a href=\"/en/avasta/edukad\" class=\"language-link\" xml:lang=\"en\">English</a><a href=\"/ru/avasta/edukad\" class=\"language-link\" xml:lang=\"ru\">\\xd0\\xa0\\xd1\\x83\\xd1\\x81\\xd1\\x81\\xd0\\xba\\xd0\\xb8\\xd0\\xb9</a></div><!--/inner-->\\n\\t\\t            </div><!--/more-->\\n\\t\\t         </li>\\n          \\n    </ul>\\n    \\n</header>\\n<div class=\"mainContentwrap\">\\n    <div class=\"mainContent\">\\n    <div class=\"leftside w700\">\\n\\t    <div class=\"inner\">\\n\\t  <div class=\"region region-content\">\\n    <div id=\"block-system-main\" class=\"block block-system\">\\n\\n  \\t  \\n  <div class=\"content\">\\n    <div class=\"project_white_box \">\\n        \\t<div class=\"title\"><a target=\"_top\" href=\"https://www.hooandja.ee/users/nataliamachenene\"><span>Natalja Matsenene </span></a><a target=\"_top\" href=\"https://www.hooandja.ee/avasta/kategooriad/film-foto\">Film & Foto</a></div><!--title-->\\n            <div class=\"image\">\\n            \\t<a target=\"_top\" href=\"https://www.hooandja.ee/projekt/luhifilm-ohver\"><img width=\"200\" src=\"https://www.hooandja.ee/sites/default/files/styles/200x229/public/project_images/foto1.png?itok=Hffi9ME5\"></a><div class=\"desc\">\\n                    <h3>L\\xc3\\xbchifilm \"Ohver\"</h3> \\n                </div><!--desc-->\\n            </div><!--image-->\\n            <div class=\"progress\"><div style=\"width:77%;\" class=\"progress_bar\"></div></div>\\n            <div class=\"data\">\\n           \\t  <ul>\\n                \\t<li><strong>77%</strong><span>kogutud</span></li>\\n                    <li><strong>1535\\xe2\\x82\\xac</strong><span>toetatud</span></li>\\n                    <li><strong><span class=\\'failed\\'>L\\xc3\\xb5ppenud</span></strong><span>08.06.2020</span></li>\\n                </ul>\\n            </div><!--data-->\\n\\t\\t</div><div class=\"project_white_box \">\\n        \\t<div class=\"title\"><a target=\"_top\" href=\"https://www.hooandja.ee/users/marikalkun\"><span>Mari Kalkun </span></a><a target=\"_top\" href=\"https://www.hooandja.ee/avasta/kategooriad/muusika\">Muusika</a></div><!--title-->\\n            <div class=\"image\">\\n            \\t<a target=\"_top\" href=\"https://www.hooandja.ee/projekt/mari-kalkuni-ounaaia-luhialbum\"><img width=\"200\" src=\"https://www.hooandja.ee/sites/default/files/styles/200x229/public/project_images/mari_kalkun_ruudurahumaru_2019_12.jpg?itok=0pylvjD-\"></a><div class=\"desc\">\\n                    <h3>Mari Kalkuni plaadi \"\\xc3\\x95unaaia album\" ja video v\\xc3\\xa4ljaandmine</h3> \\n                </div><!--desc-->\\n            </div><!--image-->\\n            <div class=\"progress\"><div style=\"width:100%;\" class=\"progress_bar\"></div></div>\\n            <div class=\"data\">\\n           \\t  <ul>\\n                \\t<li><strong>245%</strong><span>kogutud</span></li>\\n                    <li><strong>7338\\xe2\\x82\\xac</strong><span>toetatud</span></li>\\n                    <li><strong>Toetatud</strong><span>05.06.2020</span></li>\\n                </ul>\\n            </div><!--data-->\\n\\t\\t</div><div class=\"project_white_box \">\\n        \\t<div class=\"title\"><a target=\"_top\" href=\"https://www.hooandja.ee/users/birgititse\"><span>Birgit Itse </span></a><a target=\"_top\" href=\"https://www.hooandja.ee/avasta/kategooriad/trukis\">Tr\\xc3\\xbckis</a></div><!--title-->\\n            <div class=\"image\">\\n            \\t<a target=\"_top\" href=\"https://www.hooandja.ee/projekt/kinkeraamat-onnelikteekond-becominghappy\"><img width=\"200\" src=\"https://www.hooandja.ee/sites/default/files/styles/200x229/public/project_images/100733368_273507630504012_8516640661561147392_n.jpg?itok=mvaj0P_Z\"></a><div class=\"desc\">\\n                    <h3>Kinkeraamat #\\xc3\\xb5nnelikteekond #becominghappy</h3> \\n                </div><!--desc-->\\n            </div><!--image-->\\n            <div class=\"progress\"><div style=\"width:100%;\" class=\"progress_bar\"></div></div>\\n            <div class=\"data\">\\n           \\t  <ul>\\n                \\t<li><strong>103%</strong><span>kogutud</span></li>\\n                    <li><strong>2283\\xe2\\x82\\xac</strong><span>toetatud</span></li>\\n                    <li><strong>Toetatud</strong><span>03.06.2020</span></li>\\n                </ul>\\n            </div><!--data-->\\n\\t\\t</div><div class=\"project_white_box \">\\n        \\t<div class=\"title\"><a target=\"_top\" href=\"https://www.hooandja.ee/users/353\"><span>Lexsoul Dancemachine </span></a><a target=\"_top\" href=\"https://www.hooandja.ee/avasta/kategooriad/muusika\">Muusika</a></div><!--title-->\\n            <div class=\"image\">\\n            \\t<a target=\"_top\" href=\"https://www.hooandja.ee/projekt/lexsoul-dancemachine-lexplosion-ii-album\"><img width=\"200\" src=\"https://www.hooandja.ee/sites/default/files/styles/200x229/public/project_images/lexplosion_ii_lp_cover.jpg?itok=q_UUBiQm\"></a><div class=\"desc\">\\n                    <h3>Lexsoul Dancemachine \"Lexplosion II\" album</h3> \\n                </div><!--desc-->\\n            </div><!--image-->\\n            <div class=\"progress\"><div style=\"width:100%;\" class=\"progress_bar\"></div></div>\\n            <div class=\"data\">\\n           \\t  <ul>\\n                \\t<li><strong>130%</strong><span>kogutud</span></li>\\n                    <li><strong>6515\\xe2\\x82\\xac</strong><span>toetatud</span></li>\\n                    <li><strong>Toetatud</strong><span>02.06.2020</span></li>\\n                </ul>\\n            </div><!--data-->\\n\\t\\t</div><div class=\"project_white_box \">\\n        \\t<div class=\"title\"><a target=\"_top\" href=\"https://www.hooandja.ee/users/tiinalelumees\"><span>Tiina Lelumees </span></a><a target=\"_top\" href=\"https://www.hooandja.ee/avasta/kategooriad/trukis\">Tr\\xc3\\xbckis</a></div><!--title-->\\n            <div class=\"image\">\\n            \\t<a target=\"_top\" href=\"https://www.hooandja.ee/projekt/valeri-maksimovi-elulooraamat\"><img width=\"200\" src=\"https://www.hooandja.ee/sites/default/files/styles/200x229/public/project_images/valeri12_0.jpg?itok=koRS3pEC\"></a><div class=\"desc\">\\n                    <h3>Endise spordiajakirjaniku Valeri Maksimovi elulooraamat \"Hiiumehe r\\xc3\\xa4nd\"</h3> \\n                </div><!--desc-->\\n            </div><!--image-->\\n            <div class=\"progress\"><div style=\"width:100%;\" class=\"progress_bar\"></div></div>\\n            <div class=\"data\">\\n           \\t  <ul>\\n                \\t<li><strong>107%</strong><span>kogutud</span></li>\\n                    <li><strong>2353\\xe2\\x82\\xac</strong><span>toetatud</span></li>\\n                    <li><strong>Toetatud</strong><span>02.06.2020</span></li>\\n                </ul>\\n            </div><!--data-->\\n\\t\\t</div><div class=\"project_white_box \">\\n        \\t<div class=\"title\"><a target=\"_top\" href=\"https://www.hooandja.ee/users/zrasahan\"><span>Alex Zrajev </span></a><a target=\"_top\" href=\"https://www.hooandja.ee/avasta/kategooriad/sport\">Sport</a></div><!--title-->\\n            <div class=\"image\">\\n            \\t<a target=\"_top\" href=\"https://www.hooandja.ee/projekt/narva-airsoft-cqb-areen\"><img width=\"200\" src=\"https://www.hooandja.ee/sites/default/files/styles/200x229/public/project_images/kaanepilt_ida-paasuke.jpg?itok=Elo8Ohwb\"></a><div class=\"desc\">\\n                    <h3>Narva Airsoft CQB areen</h3> \\n                </div><!--desc-->\\n            </div><!--image-->\\n            <div class=\"progress\"><div style=\"width:100%;\" class=\"progress_bar\"></div></div>\\n            <div class=\"data\">\\n           \\t  <ul>\\n                \\t<li><strong>120%</strong><span>kogutud</span></li>\\n                    <li><strong>4185\\xe2\\x82\\xac</strong><span>toetatud</span></li>\\n                    <li><strong>Toetatud</strong><span>01.06.2020</span></li>\\n                </ul>\\n            </div><!--data-->\\n\\t\\t</div><div class=\"project_white_box \">\\n        \\t<div class=\"title\"><a target=\"_top\" href=\"https://www.hooandja.ee/users/raul\"><span>Raul Ore\\xc5\\xa1kin </span></a><a target=\"_top\" href=\"https://www.hooandja.ee/avasta/kategooriad/kunst\">Kunst</a></div><!--title-->\\n            <div class=\"image\">\\n            \\t<a target=\"_top\" href=\"https://www.hooandja.ee/projekt/voronja-skulptuuride-aed\"><img width=\"200\" src=\"https://www.hooandja.ee/sites/default/files/styles/200x229/public/project_images/hooandja_paisepilt.jpg?itok=zpVGcFMs\"></a><div class=\"desc\">\\n                    <h3>VORONJA SKULPTUURIDE AED</h3> \\n                </div><!--desc-->\\n            </div><!--image-->\\n            <div class=\"progress\"><div style=\"width:79%;\" class=\"progress_bar\"></div></div>\\n            <div class=\"data\">\\n           \\t  <ul>\\n                \\t<li><strong>79%</strong><span>kogutud</span></li>\\n                    <li><strong>8245\\xe2\\x82\\xac</strong><span>toetatud</span></li>\\n                    <li><strong><span class=\\'failed\\'>L\\xc3\\xb5ppenud</span></strong><span>01.06.2020</span></li>\\n                </ul>\\n            </div><!--data-->\\n\\t\\t</div><div class=\"project_white_box \">\\n        \\t<div class=\"title\"><a target=\"_top\" href=\"https://www.hooandja.ee/users/saljona\"><span>Aljona Surzhikova </span></a><a target=\"_top\" href=\"https://www.hooandja.ee/avasta/kategooriad/film-foto\">Film & Foto</a></div><!--title-->\\n            <div class=\"image\">\\n            \\t<a target=\"_top\" href=\"https://www.hooandja.ee/projekt/film-ankeet\"><img width=\"200\" src=\"https://www.hooandja.ee/sites/default/files/styles/200x229/public/project_images/algus2.jpg?itok=Id7l8g8f\"></a><div class=\"desc\">\\n                    <h3>Film \"Ankeet\"</h3> \\n                </div><!--desc-->\\n            </div><!--image-->\\n            <div class=\"progress\"><div style=\"width:100%;\" class=\"progress_bar\"></div></div>\\n            <div class=\"data\">\\n           \\t  <ul>\\n                \\t<li><strong>102%</strong><span>kogutud</span></li>\\n                    <li><strong>3067\\xe2\\x82\\xac</strong><span>toetatud</span></li>\\n                    <li><strong>Toetatud</strong><span>01.06.2020</span></li>\\n                </ul>\\n            </div><!--data-->\\n\\t\\t</div><div class=\"project_white_box \">\\n        \\t<div class=\"title\"><a target=\"_top\" href=\"https://www.hooandja.ee/users/curlystringsestonia\"><span>Curly Strings </span></a><a target=\"_top\" href=\"https://www.hooandja.ee/avasta/kategooriad/trukis\">Tr\\xc3\\xbckis</a></div><!--title-->\\n            <div class=\"image\">\\n            \\t<a target=\"_top\" href=\"https://www.hooandja.ee/projekt/curly-strings-heategevuslik-album-lastele\"><img width=\"200\" src=\"https://www.hooandja.ee/sites/default/files/styles/200x229/public/project_images/zfpveg3c.jpeg?itok=Xe9Ll-Ns\"></a><div class=\"desc\">\\n                    <h3>Curly Strings ja s\\xc3\\xb5brad - heategevusliku albumi \"Lastele\" v\\xc3\\xa4lja andmine</h3> \\n                </div><!--desc-->\\n            </div><!--image-->\\n            <div class=\"progress\"><div style=\"width:100%;\" class=\"progress_bar\"></div></div>\\n            <div class=\"data\">\\n           \\t  <ul>\\n                \\t<li><strong>101%</strong><span>kogutud</span></li>\\n                    <li><strong>13389\\xe2\\x82\\xac</strong><span>toetatud</span></li>\\n                    <li><strong>Toetatud</strong><span>30.05.2020</span></li>\\n                </ul>\\n            </div><!--data-->\\n\\t\\t</div><div class=\"project_white_box \">\\n        \\t<div class=\"title\"><a target=\"_top\" href=\"https://www.hooandja.ee/users/lembelokk\"><span>Lembe Lokk </span></a><a target=\"_top\" href=\"https://www.hooandja.ee/avasta/kategooriad/trukis\">Tr\\xc3\\xbckis</a></div><!--title-->\\n            <div class=\"image\">\\n            \\t<a target=\"_top\" href=\"https://www.hooandja.ee/projekt/elsewhere-today\"><img width=\"200\" src=\"https://www.hooandja.ee/sites/default/files/styles/200x229/public/project_images/hooandja_lembe_lokk.jpg?itok=Xuf5igRb\"></a><div class=\"desc\">\\n                    <h3>\"mujal n\\xc3\\xbc\\xc3\\xbcd \\xe2\\x80\\x93 elsewhere today\" raamatu v\\xc3\\xa4ljaandmine</h3> \\n                </div><!--desc-->\\n            </div><!--image-->\\n            <div class=\"progress\"><div style=\"width:100%;\" class=\"progress_bar\"></div></div>\\n            <div class=\"data\">\\n           \\t  <ul>\\n                \\t<li><strong>112%</strong><span>kogutud</span></li>\\n                    <li><strong>1677\\xe2\\x82\\xac</strong><span>toetatud</span></li>\\n                    <li><strong>Toetatud</strong><span>23.05.2020</span></li>\\n                </ul>\\n            </div><!--data-->\\n\\t\\t</div><div class=\"project_white_box \">\\n        \\t<div class=\"title\"><a target=\"_top\" href=\"https://www.hooandja.ee/users/meritraju\"><span>Merit Raju </span></a><a target=\"_top\" href=\"https://www.hooandja.ee/avasta/kategooriad/trukis\">Tr\\xc3\\xbckis</a></div><!--title-->\\n            <div class=\"image\">\\n            \\t<a target=\"_top\" href=\"https://www.hooandja.ee/projekt/raamat-soltumatu-naine\"><img width=\"200\" src=\"https://www.hooandja.ee/sites/default/files/styles/200x229/public/project_images/merit_raju-fotograaf_triin_maasik.jpg?itok=i-0Zazrf\"></a><div class=\"desc\">\\n                    <h3>Investeerimisraamat \"S\\xc3\\xb5ltumatu naine. 5 sammu rahalise vabaduseni\"</h3> \\n                </div><!--desc-->\\n            </div><!--image-->\\n            <div class=\"progress\"><div style=\"width:100%;\" class=\"progress_bar\"></div></div>\\n            <div class=\"data\">\\n           \\t  <ul>\\n                \\t<li><strong>116%</strong><span>kogutud</span></li>\\n                    <li><strong>4620\\xe2\\x82\\xac</strong><span>toetatud</span></li>\\n                    <li><strong>Toetatud</strong><span>21.05.2020</span></li>\\n                </ul>\\n            </div><!--data-->\\n\\t\\t</div><div class=\"project_white_box \">\\n        \\t<div class=\"title\"><a target=\"_top\" href=\"https://www.hooandja.ee/users/terjevooglaid\"><span>Terje Vooglaid </span></a><a target=\"_top\" href=\"https://www.hooandja.ee/avasta/kategooriad/trukis\">Tr\\xc3\\xbckis</a></div><!--title-->\\n            <div class=\"image\">\\n            \\t<a target=\"_top\" href=\"https://www.hooandja.ee/projekt/ei-taha-ei-taha\"><img width=\"200\" src=\"https://www.hooandja.ee/sites/default/files/styles/200x229/public/project_images/eitaharaamat.png?itok=ZXew5vwh\"></a><div class=\"desc\">\\n                    <h3>Lasteraamat \"Ei taha! Ei taha!\"</h3> \\n                </div><!--desc-->\\n            </div><!--image-->\\n            <div class=\"progress\"><div style=\"width:100%;\" class=\"progress_bar\"></div></div>\\n            <div class=\"data\">\\n           \\t  <ul>\\n                \\t<li><strong>103%</strong><span>kogutud</span></li>\\n                    <li><strong>615\\xe2\\x82\\xac</strong><span>toetatud</span></li>\\n                    <li><strong>Toetatud</strong><span>21.05.2020</span></li>\\n                </ul>\\n            </div><!--data-->\\n\\t\\t</div><div class=\"project_white_box \">\\n        \\t<div class=\"title\"><a target=\"_top\" href=\"https://www.hooandja.ee/users/tiitkuusemaa\"><span>Tiit Kuusemaa </span></a><a target=\"_top\" href=\"https://www.hooandja.ee/avasta/kategooriad/kodanikualgatus\">Kodanikualgatus</a></div><!--title-->\\n            <div class=\"image\">\\n            \\t<a target=\"_top\" href=\"https://www.hooandja.ee/projekt/puhja-kiriku-luhtrite-restaureerimine\"><img width=\"200\" src=\"https://www.hooandja.ee/sites/default/files/styles/200x229/public/project_images/hooandjale_0.jpg?itok=dGRoP4cg\"></a><div class=\"desc\">\\n                    <h3>Puhja kiriku l\\xc3\\xbchtrite restaureerimine</h3> \\n                </div><!--desc-->\\n            </div><!--image-->\\n            <div class=\"progress\"><div style=\"width:100%;\" class=\"progress_bar\"></div></div>\\n            <div class=\"data\">\\n           \\t  <ul>\\n                \\t<li><strong>129%</strong><span>kogutud</span></li>\\n                    <li><strong>1550\\xe2\\x82\\xac</strong><span>toetatud</span></li>\\n                    <li><strong>Toetatud</strong><span>18.05.2020</span></li>\\n                </ul>\\n            </div><!--data-->\\n\\t\\t</div><div class=\"project_white_box \">\\n        \\t<div class=\"title\"><a target=\"_top\" href=\"https://www.hooandja.ee/users/ruudusandra\"><span>Ruudu Sandra </span></a><a target=\"_top\" href=\"https://www.hooandja.ee/avasta/kategooriad/kunst\">Kunst</a></div><!--title-->\\n            <div class=\"image\">\\n            \\t<a target=\"_top\" href=\"https://www.hooandja.ee/projekt/templihoidjad\"><img width=\"200\" src=\"https://www.hooandja.ee/sites/default/files/styles/200x229/public/project_images/projekti_iseloomustav_pilt_2_1.jpg?itok=b6EEJrSh\"></a><div class=\"desc\">\\n                    <h3>Ruudu Rahumaru fotomaali n\\xc3\\xa4itus \"Templihoidjad\"</h3> \\n                </div><!--desc-->\\n            </div><!--image-->\\n            <div class=\"progress\"><div style=\"width:100%;\" class=\"progress_bar\"></div></div>\\n            <div class=\"data\">\\n           \\t  <ul>\\n                \\t<li><strong>115%</strong><span>kogutud</span></li>\\n                    <li><strong>4042\\xe2\\x82\\xac</strong><span>toetatud</span></li>\\n                    <li><strong>Toetatud</strong><span>17.05.2020</span></li>\\n                </ul>\\n            </div><!--data-->\\n\\t\\t</div><div class=\"project_white_box \">\\n        \\t<div class=\"title\"><a target=\"_top\" href=\"https://www.hooandja.ee/users/teejakohvi\"><span>Indrek Koff </span></a><a target=\"_top\" href=\"https://www.hooandja.ee/avasta/kategooriad/trukis\">Tr\\xc3\\xbckis</a></div><!--title-->\\n            <div class=\"image\">\\n            \\t<a target=\"_top\" href=\"https://www.hooandja.ee/projekt/palavikulilled\"><img width=\"200\" src=\"https://www.hooandja.ee/sites/default/files/styles/200x229/public/project_images/capture_decran_2020-03-27_a_07.28.32.jpg?itok=XY77cFeH\"></a><div class=\"desc\">\\n                    <h3>Palavikulilled</h3> \\n                </div><!--desc-->\\n            </div><!--image-->\\n            <div class=\"progress\"><div style=\"width:100%;\" class=\"progress_bar\"></div></div>\\n            <div class=\"data\">\\n           \\t  <ul>\\n                \\t<li><strong>118%</strong><span>kogutud</span></li>\\n                    <li><strong>5101\\xe2\\x82\\xac</strong><span>toetatud</span></li>\\n                    <li><strong>Toetatud</strong><span>16.05.2020</span></li>\\n                </ul>\\n            </div><!--data-->\\n\\t\\t</div><div class=\"project_white_box \">\\n        \\t<div class=\"title\"><a target=\"_top\" href=\"https://www.hooandja.ee/users/joelremmel\"><span>joelremmel </span></a><a target=\"_top\" href=\"https://www.hooandja.ee/avasta/kategooriad/muusika\">Muusika</a></div><!--title-->\\n            <div class=\"image\">\\n            \\t<a target=\"_top\" href=\"https://www.hooandja.ee/projekt/joel-remmel-live-taff-club\"><img width=\"200\" src=\"https://www.hooandja.ee/sites/default/files/styles/200x229/public/project_images/joel-ig-story3_0.jpg?itok=7-rcOYEW\"></a><div class=\"desc\">\\n                    <h3>Joel Remmel \"Live at Taff Club\" vin\\xc3\\xbc\\xc3\\xbclplaadi v\\xc3\\xa4ljaandmine</h3> \\n                </div><!--desc-->\\n            </div><!--image-->\\n            <div class=\"progress\"><div style=\"width:100%;\" class=\"progress_bar\"></div></div>\\n            <div class=\"data\">\\n           \\t  <ul>\\n                \\t<li><strong>152%</strong><span>kogutud</span></li>\\n                    <li><strong>1515\\xe2\\x82\\xac</strong><span>toetatud</span></li>\\n                    <li><strong>Toetatud</strong><span>01.05.2020</span></li>\\n                </ul>\\n            </div><!--data-->\\n\\t\\t</div><div class=\"project_white_box \">\\n        \\t<div class=\"title\"><a target=\"_top\" href=\"https://www.hooandja.ee/users/reginaatkajaakson1\"><span>Regina Jaakson </span></a><a target=\"_top\" href=\"https://www.hooandja.ee/avasta/kategooriad/trukis\">Tr\\xc3\\xbckis</a></div><!--title-->\\n            <div class=\"image\">\\n            \\t<a target=\"_top\" href=\"https://www.hooandja.ee/projekt/raamatu-koige-magusam-vili-ii-osa-valjaandmine\"><img width=\"200\" src=\"https://www.hooandja.ee/sites/default/files/styles/200x229/public/project_images/poimunud_hinged-_kaas.jpg?itok=aiRJGhp9\"></a><div class=\"desc\">\\n                    <h3>Raamatu \"K\\xc3\\xb5ige magusam vili\" II osa v\\xc3\\xa4ljaandmine</h3> \\n                </div><!--desc-->\\n            </div><!--image-->\\n            <div class=\"progress\"><div style=\"width:100%;\" class=\"progress_bar\"></div></div>\\n            <div class=\"data\">\\n           \\t  <ul>\\n                \\t<li><strong>100%</strong><span>kogutud</span></li>\\n                    <li><strong>1800\\xe2\\x82\\xac</strong><span>toetatud</span></li>\\n                    <li><strong>Toetatud</strong><span>01.05.2020</span></li>\\n                </ul>\\n            </div><!--data-->\\n\\t\\t</div><div class=\"project_white_box \">\\n        \\t<div class=\"title\"><a target=\"_top\" href=\"https://www.hooandja.ee/users/lauri8\"><span>Lauri Saatpalu </span></a><a target=\"_top\" href=\"https://www.hooandja.ee/avasta/kategooriad/muusika\">Muusika</a></div><!--title-->\\n            <div class=\"image\">\\n            \\t<a target=\"_top\" href=\"https://www.hooandja.ee/projekt/dago-kute\"><img width=\"200\" src=\"https://www.hooandja.ee/sites/default/files/styles/200x229/public/project_images/dago-kute-esikaas-k-04.jpg?itok=qpcp2usm\"></a><div class=\"desc\">\\n                    <h3>Dag\\xc3\\xb6 \"K\\xc3\\xbcte\"</h3> \\n                </div><!--desc-->\\n            </div><!--image-->\\n            <div class=\"progress\"><div style=\"width:100%;\" class=\"progress_bar\"></div></div>\\n            <div class=\"data\">\\n           \\t  <ul>\\n                \\t<li><strong>396%</strong><span>kogutud</span></li>\\n                    <li><strong>11876\\xe2\\x82\\xac</strong><span>toetatud</span></li>\\n                    <li><strong>Toetatud</strong><span>01.05.2020</span></li>\\n                </ul>\\n            </div><!--data-->\\n\\t\\t</div><div class=\"project_white_box \">\\n        \\t<div class=\"title\"><a target=\"_top\" href=\"https://www.hooandja.ee/users/veli1\"><span>Veli Rooger </span></a><a target=\"_top\" href=\"https://www.hooandja.ee/avasta/kategooriad/muusika\">Muusika</a></div><!--title-->\\n            <div class=\"image\">\\n            \\t<a target=\"_top\" href=\"https://www.hooandja.ee/projekt/ansambli-boamadu-luhialbum-20\"><img width=\"200\" src=\"https://www.hooandja.ee/sites/default/files/styles/200x229/public/project_images/boa_must_ruut_puhas_0.jpg?itok=zaULxqp9\"></a><div class=\"desc\">\\n                    <h3>Ansambli Boamadu l\\xc3\\xbchialbumi avaldamine</h3> \\n                </div><!--desc-->\\n            </div><!--image-->\\n            <div class=\"progress\"><div style=\"width:100%;\" class=\"progress_bar\"></div></div>\\n            <div class=\"data\">\\n           \\t  <ul>\\n                \\t<li><strong>108%</strong><span>kogutud</span></li>\\n                    <li><strong>2385\\xe2\\x82\\xac</strong><span>toetatud</span></li>\\n                    <li><strong>Toetatud</strong><span>26.04.2020</span></li>\\n                </ul>\\n            </div><!--data-->\\n\\t\\t</div><div class=\"project_white_box \">\\n        \\t<div class=\"title\"><a target=\"_top\" href=\"https://www.hooandja.ee/users/kristiinavahk\"><span>Kristiina V\\xc3\\xa4hk </span></a><a target=\"_top\" href=\"https://www.hooandja.ee/avasta/kategooriad/haridus\">Haridus</a></div><!--title-->\\n            <div class=\"image\">\\n            \\t<a target=\"_top\" href=\"https://www.hooandja.ee/projekt/madalseiklusrada-laulasmaa-koolile\"><img width=\"200\" src=\"https://www.hooandja.ee/sites/default/files/styles/200x229/public/project_images/89875975_3673882922653113_6932539800901648384_o.jpg?itok=tGz7pnUl\"></a><div class=\"desc\">\\n                    <h3>Madalseiklusrada Laulasmaa Koolile</h3> \\n                </div><!--desc-->\\n            </div><!--image-->\\n            <div class=\"progress\"><div style=\"width:100%;\" class=\"progress_bar\"></div></div>\\n            <div class=\"data\">\\n           \\t  <ul>\\n                \\t<li><strong>103%</strong><span>kogutud</span></li>\\n                    <li><strong>7001\\xe2\\x82\\xac</strong><span>toetatud</span></li>\\n                    <li><strong>Toetatud</strong><span>22.04.2020</span></li>\\n                </ul>\\n            </div><!--data-->\\n\\t\\t</div><div class=\"project_white_box \">\\n        \\t<div class=\"title\"><a target=\"_top\" href=\"https://www.hooandja.ee/users/keiokardla\"><span>Keio K\\xc3\\xa4rdla </span></a><a target=\"_top\" href=\"https://www.hooandja.ee/avasta/kategooriad/muusika\">Muusika</a></div><!--title-->\\n            <div class=\"image\">\\n            \\t<a target=\"_top\" href=\"https://www.hooandja.ee/projekt/culpas-leo-pold-muusikavideo\"><img width=\"200\" src=\"https://www.hooandja.ee/sites/default/files/styles/200x229/public/project_images/img_5117.jpg?itok=JWM8yGaw\"></a><div class=\"desc\">\\n                    <h3>Culpas - \"Leo P\\xc3\\xb5ld\" Muusikavideo</h3> \\n                </div><!--desc-->\\n            </div><!--image-->\\n            <div class=\"progress\"><div style=\"width:100%;\" class=\"progress_bar\"></div></div>\\n            <div class=\"data\">\\n           \\t  <ul>\\n                \\t<li><strong>104%</strong><span>kogutud</span></li>\\n                    <li><strong>1036\\xe2\\x82\\xac</strong><span>toetatud</span></li>\\n                    <li><strong>Toetatud</strong><span>17.04.2020</span></li>\\n                </ul>\\n            </div><!--data-->\\n\\t\\t</div><div class=\"project_white_box \">\\n        \\t<div class=\"title\"><a target=\"_top\" href=\"https://www.hooandja.ee/users/kristiinaehin\"><span>kristiina ehin </span></a><a target=\"_top\" href=\"https://www.hooandja.ee/avasta/kategooriad/trukis\">Tr\\xc3\\xbckis</a></div><!--title-->\\n            <div class=\"image\">\\n            \\t<a target=\"_top\" href=\"https://www.hooandja.ee/projekt/kristiina-ehini-uue-luulekogu-janu-koikidel-uks-valjaandmine\"><img width=\"200\" src=\"https://www.hooandja.ee/sites/default/files/styles/200x229/public/project_images/kristina_raamatukuhjaga._kaari_pilt.jpg?itok=AMHdqQh0\"></a><div class=\"desc\">\\n                    <h3>Kristiina Ehini uue luulekogu \"Janu on k\\xc3\\xb5ikidel \\xc3\\xbcks\" v\\xc3\\xa4ljaandmine</h3> \\n                </div><!--desc-->\\n            </div><!--image-->\\n            <div class=\"progress\"><div style=\"width:100%;\" class=\"progress_bar\"></div></div>\\n            <div class=\"data\">\\n           \\t  <ul>\\n                \\t<li><strong>181%</strong><span>kogutud</span></li>\\n                    <li><strong>10479\\xe2\\x82\\xac</strong><span>toetatud</span></li>\\n                    <li><strong>Toetatud</strong><span>13.04.2020</span></li>\\n                </ul>\\n            </div><!--data-->\\n\\t\\t</div><div class=\"project_white_box \">\\n        \\t<div class=\"title\"><a target=\"_top\" href=\"https://www.hooandja.ee/users/silviaparmann\"><span>Silvia P\\xc3\\xa4rmann </span></a><a target=\"_top\" href=\"https://www.hooandja.ee/avasta/kategooriad/trukis\">Tr\\xc3\\xbckis</a></div><!--title-->\\n            <div class=\"image\">\\n            \\t<a target=\"_top\" href=\"https://www.hooandja.ee/projekt/raamat-riigid-mida-pole-olemas\"><img width=\"200\" src=\"https://www.hooandja.ee/sites/default/files/styles/200x229/public/project_images/riigid1_0.jpg?itok=stC4Iin_\"></a><div class=\"desc\">\\n                    <h3>Raamat \"Riigid, mida pole olemas\"</h3> \\n                </div><!--desc-->\\n            </div><!--image-->\\n            <div class=\"progress\"><div style=\"width:100%;\" class=\"progress_bar\"></div></div>\\n            <div class=\"data\">\\n           \\t  <ul>\\n                \\t<li><strong>117%</strong><span>kogutud</span></li>\\n                    <li><strong>4091\\xe2\\x82\\xac</strong><span>toetatud</span></li>\\n                    <li><strong>Toetatud</strong><span>11.04.2020</span></li>\\n                </ul>\\n            </div><!--data-->\\n\\t\\t</div><div class=\"project_white_box \">\\n        \\t<div class=\"title\"><a target=\"_top\" href=\"https://www.hooandja.ee/users/kevinjurs\"><span>Kevin Jurs </span></a><a target=\"_top\" href=\"https://www.hooandja.ee/avasta/kategooriad/sport\">Sport</a></div><!--title-->\\n            <div class=\"image\">\\n            \\t<a target=\"_top\" href=\"https://www.hooandja.ee/projekt/kevin-jurs-crossfit-gamesile-2020\"><img width=\"200\" src=\"https://www.hooandja.ee/sites/default/files/styles/200x229/public/project_images/proktiiseloomustus.jpg?itok=fqpXsKJc\"></a><div class=\"desc\">\\n                    <h3>Kevin Jurs CrossFit Gamesile 2020</h3> \\n                </div><!--desc-->\\n            </div><!--image-->\\n            <div class=\"progress\"><div style=\"width:100%;\" class=\"progress_bar\"></div></div>\\n            <div class=\"data\">\\n           \\t  <ul>\\n                \\t<li><strong>116%</strong><span>kogutud</span></li>\\n                    <li><strong>4050\\xe2\\x82\\xac</strong><span>toetatud</span></li>\\n                    <li><strong>Toetatud</strong><span>09.04.2020</span></li>\\n                </ul>\\n            </div><!--data-->\\n\\t\\t</div><div class=\"project_white_box \">\\n        \\t<div class=\"title\"><a target=\"_top\" href=\"https://www.hooandja.ee/users/hardopajula\"><span>Hardo Pajula </span></a><a target=\"_top\" href=\"https://www.hooandja.ee/avasta/kategooriad/looduskaitse\">S\\xc3\\xbcndmus</a></div><!--title-->\\n            <div class=\"image\">\\n            \\t<a target=\"_top\" href=\"https://www.hooandja.ee/projekt/rupert-sheldrake-eestis-teadus-ja-vaimne-praktika\"><img width=\"200\" src=\"https://www.hooandja.ee/sites/default/files/styles/200x229/public/project_images/sheldrake.jpeg?itok=kVH7m6oM\"></a><div class=\"desc\">\\n                    <h3>Rupert Sheldrake Eestis: \"Teadus ja vaimne praktika\"</h3> \\n                </div><!--desc-->\\n            </div><!--image-->\\n            <div class=\"progress\"><div style=\"width:100%;\" class=\"progress_bar\"></div></div>\\n            <div class=\"data\">\\n           \\t  <ul>\\n                \\t<li><strong>112%</strong><span>kogutud</span></li>\\n                    <li><strong>11173\\xe2\\x82\\xac</strong><span>toetatud</span></li>\\n                    <li><strong>Toetatud</strong><span>09.04.2020</span></li>\\n                </ul>\\n            </div><!--data-->\\n\\t\\t</div><div class=\"project_white_box \">\\n        \\t<div class=\"title\"><a target=\"_top\" href=\"https://www.hooandja.ee/users/vendvemmal\"><span>Gunnar Vemmal Saar </span></a><a target=\"_top\" href=\"https://www.hooandja.ee/avasta/kategooriad/trukis\">Tr\\xc3\\xbckis</a></div><!--title-->\\n            <div class=\"image\">\\n            \\t<a target=\"_top\" href=\"https://www.hooandja.ee/projekt/merisiil-ja-karuake\"><img width=\"200\" src=\"https://www.hooandja.ee/sites/default/files/styles/200x229/public/project_images/20190126_205107_0.jpg?itok=onO9_T7W\"></a><div class=\"desc\">\\n                    <h3>Merisiil ja karu\\xc3\\xa4ke</h3> \\n                </div><!--desc-->\\n            </div><!--image-->\\n            <div class=\"progress\"><div style=\"width:100%;\" class=\"progress_bar\"></div></div>\\n            <div class=\"data\">\\n           \\t  <ul>\\n                \\t<li><strong>144%</strong><span>kogutud</span></li>\\n                    <li><strong>1978\\xe2\\x82\\xac</strong><span>toetatud</span></li>\\n                    <li><strong>Toetatud</strong><span>04.04.2020</span></li>\\n                </ul>\\n            </div><!--data-->\\n\\t\\t</div><div class=\"project_white_box \">\\n        \\t<div class=\"title\"><a target=\"_top\" href=\"https://www.hooandja.ee/users/kpiret\"><span>Piret K\\xc3\\xa4rm </span></a><a target=\"_top\" href=\"https://www.hooandja.ee/avasta/kategooriad/trukis\">Tr\\xc3\\xbckis</a></div><!--title-->\\n            <div class=\"image\">\\n            \\t<a target=\"_top\" href=\"https://www.hooandja.ee/projekt/stephane-grappelli-elulooraamat\"><img width=\"200\" src=\"https://www.hooandja.ee/sites/default/files/styles/200x229/public/project_images/20200207_kiurkaasik_grappelli.jpg?itok=jzq-oCvS\"></a><div class=\"desc\">\\n                    <h3>Jazzilegend St\\xc3\\xa9phane Grappelli elulooraamat \"Pagasiks vaid viiul\"</h3> \\n                </div><!--desc-->\\n            </div><!--image-->\\n            <div class=\"progress\"><div style=\"width:100%;\" class=\"progress_bar\"></div></div>\\n            <div class=\"data\">\\n           \\t  <ul>\\n                \\t<li><strong>112%</strong><span>kogutud</span></li>\\n                    <li><strong>5595\\xe2\\x82\\xac</strong><span>toetatud</span></li>\\n                    <li><strong>Toetatud</strong><span>01.04.2020</span></li>\\n                </ul>\\n            </div><!--data-->\\n\\t\\t</div><div class=\"project_white_box \">\\n        \\t<div class=\"title\"><a target=\"_top\" href=\"https://www.hooandja.ee/users/anti5\"><span>Anti Kadajane </span></a><a target=\"_top\" href=\"https://www.hooandja.ee/avasta/kategooriad/haridus\">Haridus</a></div><!--title-->\\n            <div class=\"image\">\\n            \\t<a target=\"_top\" href=\"https://www.hooandja.ee/projekt/prints-ja-kerjus\"><img width=\"200\" src=\"https://www.hooandja.ee/sites/default/files/styles/200x229/public/project_images/tamme_kooli_pilt_1.jpg?itok=iNupWgul\"></a><div class=\"desc\">\\n                    <h3>Tartu Tamme Kooli suurlavastus \"Prints ja kerjus\"</h3> \\n                </div><!--desc-->\\n            </div><!--image-->\\n            <div class=\"progress\"><div style=\"width:100%;\" class=\"progress_bar\"></div></div>\\n            <div class=\"data\">\\n           \\t  <ul>\\n                \\t<li><strong>104%</strong><span>kogutud</span></li>\\n                    <li><strong>4680\\xe2\\x82\\xac</strong><span>toetatud</span></li>\\n                    <li><strong>Toetatud</strong><span>28.03.2020</span></li>\\n                </ul>\\n            </div><!--data-->\\n\\t\\t</div><div class=\"project_white_box \">\\n        \\t<div class=\"title\"><a target=\"_top\" href=\"https://www.hooandja.ee/users/hegeleepaiste\"><span>Hege-Lee Paiste </span></a><a target=\"_top\" href=\"https://www.hooandja.ee/avasta/kategooriad/kunst\">Kunst</a></div><!--title-->\\n            <div class=\"image\">\\n            \\t<a target=\"_top\" href=\"https://www.hooandja.ee/projekt/multimeedia-naitus-kondas-120\"><img width=\"200\" src=\"https://www.hooandja.ee/sites/default/files/styles/200x229/public/project_images/kondas_fb_profile_v1.png?itok=sSVpnX-z\"></a><div class=\"desc\">\\n                    <h3>Multimeedian\\xc3\\xa4itus \"Kondas 120\"</h3> \\n                </div><!--desc-->\\n            </div><!--image-->\\n            <div class=\"progress\"><div style=\"width:100%;\" class=\"progress_bar\"></div></div>\\n            <div class=\"data\">\\n           \\t  <ul>\\n                \\t<li><strong>103%</strong><span>kogutud</span></li>\\n                    <li><strong>929\\xe2\\x82\\xac</strong><span>toetatud</span></li>\\n                    <li><strong>Toetatud</strong><span>27.03.2020</span></li>\\n                </ul>\\n            </div><!--data-->\\n\\t\\t</div><div class=\"project_white_box \">\\n        \\t<div class=\"title\"><a target=\"_top\" href=\"https://www.hooandja.ee/users/leigerracing\"><span>Leiger Racing </span></a><a target=\"_top\" href=\"https://www.hooandja.ee/avasta/kategooriad/sport\">Sport</a></div><!--title-->\\n            <div class=\"image\">\\n            \\t<a target=\"_top\" href=\"https://www.hooandja.ee/projekt/voistlustelk-pontiacile\"><img width=\"200\" src=\"https://www.hooandja.ee/sites/default/files/styles/200x229/public/project_images/projekti_iseloomustav_pilt_9.jpg?itok=sX54Oo_E\"></a><div class=\"desc\">\\n                    <h3>V\\xc3\\xb5istlustelk Pontiacile</h3> \\n                </div><!--desc-->\\n            </div><!--image-->\\n            <div class=\"progress\"><div style=\"width:100%;\" class=\"progress_bar\"></div></div>\\n            <div class=\"data\">\\n           \\t  <ul>\\n                \\t<li><strong>108%</strong><span>kogutud</span></li>\\n                    <li><strong>1121\\xe2\\x82\\xac</strong><span>toetatud</span></li>\\n                    <li><strong>Toetatud</strong><span>24.03.2020</span></li>\\n                </ul>\\n            </div><!--data-->\\n\\t\\t</div><h2 class=\"element-invisible\">Pages</h2><div class=\"item-list\"><ul class=\"pager\"><li class=\"pager-current first\">1</li>\\n<li class=\"pager-item\"><a title=\"Go to page 2\" href=\"/avasta/edukad?page=1\">2</a></li>\\n<li class=\"pager-item\"><a title=\"Go to page 3\" href=\"/avasta/edukad?page=2\">3</a></li>\\n<li class=\"pager-item\"><a title=\"Go to page 4\" href=\"/avasta/edukad?page=3\">4</a></li>\\n<li class=\"pager-item\"><a title=\"Go to page 5\" href=\"/avasta/edukad?page=4\">5</a></li>\\n<li class=\"pager-item\"><a title=\"Go to page 6\" href=\"/avasta/edukad?page=5\">6</a></li>\\n<li class=\"pager-item\"><a title=\"Go to page 7\" href=\"/avasta/edukad?page=6\">7</a></li>\\n<li class=\"pager-item\"><a title=\"Go to page 8\" href=\"/avasta/edukad?page=7\">8</a></li>\\n<li class=\"pager-item\"><a title=\"Go to page 9\" href=\"/avasta/edukad?page=8\">9</a></li>\\n<li class=\"pager-ellipsis\">\\xe2\\x80\\xa6</li>\\n<li class=\"pager-next\"><a title=\"Go to next page\" href=\"/avasta/edukad?page=1\">j\\xc3\\xa4rgmine \\xe2\\x80\\xba </a></li>\\n<li class=\"pager-last last\"><a title=\"Go to last page\" href=\"/avasta/edukad?page=39\">viimane \\xc2\\xbb </a></li>\\n</ul></div>  </div>\\n</div>\\n  </div>\\n\\t\\t</div>\\n\\t</div>\\n<div class=\"rightside w140\">\\n<div class=\"rightside_nav\">\\n\\n  <h4 class=\"dotted\" >T\\xc3\\xa4helepanu v\\xc3\\xa4\\xc3\\xa4riv</h4>\\n  <div class=\"list\">\\n    <div class=\"menu-block-wrapper menu-block-1 menu-name-menu-special-projects parent-mlid-0 menu-level-1\">\\n  <ul class=\"menu\"><li class=\"first leaf menu-mlid-503\"><a href=\"/avasta/esiletostetud\" title=\"\">Esilet\\xc3\\xb5stetud</a></li>\\n<li class=\"leaf active-trail active menu-mlid-602\"><a href=\"/avasta/edukad\" title=\"\" class=\"active-trail active\">Edukalt l\\xc3\\xb5ppenud</a></li>\\n<li class=\"leaf menu-mlid-603\"><a href=\"/avasta/viimati-lisatud\" title=\"\">Viimati lisatud</a></li>\\n<li class=\"leaf menu-mlid-604\"><a href=\"/avasta/loppevad\" title=\"\">L\\xc3\\xb5ppevad</a></li>\\n<li class=\"last leaf menu-mlid-605\"><a href=\"/avasta/enim-toetatud\" title=\"\">Enim toetatud</a></li>\\n</ul></div>\\n  </div>\\n<div id=\"block-hooandja-ngo-project-cats\" class=\"block block-hooandja-ngo\">\\n\\n  \\t\\t\\t\\t\\t  <h2>Kategooriad</h2>\\n\\t\\t\\n\\t\\t\\t  \\n  <div class=\"content\">\\n    <ul class=\"list\"><a class=\"\" href=\"/avasta/kategooriad/disain\">Disain</a><a class=\"\" href=\"/avasta/kategooriad/kodanikualgatus\">Kodanikualgatus</a><a class=\"\" href=\"/avasta/kategooriad/film-foto\">Film & Foto</a><a class=\"\" href=\"/avasta/kategooriad/ev100\">EV100</a><a class=\"\" href=\"/avasta/kategooriad/Kultuurisaadikud\">Kultuurisaadikud</a><a class=\"\" href=\"/avasta/kategooriad/kunst\">Kunst</a><a class=\"\" href=\"/avasta/kategooriad/meedia\">Meedia</a><a class=\"\" href=\"/avasta/kategooriad/muusika\">Muusika</a><a class=\"\" href=\"/avasta/kategooriad/M%C3%A4ng\">M\\xc3\\xa4ng</a><a class=\"\" href=\"/avasta/kategooriad/sundmused\">S\\xc3\\xbcndmus</a><a class=\"\" href=\"/avasta/kategooriad/teater\">Teater</a><a class=\"\" href=\"/avasta/kategooriad/tehnoloogia\">Tehnoloogia</a><a class=\"\" href=\"/avasta/kategooriad/trukis\">Tr\\xc3\\xbckis</a></ul>  </div>\\n</div>\\n</div>\\n</div>\\n     <div class=\"clear\"></div>\\n    </div><!--mainContent-->\\n</div><!--mainContentwrap-->\\n<footer>\\n\\n  <div class=\"region region-footer-menu\">\\n    <div id=\"block-hooandja-footer-menu\" class=\"block block-hooandja\">\\n\\n  \\t  \\n  <div class=\"content\">\\n    <ul><li><a href=\"#top\" class=\"top\"><img src=\"https://www.hooandja.ee/sites/all/themes/hooandjatheme/static/imgs/up.png\" alt=\"Up\" /></a></li><li><a href=\"/content/kasutustingimused\">Kasutustingimused</a><br><a href=\"/content/hooandja-teenustasud\">Teenustasud</a></li><li><a href=\"/abinurk\">Abinurk</a><br><a href=\"http://www.hooandja.ee/sites/default/files/uploads/pohikiri.pdf\">P\\xc3\\xb5hikiri</a></li><li><a href=\"http://www.hooandja.ee/sites/default/files/uploads/eetilise_tegutsemise_pohimotted.pdf\">Eetilise tegutsemise p\\xc3\\xb5him\\xc3\\xb5tted</a><br><a href=\"http://www.hooandja.ee/aruanded/\">Majandusaasta aruanded</a></li><li><a href=\"/content/projektid\">PROJEKTID</a><br><a href=\"/content/press-meist\">Press</a></li><li class=\"social_links\"><div class=\"fb-like\" style=\"width:378px;\"><div class=\"fb-like\" data-href=\"https://www.facebook.com/Hooandja\" data-send=\"true\" data-width=\"378\" data-show-faces=\"false\" data-colorscheme=\"dark\" data-font=\"lucida grande\"></div></div></li><li class=\"social_links\" style=\"margin-right:0px;\"><div class=\"twitter\" style=\"width:60px;\"><a href=\"https://twitter.com/hooandja\" class=\"twitter-follow-button\" data-show-count=\"false\" data-size=\"large\" data-show-screen-name=\"false\">Follow @hooandja</a>\\n\\t\\t\\t\\t<script>!function(d,s,id){\\n\\t\\t\\t\\t\\tvar js,fjs=d.getElementsByTagName(s)[0];if(!d.getElementById(id)){\\n\\t\\t\\t\\t\\t\\tjs=d.createElement(s);js.id=id;js.src=\"//platform.twitter.com/widgets.js\";fjs.parentNode.insertBefore(js,fjs);\\n\\t\\t\\t\\t\\t}\\n\\t\\t\\t\\t}(document,\"script\",\"twitter-wjs\");</script></div></li><li style=\"float:right\">HOOANDJA MT\\xc3\\x9c<br>\\n\\tinfo@hooandja.ee, 506 4729 <br>Telliskivi 60 <br>Tallinn, Estonia</li></ul>  </div>\\n</div>\\n  </div>\\n    <div class=\"clear\"></div>\\n</footer>\\n\\n<!--\\n\\tGoogle Analytics\\n-->\\n  <script type=\"text/javascript\">\\n<!--//--><![CDATA[//><!--\\nvar _gaq = _gaq || [];_gaq.push([\"_setAccount\", \"UA-2199821-27\"]);_gaq.push([\"_trackPageview\"]);(function() {var ga = document.createElement(\"script\");ga.type = \"text/javascript\";ga.async = true;ga.src = (\"https:\" == document.location.protocol ? \"https://ssl\" : \"http://www\") + \".google-analytics.com/ga.js\";var s = document.getElementsByTagName(\"script\")[0];s.parentNode.insertBefore(ga, s);})();\\n//--><!]]>\\n</script>\\n   </body>\\n</html>'\n"
     ]
    },
    {
     "data": {
      "text/plain": [
       "'\\n%matplotlib inline\\nimport matplotlib.pyplot as plt\\nimport requests\\nimport pandas as pd\\nfrom bs4 import BeautifulSoup\\nr = requests.get(\"https://worldtable.info/gosudarstvo/tablica-rozhdaemosti-po-godam-rossija.html\")\\nhtml = BeautifulSoup(r.content)\\ndata = []\\ntable = html.find(\"table\")\\nfor tr in table.find_all(\"tr\"):\\n    data.append([td.get_text().replace(\" \",\"\") for td in tr.find_all(\"td\")])\\ndata = pd.DataFrame(data[1:], columns=[\"Год\", \"Количество\"])\\ndata[\"Количество\"] = data[\"Количество\"].astype(\"int\")\\ndata[\"Год\"] = data[\"Год\"].str.slice(0,4)\\ndata = data.set_index(\"Год\")\\ndata.plot.line()\\nplt.show()\\n'"
      ]
     },
     "execution_count": 22,
     "metadata": {},
     "output_type": "execute_result"
    }
   ],
   "source": [
    "# Парсинг Данных # Обход Сайта по страницам # Помощник: правильное извлечение данных\n",
    "# https://www.hooandja.ee/avasta/edukad?page=1\n",
    "# Ссылки на страницы с ссылками >> Список ссылок на все страницы >> Данные со страниц\n",
    "import requests\n",
    "import pandas as pd\n",
    "from bs4 import BeautifulSoup\n",
    "#r = requests.get(\"https://www.hooandja.ee/avasta/edukad\")\n",
    "html = BeautifulSoup(r.content)\n",
    "def find_links (links, keyword):\n",
    "    links_filtered = {}\n",
    "    for link in links:\n",
    "        if link.has_attr(\"href\") and link[\"href\"].find(keyword) > -1 \n",
    "                and link[\"href\"].find(\"/avasta/edukad\") == -1:\n",
    "            links_filtered[link[\"href\"]] = 1\n",
    "    return list(links_filtered.keys())\n",
    "films = []\n",
    "films.extend(find_links(html.find_all(\"a\"), \"/film/\"))\n",
    "pages = []\n",
    "pages.extend(find_links(html.find_all(\"a\"), \"/page/\"))\n",
    "for page in pages:\n",
    "    r = requests.get(\"https://www.kinopoisk.ru\" + page)\n",
    "    html = BeautifulSoup(r.content)\n",
    "    films.extend(find_links(html.find_all(\"a\"), \"/film/\"))\n",
    "with open(\"films.txt\", \"w\") as f:\n",
    "    f.write(\"\\n\".join(films))\n",
    "\n",
    "# Получение табличных данных\n",
    "\"\"\"\n",
    "import requests\n",
    "import pandas as pd\n",
    "from bs4 import BeautifulSoup\n",
    "r = requests.get(\"https://worldtable.info/gosudarstvo/tablica-rozhdaemosti-po-godam-rossija.html\")\n",
    "html = BeautifulSoup(r.content)\n",
    "data = []\n",
    "table = html.find(\"table\")\n",
    "for tr in table.find_all(\"tr\"):\n",
    "    data.append([td.get_text() for td in tr.find_all(\"td\")])\n",
    "data = pd.DataFrame(data[1:], columns=[\"Год\", \"Количество\"])\n",
    "print (data)\n",
    "\"\"\"\n",
    "\n",
    "# Парсинг Данных\n",
    "\"\"\"\n",
    "%matplotlib inline\n",
    "import matplotlib.pyplot as plt\n",
    "import requests\n",
    "import pandas as pd\n",
    "from bs4 import BeautifulSoup\n",
    "r = requests.get(\"https://worldtable.info/gosudarstvo/tablica-rozhdaemosti-po-godam-rossija.html\")\n",
    "html = BeautifulSoup(r.content)\n",
    "data = []\n",
    "table = html.find(\"table\")\n",
    "for tr in table.find_all(\"tr\"):\n",
    "    data.append([td.get_text().replace(\" \",\"\") for td in tr.find_all(\"td\")])\n",
    "data = pd.DataFrame(data[1:], columns=[\"Год\", \"Количество\"])\n",
    "data[\"Количество\"] = data[\"Количество\"].astype(\"int\")\n",
    "data[\"Год\"] = data[\"Год\"].str.slice(0,4)\n",
    "data = data.set_index(\"Год\")\n",
    "data.plot.line()\n",
    "plt.show()\n",
    "\"\"\""
   ]
  },
  {
   "cell_type": "code",
   "execution_count": 23,
   "metadata": {},
   "outputs": [
    {
     "name": "stdout",
     "output_type": "stream",
     "text": [
      "[]\n"
     ]
    }
   ],
   "source": [
    "# Мульти процессорность - Получение всех данных сборов с подписчиков\n",
    "\n",
    "from multiprocess import Pool\n",
    "from multiprocess import cpu_count\n",
    "\n",
    "def get_film (url):\n",
    "    import requests as requests\n",
    "    from bs4 import BeautifulSoup\n",
    "    r = requests.get(\"https://www.kinopoisk.ru\" + url.strip())\n",
    "    html = BeautifulSoup(r.content)\n",
    "    title = html.find(\"span\", {\"class\":\"moviename-title-wrapper\"}).get_text()\n",
    "    tags = html.find_all(\"td\", {\"class\": \"dollar\"})\n",
    "    budget = \"\"\n",
    "    sales_www = \"\"\n",
    "    if len(tags) > 0:\n",
    "        sales_www = tags[0].get_text()\n",
    "        if len(tags) > 1:\n",
    "            budget = tags[0].get_text()\n",
    "            sales_www = tags[1].get_text()\n",
    "            if len(tags) > 2:\n",
    "                sales_www = tags[2].get_text()\n",
    "    return [url, title, budget, sales_www]\n",
    "\n",
    "pool = Pool(cpu_count() * 2)\n",
    "data = []\n",
    "with open(\"films.txt\", \"r\") as f:\n",
    "    result_iter = pool.map(get_film, f)\n",
    "    for result in result_iter:\n",
    "        data.append(result)\n",
    "print (data)"
   ]
  },
  {
   "cell_type": "code",
   "execution_count": 1,
   "metadata": {},
   "outputs": [
    {
     "name": "stdout",
     "output_type": "stream",
     "text": [
      "(12, 6)\n"
     ]
    },
    {
     "data": {
      "image/png": "[encoded data removed]",
      "text/plain": [
       "<Figure size 432x288 with 1 Axes>"
      ]
     },
     "metadata": {
      "needs_background": "light"
     },
     "output_type": "display_data"
    },
    {
     "name": "stdout",
     "output_type": "stream",
     "text": [
      "[['30.04.2020'\n",
      "  'Joel Remmel \"Live at Taff Club\" vinüülplaadi väljaandmine' 'Muusika'\n",
      "  1000 1515 57]\n",
      " ['01.05.2020' 'Tiutle 2' 'Kat 2' 222 121 232]\n",
      " ['02.05.2020' 'Tiutle 3' 'Kat 3' 1000 1515 57]\n",
      " ['03.05.2020' 'Tiutle 4' 'Kat 4' 1778 2909 57]\n",
      " ['04.05.2020' 'aaa Remmel \"Live at Taff Club\" vinüülplaadi väljaandmine'\n",
      "  'Muusika' 222 121 232]\n",
      " ['05.05.2020' 'Tiutle 5' 'Kat 5' 1000 1515 57]\n",
      " ['06.05.2020' 'Tiutle 6' 'Kat 6' 1778 2909 232]\n",
      " ['07.05.2020' 'Tiutle 7' 'Kat 7' 222 121 232]]\n",
      "144.0\n",
      "['Лист1', 'Лист2']\n",
      "    nim  toe 1  kog 1  toe 2  kog 2  toe 1.1  kog 1.1  toe 2.1  kog 2.1\n",
      "0  Dago     15    393     40    142      NaN      NaN      NaN      NaN\n",
      "1  Joel      5      4     18     36     35.0      2.0     65.0      4.0\n",
      "0    Dago\n",
      "1    Joel\n",
      "Name: nim, dtype: object\n",
      "toe 1       10.0\n",
      "kog 1      198.5\n",
      "toe 2       29.0\n",
      "kog 2       89.0\n",
      "toe 1.1     35.0\n",
      "kog 1.1      2.0\n",
      "toe 2.1     65.0\n",
      "kog 2.1      4.0\n",
      "dtype: float64\n"
     ]
    }
   ],
   "source": [
    "%matplotlib inline\n",
    "import numpy as np\n",
    "import matplotlib.pyplot as plt\n",
    "import pandas as pd\n",
    "\n",
    "#инкапсуляция цифт через библеотеку numpy\n",
    "data = np.loadtxt(\"http://digo.ee/task04.txt\", delimiter=\",\")\n",
    "#data = np.loadtxt(\"http://digo.ee/task04.txt\", delimiter=\",\", skiprows=1, max_rows=1)\n",
    "#вывод формы файла\n",
    "print (data.shape)\n",
    "#Преобразуем данные и сделаем матрицу - квадрат\n",
    "data = np.reshape(data[0], (2, 3))\n",
    "plt.imshow(data, cmap='Greys')\n",
    "plt.show()\n",
    "\n",
    "#вывод серии данных через pandas\n",
    "data = pd.read_csv(\"http://digo.ee/test.csv\", na_values=\"NA\", decimal=\",\")\n",
    "data.fillna(0, axis=1, inplace=True)\n",
    "#снятие статистики всех проектов\n",
    "#print (data.head())\n",
    "data_array = data.values\n",
    "print (data_array)\n",
    "#вывод среднего числа (пользовотелей) по первой категории\n",
    "#округление среднего числа пользователей\n",
    "print (data[\"bak\"].mean().round())\n",
    "\n",
    "#загрузка данных из excel\n",
    "#анализ подарков и преобразование данных (дата)\n",
    "data = pd.ExcelFile(\"http://digo.ee/bake.xlsx\")\n",
    "print (data.sheet_names)\n",
    "data=data.parse(sheet_name=1, converters={\"Date\": pd.to_datetime, \"DOM time\": int})\n",
    "#переименование колонолк в удобный формат #data=data.parse(sheet_name=1, names=[\"nimi\"], [\"num 1\"], [\"toe 1\"], [\"num 1\"])\n",
    "print (data.head())\n",
    "#вызов отдельной колонки\n",
    "print (data[\"nim\"])\n",
    "#вызов среднего значения\n",
    "print (data.mean())"
   ]
  },
  {
   "cell_type": "code",
   "execution_count": 81,
   "metadata": {},
   "outputs": [
    {
     "name": "stdout",
     "output_type": "stream",
     "text": [
      "индексы данных                                              Projekt   Toetus\n",
      "0                                   Lühifilm \"Ohver\"   1535.0\n",
      "1  Mari Kalkuni plaadi \"Õunaaia album\" ja video v...   7338.0\n",
      "2         Kinkeraamat #õnnelikteekond #becominghappy   2283.0\n",
      "3         Lexsoul Dancemachine \"Lexplosion II\" album   6515.0\n",
      "4  Endise spordiajakirjaniku Valeri Maksimovi elu...   2353.0\n",
      "5                            Narva Airsoft CQB areen   4185.0\n",
      "6                           VORONJA SKULPTUURIDE AED   8245.0\n",
      "7                                      Film \"Ankeet\"   3067.0\n",
      "8  Curly Strings ja sõbrad - heategevusliku album...  13389.0\n",
      "9  \"mujal nüüd – elsewhere today\" raamatu väljaan...      NaN\n"
     ]
    },
    {
     "data": {
      "image/png": "[encoded data removed]",
      "text/plain": [
       "<Figure size 432x288 with 1 Axes>"
      ]
     },
     "metadata": {
      "needs_background": "light"
     },
     "output_type": "display_data"
    },
    {
     "name": "stdout",
     "output_type": "stream",
     "text": [
      "мультииндексы                                                              Toetus\n",
      "Type    Projekt                                                    \n",
      "MUU     \"mujal nüüd – elsewhere today\" raamatu väljaand...      NaN\n",
      "        Endise spordiajakirjaniku Valeri Maksimovi elul...   2353.0\n",
      "        Film \"Ankeet\"                                        3067.0\n",
      "        Kinkeraamat #õnnelikteekond #becominghappy           2283.0\n",
      "        Lühifilm \"Ohver\"                                     1535.0\n",
      "        Narva Airsoft CQB areen                              4185.0\n",
      "        VORONJA SKULPTUURIDE AED                             8245.0\n",
      "MUUSIKA Curly Strings ja sõbrad - heategevusliku albumi...  13389.0\n",
      "        Lexsoul Dancemachine \"Lexplosion II\" album           6515.0\n",
      "        Mari Kalkuni plaadi \"Õunaaia album\" ja video vä...   7338.0\n",
      "срезы данных через индексы                                                      Toetus\n",
      "Projekt                                                    \n",
      "Curly Strings ja sõbrad - heategevusliku albumi...  13389.0\n",
      "Lexsoul Dancemachine \"Lexplosion II\" album           6515.0\n",
      "Mari Kalkuni plaadi \"Õunaaia album\" ja video vä...   7338.0\n",
      "объединение фреймов                                                     Toetus_x  Toetus_y\n",
      "Projekt                                                               \n",
      "Lühifilm \"Ohver\"                                      1535.0      2000\n",
      "Mari Kalkuni plaadi \"Õunaaia album\" ja video vä...    7338.0      3000\n",
      "Kinkeraamat #õnnelikteekond #becominghappy            2283.0      2222\n",
      "Lexsoul Dancemachine \"Lexplosion II\" album            6515.0      5000\n",
      "Endise spordiajakirjaniku Valeri Maksimovi elul...    2353.0      2200\n",
      "Narva Airsoft CQB areen                               4185.0      3500\n",
      "VORONJA SKULPTUURIDE AED                              8245.0     10500\n",
      "Film \"Ankeet\"                                         3067.0      3000\n",
      "Curly Strings ja sõbrad - heategevusliku albumi...   13389.0     13250\n",
      "\"mujal nüüd – elsewhere today\" raamatu väljaand...       NaN      1500\n",
      "График всех пожертвований\n"
     ]
    },
    {
     "data": {
      "image/png": "[encoded data removed]",
      "text/plain": [
       "<Figure size 432x288 with 1 Axes>"
      ]
     },
     "metadata": {
      "needs_background": "light"
     },
     "output_type": "display_data"
    },
    {
     "name": "stdout",
     "output_type": "stream",
     "text": [
      "соотношение двух таблиц поиск зависимости одних данных от других Calls\n",
      "220    13465\n",
      "Name: UnemployedMen, dtype: int64\n"
     ]
    }
   ],
   "source": [
    "# индексы данных\n",
    "#data = pd.read_csv(\"http://digo.ee/hooandja.csv\", na_values=\"NA\", decimal=\".\")\n",
    "#print (data)\n",
    "data = pd.read_csv(\"http://digo.ee/hooandja.csv\", na_values=\"NA\", decimal=\".\", skiprows=1, names=[\"Projekt\", \"Toetus\"])\n",
    "#data_indexed = pd.Series(data[\"Toetus\"].values, index=data[\"Projekt\"].values)\n",
    "#print (data_indexed)\n",
    "#print (data_indexed.index)\n",
    "#print (data)\n",
    "#data = data.reset_index()\n",
    "print (\"индексы данных\", data)\n",
    "data.plot.line()\n",
    "plt.show()\n",
    "\n",
    "# мультииндексы\n",
    "area_indexes = data[data[\"Projekt\"].str.contains(\"album\")].index\n",
    "#создаём генератор\n",
    "data_areas_index = [(lambda n: \"MUUSIKA\" if n in area_indexes else \"MUU\")(i) for i in range(0, len(data.index))]\n",
    "data[\"Type\"] = data_areas_index\n",
    "data = data.set_index([\"Type\", \"Projekt\"])\n",
    "data = data.sort_index()\n",
    "print (\"мультииндексы\", data)\n",
    "\n",
    "\n",
    "# срезы данных через индексы\n",
    "areas = data.loc[\"MUUSIKA\"]\n",
    "print (\"срезы данных через индексы\", areas)\n",
    "\n",
    "# объединение фреймов\n",
    "data_m = pd.read_csv(\"http://digo.ee/hooandja.csv\", na_values=\"NA\", decimal=\".\", skiprows=1, names=[\"Projekt\", \"Toetus\"], index_col=\"Projekt\")\n",
    "data_n = pd.read_csv(\"http://digo.ee/hooandja_p.csv\", na_values=\"NA\", decimal=\".\", skiprows=1, names=[\"Projekt\", \"Toetus\"], index_col=\"Projekt\")\n",
    "data_a = pd.merge(data_m, data_n, left_index=True, right_index=True)\n",
    "print (\"объединение фреймов\", data_a)\n",
    "data.fillna(0, axis=1, inplace=True)\n",
    "\n",
    "data.plot.line()\n",
    "print (\"График всех пожертвований\")\n",
    "plt.show()\n",
    "\n",
    "# объединение данных и сортировка по индексам\n",
    "# пример из урока\n",
    "\n",
    "data_1 = pd.read_csv('http://video.ittensive.com/python-advanced/data-9753-2019-07-25.utf.csv', delimiter=';')\n",
    "data_1 = data_1.set_index(['Year', 'Period'])\n",
    "\n",
    "data_2 = pd.read_csv('http://video.ittensive.com/python-advanced/data-5283-2019-10-04.utf.csv', delimiter=';')\n",
    "data_2 = data_2.set_index(['AdmArea', 'Year', 'Month'])\n",
    "data_2 = data_2.loc['Центральный административный округ']\n",
    "data_2.index.names = ['Year', 'Period']\n",
    "\n",
    "data = pd.merge(data_1, data_2, left_index=True, right_index=True)\n",
    "\n",
    "data = data.reset_index()\n",
    "data = data.set_index('Calls')\n",
    "# print(data_1.head())\n",
    "# print(data_2.head())\n",
    "data = data.sort_index()\n",
    "print(\"соотношение двух таблиц поиск зависимости одних данных от других\", data['UnemployedMen'][0:1])"
   ]
  },
  {
   "cell_type": "code",
   "execution_count": 150,
   "metadata": {},
   "outputs": [
    {
     "name": "stdout",
     "output_type": "stream",
     "text": [
      "                                                     Toetus\n",
      "Projekt                                                    \n",
      "Lühifilm \"Ohver\"                                     1535.0\n",
      "Mari Kalkuni plaadi \"Õunaaia album\" ja video vä...   7338.0\n",
      "Kinkeraamat #õnnelikteekond #becominghappy           2283.0\n",
      "Lexsoul Dancemachine \"Lexplosion II\" album           6515.0\n",
      "Endise spordiajakirjaniku Valeri Maksimovi elul...   2353.0\n",
      "Narva Airsoft CQB areen                              4185.0\n",
      "VORONJA SKULPTUURIDE AED                             8245.0\n",
      "Film \"Ankeet\"                                        3067.0\n",
      "Curly Strings ja sõbrad - heategevusliku albumi...  13389.0\n",
      "\"mujal nüüd – elsewhere today\" raamatu väljaand...      0.0\n",
      "                       2018\n",
      "Projekt                    \n",
      "Российская Федерация  16.53\n",
      "БЕЛГОРОДСКАЯ ОБЛ.     11.35\n",
      "БРЯНСКАЯ ОБЛ.         12.72\n",
      "ВЛАДИМИРСКАЯ ОБЛ.     15.24\n",
      "ВОРОНЕЖСКАЯ  ОБЛ.     17.45\n",
      "                 2018\n",
      "Projekt              \n",
      "РЕСПУБЛИКА КРЫМ   0.0\n",
      "                 2018\n",
      "Projekt              \n",
      "РЕСП. ДАГЕСТАН   1.61\n",
      "РЕСП.ИНГУШСКАЯ   0.61\n",
      "ЧЕЧЕНСКАЯ РЕСП.  0.11\n",
      "РЕСП. АЛТАЙ      4.92\n",
      "РЕСП. ТЫВА       1.78\n",
      "                 2018\n",
      "Projekt              \n",
      "РЕСПУБЛИКА КРЫМ  0.00\n",
      "РЕСП. ДАГЕСТАН   1.61\n",
      "РЕСП.ИНГУШСКАЯ   0.61\n",
      "ЧЕЧЕНСКАЯ РЕСП.  0.11\n",
      "РЕСП. АЛТАЙ      4.92\n",
      "РЕСП. ТЫВА       1.78\n",
      "8\n",
      "3\n",
      "                                              Регион     2017\n",
      "0                                   Lühifilm \"Ohver\"   1535.0\n",
      "1  Mari Kalkuni plaadi \"Õunaaia album\" ja video v...   7338.0\n",
      "2         Kinkeraamat #õnnelikteekond #becominghappy   2283.0\n",
      "3         Lexsoul Dancemachine \"Lexplosion II\" album   6515.0\n",
      "4  Endise spordiajakirjaniku Valeri Maksimovi elu...   2353.0\n",
      "5                            Narva Airsoft CQB areen  20925.0\n",
      "6                           VORONJA SKULPTUURIDE AED   8245.0\n",
      "7                                      Film \"Ankeet\"   3067.0\n",
      "8  Curly Strings ja sõbrad - heategevusliku album...  13389.0\n",
      "9  \"mujal nüüd – elsewhere today\" raamatu väljaan...      0.0\n",
      "                                              Регион     2017\n",
      "0                                   Lühifilm \"Ohver\"   1535.0\n",
      "1  Mari Kalkuni plaadi \"Õunaaia album\" ja video v...   7338.0\n",
      "2         Kinkeraamat #õnnelikteekond #becominghappy   2283.0\n",
      "3         Lexsoul Dancemachine \"Lexplosion II\" album   6515.0\n",
      "4  Endise spordiajakirjaniku Valeri Maksimovi elu...   2353.0\n",
      "5                            Narva Airsoft CQB areen  20925.0\n",
      "6                           VORONJA SKULPTUURIDE AED   8245.0\n",
      "7                                      Film \"Ankeet\"   3067.0\n",
      "8  Curly Strings ja sõbrad - heategevusliku album...  13389.0\n",
      "9  \"mujal nüüd – elsewhere today\" raamatu väljaan...      0.0\n",
      "Int64Index([2018], dtype='int64', name='Year')\n",
      "91    2018\n",
      "Name: Year, dtype: int64\n"
     ]
    }
   ],
   "source": [
    "# Фильтрация данных\n",
    "\n",
    "data = pd.read_csv(\"http://digo.ee/hooandja.csv\", na_values=\"NA\", decimal=\".\", skiprows=1, names=[\"Projekt\", \"Toetus\"], index_col=\"Projekt\")\n",
    "#print (data > 3000)\n",
    "\n",
    "data_more3k =  data[data[\"Toetus\"] > 3000]\n",
    "data_more3k_less12k = data[(data[\"Toetus\"] > 3000) & (data[\"Toetus\"] < 12000)]\n",
    "#print (data_more3k_less12k)\n",
    "\n",
    "# поиск значений с отсутствующими данными\n",
    "data_null = data[data[\"Toetus\"].isnull()]\n",
    "#print (data_null)\n",
    "data.fillna(0, axis=1, inplace=True)\n",
    "data_notnull = data.loc[data.any(axis=1)]\n",
    "#print (data_notnull)\n",
    "\n",
    "# строки где отсутствуют нулевые значения\n",
    "data_filled = data.loc[:, data.all()]\n",
    "#print (data_filled)\n",
    "data_notnull = data.dropna()\n",
    "print (data)\n",
    "\n",
    "# Изменение фреймов\n",
    "# Операция по отчистке данных\n",
    "data = pd.read_csv(\"http://digo.ee/internet-2018.raw.csv\", na_values=\"NA\", names=[\"Projekt\", \"Toetus\", \"Lisa\"], skiprows=1, index_col=\"Projekt\")\n",
    "data[\"Lisa\"] = data[\"Lisa\"].apply(lambda n: n/100)\n",
    "\n",
    "# Создание нового столбца из объединения двух первых\n",
    "data[\"2018\"] = data[\"Toetus\"] + data[\"Lisa\"]\n",
    "# избавленуе от промежуточных столбцов\n",
    "data = data.reset_index() \n",
    "data = pd.DataFrame({\"Projekt\": data[\"Projekt\"], \"2018\": data[\"2018\"]})\n",
    "data = data.set_index(\"Projekt\")\n",
    "#data = data.drop(labels=[\"Toetus\", \"Lisa\"], axis=1)\n",
    "\n",
    "data_null = data[data[\"2018\"].isnull()].fillna(0, axis=1)\n",
    "data_less5 = data[data[\"2018\"] < 5]\n",
    "print (data.head())\n",
    "print (data_null)\n",
    "print (data_less5)\n",
    "data_null_less5 = data_null.append(data_less5)\n",
    "print (data_null_less5)\n",
    "\n",
    "# Лямбда Функции\n",
    "sum_2 = lambda x = 3, y = 5: x + y\n",
    "print (sum_2 ())\n",
    "print (sum_2 (1, 2))\n",
    "\n",
    "# Чтобы работать со всей строкой данных\n",
    "def findMoscow (x):\n",
    "    if x[0].find(\"Narva\") > -1:\n",
    "        return x[1]*5\n",
    "    else:\n",
    "        return x[1]\n",
    "data_M = pd.read_csv(\"http://digo.ee/hooandja.csv\", na_values = \"NA\", names=[\"Регион\", \"2017\"], decimal=\",\", skiprows=1)\n",
    "data_M.fillna(0, axis=1, inplace=True)\n",
    "data_M[\"2017\"] = data_M.apply(findMoscow, axis=1)\n",
    "print (data_M)\n",
    "\n",
    "def findMoscow1 (x):\n",
    "    if x[0].find(\"Narva\") > -1:\n",
    "        return [x[0], x[1]*5]\n",
    "    else:\n",
    "        return x\n",
    "\n",
    "data = pd.read_csv(\"http://digo.ee/hooandja.csv\", na_values = \"NA\", names=[\"Регион\", \"2017\"], decimal=\",\", skiprows=1)\n",
    "data.fillna(0, axis=1, inplace=True)\n",
    "data = data.apply(findMoscow1, axis=1, result_type=\"expand\")\n",
    "print (data)\n",
    "\n",
    "#С какого года число удачных проектов меньше 2%\n",
    "\n",
    "data = pd.read_csv(\"http://digo.ee/data-9753.utf.csv\", delimiter=\";\")\n",
    "data[\"Sum\"] = data.apply(lambda x: 100*x[6]/x[7], axis=1)\n",
    "#print (data)\n",
    "data = data[data[\"Sum\"] < 2]\n",
    "data = data.set_index(\"Year\")\n",
    "data = data.sort_index()\n",
    "print (data.index[0:1])\n",
    "\n",
    "data = pd.read_csv('http://digo.ee/data-9753.utf.csv', delimiter=';', na_values='NA', decimal=',') \n",
    "data['Percent'] = (data['UnemployedDisabled'] *100) / data['UnemployedTotal'] \n",
    "print(data[data['Percent'] <= 2].sort_values('Year').loc[:,'Year'][0:1])"
   ]
  },
  {
   "cell_type": "code",
   "execution_count": 12,
   "metadata": {},
   "outputs": [
    {
     "name": "stdout",
     "output_type": "stream",
     "text": [
      "Area\n",
      "Narva      1202.0\n",
      "Tallinn    2122.0\n",
      "Tartu      3122.0\n",
      "Name: Num2, dtype: float64\n"
     ]
    }
   ],
   "source": [
    "#Группировка данных\n",
    "#Проекты по Геопозиции. Какие города больше всего заработали\n",
    "%matplotlib inline\n",
    "import pandas as pd\n",
    "import matplotlib.pyplot as plt\n",
    "data = pd.read_csv(\"http://digo.ee/hooandja-data.utf.csv\")\n",
    "data_group = data.groupby(\"Area\")\n",
    "data_avg = data_group.mean()[\"Num2\"]\n",
    "print (data_group.first()[\"Num2\"])\n",
    "data[\"Area\"] = data[\"Area\"].astype(\"category\")\n",
    "plt.show()"
   ]
  },
  {
   "cell_type": "code",
   "execution_count": 10,
   "metadata": {},
   "outputs": [
    {
     "ename": "KeyError",
     "evalue": "'Month'",
     "output_type": "error",
     "traceback": [
      "\u001b[0;31m------------------------------------------------------------------------\u001b[0m",
      "\u001b[0;31mKeyError\u001b[0m                               Traceback (most recent call last)",
      "\u001b[0;32m~/Documents/jupyter/venv/lib/python3.8/site-packages/pandas/core/indexes/base.py\u001b[0m in \u001b[0;36mget_loc\u001b[0;34m(self, key, method, tolerance)\u001b[0m\n\u001b[1;32m   2645\u001b[0m             \u001b[0;32mtry\u001b[0m\u001b[0;34m:\u001b[0m\u001b[0;34m\u001b[0m\u001b[0;34m\u001b[0m\u001b[0m\n\u001b[0;32m-> 2646\u001b[0;31m                 \u001b[0;32mreturn\u001b[0m \u001b[0mself\u001b[0m\u001b[0;34m.\u001b[0m\u001b[0m_engine\u001b[0m\u001b[0;34m.\u001b[0m\u001b[0mget_loc\u001b[0m\u001b[0;34m(\u001b[0m\u001b[0mkey\u001b[0m\u001b[0;34m)\u001b[0m\u001b[0;34m\u001b[0m\u001b[0;34m\u001b[0m\u001b[0m\n\u001b[0m\u001b[1;32m   2647\u001b[0m             \u001b[0;32mexcept\u001b[0m \u001b[0mKeyError\u001b[0m\u001b[0;34m:\u001b[0m\u001b[0;34m\u001b[0m\u001b[0;34m\u001b[0m\u001b[0m\n",
      "\u001b[0;32mpandas/_libs/index.pyx\u001b[0m in \u001b[0;36mpandas._libs.index.IndexEngine.get_loc\u001b[0;34m()\u001b[0m\n",
      "\u001b[0;32mpandas/_libs/index.pyx\u001b[0m in \u001b[0;36mpandas._libs.index.IndexEngine.get_loc\u001b[0;34m()\u001b[0m\n",
      "\u001b[0;32mpandas/_libs/hashtable_class_helper.pxi\u001b[0m in \u001b[0;36mpandas._libs.hashtable.PyObjectHashTable.get_item\u001b[0;34m()\u001b[0m\n",
      "\u001b[0;32mpandas/_libs/hashtable_class_helper.pxi\u001b[0m in \u001b[0;36mpandas._libs.hashtable.PyObjectHashTable.get_item\u001b[0;34m()\u001b[0m\n",
      "\u001b[0;31mKeyError\u001b[0m: 'Month'",
      "\nDuring handling of the above exception, another exception occurred:\n",
      "\u001b[0;31mKeyError\u001b[0m                               Traceback (most recent call last)",
      "\u001b[0;32m<ipython-input-10-516951fd97c3>\u001b[0m in \u001b[0;36m<module>\u001b[0;34m\u001b[0m\n\u001b[1;32m      1\u001b[0m \u001b[0;32mimport\u001b[0m \u001b[0mmatplotlib\u001b[0m\u001b[0;34m.\u001b[0m\u001b[0mpyplot\u001b[0m \u001b[0;32mas\u001b[0m \u001b[0mplt\u001b[0m\u001b[0;34m\u001b[0m\u001b[0;34m\u001b[0m\u001b[0m\n\u001b[1;32m      2\u001b[0m \u001b[0mdata\u001b[0m \u001b[0;34m=\u001b[0m \u001b[0mpd\u001b[0m\u001b[0;34m.\u001b[0m\u001b[0mread_csv\u001b[0m\u001b[0;34m(\u001b[0m\u001b[0;34m\"http://digo.ee/hooandja-data.utf.csv\"\u001b[0m\u001b[0;34m)\u001b[0m\u001b[0;34m\u001b[0m\u001b[0;34m\u001b[0m\u001b[0m\n\u001b[0;32m----> 3\u001b[0;31m \u001b[0mdata\u001b[0m\u001b[0;34m[\u001b[0m\u001b[0;34m\"Month\"\u001b[0m\u001b[0;34m]\u001b[0m \u001b[0;34m=\u001b[0m \u001b[0mdata\u001b[0m\u001b[0;34m[\u001b[0m\u001b[0;34m\"Month\"\u001b[0m\u001b[0;34m]\u001b[0m\u001b[0;34m.\u001b[0m\u001b[0mstr\u001b[0m\u001b[0;34m.\u001b[0m\u001b[0mupper\u001b[0m\u001b[0;34m(\u001b[0m\u001b[0;34m)\u001b[0m\u001b[0;34m.\u001b[0m\u001b[0mstr\u001b[0m\u001b[0;34m.\u001b[0m\u001b[0mslice\u001b[0m\u001b[0;34m(\u001b[0m\u001b[0;36m0\u001b[0m\u001b[0;34m,\u001b[0m\u001b[0;36m3\u001b[0m\u001b[0;34m)\u001b[0m\u001b[0;34m.\u001b[0m\u001b[0mstr\u001b[0m\u001b[0;34m.\u001b[0m\u001b[0masstypedata\u001b[0m\u001b[0;34m.\u001b[0m\u001b[0mgroupby\u001b[0m\u001b[0;34m(\u001b[0m\u001b[0;34m\"Area\"\u001b[0m\u001b[0;34m)\u001b[0m\u001b[0;34m\u001b[0m\u001b[0;34m\u001b[0m\u001b[0m\n\u001b[0m\u001b[1;32m      4\u001b[0m \u001b[0mdata_avg\u001b[0m \u001b[0;34m=\u001b[0m \u001b[0mdata_group\u001b[0m\u001b[0;34m.\u001b[0m\u001b[0mmean\u001b[0m\u001b[0;34m(\u001b[0m\u001b[0;34m)\u001b[0m\u001b[0;34m[\u001b[0m\u001b[0;34m\"Num2\"\u001b[0m\u001b[0;34m]\u001b[0m\u001b[0;34m\u001b[0m\u001b[0;34m\u001b[0m\u001b[0m\n\u001b[1;32m      5\u001b[0m \u001b[0mprint\u001b[0m \u001b[0;34m(\u001b[0m\u001b[0mdata_group\u001b[0m\u001b[0;34m.\u001b[0m\u001b[0mfirst\u001b[0m\u001b[0;34m(\u001b[0m\u001b[0;34m)\u001b[0m\u001b[0;34m[\u001b[0m\u001b[0;34m\"Num2\"\u001b[0m\u001b[0;34m]\u001b[0m\u001b[0;34m)\u001b[0m\u001b[0;34m\u001b[0m\u001b[0;34m\u001b[0m\u001b[0m\n",
      "\u001b[0;32m~/Documents/jupyter/venv/lib/python3.8/site-packages/pandas/core/frame.py\u001b[0m in \u001b[0;36m__getitem__\u001b[0;34m(self, key)\u001b[0m\n\u001b[1;32m   2798\u001b[0m             \u001b[0;32mif\u001b[0m \u001b[0mself\u001b[0m\u001b[0;34m.\u001b[0m\u001b[0mcolumns\u001b[0m\u001b[0;34m.\u001b[0m\u001b[0mnlevels\u001b[0m \u001b[0;34m>\u001b[0m \u001b[0;36m1\u001b[0m\u001b[0;34m:\u001b[0m\u001b[0;34m\u001b[0m\u001b[0;34m\u001b[0m\u001b[0m\n\u001b[1;32m   2799\u001b[0m                 \u001b[0;32mreturn\u001b[0m \u001b[0mself\u001b[0m\u001b[0;34m.\u001b[0m\u001b[0m_getitem_multilevel\u001b[0m\u001b[0;34m(\u001b[0m\u001b[0mkey\u001b[0m\u001b[0;34m)\u001b[0m\u001b[0;34m\u001b[0m\u001b[0;34m\u001b[0m\u001b[0m\n\u001b[0;32m-> 2800\u001b[0;31m             \u001b[0mindexer\u001b[0m \u001b[0;34m=\u001b[0m \u001b[0mself\u001b[0m\u001b[0;34m.\u001b[0m\u001b[0mcolumns\u001b[0m\u001b[0;34m.\u001b[0m\u001b[0mget_loc\u001b[0m\u001b[0;34m(\u001b[0m\u001b[0mkey\u001b[0m\u001b[0;34m)\u001b[0m\u001b[0;34m\u001b[0m\u001b[0;34m\u001b[0m\u001b[0m\n\u001b[0m\u001b[1;32m   2801\u001b[0m             \u001b[0;32mif\u001b[0m \u001b[0mis_integer\u001b[0m\u001b[0;34m(\u001b[0m\u001b[0mindexer\u001b[0m\u001b[0;34m)\u001b[0m\u001b[0;34m:\u001b[0m\u001b[0;34m\u001b[0m\u001b[0;34m\u001b[0m\u001b[0m\n\u001b[1;32m   2802\u001b[0m                 \u001b[0mindexer\u001b[0m \u001b[0;34m=\u001b[0m \u001b[0;34m[\u001b[0m\u001b[0mindexer\u001b[0m\u001b[0;34m]\u001b[0m\u001b[0;34m\u001b[0m\u001b[0;34m\u001b[0m\u001b[0m\n",
      "\u001b[0;32m~/Documents/jupyter/venv/lib/python3.8/site-packages/pandas/core/indexes/base.py\u001b[0m in \u001b[0;36mget_loc\u001b[0;34m(self, key, method, tolerance)\u001b[0m\n\u001b[1;32m   2646\u001b[0m                 \u001b[0;32mreturn\u001b[0m \u001b[0mself\u001b[0m\u001b[0;34m.\u001b[0m\u001b[0m_engine\u001b[0m\u001b[0;34m.\u001b[0m\u001b[0mget_loc\u001b[0m\u001b[0;34m(\u001b[0m\u001b[0mkey\u001b[0m\u001b[0;34m)\u001b[0m\u001b[0;34m\u001b[0m\u001b[0;34m\u001b[0m\u001b[0m\n\u001b[1;32m   2647\u001b[0m             \u001b[0;32mexcept\u001b[0m \u001b[0mKeyError\u001b[0m\u001b[0;34m:\u001b[0m\u001b[0;34m\u001b[0m\u001b[0;34m\u001b[0m\u001b[0m\n\u001b[0;32m-> 2648\u001b[0;31m                 \u001b[0;32mreturn\u001b[0m \u001b[0mself\u001b[0m\u001b[0;34m.\u001b[0m\u001b[0m_engine\u001b[0m\u001b[0;34m.\u001b[0m\u001b[0mget_loc\u001b[0m\u001b[0;34m(\u001b[0m\u001b[0mself\u001b[0m\u001b[0;34m.\u001b[0m\u001b[0m_maybe_cast_indexer\u001b[0m\u001b[0;34m(\u001b[0m\u001b[0mkey\u001b[0m\u001b[0;34m)\u001b[0m\u001b[0;34m)\u001b[0m\u001b[0;34m\u001b[0m\u001b[0;34m\u001b[0m\u001b[0m\n\u001b[0m\u001b[1;32m   2649\u001b[0m         \u001b[0mindexer\u001b[0m \u001b[0;34m=\u001b[0m \u001b[0mself\u001b[0m\u001b[0;34m.\u001b[0m\u001b[0mget_indexer\u001b[0m\u001b[0;34m(\u001b[0m\u001b[0;34m[\u001b[0m\u001b[0mkey\u001b[0m\u001b[0;34m]\u001b[0m\u001b[0;34m,\u001b[0m \u001b[0mmethod\u001b[0m\u001b[0;34m=\u001b[0m\u001b[0mmethod\u001b[0m\u001b[0;34m,\u001b[0m \u001b[0mtolerance\u001b[0m\u001b[0;34m=\u001b[0m\u001b[0mtolerance\u001b[0m\u001b[0;34m)\u001b[0m\u001b[0;34m\u001b[0m\u001b[0;34m\u001b[0m\u001b[0m\n\u001b[1;32m   2650\u001b[0m         \u001b[0;32mif\u001b[0m \u001b[0mindexer\u001b[0m\u001b[0;34m.\u001b[0m\u001b[0mndim\u001b[0m \u001b[0;34m>\u001b[0m \u001b[0;36m1\u001b[0m \u001b[0;32mor\u001b[0m \u001b[0mindexer\u001b[0m\u001b[0;34m.\u001b[0m\u001b[0msize\u001b[0m \u001b[0;34m>\u001b[0m \u001b[0;36m1\u001b[0m\u001b[0;34m:\u001b[0m\u001b[0;34m\u001b[0m\u001b[0;34m\u001b[0m\u001b[0m\n",
      "\u001b[0;32mpandas/_libs/index.pyx\u001b[0m in \u001b[0;36mpandas._libs.index.IndexEngine.get_loc\u001b[0;34m()\u001b[0m\n",
      "\u001b[0;32mpandas/_libs/index.pyx\u001b[0m in \u001b[0;36mpandas._libs.index.IndexEngine.get_loc\u001b[0;34m()\u001b[0m\n",
      "\u001b[0;32mpandas/_libs/hashtable_class_helper.pxi\u001b[0m in \u001b[0;36mpandas._libs.hashtable.PyObjectHashTable.get_item\u001b[0;34m()\u001b[0m\n",
      "\u001b[0;32mpandas/_libs/hashtable_class_helper.pxi\u001b[0m in \u001b[0;36mpandas._libs.hashtable.PyObjectHashTable.get_item\u001b[0;34m()\u001b[0m\n",
      "\u001b[0;31mKeyError\u001b[0m: 'Month'"
     ]
    }
   ],
   "source": [
    "import matplotlib.pyplot as plt\n",
    "data = pd.read_csv(\"http://digo.ee/hooandja-data.utf.csv\")\n",
    "data[\"Month\"] = data[\"Month\"].str.upper().str.slice(0,3).str.asstypedata.groupby(\"Area\")\n",
    "data_avg = data_group.mean()[\"Num2\"]\n",
    "print (data_group.first()[\"Num2\"])\n",
    "data[\"Area\"] = data[\"Area\"].astype(\"category\")"
   ]
  },
  {
   "cell_type": "code",
   "execution_count": 13,
   "metadata": {},
   "outputs": [
    {
     "name": "stdout",
     "output_type": "stream",
     "text": [
      "68.6183\n"
     ]
    }
   ],
   "source": [
    "# HTTP запросы к API / SOAP API\n",
    "\n",
    "import requests\n",
    "request = requests.get(\"https://www.cbr-xml-daily.ru/daily_json.js\")\n",
    "import pandas as pd\n",
    "import json\n",
    "data = pd.DataFrame(json.loads(request.text)[\"Valute\"])\n",
    "print (json.loads(request.text)[\"Valute\"][\"USD\"][\"Value\"]/json.loads(request.text)[\"Valute\"][\"USD\"][\"Nominal\"])"
   ]
  },
  {
   "cell_type": "code",
   "execution_count": 14,
   "metadata": {},
   "outputs": [
    {
     "name": "stdout",
     "output_type": "stream",
     "text": [
      "Код ответа: 200\n"
     ]
    },
    {
     "ename": "KeyError",
     "evalue": "'simple_letter'",
     "output_type": "error",
     "traceback": [
      "\u001b[0;31m------------------------------------------------------------------------\u001b[0m",
      "\u001b[0;31mKeyError\u001b[0m                               Traceback (most recent call last)",
      "\u001b[0;32m<ipython-input-14-24ebf53c37b5>\u001b[0m in \u001b[0;36m<module>\u001b[0;34m\u001b[0m\n\u001b[1;32m      9\u001b[0m \u001b[0mprint\u001b[0m \u001b[0;34m(\u001b[0m\u001b[0;34m\"Код ответа:\"\u001b[0m\u001b[0;34m,\u001b[0m \u001b[0mresponse\u001b[0m\u001b[0;34m.\u001b[0m\u001b[0mstatus_code\u001b[0m\u001b[0;34m)\u001b[0m\u001b[0;34m\u001b[0m\u001b[0;34m\u001b[0m\u001b[0m\n\u001b[1;32m     10\u001b[0m \u001b[0mresponse\u001b[0m \u001b[0;34m=\u001b[0m \u001b[0mjson\u001b[0m\u001b[0;34m.\u001b[0m\u001b[0mloads\u001b[0m\u001b[0;34m(\u001b[0m\u001b[0mresponse\u001b[0m\u001b[0;34m.\u001b[0m\u001b[0mtext\u001b[0m\u001b[0;34m)\u001b[0m\u001b[0;34m\u001b[0m\u001b[0;34m\u001b[0m\u001b[0m\n\u001b[0;32m---> 11\u001b[0;31m \u001b[0mprint\u001b[0m \u001b[0;34m(\u001b[0m\u001b[0;34m\"Стоимость отправки:\"\u001b[0m\u001b[0;34m,\u001b[0m \u001b[0mresponse\u001b[0m\u001b[0;34m[\u001b[0m\u001b[0;34m\"simple_letter\"\u001b[0m\u001b[0;34m]\u001b[0m\u001b[0;34m,\u001b[0m \u001b[0;34m\"руб\"\u001b[0m\u001b[0;34m)\u001b[0m\u001b[0;34m\u001b[0m\u001b[0;34m\u001b[0m\u001b[0m\n\u001b[0m",
      "\u001b[0;31mKeyError\u001b[0m: 'simple_letter'"
     ]
    }
   ],
   "source": [
    "import requests\n",
    "import json\n",
    "request_headers = {\n",
    "    \"Content-Type\": \"application/json\",\n",
    "    \"Accept\": \"application/json;charset=UTF-8\"\n",
    "}\n",
    "url = \"https://postprice.ru/engine/russia/api.php\"\n",
    "response = requests.post(url, headers=request_headers, data=json.dumps({\"param1\": \"value1\", \"param2\": \"value2\"}))\n",
    "print (\"Код ответа:\", response.status_code)\n",
    "response = json.loads(response.text)\n",
    "print (\"Стоимость отправки:\", response[\"simple_letter\"], \"руб\")"
   ]
  },
  {
   "cell_type": "code",
   "execution_count": 16,
   "metadata": {},
   "outputs": [
    {
     "name": "stdout",
     "output_type": "stream",
     "text": [
      "5\n"
     ]
    }
   ],
   "source": [
    "Работа с SOAP - работает с XML данными\n",
    "from zeep import Client\n",
    "client = Client('http://www.dneonline.com/calculator.asmx?WSDL')\n",
    "result = client.service.Add(2, 3)\n",
    "print (result)"
   ]
  },
  {
   "cell_type": "code",
   "execution_count": null,
   "metadata": {},
   "outputs": [],
   "source": []
  },
  {
   "cell_type": "code",
   "execution_count": null,
   "metadata": {},
   "outputs": [],
   "source": []
  },
  {
   "cell_type": "code",
   "execution_count": null,
   "metadata": {},
   "outputs": [],
   "source": []
  },
  {
   "cell_type": "code",
   "execution_count": null,
   "metadata": {},
   "outputs": [],
   "source": []
  },
  {
   "cell_type": "code",
   "execution_count": null,
   "metadata": {},
   "outputs": [],
   "source": []
  },
  {
   "cell_type": "code",
   "execution_count": null,
   "metadata": {},
   "outputs": [],
   "source": []
  },
  {
   "cell_type": "code",
   "execution_count": null,
   "metadata": {},
   "outputs": [],
   "source": []
  },
  {
   "cell_type": "code",
   "execution_count": null,
   "metadata": {},
   "outputs": [],
   "source": []
  },
  {
   "cell_type": "code",
   "execution_count": null,
   "metadata": {},
   "outputs": [],
   "source": []
  },
  {
   "cell_type": "code",
   "execution_count": null,
   "metadata": {},
   "outputs": [],
   "source": []
  },
  {
   "cell_type": "code",
   "execution_count": null,
   "metadata": {},
   "outputs": [],
   "source": []
  },
  {
   "cell_type": "code",
   "execution_count": null,
   "metadata": {},
   "outputs": [],
   "source": []
  },
  {
   "cell_type": "code",
   "execution_count": null,
   "metadata": {},
   "outputs": [],
   "source": []
  },
  {
   "cell_type": "code",
   "execution_count": null,
   "metadata": {},
   "outputs": [],
   "source": []
  },
  {
   "cell_type": "code",
   "execution_count": null,
   "metadata": {},
   "outputs": [],
   "source": []
  },
  {
   "cell_type": "code",
   "execution_count": null,
   "metadata": {},
   "outputs": [],
   "source": []
  },
  {
   "cell_type": "code",
   "execution_count": null,
   "metadata": {},
   "outputs": [],
   "source": []
  }
 ],
 "metadata": {
  "kernelspec": {
   "display_name": "Python 3",
   "language": "python",
   "name": "python3"
  },
  "language_info": {
   "codemirror_mode": {
    "name": "ipython",
    "version": 3
   },
   "file_extension": ".py",
   "mimetype": "text/x-python",
   "name": "python",
   "nbconvert_exporter": "python",
   "pygments_lexer": "ipython3",
   "version": "3.8.2"
  }
 },
 "nbformat": 4,
 "nbformat_minor": 4
}
