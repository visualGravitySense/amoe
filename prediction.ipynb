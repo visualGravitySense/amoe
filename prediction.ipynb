{
 "cells": [
  {
   "cell_type": "markdown",
   "metadata": {},
   "source": [
    "Specific: Конкретный.\n",
    "\n",
    "Цель по SMART должна быть конкретной, что увеличивает вероятность ее достижения. Понятие «Конкретный» означает, что при постановке цели точно определен результат, который Вы хотите достичь. Сформулировать конкретную цель поможет ответ на следующие вопросы:\n",
    "Какого результата я хочу достичь за счет выполнения цели и почему?\n",
    "Кто вовлечен в выполнение цели?\n",
    "Существуют ли ограничения или дополнительные условия, которые необходимы для достижения цели?\n",
    "Всегда действует правило: одна цель — один результат. Если при постановке цели выяснилось, что в результате требуется достичь нескольких результатов, то цель должна быть разделена на несколько целей.\n",
    "Measurable: Измеримый\n",
    "\n",
    "Цель по SMART должна быть измеримой. На этапе постановки цели необходимо установить конкретные критерии для измерения процесса выполнения цели. В постановке измеримой цели помогут ответы на вопросы:\n",
    "Когда будет считаться, что цель достигнута?\n",
    "Какой показатель будет говорить о том, что цель достигнута?\n",
    "Какое значение у данного показателя должно быть для того, чтобы цель считалась достигнутой?\n",
    "Achievable or Attainable: Достижимый\n",
    "\n",
    "Цели по SMART должны быть достижимы, так как реалистичность выполнения задачи влияет на мотивацию исполнителя. Если цель не является достижимой — вероятность ее выполнения будет стремиться к 0. Достижимость цели определяется на основе собственного опыта с учетом всех имеющихся ресурсов и ограничений.\n",
    "Ограничениями могут быть: временные ресурсы, инвестиции, трудовые ресурсы, знания и опыт исполнителя, доступ к информации и ресурсам, возможность принимать решения и наличие управленческих рычагов у исполнителя цели.\n",
    "Relevant: Значимый\n",
    "\n",
    "Для определения значимости цели важно понимать, какой вклад решение конкретной задачи внесет в достижение глобальных стратегических задач компании. В постановке значимой цели поможет следующий вопрос: Какие выгоды принесет компании решение поставленной задачи? Если при выполнении цели в целом компания не получит выгоды — такая цель считается бесполезной и означает пустую трату ресурсов компании.\n",
    "Иногда Relevant заменяют на Realictic (реалистичный).\n",
    "Time bound: Ограниченный во времени\n",
    "\n",
    "Цель по SMART должна быть ограничена по выполнению во времени, а значит должен быть определен финальный срок, превышение которого говорит о невыполнении цели. Установление временных рамок и границ для выполнения цели позволяет сделать процесс управления контролируемым. При этом временные рамки должны быть определены с учетом возможности достижения цели в установленные сроки.\n",
    "Примеры SMART целей\n",
    "\n",
    "Приведем несколько примеров постановки SMART целей в компании:\n",
    "Направление задачи\tПример цели по SMART\tКомментарии автора\n",
    "Увеличение продаж\tУвеличить продажи бренда А на территории России к концу года на 25%\tКонкретность цели определяется указанием % роста, региона продаж и названия бренда. Цель ограничена по времени годовым периодом, может быть измерена с помощью статистики продаж компании. Достижимость цели может быть определена только специалистами компании. Но предположим, что бренд получит необходимый уровень инвестиций для роста продаж. Цель значима, так напрямую связана с эффективностью бизнеса.\n",
    "Продвижение товара\tДостичь уровня знания товара А среди молодой аудитории на уровне 51% через 3 года, после запуска товара на рынок.\tЦель конкретна, так как указана целевая аудитория и название бренда. Цель ограничена во времени и может быть измерена с помощью опроса. Достижимость может быть определена только специалистами компании, но предположим, что компания выделит необходимый уровень инвестиций для достижения планового показателя. Цель значима, так как знание товара имеет прямую корреляцию с продажами продукта.\n",
    "Увеличение дистрибуции\tЗавести бренд компании в количестве 3 SKU в ТОП-10 ключевых торговых сетей до июля 2014 года.\tКонкретность цели подтверждается указанием количества позиций и списка сетей. Цель имеет четкий срок выполнения и может быть явно измерена с помощью проверки отгрузок компании в данные сети. Достижимость цели может оценить только специалист по продажам, но предположим, что компания обеспечит отдел продаж необходимым бюджетом и рекламными материалами для листинга. Цель значима, так как дистрибуция в ключевые сети имеет прямое влияние на рост продаж."
   ]
  },
  {
   "cell_type": "markdown",
   "metadata": {},
   "source": [
    "Цели и метрики задачи машинного обучения\n",
    "\n",
    "Классификации:\n",
    "1. Задачи регресии: Обучение с учителем (данные с известным ответом) \n",
    "новые данные где нужно найти ответ. Задачи регрессии (ответ в виде числа) \n",
    "1.а. задачи классификации (ответ в виде ранга и категории)\n",
    "2. Задачи Кластеризации: Обучение без учителя (есть данные но ответа для них нет) \n",
    "2.а. Выявление анамалий\n",
    "2.б. Задачи понижения размерности\n",
    "3. Обучение с подкреплением (наличие среды с положительное обратной связью)\n",
    "\n",
    "ETL: выбрать(извлечь), преобразовать и загрузить(выгрузить)\n",
    "Выбор источников данных | Цель или метрика результата\n",
    "    \n",
    "EDA: разведовочный анализ дсанных = получение и очистка данных\n",
    "1. Пропуски данных\n",
    "2. Параметры распределения значений\n",
    "3. Корреляция параметров (Выделение параметров)\n",
    "4. Примеры\n",
    "\n",
    "Предобработка данных: \n",
    "Преобразование данных для модели. Удаление статистического шума\n",
    "1. Нормирование данных\n",
    "2. Категориальные данные: приведение к единичным векторам. \n",
    "    Добавление параметров по значениям категорий\n",
    "3. Работа с циклическими данными через тригонометрические функции\n",
    "    Преобразование циклических переменных\n",
    "\n",
    "Исходный набор данных разбивают на две части для обучения модели и \n",
    "для проверки качества обученной модели\n",
    "Разбиение данных на: Обучающие, Проверочные и Вариационные\n",
    "Обучающая и проверочная выборки\n",
    "Разбиение на К частей (5 вариантов и обучение модели 5 раз и берём среднее число)\n",
    "Валидационная выборка (валидация и обучение)\n",
    "\n",
    "Оптимизация гиперпараметров модели: поиск по сетке - уточняющий поиск\n",
    "Перекрёстная Валидация\n",
    "Ошибки модели \n",
    "Случайный поиск\n",
    "\n",
    "Недообучение и переобучение\n",
    "Недообучение случается:\n",
    "    когда модель МО обучилась на небольшой выборке\n",
    "    когда модель обучали мало времени или рано остановили обучение\n",
    "    когда неверно выбрана метрика качества модели\n",
    "Не оптимизированны гиперпараметры\n",
    "Неправильная функция ошибки\n",
    "Ранняя остановка обучения\n",
    "Неверный выбор модели\n",
    "- мало этпх, раняя остановка, но оптимизированны Гип Параметры, \n",
    "- неверное направление оптимоизции (неверная ошибка)\n",
    "- или неверная модель\n",
    "Валидационный набор\n",
    "\n",
    "HDF: гипер дата формат, бинарный и расширяемый\n",
    "    мета данные\n",
    "    описание модели веса нейросети\n",
    "    получение много мерных срезов данных\n",
    "    гипер кубы"
   ]
  },
  {
   "cell_type": "markdown",
   "metadata": {},
   "source": [
    "МЕТРИКИ И МОДЕЛИ\n",
    "\n",
    "1. Метод максимального правдоподобия (6 дев 4 пар)\n",
    "Функция правдоподобия: Fn = p1 * ... * p10 >> max\n",
    "Бинарная Классификация\n",
    "Сумма логорифмов всех вероятностей lnFn = lnp1 * ... * lnp10 \n",
    "Линейная регрессия y=ax+b\n",
    "Метод ближайших соседей\n",
    "\n",
    "2. Метод наименьших квадратов\n",
    "Позволяет оценить ошибку работы модели МО\n",
    "\n",
    "3. Уравнение линейной регресии\n",
    "Устанавливает линейную взаимосвязь между данными и неизвестным значением\n",
    "\n",
    "4. Аппроксимация данных\n",
    "Экстраполяция данных / \n",
    "Интерполяция данных - используется для заполнения пропусков в данных\n",
    "Линейная интерполяция данных (применяют когда не много данных)\n",
    "Кубическая или полиномиальная интерполяция (хорошо работает если \n",
    "диапазону пропусков существенно меньше размаха (амплитуды, вариации) самих данных\n",
    "                                            \n",
    "Среднеквадратичная ошибка (RMSE) используется при оценке задач в машинном обучении\n",
    "RMSLE = Логорифмическая RMSE\n",
    "                                            \n",
    "Метрики расстояния (управление качеством ошибок)\n",
    "Квадрат расстояния Евклида\n",
    "Расстояния L1 или городских кварталов больше или равно Евклидову расстоянию                                            \n",
    "Расстояние Чебышева                                            \n",
    "Расстояние Минковского:\n",
    "    При p=1 сводится к расстоянию городских кварталов\n",
    "    При p=2 сводится к евклидову расстоянию                                        \n",
    "    При p=∞ сводится к расстоянию Чебышева\n",
    "Процент несогласия                                            "
   ]
  },
  {
   "cell_type": "markdown",
   "metadata": {},
   "source": [
    "### Определение среднего бюджета во всех категориях на 2 года вперёд"
   ]
  },
  {
   "cell_type": "code",
   "execution_count": 36,
   "metadata": {},
   "outputs": [
    {
     "data": {
      "image/png": "[encoded data removed]",
      "text/plain": [
       "<Figure size 432x288 with 1 Axes>"
      ]
     },
     "metadata": {
      "needs_background": "light"
     },
     "output_type": "display_data"
    },
    {
     "name": "stdout",
     "output_type": "stream",
     "text": [
      "[[9205.60969028]]\n"
     ]
    }
   ],
   "source": [
    "import pandas as pd\n",
    "import numpy as np\n",
    "import matplotlib.pyplot as plt\n",
    "from sklearn.linear_model import LinearRegression\n",
    "data = pd.read_csv(\"projektid1e.csv\", na_values=\"NA\")\n",
    "data_avg = data.groupby(\"Date\").mean()\n",
    "x = np.array(data_avg.index).reshape(len(data_avg.index), 1)\n",
    "y = np.array(data_avg[\"Budget\"]).reshape(len(data_avg.index), 1)\n",
    "model = LinearRegression()\n",
    "model.fit(x, y)\n",
    "plt.scatter(x, y, color=\"orange\")\n",
    "x = np.append(x, [2050]).reshape(len(data_avg.index)+1, 1)\n",
    "plt.plot(x, model.predict(x), color=\"blue\", linewidth=3)\n",
    "plt.show()\n",
    "print (model.predict(np.array(2050).reshape(1, 1)))"
   ]
  },
  {
   "cell_type": "code",
   "execution_count": null,
   "metadata": {},
   "outputs": [],
   "source": []
  },
  {
   "cell_type": "markdown",
   "metadata": {},
   "source": [
    "### Определение среднего бюджета ОТДЕЛЬНО во всех категориях на 2 года вперёд"
   ]
  },
  {
   "cell_type": "code",
   "execution_count": null,
   "metadata": {},
   "outputs": [],
   "source": []
  },
  {
   "cell_type": "code",
   "execution_count": null,
   "metadata": {},
   "outputs": [],
   "source": []
  },
  {
   "cell_type": "code",
   "execution_count": null,
   "metadata": {},
   "outputs": [],
   "source": []
  },
  {
   "cell_type": "code",
   "execution_count": null,
   "metadata": {},
   "outputs": [],
   "source": []
  },
  {
   "cell_type": "code",
   "execution_count": null,
   "metadata": {},
   "outputs": [],
   "source": []
  },
  {
   "cell_type": "code",
   "execution_count": null,
   "metadata": {},
   "outputs": [],
   "source": []
  },
  {
   "cell_type": "code",
   "execution_count": 30,
   "metadata": {},
   "outputs": [
    {
     "data": {
      "image/png": "[encoded data removed]",
      "text/plain": [
       "<Figure size 432x288 with 1 Axes>"
      ]
     },
     "metadata": {
      "needs_background": "light"
     },
     "output_type": "display_data"
    }
   ],
   "source": [
    "import pandas as pd\n",
    "import numpy as np\n",
    "import matplotlib.pyplot as plt\n",
    "from sklearn.linear_model import LinearRegression\n",
    "data = pd.read_csv(\"projektid1e.csv\", na_values=\"NA\")\n",
    "#print (data.head())\n",
    "\n",
    "data[\"Date\"] = data[\"Date\"].astype(\"category\")\n",
    "data_group = data.groupby(\"Date\").mean()\n",
    "\n",
    "#сортировка по возврастающей\n",
    "#data_group = data_group.sort_values('Budget', ascending=True)\n",
    "\n",
    "#орображение графика\n",
    "data_group[\"Budget\"].plot.bar()\n",
    "plt.show()"
   ]
  },
  {
   "cell_type": "code",
   "execution_count": null,
   "metadata": {},
   "outputs": [],
   "source": []
  },
  {
   "cell_type": "code",
   "execution_count": null,
   "metadata": {},
   "outputs": [],
   "source": []
  },
  {
   "cell_type": "code",
   "execution_count": null,
   "metadata": {},
   "outputs": [],
   "source": []
  },
  {
   "cell_type": "code",
   "execution_count": null,
   "metadata": {},
   "outputs": [],
   "source": []
  }
 ],
 "metadata": {
  "kernelspec": {
   "display_name": "Python 3",
   "language": "python",
   "name": "python3"
  },
  "language_info": {
   "codemirror_mode": {
    "name": "ipython",
    "version": 3
   },
   "file_extension": ".py",
   "mimetype": "text/x-python",
   "name": "python",
   "nbconvert_exporter": "python",
   "pygments_lexer": "ipython3",
   "version": "3.8.2"
  }
 },
 "nbformat": 4,
 "nbformat_minor": 4
}
