{
 "cells": [
  {
   "cell_type": "markdown",
   "metadata": {},
   "source": [
    "### Разделите набор данных на обучающие/проверочные в пропорции 80/20.\n",
    "\n",
    "Загрузите данные и очистите значения (нулями и средними). Построить модель линейной регрессии для каждого часа в отдельности, используя температуру воздуха (air_temperature), влажность (dew_temperature), атмосферное давление (sea_level_pressure), скорость ветра (wind_speed) и облачность (cloud_coverage).\n",
    "\n",
    "Рассчитайте качество построенной модели по проверочным данным. Используйте данные:\n",
    "\n",
    "http://video.ittensive.com/machine-learning/ashrae/building_metadata.csv.gz\n",
    "\n",
    "http://video.ittensive.com/machine-learning/ashrae/weather_train.csv.gz\n",
    "\n",
    "http://video.ittensive.com/machine-learning/ashrae/train.0.0.csv.gz\n",
    "\n",
    "### Questions for this assignment\n",
    "\n",
    "Какое получилось качество модели линейной регрессии по часам с точностью до десятых? Например, 0.0"
   ]
  },
  {
   "cell_type": "markdown",
   "metadata": {},
   "source": [
    "### Подключение библиотек"
   ]
  },
  {
   "cell_type": "code",
   "execution_count": 14,
   "metadata": {},
   "outputs": [],
   "source": [
    "%matplotlib inline\n",
    "import numpy as np\n",
    "import pandas as pd\n",
    "from sklearn.model_selection import train_test_split\n",
    "from sklearn.linear_model import LinearRegression"
   ]
  },
  {
   "cell_type": "markdown",
   "metadata": {},
   "source": [
    "### Загрузка данных"
   ]
  },
  {
   "cell_type": "code",
   "execution_count": 15,
   "metadata": {},
   "outputs": [],
   "source": [
    "buildings = pd.read_csv(\"http://video.ittensive.com/machine-learning/ashrae/building_metadata.csv.gz\")\n",
    "weather = pd.read_csv(\"http://video.ittensive.com/machine-learning/ashrae/weather_train.csv.gz\")\n",
    "energy_0 = pd.read_csv(\"http://video.ittensive.com/machine-learning/ashrae/train.0.0.csv.gz\")"
   ]
  },
  {
   "cell_type": "markdown",
   "metadata": {},
   "source": [
    "### Объединение данных и фильтрация"
   ]
  },
  {
   "cell_type": "code",
   "execution_count": 16,
   "metadata": {},
   "outputs": [
    {
     "name": "stdout",
     "output_type": "stream",
     "text": [
      "               timestamp  site_id  building_id  meter  meter_reading  \\\n",
      "704  2016-01-30 08:00:00        0            0      0        43.6839   \n",
      "725  2016-01-31 05:00:00        0            0      0        37.5408   \n",
      "737  2016-01-31 17:00:00        0            0      0        52.5571   \n",
      "2366 2016-04-08 14:00:00        0            0      0        59.3827   \n",
      "2923 2016-05-01 19:00:00        0            0      0       448.0000   \n",
      "\n",
      "     primary_use  square_feet  year_built  floor_count  air_temperature  \\\n",
      "704    Education         7432      2008.0          NaN              8.3   \n",
      "725    Education         7432      2008.0          NaN             12.8   \n",
      "737    Education         7432      2008.0          NaN             20.6   \n",
      "2366   Education         7432      2008.0          NaN             21.7   \n",
      "2923   Education         7432      2008.0          NaN             31.1   \n",
      "\n",
      "      cloud_coverage  dew_temperature  precip_depth_1_hr  sea_level_pressure  \\\n",
      "704              NaN              6.1                0.0              1019.0   \n",
      "725              NaN             10.0                0.0              1021.9   \n",
      "737              NaN             11.7                0.0              1020.9   \n",
      "2366             2.0             14.4                0.0              1015.1   \n",
      "2923             NaN             17.2                0.0              1016.1   \n",
      "\n",
      "      wind_direction  wind_speed  hour  \n",
      "704            220.0         2.1     8  \n",
      "725              0.0         0.0     5  \n",
      "737            110.0         1.5    17  \n",
      "2366           250.0         3.1    14  \n",
      "2923           100.0         4.1    19  \n"
     ]
    }
   ],
   "source": [
    "energy_0 = pd.merge(left=energy_0, right=buildings, how=\"left\",\n",
    "                   left_on=\"building_id\", right_on=\"building_id\")\n",
    "energy_0.set_index([\"timestamp\", \"site_id\"], inplace=True)\n",
    "weather.set_index([\"timestamp\", \"site_id\"], inplace=True)\n",
    "energy_0 = pd.merge(left=energy_0, right=weather, how=\"left\",\n",
    "                   left_index=True, right_index=True)\n",
    "energy_0.reset_index(inplace=True)\n",
    "energy_0 = energy_0[energy_0[\"meter_reading\"] > 0]\n",
    "energy_0[\"timestamp\"] = pd.to_datetime(energy_0[\"timestamp\"])\n",
    "energy_0[\"hour\"] = energy_0[\"timestamp\"].dt.hour\n",
    "print (energy_0.head())"
   ]
  },
  {
   "cell_type": "markdown",
   "metadata": {},
   "source": [
    "### Очистка данных"
   ]
  },
  {
   "cell_type": "code",
   "execution_count": 17,
   "metadata": {},
   "outputs": [
    {
     "name": "stdout",
     "output_type": "stream",
     "text": [
      "<class 'pandas.core.frame.DataFrame'>\n",
      "Int64Index: 5411 entries, 704 to 8783\n",
      "Data columns (total 17 columns):\n",
      " #   Column              Non-Null Count  Dtype         \n",
      "---  ------              --------------  -----         \n",
      " 0   timestamp           5411 non-null   datetime64[ns]\n",
      " 1   site_id             5411 non-null   int64         \n",
      " 2   building_id         5411 non-null   int64         \n",
      " 3   meter               5411 non-null   int64         \n",
      " 4   meter_reading       5411 non-null   float64       \n",
      " 5   primary_use         5411 non-null   object        \n",
      " 6   square_feet         5411 non-null   int64         \n",
      " 7   year_built          5411 non-null   float64       \n",
      " 8   floor_count         0 non-null      float64       \n",
      " 9   air_temperature     5411 non-null   float64       \n",
      " 10  cloud_coverage      5411 non-null   float64       \n",
      " 11  dew_temperature     5411 non-null   float64       \n",
      " 12  precip_depth_1_hr   5411 non-null   float64       \n",
      " 13  sea_level_pressure  5411 non-null   float64       \n",
      " 14  wind_direction      5236 non-null   float64       \n",
      " 15  wind_speed          5411 non-null   float64       \n",
      " 16  hour                5411 non-null   int64         \n",
      "dtypes: datetime64[ns](1), float64(10), int64(5), object(1)\n",
      "memory usage: 760.9+ KB\n",
      "None\n"
     ]
    }
   ],
   "source": [
    "energy_0[\"air_temperature\"].fillna(0, inplace = True)\n",
    "energy_0[\"dew_temperature\"].fillna(0, inplace = True)\n",
    "energy_0[\"cloud_coverage\"].fillna(0, inplace = True)\n",
    "energy_0[\"wind_speed\"].fillna(0, inplace = True)\n",
    "energy_0[\"precip_depth_1_hr\"] = energy_0[\"precip_depth_1_hr\"].apply(lambda x:x if x>0 else 0)\n",
    "energy_0_sea_level_pressure_mean = energy_0[\"sea_level_pressure\"].mean()\n",
    "energy_0[\"sea_level_pressure\"] = energy_0[\"sea_level_pressure\"].apply(lambda x:energy_0_sea_level_pressure_mean if x!=x else x)\n",
    "print (energy_0.info())"
   ]
  },
  {
   "cell_type": "markdown",
   "metadata": {},
   "source": [
    "### Разделение Данных\n",
    "На обучающие и проверочные"
   ]
  },
  {
   "cell_type": "code",
   "execution_count": 19,
   "metadata": {},
   "outputs": [
    {
     "name": "stdout",
     "output_type": "stream",
     "text": [
      "               timestamp  site_id  building_id  meter  meter_reading  \\\n",
      "7421 2016-11-05 05:00:00        0            0      0       221.1490   \n",
      "5648 2016-08-23 08:00:00        0            0      0       307.8350   \n",
      "4253 2016-06-26 05:00:00        0            0      0       240.9440   \n",
      "8214 2016-12-08 06:00:00        0            0      0        91.4631   \n",
      "8339 2016-12-13 11:00:00        0            0      0        72.3514   \n",
      "\n",
      "     primary_use  square_feet  year_built  floor_count  air_temperature  \\\n",
      "7421   Education         7432      2008.0          NaN             20.6   \n",
      "5648   Education         7432      2008.0          NaN             26.1   \n",
      "4253   Education         7432      2008.0          NaN             26.7   \n",
      "8214   Education         7432      2008.0          NaN             16.7   \n",
      "8339   Education         7432      2008.0          NaN             17.2   \n",
      "\n",
      "      cloud_coverage  dew_temperature  precip_depth_1_hr  sea_level_pressure  \\\n",
      "7421             4.0             18.9                0.0              1018.7   \n",
      "5648             0.0             23.9                0.0              1019.6   \n",
      "4253             0.0             23.3                0.0              1018.9   \n",
      "8214             2.0             14.4                0.0              1019.3   \n",
      "8339             2.0             16.7                0.0              1018.5   \n",
      "\n",
      "      wind_direction  wind_speed  hour  \n",
      "7421           350.0         3.1     5  \n",
      "5648           170.0         1.5     8  \n",
      "4253           180.0         2.6     5  \n",
      "8214           310.0         2.6     6  \n",
      "8339            10.0         1.5    11  \n"
     ]
    }
   ],
   "source": [
    "energy_0_train, energy_0_test = train_test_split(energy_0, test_size=0.2)\n",
    "print (energy_0_train.head())"
   ]
  },
  {
   "cell_type": "markdown",
   "metadata": {},
   "source": [
    "### Линейная регрессия по часам\n",
    "Модель включает ait_temperature, dew_temperature, sea_level_pressure, wind_speed, cloud_coverage"
   ]
  },
  {
   "cell_type": "code",
   "execution_count": 20,
   "metadata": {},
   "outputs": [
    {
     "name": "stdout",
     "output_type": "stream",
     "text": [
      "[array([ 4.30969439e+00,  2.90952941e+00, -1.22557441e+00, -3.13118265e+00,\n",
      "       -2.62251864e+00,  1.34234413e+03]), array([ 7.10389915e+00,  1.21286690e+00, -3.94196921e-01, -2.27104585e+00,\n",
      "       -1.20103255e+00,  4.51490341e+02]), array([ 6.08512208e+00,  1.98470874e+00, -2.19631662e-01, -2.72996449e+00,\n",
      "       -1.66213496e+00,  2.89846698e+02]), array([ 8.08113691e+00, -2.66048347e-02, -4.16490869e-01, -2.68394992e+00,\n",
      "        5.74026119e+00,  4.77634440e+02]), array([ 9.82748767e+00, -2.66582966e+00, -7.91258463e-01, -3.41054638e+00,\n",
      "        5.12416559e+00,  8.76142198e+02]), array([ 1.08629992e+01, -3.33445070e+00, -8.46668739e-01, -3.48392003e+00,\n",
      "        1.58866405e+00,  9.25806718e+02]), array([  8.09162866,   0.40515371,   0.07531936,  -0.3136902 ,\n",
      "        -0.98610532, -24.28873855]), array([   4.63162811,    1.83831538,    0.54358031,   -0.60939751,\n",
      "          0.5397949 , -448.65552705]), array([  10.79328061,   -2.78842465,    0.22978871,   -4.01493125,\n",
      "          2.44322244, -165.06781326]), array([ 1.07917583e+01, -3.69993792e+00, -4.47295749e-01, -4.13617096e+00,\n",
      "       -1.86195996e+00,  5.40971490e+02]), array([ 1.55739642e+01, -7.85336857e+00, -5.60160916e-01, -5.81690114e+00,\n",
      "        2.49177186e+00,  6.32129196e+02]), array([ 1.40481824e+01, -6.12175030e+00, -1.47503388e+00, -4.01428002e+00,\n",
      "        1.47186915e+00,  1.56217038e+03]), array([ 1.32970760e+01, -5.57008232e+00, -1.00357024e+00, -2.29801576e+00,\n",
      "       -2.61586138e+00,  1.08754426e+03]), array([ 1.23575768e+01, -4.94767564e+00, -1.30031383e+00, -2.09347164e+00,\n",
      "        7.40684282e-01,  1.37603187e+03]), array([ 1.10922328e+01, -2.01750721e+00, -4.79912323e-01,  1.67138080e+00,\n",
      "       -2.72108775e+00,  4.83168701e+02]), array([ 1.02057892e+01, -1.69098640e+00, -1.81839404e+00, -9.82892030e-01,\n",
      "        7.89871582e-01,  1.84946247e+03]), array([ 8.32065999e+00,  2.28082856e-02, -2.14068787e+00, -3.39635291e+00,\n",
      "       -1.50602818e+00,  2.19919538e+03]), array([ 7.64586750e+00,  4.47376000e-01, -1.79701252e+00, -1.98891377e+00,\n",
      "       -2.30640779e+00,  1.84735125e+03]), array([ 3.87621009e+00,  2.79428342e+00, -8.47845918e-01, -1.13725893e-01,\n",
      "       -1.12877358e+00,  9.38614346e+02]), array([ 1.61285780e+00,  3.49002455e+00, -1.74892000e+00, -1.88138872e+00,\n",
      "       -1.02206631e+00,  1.91289184e+03]), array([ 7.27956513e-01,  4.81428051e+00, -7.98576529e-01, -2.01531669e+00,\n",
      "        3.22605813e+00,  9.41777960e+02]), array([   3.34746091,    3.28705568,    0.26821253,    0.44634184,\n",
      "         -0.87960657, -191.61569325]), array([ 2.59605502e+00,  3.30475622e+00, -4.54562350e-01,  1.33492344e-01,\n",
      "       -1.22008015e+00,  5.67481225e+02]), array([ 4.55817442e+00,  1.37500334e+00, -7.95642521e-01, -1.02164069e+00,\n",
      "       -2.64916554e+00,  9.06972453e+02])]\n"
     ]
    }
   ],
   "source": [
    "hours = range(0, 24)\n",
    "energy_0_train_lr = pd.DataFrame(energy_0_train,\n",
    "        columns=[\"meter_reading\", \"air_temperature\", \"dew_temperature\",\n",
    "                \"sea_level_pressure\", \"wind_speed\", \"cloud_coverage\", \"hour\"])\n",
    "\n",
    "energy_0_lr = [[]]*len(hours)\n",
    "for hour in hours:\n",
    "    energy_0_lr_hourly = energy_0_train_lr[energy_0_train_lr[\"hour\"]==hour]\n",
    "    y = energy_0_lr_hourly[\"meter_reading\"]\n",
    "    x = energy_0_lr_hourly.drop(labels=[\"meter_reading\", \"hour\"], axis=1)\n",
    "    \n",
    "    model = LinearRegression().fit(x, y)\n",
    "    energy_0_lr[hour] = model.coef_\n",
    "    energy_0_lr[hour] = np.append(energy_0_lr[hour], model.intercept_)\n",
    "print (energy_0_lr)"
   ]
  },
  {
   "cell_type": "markdown",
   "metadata": {},
   "source": [
    "### Предсказание и оценка модели\n",
    "Проводим проверку модели используя нужную метрику"
   ]
  },
  {
   "cell_type": "code",
   "execution_count": 22,
   "metadata": {},
   "outputs": [
    {
     "name": "stdout",
     "output_type": "stream",
     "text": [
      "Качество почасовой линейной регрессии, 5 параметров: 0.20469548094316103 0.2\n"
     ]
    }
   ],
   "source": [
    "def calculate_model(x):\n",
    "    model = energy_0_lr[x.hour]\n",
    "    meter_reading_log = np.log(x.meter_reading + 1)\n",
    "    meter_reading_lr = np.log(1 +x.air_temperature * model [0] +\n",
    "        x.dew_temperature * model[1] + x.sea_level_pressure * model[2] +\n",
    "        x.wind_speed * model[3] + x.cloud_coverage * model[4] + model[5])\n",
    "    x[\"meter_reading_lr_q\"] = (meter_reading_log - meter_reading_lr)**2\n",
    "    return x\n",
    "\n",
    "energy_0_test = energy_0_test.apply(calculate_model, \n",
    "                                   axis=1, result_type=\"expand\")\n",
    "energy_0_test_lr_rmsle = np.sqrt(energy_0_test[\"meter_reading_lr_q\"].sum() / \n",
    "                                len(energy_0_test))\n",
    "print (\"Качество почасовой линейной регрессии, 5 параметров:\",\n",
    "      energy_0_test_lr_rmsle, round(energy_0_test_lr_rmsle, 2))"
   ]
  }
 ],
 "metadata": {
  "kernelspec": {
   "display_name": "Python 3",
   "language": "python",
   "name": "python3"
  },
  "language_info": {
   "codemirror_mode": {
    "name": "ipython",
    "version": 3
   },
   "file_extension": ".py",
   "mimetype": "text/x-python",
   "name": "python",
   "nbconvert_exporter": "python",
   "pygments_lexer": "ipython3",
   "version": "3.8.2"
  }
 },
 "nbformat": 4,
 "nbformat_minor": 4
}
