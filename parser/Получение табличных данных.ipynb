{
 "cells": [
  {
   "cell_type": "code",
   "execution_count": 3,
   "metadata": {},
   "outputs": [
    {
     "name": "stdout",
     "output_type": "stream",
     "text": [
      "                     Год Количество\n",
      "0                   1959  2 796 228\n",
      "1                   1960  2 782 353\n",
      "2                   1961  2 662 135\n",
      "3                   1962  2 482 539\n",
      "4                   1963  2 331 505\n",
      "5                   1964  2 121 994\n",
      "6                   1965  1 990 520\n",
      "7                   1966  1 957 763\n",
      "8                   1967  1 851 041\n",
      "9                   1968  1 816 509\n",
      "10                  1969  1 847 592\n",
      "11                  1970  1 903 713\n",
      "12                  1971  1 974 637\n",
      "13                  1972  2 014 638\n",
      "14                  1973  1 994 621\n",
      "15                  1974  2 079 812\n",
      "16                  1975  2 106 147\n",
      "17                  1976  2 146 711\n",
      "18                  1977  2 156 724\n",
      "19                  1978  2 179 030\n",
      "20                  1979  2 178 542\n",
      "21                  1980  2 202 779\n",
      "22                  1981  2 236 608\n",
      "23                  1982  2 328 044\n",
      "24                  1983  2 478 322\n",
      "25                  1984  2 409 614\n",
      "26                  1985  2 375 147\n",
      "27                  1986  2 485 915\n",
      "28                  1987  2 499 974\n",
      "29                  1988  2 348 494\n",
      "..                   ...        ...\n",
      "31                  1990  1 988 858\n",
      "32                  1991  1 794 626\n",
      "33                  1992  1 587 644\n",
      "34                  1993  1 378 983\n",
      "35                  1994  1 408 159\n",
      "36                  1995  1 363 806\n",
      "37                  1996  1 304 638\n",
      "38                  1997  1 259 943\n",
      "39                  1998  1 283 292\n",
      "40                  1999  1 214 689\n",
      "41                  2000  1 266 800\n",
      "42                  2001  1 311 604\n",
      "43                  2002  1 396 967\n",
      "44                  2003  1 477 301\n",
      "45                  2004  1 502 477\n",
      "46                  2005  1 457 376\n",
      "47                  2006  1 479 637\n",
      "48                  2007  1 610 122\n",
      "49                  2008  1 713 947\n",
      "50                  2009  1 767 687\n",
      "51                  2010  1 788 948\n",
      "52                  2011  1 796 629\n",
      "53                  2012  1 902 084\n",
      "54                  2013  1 895 822\n",
      "55                  2014  1 947 301\n",
      "56                  2015  1 944 136\n",
      "57                  2016  1 893 256\n",
      "58                  2017  1 689 884\n",
      "59                  2018  1 604 344\n",
      "60  2019 (январь - март)    355 190\n",
      "\n",
      "[61 rows x 2 columns]\n"
     ]
    }
   ],
   "source": [
    "import requests\n",
    "import pandas as pd\n",
    "from bs4 import BeautifulSoup\n",
    "r = requests.get(\"https://worldtable.info/gosudarstvo/tablica-rozhdaemosti-po-godam-rossija.html\")\n",
    "html = BeautifulSoup(r.content)\n",
    "data = []\n",
    "table = html.find(\"table\")\n",
    "for tr in table.find_all(\"tr\"):\n",
    "    data.append([td.get_text() for td in tr.find_all(\"td\")])\n",
    "data = pd.DataFrame(data[1:], columns=[\"Год\", \"Количество\"])\n",
    "print (data)"
   ]
  }
 ],
 "metadata": {
  "kernelspec": {
   "display_name": "Python 3",
   "language": "python",
   "name": "python3"
  },
  "language_info": {
   "codemirror_mode": {
    "name": "ipython",
    "version": 3
   },
   "file_extension": ".py",
   "mimetype": "text/x-python",
   "name": "python",
   "nbconvert_exporter": "python",
   "pygments_lexer": "ipython3",
   "version": "3.8.2"
  }
 },
 "nbformat": 4,
 "nbformat_minor": 2
}
