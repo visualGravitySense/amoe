{
 "cells": [
  {
   "cell_type": "code",
   "execution_count": null,
   "metadata": {},
   "outputs": [],
   "source": [
    "import time\n",
    "import requests\n",
    "headers = {\"User-Agent\": \"ittensive-python-scraper/1.0 (+https://www.ittenasive.com)\"}\n",
    "#t = time.now()\n",
    "r = requests.get(\"url\", headers = headers)\n",
    "#response_time = time.now() - t\n",
    "#2-3 rps, Crawl-Delay, response.time*2-3\n",
    "#time.sleep(round(response_time * 3))"
   ]
  }
 ],
 "metadata": {
  "kernelspec": {
   "display_name": "Python 3",
   "language": "python",
   "name": "python3"
  },
  "language_info": {
   "codemirror_mode": {
    "name": "ipython",
    "version": 3
   },
   "file_extension": ".py",
   "mimetype": "text/x-python",
   "name": "python",
   "nbconvert_exporter": "python",
   "pygments_lexer": "ipython3",
   "version": "3.8.2"
  }
 },
 "nbformat": 4,
 "nbformat_minor": 2
}
