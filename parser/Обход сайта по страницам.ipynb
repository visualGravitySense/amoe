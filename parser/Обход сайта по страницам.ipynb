{
 "cells": [
  {
   "cell_type": "code",
   "execution_count": 4,
   "metadata": {},
   "outputs": [
    {
     "name": "stdout",
     "output_type": "stream",
     "text": [
      "['/top/lists/1/filtr/all/sort/order/page/2/', '/top/lists/1/filtr/all/sort/order/page/3/', '/top/lists/1/filtr/all/sort/order/page/4/', '/top/lists/1/filtr/all/sort/order/page/20/']\n"
     ]
    }
   ],
   "source": [
    "import requests\n",
    "import pandas as pd\n",
    "from bs4 import BeautifulSoup\n",
    "r = requests.get(\"https://www.kinopoisk.ru/top/lists/1/\")\n",
    "html = BeautifulSoup(r.content)\n",
    "def find_links (links, keyword):\n",
    "    links_filtered = {}\n",
    "    for link in links:\n",
    "        if link.has_attr(\"href\") and link[\"href\"].find(keyword) > -1 and link[\"href\"].find(\"/cast/\") == -1:\n",
    "            links_filtered[link[\"href\"]] = 1\n",
    "    return list(links_filtered.keys())\n",
    "films = []\n",
    "films.extend(find_links(html.find_all(\"a\"), \"/film/\"))\n",
    "pages = []\n",
    "pages.extend(find_links(html.find_all(\"a\"), \"/page/\"))\n",
    "for page in pages:\n",
    "    r = requests.get(\"https://www.kinopoisk.ru\" + page)\n",
    "    html = BeautifulSoup(r.content)\n",
    "    films.extend(find_links(html.find_all(\"a\"), \"/film/\"))\n",
    "with open(\"films.txt\", \"w\") as f:\n",
    "    f.write(\"\\n\".join(films))"
   ]
  }
 ],
 "metadata": {
  "kernelspec": {
   "display_name": "Python 3",
   "language": "python",
   "name": "python3"
  },
  "language_info": {
   "codemirror_mode": {
    "name": "ipython",
    "version": 3
   },
   "file_extension": ".py",
   "mimetype": "text/x-python",
   "name": "python",
   "nbconvert_exporter": "python",
   "pygments_lexer": "ipython3",
   "version": "3.8.2"
  }
 },
 "nbformat": 4,
 "nbformat_minor": 2
}
