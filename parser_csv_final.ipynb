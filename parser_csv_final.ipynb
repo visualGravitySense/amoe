{
 "cells": [
  {
   "cell_type": "code",
   "execution_count": 23,
   "metadata": {},
   "outputs": [],
   "source": [
    "from bs4 import BeautifulSoup\n",
    "import requests\n",
    "import pandas as pd"
   ]
  },
  {
   "cell_type": "code",
   "execution_count": 145,
   "metadata": {},
   "outputs": [],
   "source": [
    "url = \"https://www.hooandja.ee/avasta/edukad\""
   ]
  },
  {
   "cell_type": "code",
   "execution_count": 146,
   "metadata": {},
   "outputs": [],
   "source": [
    "response = requests.get(url)"
   ]
  },
  {
   "cell_type": "code",
   "execution_count": 147,
   "metadata": {},
   "outputs": [
    {
     "data": {
      "text/plain": [
       "<Response [200]>"
      ]
     },
     "execution_count": 147,
     "metadata": {},
     "output_type": "execute_result"
    }
   ],
   "source": [
    "response"
   ]
  },
  {
   "cell_type": "code",
   "execution_count": 148,
   "metadata": {},
   "outputs": [],
   "source": [
    "data = response.text"
   ]
  },
  {
   "cell_type": "code",
   "execution_count": 149,
   "metadata": {},
   "outputs": [],
   "source": [
    "soup = BeautifulSoup(data,'html.parser')"
   ]
  },
  {
   "cell_type": "code",
   "execution_count": 150,
   "metadata": {},
   "outputs": [],
   "source": [
    "jobs = soup.find_all(\"div\", {\"class\": \"project_white_box\"})"
   ]
  },
  {
   "cell_type": "code",
   "execution_count": null,
   "metadata": {},
   "outputs": [],
   "source": [
    "for job in jobs:\n",
    "    title = job.find(\"h3\").text\n",
    "    project_link = job.find(\"a\", {\"target\": \"_top\"}).get('href')\n",
    "    author = job.find(\"span\").text\n",
    "    author_link = job.find(\"a\", {\"target\": \"_top\"}).get('href')\n",
    "    project = job.find(\"div\", {\"class\": \"image\"}).get('href')\n",
    "    cat = job.find(\"a\", {\"target\": \"_top\"}).text\n",
    "    print ('Title:', title, '\\nProject_link:', project,\n",
    "           '\\nAuthor:', author, '\\nAuthorInfo:', author_link,  \n",
    "           '\\nCategory:', cat, '\\n---')"
   ]
  },
  {
   "cell_type": "code",
   "execution_count": null,
   "metadata": {},
   "outputs": [],
   "source": [
    "# получение информации со страницы\n",
    "for job in jobs:\n",
    "    title = job.find(\"h3\").text\n",
    "    project_link = job.find(\"a\", {\"target\": \"_top\"}).get('href')\n",
    "    author = job.find(\"span\").text\n",
    "    author_link = job.find(\"a\", {\"target\": \"_top\"}).get('href')\n",
    "    project = job.find(\"div\", {\"class\": \"image\"}).get('href')\n",
    "    cat = job.find(\"a\", {\"target\": \"_top\"}).text\n",
    "    job_response = requests.get(author_link)\n",
    "    job_data = job_response.text\n",
    "    job_soup = BeautifulSoup(job_data, 'html.parser')\n",
    "    job_description = job_soup.find('div',{'class':'user_about'}).text\n",
    "    job_attributes_tag = job_soup.find('div',{'class':'w700 leftside'})\n",
    "    job_attributes = job_attributes_tag.text if job_attributes_tag else \"N/A\"\n",
    "    \n",
    "    print ('Title:', title, '\\nProject_link:', project,\n",
    "           '\\nAuthor:', author, '\\nAuthorLink:', author_link,  \n",
    "           '\\nBio:', job_description, \n",
    "           '\\nCategory:', cat, '\\n---')"
   ]
  },
  {
   "cell_type": "code",
   "execution_count": 190,
   "metadata": {},
   "outputs": [
    {
     "name": "stdout",
     "output_type": "stream",
     "text": [
      "Title: Rauno Schultsi II luulekogu \"Pingil istusid kaks juuti\" \n",
      "Project_link: None \n",
      "Author: Rauno Schults  \n",
      "AuthorLink: https://www.hooandja.ee/users/raunoschults \n",
      "Bio: <div class=\"user_about\"></div> \n",
      "Category: Rauno Schults  \n",
      "---\n",
      "Title: Festivali „Hullunud Tartu“ kogumik \n",
      "Project_link: None \n",
      "Author: Jaan Malin  \n",
      "AuthorLink: https://www.hooandja.ee/users/jaan-malin \n",
      "Bio: None \n",
      "Category: Jaan Malin  \n",
      "---\n",
      "Title: Unustatud operetipärl  Therese Raide isikuraamat \n",
      "Project_link: None \n",
      "Author: helinavictoria  \n",
      "AuthorLink: https://www.hooandja.ee/users/helina-victoria-kruup \n",
      "Bio: <div class=\"user_about\"></div> \n",
      "Category: helinavictoria  \n",
      "---\n",
      "Title: Sädeleva Kassi esimene album \"MUUSIKA\" \n",
      "Project_link: None \n",
      "Author: Eerik Kändler  \n",
      "AuthorLink: https://www.hooandja.ee/users/eerikkandler \n",
      "Bio: <div class=\"user_about\"></div> \n",
      "Category: Eerik Kändler  \n",
      "---\n",
      "Title: Värviraamat Haldjaprintsess ja tema sõbrad \n",
      "Project_link: None \n",
      "Author: Imre Heero  \n",
      "AuthorLink: https://www.hooandja.ee/users/imre-heero \n",
      "Bio: <div class=\"user_about\"></div> \n",
      "Category: Imre Heero  \n",
      "---\n",
      "Title: Animatsioon Uneskõndijad \n",
      "Project_link: None \n",
      "Author: Stella Salumaa  \n",
      "AuthorLink: https://www.hooandja.ee/users/salumaastella \n",
      "Bio: <div class=\"user_about\"></div> \n",
      "Category: Stella Salumaa  \n",
      "---\n",
      "Title: Stuudio Nahk: ortopeedilise lisaväärtusega disainjalatsid \n",
      "Project_link: None \n",
      "Author: Karin Kallas  \n",
      "AuthorLink: https://www.hooandja.ee/users/kallaskarin1 \n",
      "Bio: <div class=\"user_about\"></div> \n",
      "Category: Karin Kallas  \n",
      "---\n"
     ]
    },
    {
     "ename": "KeyboardInterrupt",
     "evalue": "",
     "output_type": "error",
     "traceback": [
      "\u001b[0;31m---------------------------------------------------------------------------\u001b[0m",
      "\u001b[0;31mKeyboardInterrupt\u001b[0m                         Traceback (most recent call last)",
      "\u001b[0;32m<ipython-input-190-4b6bf421af63>\u001b[0m in \u001b[0;36m<module>\u001b[0;34m\u001b[0m\n\u001b[1;32m     15\u001b[0m         \u001b[0mproject\u001b[0m \u001b[0;34m=\u001b[0m \u001b[0mjob\u001b[0m\u001b[0;34m.\u001b[0m\u001b[0mfind\u001b[0m\u001b[0;34m(\u001b[0m\u001b[0;34m\"div\"\u001b[0m\u001b[0;34m,\u001b[0m \u001b[0;34m{\u001b[0m\u001b[0;34m\"class\"\u001b[0m\u001b[0;34m:\u001b[0m \u001b[0;34m\"image\"\u001b[0m\u001b[0;34m}\u001b[0m\u001b[0;34m)\u001b[0m\u001b[0;34m.\u001b[0m\u001b[0mget\u001b[0m\u001b[0;34m(\u001b[0m\u001b[0;34m'href'\u001b[0m\u001b[0;34m)\u001b[0m\u001b[0;34m\u001b[0m\u001b[0;34m\u001b[0m\u001b[0m\n\u001b[1;32m     16\u001b[0m         \u001b[0mcat\u001b[0m \u001b[0;34m=\u001b[0m \u001b[0mjob\u001b[0m\u001b[0;34m.\u001b[0m\u001b[0mfind\u001b[0m\u001b[0;34m(\u001b[0m\u001b[0;34m\"a\"\u001b[0m\u001b[0;34m,\u001b[0m \u001b[0;34m{\u001b[0m\u001b[0;34m\"target\"\u001b[0m\u001b[0;34m:\u001b[0m \u001b[0;34m\"_top\"\u001b[0m\u001b[0;34m}\u001b[0m\u001b[0;34m)\u001b[0m\u001b[0;34m.\u001b[0m\u001b[0mtext\u001b[0m\u001b[0;34m\u001b[0m\u001b[0;34m\u001b[0m\u001b[0m\n\u001b[0;32m---> 17\u001b[0;31m         \u001b[0mjob_response\u001b[0m \u001b[0;34m=\u001b[0m \u001b[0mrequests\u001b[0m\u001b[0;34m.\u001b[0m\u001b[0mget\u001b[0m\u001b[0;34m(\u001b[0m\u001b[0mauthor_link\u001b[0m\u001b[0;34m)\u001b[0m\u001b[0;34m\u001b[0m\u001b[0;34m\u001b[0m\u001b[0m\n\u001b[0m\u001b[1;32m     18\u001b[0m         \u001b[0mjob_data\u001b[0m \u001b[0;34m=\u001b[0m \u001b[0mjob_response\u001b[0m\u001b[0;34m.\u001b[0m\u001b[0mtext\u001b[0m\u001b[0;34m\u001b[0m\u001b[0;34m\u001b[0m\u001b[0m\n\u001b[1;32m     19\u001b[0m         \u001b[0mjob_soup\u001b[0m \u001b[0;34m=\u001b[0m \u001b[0mBeautifulSoup\u001b[0m\u001b[0;34m(\u001b[0m\u001b[0mjob_data\u001b[0m\u001b[0;34m,\u001b[0m \u001b[0;34m'html.parser'\u001b[0m\u001b[0;34m)\u001b[0m\u001b[0;34m\u001b[0m\u001b[0;34m\u001b[0m\u001b[0m\n",
      "\u001b[0;32m~/Documents/jupyter/venv/lib/python3.8/site-packages/requests/api.py\u001b[0m in \u001b[0;36mget\u001b[0;34m(url, params, **kwargs)\u001b[0m\n\u001b[1;32m     74\u001b[0m \u001b[0;34m\u001b[0m\u001b[0m\n\u001b[1;32m     75\u001b[0m     \u001b[0mkwargs\u001b[0m\u001b[0;34m.\u001b[0m\u001b[0msetdefault\u001b[0m\u001b[0;34m(\u001b[0m\u001b[0;34m'allow_redirects'\u001b[0m\u001b[0;34m,\u001b[0m \u001b[0;32mTrue\u001b[0m\u001b[0;34m)\u001b[0m\u001b[0;34m\u001b[0m\u001b[0;34m\u001b[0m\u001b[0m\n\u001b[0;32m---> 76\u001b[0;31m     \u001b[0;32mreturn\u001b[0m \u001b[0mrequest\u001b[0m\u001b[0;34m(\u001b[0m\u001b[0;34m'get'\u001b[0m\u001b[0;34m,\u001b[0m \u001b[0murl\u001b[0m\u001b[0;34m,\u001b[0m \u001b[0mparams\u001b[0m\u001b[0;34m=\u001b[0m\u001b[0mparams\u001b[0m\u001b[0;34m,\u001b[0m \u001b[0;34m**\u001b[0m\u001b[0mkwargs\u001b[0m\u001b[0;34m)\u001b[0m\u001b[0;34m\u001b[0m\u001b[0;34m\u001b[0m\u001b[0m\n\u001b[0m\u001b[1;32m     77\u001b[0m \u001b[0;34m\u001b[0m\u001b[0m\n\u001b[1;32m     78\u001b[0m \u001b[0;34m\u001b[0m\u001b[0m\n",
      "\u001b[0;32m~/Documents/jupyter/venv/lib/python3.8/site-packages/requests/api.py\u001b[0m in \u001b[0;36mrequest\u001b[0;34m(method, url, **kwargs)\u001b[0m\n\u001b[1;32m     59\u001b[0m     \u001b[0;31m# cases, and look like a memory leak in others.\u001b[0m\u001b[0;34m\u001b[0m\u001b[0;34m\u001b[0m\u001b[0;34m\u001b[0m\u001b[0m\n\u001b[1;32m     60\u001b[0m     \u001b[0;32mwith\u001b[0m \u001b[0msessions\u001b[0m\u001b[0;34m.\u001b[0m\u001b[0mSession\u001b[0m\u001b[0;34m(\u001b[0m\u001b[0;34m)\u001b[0m \u001b[0;32mas\u001b[0m \u001b[0msession\u001b[0m\u001b[0;34m:\u001b[0m\u001b[0;34m\u001b[0m\u001b[0;34m\u001b[0m\u001b[0m\n\u001b[0;32m---> 61\u001b[0;31m         \u001b[0;32mreturn\u001b[0m \u001b[0msession\u001b[0m\u001b[0;34m.\u001b[0m\u001b[0mrequest\u001b[0m\u001b[0;34m(\u001b[0m\u001b[0mmethod\u001b[0m\u001b[0;34m=\u001b[0m\u001b[0mmethod\u001b[0m\u001b[0;34m,\u001b[0m \u001b[0murl\u001b[0m\u001b[0;34m=\u001b[0m\u001b[0murl\u001b[0m\u001b[0;34m,\u001b[0m \u001b[0;34m**\u001b[0m\u001b[0mkwargs\u001b[0m\u001b[0;34m)\u001b[0m\u001b[0;34m\u001b[0m\u001b[0;34m\u001b[0m\u001b[0m\n\u001b[0m\u001b[1;32m     62\u001b[0m \u001b[0;34m\u001b[0m\u001b[0m\n\u001b[1;32m     63\u001b[0m \u001b[0;34m\u001b[0m\u001b[0m\n",
      "\u001b[0;32m~/Documents/jupyter/venv/lib/python3.8/site-packages/requests/sessions.py\u001b[0m in \u001b[0;36mrequest\u001b[0;34m(self, method, url, params, data, headers, cookies, files, auth, timeout, allow_redirects, proxies, hooks, stream, verify, cert, json)\u001b[0m\n\u001b[1;32m    528\u001b[0m         }\n\u001b[1;32m    529\u001b[0m         \u001b[0msend_kwargs\u001b[0m\u001b[0;34m.\u001b[0m\u001b[0mupdate\u001b[0m\u001b[0;34m(\u001b[0m\u001b[0msettings\u001b[0m\u001b[0;34m)\u001b[0m\u001b[0;34m\u001b[0m\u001b[0;34m\u001b[0m\u001b[0m\n\u001b[0;32m--> 530\u001b[0;31m         \u001b[0mresp\u001b[0m \u001b[0;34m=\u001b[0m \u001b[0mself\u001b[0m\u001b[0;34m.\u001b[0m\u001b[0msend\u001b[0m\u001b[0;34m(\u001b[0m\u001b[0mprep\u001b[0m\u001b[0;34m,\u001b[0m \u001b[0;34m**\u001b[0m\u001b[0msend_kwargs\u001b[0m\u001b[0;34m)\u001b[0m\u001b[0;34m\u001b[0m\u001b[0;34m\u001b[0m\u001b[0m\n\u001b[0m\u001b[1;32m    531\u001b[0m \u001b[0;34m\u001b[0m\u001b[0m\n\u001b[1;32m    532\u001b[0m         \u001b[0;32mreturn\u001b[0m \u001b[0mresp\u001b[0m\u001b[0;34m\u001b[0m\u001b[0;34m\u001b[0m\u001b[0m\n",
      "\u001b[0;32m~/Documents/jupyter/venv/lib/python3.8/site-packages/requests/sessions.py\u001b[0m in \u001b[0;36msend\u001b[0;34m(self, request, **kwargs)\u001b[0m\n\u001b[1;32m    641\u001b[0m \u001b[0;34m\u001b[0m\u001b[0m\n\u001b[1;32m    642\u001b[0m         \u001b[0;31m# Send the request\u001b[0m\u001b[0;34m\u001b[0m\u001b[0;34m\u001b[0m\u001b[0;34m\u001b[0m\u001b[0m\n\u001b[0;32m--> 643\u001b[0;31m         \u001b[0mr\u001b[0m \u001b[0;34m=\u001b[0m \u001b[0madapter\u001b[0m\u001b[0;34m.\u001b[0m\u001b[0msend\u001b[0m\u001b[0;34m(\u001b[0m\u001b[0mrequest\u001b[0m\u001b[0;34m,\u001b[0m \u001b[0;34m**\u001b[0m\u001b[0mkwargs\u001b[0m\u001b[0;34m)\u001b[0m\u001b[0;34m\u001b[0m\u001b[0;34m\u001b[0m\u001b[0m\n\u001b[0m\u001b[1;32m    644\u001b[0m \u001b[0;34m\u001b[0m\u001b[0m\n\u001b[1;32m    645\u001b[0m         \u001b[0;31m# Total elapsed time of the request (approximately)\u001b[0m\u001b[0;34m\u001b[0m\u001b[0;34m\u001b[0m\u001b[0;34m\u001b[0m\u001b[0m\n",
      "\u001b[0;32m~/Documents/jupyter/venv/lib/python3.8/site-packages/requests/adapters.py\u001b[0m in \u001b[0;36msend\u001b[0;34m(self, request, stream, timeout, verify, cert, proxies)\u001b[0m\n\u001b[1;32m    437\u001b[0m         \u001b[0;32mtry\u001b[0m\u001b[0;34m:\u001b[0m\u001b[0;34m\u001b[0m\u001b[0;34m\u001b[0m\u001b[0m\n\u001b[1;32m    438\u001b[0m             \u001b[0;32mif\u001b[0m \u001b[0;32mnot\u001b[0m \u001b[0mchunked\u001b[0m\u001b[0;34m:\u001b[0m\u001b[0;34m\u001b[0m\u001b[0;34m\u001b[0m\u001b[0m\n\u001b[0;32m--> 439\u001b[0;31m                 resp = conn.urlopen(\n\u001b[0m\u001b[1;32m    440\u001b[0m                     \u001b[0mmethod\u001b[0m\u001b[0;34m=\u001b[0m\u001b[0mrequest\u001b[0m\u001b[0;34m.\u001b[0m\u001b[0mmethod\u001b[0m\u001b[0;34m,\u001b[0m\u001b[0;34m\u001b[0m\u001b[0;34m\u001b[0m\u001b[0m\n\u001b[1;32m    441\u001b[0m                     \u001b[0murl\u001b[0m\u001b[0;34m=\u001b[0m\u001b[0murl\u001b[0m\u001b[0;34m,\u001b[0m\u001b[0;34m\u001b[0m\u001b[0;34m\u001b[0m\u001b[0m\n",
      "\u001b[0;32m~/Documents/jupyter/venv/lib/python3.8/site-packages/urllib3/connectionpool.py\u001b[0m in \u001b[0;36murlopen\u001b[0;34m(self, method, url, body, headers, retries, redirect, assert_same_host, timeout, pool_timeout, release_conn, chunked, body_pos, **response_kw)\u001b[0m\n\u001b[1;32m    668\u001b[0m \u001b[0;34m\u001b[0m\u001b[0m\n\u001b[1;32m    669\u001b[0m             \u001b[0;31m# Make the request on the httplib connection object.\u001b[0m\u001b[0;34m\u001b[0m\u001b[0;34m\u001b[0m\u001b[0;34m\u001b[0m\u001b[0m\n\u001b[0;32m--> 670\u001b[0;31m             httplib_response = self._make_request(\n\u001b[0m\u001b[1;32m    671\u001b[0m                 \u001b[0mconn\u001b[0m\u001b[0;34m,\u001b[0m\u001b[0;34m\u001b[0m\u001b[0;34m\u001b[0m\u001b[0m\n\u001b[1;32m    672\u001b[0m                 \u001b[0mmethod\u001b[0m\u001b[0;34m,\u001b[0m\u001b[0;34m\u001b[0m\u001b[0;34m\u001b[0m\u001b[0m\n",
      "\u001b[0;32m~/Documents/jupyter/venv/lib/python3.8/site-packages/urllib3/connectionpool.py\u001b[0m in \u001b[0;36m_make_request\u001b[0;34m(self, conn, method, url, timeout, chunked, **httplib_request_kw)\u001b[0m\n\u001b[1;32m    424\u001b[0m                     \u001b[0;31m# Python 3 (including for exceptions like SystemExit).\u001b[0m\u001b[0;34m\u001b[0m\u001b[0;34m\u001b[0m\u001b[0;34m\u001b[0m\u001b[0m\n\u001b[1;32m    425\u001b[0m                     \u001b[0;31m# Otherwise it looks like a bug in the code.\u001b[0m\u001b[0;34m\u001b[0m\u001b[0;34m\u001b[0m\u001b[0;34m\u001b[0m\u001b[0m\n\u001b[0;32m--> 426\u001b[0;31m                     \u001b[0msix\u001b[0m\u001b[0;34m.\u001b[0m\u001b[0mraise_from\u001b[0m\u001b[0;34m(\u001b[0m\u001b[0me\u001b[0m\u001b[0;34m,\u001b[0m \u001b[0;32mNone\u001b[0m\u001b[0;34m)\u001b[0m\u001b[0;34m\u001b[0m\u001b[0;34m\u001b[0m\u001b[0m\n\u001b[0m\u001b[1;32m    427\u001b[0m         \u001b[0;32mexcept\u001b[0m \u001b[0;34m(\u001b[0m\u001b[0mSocketTimeout\u001b[0m\u001b[0;34m,\u001b[0m \u001b[0mBaseSSLError\u001b[0m\u001b[0;34m,\u001b[0m \u001b[0mSocketError\u001b[0m\u001b[0;34m)\u001b[0m \u001b[0;32mas\u001b[0m \u001b[0me\u001b[0m\u001b[0;34m:\u001b[0m\u001b[0;34m\u001b[0m\u001b[0;34m\u001b[0m\u001b[0m\n\u001b[1;32m    428\u001b[0m             \u001b[0mself\u001b[0m\u001b[0;34m.\u001b[0m\u001b[0m_raise_timeout\u001b[0m\u001b[0;34m(\u001b[0m\u001b[0merr\u001b[0m\u001b[0;34m=\u001b[0m\u001b[0me\u001b[0m\u001b[0;34m,\u001b[0m \u001b[0murl\u001b[0m\u001b[0;34m=\u001b[0m\u001b[0murl\u001b[0m\u001b[0;34m,\u001b[0m \u001b[0mtimeout_value\u001b[0m\u001b[0;34m=\u001b[0m\u001b[0mread_timeout\u001b[0m\u001b[0;34m)\u001b[0m\u001b[0;34m\u001b[0m\u001b[0;34m\u001b[0m\u001b[0m\n",
      "\u001b[0;32m~/Documents/jupyter/venv/lib/python3.8/site-packages/urllib3/packages/six.py\u001b[0m in \u001b[0;36mraise_from\u001b[0;34m(value, from_value)\u001b[0m\n",
      "\u001b[0;32m~/Documents/jupyter/venv/lib/python3.8/site-packages/urllib3/connectionpool.py\u001b[0m in \u001b[0;36m_make_request\u001b[0;34m(self, conn, method, url, timeout, chunked, **httplib_request_kw)\u001b[0m\n\u001b[1;32m    419\u001b[0m                 \u001b[0;31m# Python 3\u001b[0m\u001b[0;34m\u001b[0m\u001b[0;34m\u001b[0m\u001b[0;34m\u001b[0m\u001b[0m\n\u001b[1;32m    420\u001b[0m                 \u001b[0;32mtry\u001b[0m\u001b[0;34m:\u001b[0m\u001b[0;34m\u001b[0m\u001b[0;34m\u001b[0m\u001b[0m\n\u001b[0;32m--> 421\u001b[0;31m                     \u001b[0mhttplib_response\u001b[0m \u001b[0;34m=\u001b[0m \u001b[0mconn\u001b[0m\u001b[0;34m.\u001b[0m\u001b[0mgetresponse\u001b[0m\u001b[0;34m(\u001b[0m\u001b[0;34m)\u001b[0m\u001b[0;34m\u001b[0m\u001b[0;34m\u001b[0m\u001b[0m\n\u001b[0m\u001b[1;32m    422\u001b[0m                 \u001b[0;32mexcept\u001b[0m \u001b[0mBaseException\u001b[0m \u001b[0;32mas\u001b[0m \u001b[0me\u001b[0m\u001b[0;34m:\u001b[0m\u001b[0;34m\u001b[0m\u001b[0;34m\u001b[0m\u001b[0m\n\u001b[1;32m    423\u001b[0m                     \u001b[0;31m# Remove the TypeError from the exception chain in\u001b[0m\u001b[0;34m\u001b[0m\u001b[0;34m\u001b[0m\u001b[0;34m\u001b[0m\u001b[0m\n",
      "\u001b[0;32m/Library/Frameworks/Python.framework/Versions/3.8/lib/python3.8/http/client.py\u001b[0m in \u001b[0;36mgetresponse\u001b[0;34m(self)\u001b[0m\n\u001b[1;32m   1320\u001b[0m         \u001b[0;32mtry\u001b[0m\u001b[0;34m:\u001b[0m\u001b[0;34m\u001b[0m\u001b[0;34m\u001b[0m\u001b[0m\n\u001b[1;32m   1321\u001b[0m             \u001b[0;32mtry\u001b[0m\u001b[0;34m:\u001b[0m\u001b[0;34m\u001b[0m\u001b[0;34m\u001b[0m\u001b[0m\n\u001b[0;32m-> 1322\u001b[0;31m                 \u001b[0mresponse\u001b[0m\u001b[0;34m.\u001b[0m\u001b[0mbegin\u001b[0m\u001b[0;34m(\u001b[0m\u001b[0;34m)\u001b[0m\u001b[0;34m\u001b[0m\u001b[0;34m\u001b[0m\u001b[0m\n\u001b[0m\u001b[1;32m   1323\u001b[0m             \u001b[0;32mexcept\u001b[0m \u001b[0mConnectionError\u001b[0m\u001b[0;34m:\u001b[0m\u001b[0;34m\u001b[0m\u001b[0;34m\u001b[0m\u001b[0m\n\u001b[1;32m   1324\u001b[0m                 \u001b[0mself\u001b[0m\u001b[0;34m.\u001b[0m\u001b[0mclose\u001b[0m\u001b[0;34m(\u001b[0m\u001b[0;34m)\u001b[0m\u001b[0;34m\u001b[0m\u001b[0;34m\u001b[0m\u001b[0m\n",
      "\u001b[0;32m/Library/Frameworks/Python.framework/Versions/3.8/lib/python3.8/http/client.py\u001b[0m in \u001b[0;36mbegin\u001b[0;34m(self)\u001b[0m\n\u001b[1;32m    301\u001b[0m         \u001b[0;31m# read until we get a non-100 response\u001b[0m\u001b[0;34m\u001b[0m\u001b[0;34m\u001b[0m\u001b[0;34m\u001b[0m\u001b[0m\n\u001b[1;32m    302\u001b[0m         \u001b[0;32mwhile\u001b[0m \u001b[0;32mTrue\u001b[0m\u001b[0;34m:\u001b[0m\u001b[0;34m\u001b[0m\u001b[0;34m\u001b[0m\u001b[0m\n\u001b[0;32m--> 303\u001b[0;31m             \u001b[0mversion\u001b[0m\u001b[0;34m,\u001b[0m \u001b[0mstatus\u001b[0m\u001b[0;34m,\u001b[0m \u001b[0mreason\u001b[0m \u001b[0;34m=\u001b[0m \u001b[0mself\u001b[0m\u001b[0;34m.\u001b[0m\u001b[0m_read_status\u001b[0m\u001b[0;34m(\u001b[0m\u001b[0;34m)\u001b[0m\u001b[0;34m\u001b[0m\u001b[0;34m\u001b[0m\u001b[0m\n\u001b[0m\u001b[1;32m    304\u001b[0m             \u001b[0;32mif\u001b[0m \u001b[0mstatus\u001b[0m \u001b[0;34m!=\u001b[0m \u001b[0mCONTINUE\u001b[0m\u001b[0;34m:\u001b[0m\u001b[0;34m\u001b[0m\u001b[0;34m\u001b[0m\u001b[0m\n\u001b[1;32m    305\u001b[0m                 \u001b[0;32mbreak\u001b[0m\u001b[0;34m\u001b[0m\u001b[0;34m\u001b[0m\u001b[0m\n",
      "\u001b[0;32m/Library/Frameworks/Python.framework/Versions/3.8/lib/python3.8/http/client.py\u001b[0m in \u001b[0;36m_read_status\u001b[0;34m(self)\u001b[0m\n\u001b[1;32m    262\u001b[0m \u001b[0;34m\u001b[0m\u001b[0m\n\u001b[1;32m    263\u001b[0m     \u001b[0;32mdef\u001b[0m \u001b[0m_read_status\u001b[0m\u001b[0;34m(\u001b[0m\u001b[0mself\u001b[0m\u001b[0;34m)\u001b[0m\u001b[0;34m:\u001b[0m\u001b[0;34m\u001b[0m\u001b[0;34m\u001b[0m\u001b[0m\n\u001b[0;32m--> 264\u001b[0;31m         \u001b[0mline\u001b[0m \u001b[0;34m=\u001b[0m \u001b[0mstr\u001b[0m\u001b[0;34m(\u001b[0m\u001b[0mself\u001b[0m\u001b[0;34m.\u001b[0m\u001b[0mfp\u001b[0m\u001b[0;34m.\u001b[0m\u001b[0mreadline\u001b[0m\u001b[0;34m(\u001b[0m\u001b[0m_MAXLINE\u001b[0m \u001b[0;34m+\u001b[0m \u001b[0;36m1\u001b[0m\u001b[0;34m)\u001b[0m\u001b[0;34m,\u001b[0m \u001b[0;34m\"iso-8859-1\"\u001b[0m\u001b[0;34m)\u001b[0m\u001b[0;34m\u001b[0m\u001b[0;34m\u001b[0m\u001b[0m\n\u001b[0m\u001b[1;32m    265\u001b[0m         \u001b[0;32mif\u001b[0m \u001b[0mlen\u001b[0m\u001b[0;34m(\u001b[0m\u001b[0mline\u001b[0m\u001b[0;34m)\u001b[0m \u001b[0;34m>\u001b[0m \u001b[0m_MAXLINE\u001b[0m\u001b[0;34m:\u001b[0m\u001b[0;34m\u001b[0m\u001b[0;34m\u001b[0m\u001b[0m\n\u001b[1;32m    266\u001b[0m             \u001b[0;32mraise\u001b[0m \u001b[0mLineTooLong\u001b[0m\u001b[0;34m(\u001b[0m\u001b[0;34m\"status line\"\u001b[0m\u001b[0;34m)\u001b[0m\u001b[0;34m\u001b[0m\u001b[0;34m\u001b[0m\u001b[0m\n",
      "\u001b[0;32m/Library/Frameworks/Python.framework/Versions/3.8/lib/python3.8/socket.py\u001b[0m in \u001b[0;36mreadinto\u001b[0;34m(self, b)\u001b[0m\n\u001b[1;32m    667\u001b[0m         \u001b[0;32mwhile\u001b[0m \u001b[0;32mTrue\u001b[0m\u001b[0;34m:\u001b[0m\u001b[0;34m\u001b[0m\u001b[0;34m\u001b[0m\u001b[0m\n\u001b[1;32m    668\u001b[0m             \u001b[0;32mtry\u001b[0m\u001b[0;34m:\u001b[0m\u001b[0;34m\u001b[0m\u001b[0;34m\u001b[0m\u001b[0m\n\u001b[0;32m--> 669\u001b[0;31m                 \u001b[0;32mreturn\u001b[0m \u001b[0mself\u001b[0m\u001b[0;34m.\u001b[0m\u001b[0m_sock\u001b[0m\u001b[0;34m.\u001b[0m\u001b[0mrecv_into\u001b[0m\u001b[0;34m(\u001b[0m\u001b[0mb\u001b[0m\u001b[0;34m)\u001b[0m\u001b[0;34m\u001b[0m\u001b[0;34m\u001b[0m\u001b[0m\n\u001b[0m\u001b[1;32m    670\u001b[0m             \u001b[0;32mexcept\u001b[0m \u001b[0mtimeout\u001b[0m\u001b[0;34m:\u001b[0m\u001b[0;34m\u001b[0m\u001b[0;34m\u001b[0m\u001b[0m\n\u001b[1;32m    671\u001b[0m                 \u001b[0mself\u001b[0m\u001b[0;34m.\u001b[0m\u001b[0m_timeout_occurred\u001b[0m \u001b[0;34m=\u001b[0m \u001b[0;32mTrue\u001b[0m\u001b[0;34m\u001b[0m\u001b[0;34m\u001b[0m\u001b[0m\n",
      "\u001b[0;32m/Library/Frameworks/Python.framework/Versions/3.8/lib/python3.8/ssl.py\u001b[0m in \u001b[0;36mrecv_into\u001b[0;34m(self, buffer, nbytes, flags)\u001b[0m\n\u001b[1;32m   1239\u001b[0m                   \u001b[0;34m\"non-zero flags not allowed in calls to recv_into() on %s\"\u001b[0m \u001b[0;34m%\u001b[0m\u001b[0;34m\u001b[0m\u001b[0;34m\u001b[0m\u001b[0m\n\u001b[1;32m   1240\u001b[0m                   self.__class__)\n\u001b[0;32m-> 1241\u001b[0;31m             \u001b[0;32mreturn\u001b[0m \u001b[0mself\u001b[0m\u001b[0;34m.\u001b[0m\u001b[0mread\u001b[0m\u001b[0;34m(\u001b[0m\u001b[0mnbytes\u001b[0m\u001b[0;34m,\u001b[0m \u001b[0mbuffer\u001b[0m\u001b[0;34m)\u001b[0m\u001b[0;34m\u001b[0m\u001b[0;34m\u001b[0m\u001b[0m\n\u001b[0m\u001b[1;32m   1242\u001b[0m         \u001b[0;32melse\u001b[0m\u001b[0;34m:\u001b[0m\u001b[0;34m\u001b[0m\u001b[0;34m\u001b[0m\u001b[0m\n\u001b[1;32m   1243\u001b[0m             \u001b[0;32mreturn\u001b[0m \u001b[0msuper\u001b[0m\u001b[0;34m(\u001b[0m\u001b[0;34m)\u001b[0m\u001b[0;34m.\u001b[0m\u001b[0mrecv_into\u001b[0m\u001b[0;34m(\u001b[0m\u001b[0mbuffer\u001b[0m\u001b[0;34m,\u001b[0m \u001b[0mnbytes\u001b[0m\u001b[0;34m,\u001b[0m \u001b[0mflags\u001b[0m\u001b[0;34m)\u001b[0m\u001b[0;34m\u001b[0m\u001b[0;34m\u001b[0m\u001b[0m\n",
      "\u001b[0;32m/Library/Frameworks/Python.framework/Versions/3.8/lib/python3.8/ssl.py\u001b[0m in \u001b[0;36mread\u001b[0;34m(self, len, buffer)\u001b[0m\n\u001b[1;32m   1097\u001b[0m         \u001b[0;32mtry\u001b[0m\u001b[0;34m:\u001b[0m\u001b[0;34m\u001b[0m\u001b[0;34m\u001b[0m\u001b[0m\n\u001b[1;32m   1098\u001b[0m             \u001b[0;32mif\u001b[0m \u001b[0mbuffer\u001b[0m \u001b[0;32mis\u001b[0m \u001b[0;32mnot\u001b[0m \u001b[0;32mNone\u001b[0m\u001b[0;34m:\u001b[0m\u001b[0;34m\u001b[0m\u001b[0;34m\u001b[0m\u001b[0m\n\u001b[0;32m-> 1099\u001b[0;31m                 \u001b[0;32mreturn\u001b[0m \u001b[0mself\u001b[0m\u001b[0;34m.\u001b[0m\u001b[0m_sslobj\u001b[0m\u001b[0;34m.\u001b[0m\u001b[0mread\u001b[0m\u001b[0;34m(\u001b[0m\u001b[0mlen\u001b[0m\u001b[0;34m,\u001b[0m \u001b[0mbuffer\u001b[0m\u001b[0;34m)\u001b[0m\u001b[0;34m\u001b[0m\u001b[0;34m\u001b[0m\u001b[0m\n\u001b[0m\u001b[1;32m   1100\u001b[0m             \u001b[0;32melse\u001b[0m\u001b[0;34m:\u001b[0m\u001b[0;34m\u001b[0m\u001b[0;34m\u001b[0m\u001b[0m\n\u001b[1;32m   1101\u001b[0m                 \u001b[0;32mreturn\u001b[0m \u001b[0mself\u001b[0m\u001b[0;34m.\u001b[0m\u001b[0m_sslobj\u001b[0m\u001b[0;34m.\u001b[0m\u001b[0mread\u001b[0m\u001b[0;34m(\u001b[0m\u001b[0mlen\u001b[0m\u001b[0;34m)\u001b[0m\u001b[0;34m\u001b[0m\u001b[0;34m\u001b[0m\u001b[0m\n",
      "\u001b[0;31mKeyboardInterrupt\u001b[0m: "
     ]
    }
   ],
   "source": [
    "# парсинг всех страниц со всех страниц\n",
    "# НЕ МЕНЯТЬ КОД!!!\n",
    "job_no = 0\n",
    "while True:\n",
    "    \n",
    "    response = requests.get(url)\n",
    "    data = response.text\n",
    "    soup = BeautifulSoup(data,'html.parser')\n",
    "    jobs = soup.find_all(\"div\", {\"class\": \"project_white_box\"})\n",
    "    \n",
    "    for job in jobs:\n",
    "        title = job.find(\"h3\").text\n",
    "        project_link = job.find(\"a\", {\"target\": \"_top\"}).get('href')\n",
    "        author = job.find(\"span\").text\n",
    "        author_link = job.find(\"a\", {\"target\": \"_top\"}).get('href')\n",
    "        project = job.find(\"div\", {\"class\": \"image\"}).get('href')\n",
    "        cat = job.find(\"a\", {\"target\": \"_top\"}).text\n",
    "        job_response = requests.get(author_link)\n",
    "        job_data = job_response.text\n",
    "        job_soup = BeautifulSoup(job_data, 'html.parser')\n",
    "        job_description = job_soup.find('div', {'class':'w700 leftside'}).text\n",
    "        job_attributes_tag = job_soup.find('div', {'class':'user_about'})\n",
    "        job_attributes = job_attributes_tag.text if job_attributes_tag else \"N/A\"\n",
    "        job_no+=1\n",
    "        print ('Title:', title, '\\nProject_link:', project,\n",
    "               '\\nAuthor:', author, '\\nAuthorLink:', author_link,  \n",
    "               '\\nBio:', job_description, \n",
    "               '\\nCategory:', cat, '\\n---')\n",
    "    url_tag = soup.find('a',{'title':'Go to next page'})\n",
    "    if url_tag.get('href'):\n",
    "        url= 'https://www.hooandja.ee' + url_tag.get('href')\n",
    "        print(url)\n",
    "    else:\n",
    "        break\n",
    "        \n",
    "print(\"Total Jobs:\", job_no)\n"
   ]
  },
  {
   "cell_type": "code",
   "execution_count": null,
   "metadata": {},
   "outputs": [],
   "source": []
  },
  {
   "cell_type": "code",
   "execution_count": null,
   "metadata": {},
   "outputs": [],
   "source": []
  },
  {
   "cell_type": "code",
   "execution_count": null,
   "metadata": {},
   "outputs": [],
   "source": []
  },
  {
   "cell_type": "code",
   "execution_count": null,
   "metadata": {},
   "outputs": [],
   "source": []
  },
  {
   "cell_type": "code",
   "execution_count": null,
   "metadata": {},
   "outputs": [],
   "source": []
  },
  {
   "cell_type": "code",
   "execution_count": null,
   "metadata": {},
   "outputs": [],
   "source": []
  },
  {
   "cell_type": "code",
   "execution_count": null,
   "metadata": {},
   "outputs": [],
   "source": []
  },
  {
   "cell_type": "code",
   "execution_count": null,
   "metadata": {},
   "outputs": [],
   "source": []
  },
  {
   "cell_type": "code",
   "execution_count": null,
   "metadata": {},
   "outputs": [],
   "source": []
  },
  {
   "cell_type": "code",
   "execution_count": null,
   "metadata": {},
   "outputs": [],
   "source": []
  },
  {
   "cell_type": "code",
   "execution_count": null,
   "metadata": {},
   "outputs": [],
   "source": []
  },
  {
   "cell_type": "code",
   "execution_count": null,
   "metadata": {},
   "outputs": [],
   "source": []
  },
  {
   "cell_type": "code",
   "execution_count": null,
   "metadata": {},
   "outputs": [],
   "source": []
  },
  {
   "cell_type": "code",
   "execution_count": null,
   "metadata": {},
   "outputs": [],
   "source": []
  },
  {
   "cell_type": "code",
   "execution_count": null,
   "metadata": {},
   "outputs": [],
   "source": []
  },
  {
   "cell_type": "code",
   "execution_count": null,
   "metadata": {},
   "outputs": [],
   "source": []
  },
  {
   "cell_type": "code",
   "execution_count": null,
   "metadata": {},
   "outputs": [],
   "source": []
  },
  {
   "cell_type": "code",
   "execution_count": null,
   "metadata": {},
   "outputs": [],
   "source": []
  },
  {
   "cell_type": "code",
   "execution_count": null,
   "metadata": {},
   "outputs": [],
   "source": []
  },
  {
   "cell_type": "code",
   "execution_count": null,
   "metadata": {},
   "outputs": [],
   "source": []
  },
  {
   "cell_type": "code",
   "execution_count": null,
   "metadata": {},
   "outputs": [],
   "source": []
  },
  {
   "cell_type": "code",
   "execution_count": null,
   "metadata": {},
   "outputs": [],
   "source": []
  },
  {
   "cell_type": "code",
   "execution_count": null,
   "metadata": {},
   "outputs": [],
   "source": []
  },
  {
   "cell_type": "code",
   "execution_count": null,
   "metadata": {},
   "outputs": [],
   "source": []
  },
  {
   "cell_type": "code",
   "execution_count": null,
   "metadata": {},
   "outputs": [],
   "source": []
  },
  {
   "cell_type": "code",
   "execution_count": null,
   "metadata": {},
   "outputs": [],
   "source": []
  },
  {
   "cell_type": "code",
   "execution_count": null,
   "metadata": {},
   "outputs": [],
   "source": []
  },
  {
   "cell_type": "code",
   "execution_count": null,
   "metadata": {},
   "outputs": [],
   "source": [
    "    url_tag = soup.find('a',{'title':'Go to next page'})\n",
    "        if url_tag.get('href'):\n",
    "            url= 'https://www.hooandja.ee' + url_tag.get('href')\n",
    "            print(url)\n",
    "        else:\n",
    "            break\n",
    "\n",
    "    print(\"Total Jobs:\", job_no)\n",
    "    print ('Title:', title, '\\nProject_link:', project,\n",
    "                   '\\nAuthor:', author, '\\nAuthorLink:', author_link,  \n",
    "                   '\\nBio:', job_description, \n",
    "                   '\\nCategory:', cat, '\\n---')"
   ]
  },
  {
   "cell_type": "code",
   "execution_count": 161,
   "metadata": {},
   "outputs": [
    {
     "name": "stdout",
     "output_type": "stream",
     "text": [
      "Total Jobs: 0\n"
     ]
    }
   ],
   "source": [
    "print(\"Total Jobs:\", job_no)"
   ]
  },
  {
   "cell_type": "code",
   "execution_count": 162,
   "metadata": {},
   "outputs": [
    {
     "name": "stdout",
     "output_type": "stream",
     "text": [
      "Title: Lexsoul Dancemachine \"Lexplosion II\" album \n",
      "Project_link: None \n",
      "Author: Lexsoul Dancemachine  \n",
      "AuthorLink: https://www.hooandja.ee/users/353 \n",
      "Bio: Võib vist öelda, et mu elu on kirju nagu ka mu kirjutiste žanrivalik.\n",
      "\r\n",
      "Ca 14 aastat töötasin ajakirjanikuna, lisaks olen viimase 20 aasta jooksul kirjutanud luulet ja laulusõnu, kõnesid ja tervitusi, ürituste stsenaariumeid ja vahetekste, turundusjuhina kodulehekülje ja sotsiaalmeedia sisu. Olen tekste tõlkinud ja toimetanud.\n",
      "\r\n",
      "Kas see näitab mitmekülgsust või pealiskaudsust, otsusta ise. Samas - paljud kokad on suurepärased kondiitrid ja vastupidi.\n",
      "\r\n",
      "Mu töid on kogumikes avaldatud nii Eestis kui ka Šotimaal.  \n",
      "Category: Lexsoul Dancemachine  \n",
      "---\n"
     ]
    }
   ],
   "source": [
    "print ('Title:', title, '\\nProject_link:', project,\n",
    "               '\\nAuthor:', author, '\\nAuthorLink:', author_link,  \n",
    "               '\\nBio:', job_description, \n",
    "               '\\nCategory:', cat, '\\n---')"
   ]
  },
  {
   "cell_type": "code",
   "execution_count": null,
   "metadata": {},
   "outputs": [],
   "source": []
  },
  {
   "cell_type": "code",
   "execution_count": null,
   "metadata": {},
   "outputs": [],
   "source": []
  },
  {
   "cell_type": "code",
   "execution_count": null,
   "metadata": {},
   "outputs": [],
   "source": []
  },
  {
   "cell_type": "code",
   "execution_count": null,
   "metadata": {},
   "outputs": [],
   "source": []
  },
  {
   "cell_type": "code",
   "execution_count": null,
   "metadata": {},
   "outputs": [],
   "source": []
  },
  {
   "cell_type": "code",
   "execution_count": null,
   "metadata": {},
   "outputs": [],
   "source": []
  },
  {
   "cell_type": "code",
   "execution_count": null,
   "metadata": {},
   "outputs": [],
   "source": []
  },
  {
   "cell_type": "code",
   "execution_count": null,
   "metadata": {},
   "outputs": [],
   "source": []
  },
  {
   "cell_type": "code",
   "execution_count": null,
   "metadata": {},
   "outputs": [],
   "source": []
  },
  {
   "cell_type": "code",
   "execution_count": null,
   "metadata": {},
   "outputs": [],
   "source": []
  },
  {
   "cell_type": "code",
   "execution_count": null,
   "metadata": {},
   "outputs": [],
   "source": []
  },
  {
   "cell_type": "code",
   "execution_count": null,
   "metadata": {},
   "outputs": [],
   "source": []
  },
  {
   "cell_type": "code",
   "execution_count": null,
   "metadata": {},
   "outputs": [],
   "source": []
  },
  {
   "cell_type": "code",
   "execution_count": null,
   "metadata": {},
   "outputs": [],
   "source": [
    "# не верно\n",
    "for job in jobs:\n",
    "    title = job.find(\"h3\").text\n",
    "    project_link = job.find(\"a\", {\"target\": \"_top\"}).get('href')\n",
    "    author = job.find(\"span\").text\n",
    "    author_link = job.find(\"a\", {\"target\": \"_top\"}).get('href')\n",
    "    project = job.find(\"div\", {\"class\": \"image\"}).get('href')\n",
    "    cat = job.find(\"a\", {\"target\": \"_top\"}).text\n",
    "    job_response = requests.get(author_link)\n",
    "    job_data = job_response.text\n",
    "    job_soup = BeautifulSoup(job_data, 'html.parser')\n",
    "    # неверная последовательность !\n",
    "    job_description = job_soup.find('div',{'class':'w700 leftside'}).text\n",
    "    job_attributes_tag = job_soup.find('div',{'class':'user_about'})\n",
    "    job_attributes = job_attributes_tag.text if job_attributes_tag else \"N/A\"\n",
    "    \n",
    "    print ('Title:', title, '\\nProject_link:', project,\n",
    "           '\\nAuthor:', author, '\\nAuthorInfo:', author_link,  \n",
    "           '\\nBio', job_description, \n",
    "           '\\nCategory:', cat, '\\n---')"
   ]
  },
  {
   "cell_type": "code",
   "execution_count": null,
   "metadata": {},
   "outputs": [],
   "source": []
  },
  {
   "cell_type": "code",
   "execution_count": null,
   "metadata": {},
   "outputs": [],
   "source": []
  },
  {
   "cell_type": "code",
   "execution_count": null,
   "metadata": {},
   "outputs": [],
   "source": []
  },
  {
   "cell_type": "code",
   "execution_count": null,
   "metadata": {},
   "outputs": [],
   "source": []
  },
  {
   "cell_type": "code",
   "execution_count": null,
   "metadata": {},
   "outputs": [],
   "source": []
  },
  {
   "cell_type": "code",
   "execution_count": null,
   "metadata": {},
   "outputs": [],
   "source": []
  },
  {
   "cell_type": "code",
   "execution_count": null,
   "metadata": {},
   "outputs": [],
   "source": []
  },
  {
   "cell_type": "code",
   "execution_count": null,
   "metadata": {},
   "outputs": [],
   "source": []
  },
  {
   "cell_type": "code",
   "execution_count": null,
   "metadata": {},
   "outputs": [],
   "source": []
  },
  {
   "cell_type": "code",
   "execution_count": null,
   "metadata": {},
   "outputs": [],
   "source": []
  },
  {
   "cell_type": "code",
   "execution_count": null,
   "metadata": {},
   "outputs": [],
   "source": []
  },
  {
   "cell_type": "code",
   "execution_count": null,
   "metadata": {},
   "outputs": [],
   "source": []
  },
  {
   "cell_type": "code",
   "execution_count": null,
   "metadata": {},
   "outputs": [],
   "source": []
  },
  {
   "cell_type": "code",
   "execution_count": null,
   "metadata": {},
   "outputs": [],
   "source": []
  },
  {
   "cell_type": "code",
   "execution_count": null,
   "metadata": {},
   "outputs": [],
   "source": []
  },
  {
   "cell_type": "code",
   "execution_count": null,
   "metadata": {},
   "outputs": [],
   "source": []
  },
  {
   "cell_type": "code",
   "execution_count": null,
   "metadata": {},
   "outputs": [],
   "source": []
  },
  {
   "cell_type": "code",
   "execution_count": null,
   "metadata": {},
   "outputs": [],
   "source": []
  },
  {
   "cell_type": "code",
   "execution_count": null,
   "metadata": {},
   "outputs": [],
   "source": []
  },
  {
   "cell_type": "code",
   "execution_count": null,
   "metadata": {},
   "outputs": [],
   "source": []
  },
  {
   "cell_type": "code",
   "execution_count": null,
   "metadata": {},
   "outputs": [],
   "source": []
  },
  {
   "cell_type": "code",
   "execution_count": null,
   "metadata": {},
   "outputs": [],
   "source": []
  },
  {
   "cell_type": "code",
   "execution_count": null,
   "metadata": {},
   "outputs": [],
   "source": []
  },
  {
   "cell_type": "code",
   "execution_count": null,
   "metadata": {},
   "outputs": [],
   "source": []
  },
  {
   "cell_type": "code",
   "execution_count": null,
   "metadata": {},
   "outputs": [],
   "source": []
  },
  {
   "cell_type": "code",
   "execution_count": null,
   "metadata": {},
   "outputs": [],
   "source": []
  },
  {
   "cell_type": "code",
   "execution_count": null,
   "metadata": {},
   "outputs": [],
   "source": []
  },
  {
   "cell_type": "code",
   "execution_count": null,
   "metadata": {},
   "outputs": [],
   "source": []
  },
  {
   "cell_type": "code",
   "execution_count": null,
   "metadata": {},
   "outputs": [],
   "source": []
  },
  {
   "cell_type": "code",
   "execution_count": null,
   "metadata": {},
   "outputs": [],
   "source": []
  },
  {
   "cell_type": "code",
   "execution_count": null,
   "metadata": {},
   "outputs": [],
   "source": []
  },
  {
   "cell_type": "code",
   "execution_count": null,
   "metadata": {},
   "outputs": [],
   "source": []
  },
  {
   "cell_type": "code",
   "execution_count": null,
   "metadata": {},
   "outputs": [],
   "source": []
  },
  {
   "cell_type": "code",
   "execution_count": null,
   "metadata": {},
   "outputs": [],
   "source": []
  },
  {
   "cell_type": "code",
   "execution_count": null,
   "metadata": {},
   "outputs": [],
   "source": []
  },
  {
   "cell_type": "code",
   "execution_count": null,
   "metadata": {},
   "outputs": [],
   "source": []
  },
  {
   "cell_type": "code",
   "execution_count": null,
   "metadata": {},
   "outputs": [],
   "source": []
  },
  {
   "cell_type": "code",
   "execution_count": null,
   "metadata": {},
   "outputs": [],
   "source": []
  },
  {
   "cell_type": "code",
   "execution_count": null,
   "metadata": {},
   "outputs": [],
   "source": []
  },
  {
   "cell_type": "code",
   "execution_count": 75,
   "metadata": {},
   "outputs": [
    {
     "name": "stdout",
     "output_type": "stream",
     "text": [
      "Title:  Teraapia -ja meelesüsteemideaed Eesti matkapealinna Aegviitu Link:  https://www.hooandja.ee/projekt/prints-ja-kerjus\n",
      "Title:  Erik Juhandi debüütluulekogu \"Exitus\" Link:  https://www.hooandja.ee/projekt/prints-ja-kerjus\n",
      "Title:  Lühifilm \"Ohver\" Link:  https://www.hooandja.ee/projekt/prints-ja-kerjus\n",
      "Title:  Mari Kalkuni plaadi \"Õunaaia album\" ja video väljaandmine Link:  https://www.hooandja.ee/projekt/prints-ja-kerjus\n",
      "Title:  Kinkeraamat #õnnelikteekond #becominghappy Link:  https://www.hooandja.ee/projekt/prints-ja-kerjus\n",
      "Title:  Lexsoul Dancemachine \"Lexplosion II\" album Link:  https://www.hooandja.ee/projekt/prints-ja-kerjus\n",
      "Title:  Endise spordiajakirjaniku Valeri Maksimovi elulooraamat \"Hiiumehe ränd\" Link:  https://www.hooandja.ee/projekt/prints-ja-kerjus\n",
      "Title:  Narva Airsoft CQB areen Link:  https://www.hooandja.ee/projekt/prints-ja-kerjus\n",
      "Title:  VORONJA SKULPTUURIDE AED Link:  https://www.hooandja.ee/projekt/prints-ja-kerjus\n",
      "Title:  Film \"Ankeet\" Link:  https://www.hooandja.ee/projekt/prints-ja-kerjus\n",
      "Title:  Curly Strings ja sõbrad - heategevusliku albumi \"Lastele\" välja andmine Link:  https://www.hooandja.ee/projekt/prints-ja-kerjus\n",
      "Title:  \"mujal nüüd – elsewhere today\" raamatu väljaandmine Link:  https://www.hooandja.ee/projekt/prints-ja-kerjus\n",
      "Title:  Investeerimisraamat \"Sõltumatu naine. 5 sammu rahalise vabaduseni\" Link:  https://www.hooandja.ee/projekt/prints-ja-kerjus\n",
      "Title:  Lasteraamat \"Ei taha! Ei taha!\" Link:  https://www.hooandja.ee/projekt/prints-ja-kerjus\n",
      "Title:  Puhja kiriku lühtrite restaureerimine Link:  https://www.hooandja.ee/projekt/prints-ja-kerjus\n",
      "Title:  Ruudu Rahumaru fotomaali näitus \"Templihoidjad\" Link:  https://www.hooandja.ee/projekt/prints-ja-kerjus\n",
      "Title:  Palavikulilled Link:  https://www.hooandja.ee/projekt/prints-ja-kerjus\n",
      "Title:  Joel Remmel \"Live at Taff Club\" vinüülplaadi väljaandmine Link:  https://www.hooandja.ee/projekt/prints-ja-kerjus\n",
      "Title:  Raamatu \"Kõige magusam vili\" II osa väljaandmine Link:  https://www.hooandja.ee/projekt/prints-ja-kerjus\n",
      "Title:  Dagö \"Küte\" Link:  https://www.hooandja.ee/projekt/prints-ja-kerjus\n",
      "Title:  Ansambli Boamadu lühialbumi avaldamine Link:  https://www.hooandja.ee/projekt/prints-ja-kerjus\n",
      "Title:  Madalseiklusrada Laulasmaa Koolile Link:  https://www.hooandja.ee/projekt/prints-ja-kerjus\n",
      "Title:  Culpas - \"Leo Põld\" Muusikavideo Link:  https://www.hooandja.ee/projekt/prints-ja-kerjus\n",
      "Title:  Kristiina Ehini uue luulekogu \"Janu on kõikidel üks\" väljaandmine Link:  https://www.hooandja.ee/projekt/prints-ja-kerjus\n",
      "Title:  Raamat \"Riigid, mida pole olemas\" Link:  https://www.hooandja.ee/projekt/prints-ja-kerjus\n",
      "Title:  Kevin Jurs CrossFit Gamesile 2020 Link:  https://www.hooandja.ee/projekt/prints-ja-kerjus\n",
      "Title:  Rupert Sheldrake Eestis: \"Teadus ja vaimne praktika\" Link:  https://www.hooandja.ee/projekt/prints-ja-kerjus\n",
      "Title:  Merisiil ja karuäke Link:  https://www.hooandja.ee/projekt/prints-ja-kerjus\n",
      "Title:  Jazzilegend Stéphane Grappelli elulooraamat \"Pagasiks vaid viiul\" Link:  https://www.hooandja.ee/projekt/prints-ja-kerjus\n",
      "Title:  Tartu Tamme Kooli suurlavastus \"Prints ja kerjus\" Link:  https://www.hooandja.ee/projekt/prints-ja-kerjus\n"
     ]
    }
   ],
   "source": [
    "jobs = soup.find_all(\"div\", {\"class\": \"desc\"})\n",
    "for job in jobs:\n",
    "    title = job.find(\"h3\").text\n",
    "    print ('Title: ', title, 'Link: ', block)"
   ]
  },
  {
   "cell_type": "code",
   "execution_count": null,
   "metadata": {},
   "outputs": [],
   "source": []
  },
  {
   "cell_type": "code",
   "execution_count": 67,
   "metadata": {},
   "outputs": [],
   "source": []
  },
  {
   "cell_type": "code",
   "execution_count": 68,
   "metadata": {},
   "outputs": [],
   "source": []
  },
  {
   "cell_type": "code",
   "execution_count": 72,
   "metadata": {},
   "outputs": [
    {
     "name": "stdout",
     "output_type": "stream",
     "text": [
      "Title:  Tartu Tamme Kooli suurlavastus \"Prints ja kerjus\" Link:  https://www.hooandja.ee/projekt/prints-ja-kerjus\n"
     ]
    }
   ],
   "source": []
  },
  {
   "cell_type": "code",
   "execution_count": 51,
   "metadata": {},
   "outputs": [
    {
     "name": "stdout",
     "output_type": "stream",
     "text": [
      "Tartu Tamme Kooli suurlavastus \"Prints ja kerjus\"\n"
     ]
    }
   ],
   "source": [
    "print(title.text)"
   ]
  },
  {
   "cell_type": "code",
   "execution_count": null,
   "metadata": {},
   "outputs": [],
   "source": []
  },
  {
   "cell_type": "code",
   "execution_count": 50,
   "metadata": {},
   "outputs": [
    {
     "name": "stdout",
     "output_type": "stream",
     "text": [
      "Teraapia -ja meelesüsteemideaed Eesti matkapealinna Aegviitu\n",
      "Erik Juhandi debüütluulekogu \"Exitus\"\n",
      "Lühifilm \"Ohver\"\n",
      "Mari Kalkuni plaadi \"Õunaaia album\" ja video väljaandmine\n",
      "Kinkeraamat #õnnelikteekond #becominghappy\n",
      "Lexsoul Dancemachine \"Lexplosion II\" album\n",
      "Endise spordiajakirjaniku Valeri Maksimovi elulooraamat \"Hiiumehe ränd\"\n",
      "Narva Airsoft CQB areen\n",
      "VORONJA SKULPTUURIDE AED\n",
      "Film \"Ankeet\"\n",
      "Curly Strings ja sõbrad - heategevusliku albumi \"Lastele\" välja andmine\n",
      "\"mujal nüüd – elsewhere today\" raamatu väljaandmine\n",
      "Investeerimisraamat \"Sõltumatu naine. 5 sammu rahalise vabaduseni\"\n",
      "Lasteraamat \"Ei taha! Ei taha!\"\n",
      "Puhja kiriku lühtrite restaureerimine\n",
      "Ruudu Rahumaru fotomaali näitus \"Templihoidjad\"\n",
      "Palavikulilled\n",
      "Joel Remmel \"Live at Taff Club\" vinüülplaadi väljaandmine\n",
      "Raamatu \"Kõige magusam vili\" II osa väljaandmine\n",
      "Dagö \"Küte\"\n",
      "Ansambli Boamadu lühialbumi avaldamine\n",
      "Madalseiklusrada Laulasmaa Koolile\n",
      "Culpas - \"Leo Põld\" Muusikavideo\n",
      "Kristiina Ehini uue luulekogu \"Janu on kõikidel üks\" väljaandmine\n",
      "Raamat \"Riigid, mida pole olemas\"\n",
      "Kevin Jurs CrossFit Gamesile 2020\n",
      "Rupert Sheldrake Eestis: \"Teadus ja vaimne praktika\"\n",
      "Merisiil ja karuäke\n",
      "Jazzilegend Stéphane Grappelli elulooraamat \"Pagasiks vaid viiul\"\n",
      "Tartu Tamme Kooli suurlavastus \"Prints ja kerjus\"\n"
     ]
    }
   ],
   "source": [
    "titles = soup.find_all('h3')\n",
    "for title in titles:\n",
    "    print(title.text)"
   ]
  },
  {
   "cell_type": "code",
   "execution_count": 44,
   "metadata": {},
   "outputs": [
    {
     "name": "stdout",
     "output_type": "stream",
     "text": [
      "Teraapia -ja meelesüsteemideaed Eesti matkapealinna Aegviitu\n",
      "Erik Juhandi debüütluulekogu \"Exitus\"\n",
      "Lühifilm \"Ohver\"\n",
      "Mari Kalkuni plaadi \"Õunaaia album\" ja video väljaandmine\n",
      "Kinkeraamat #õnnelikteekond #becominghappy\n",
      "Lexsoul Dancemachine \"Lexplosion II\" album\n",
      "Endise spordiajakirjaniku Valeri Maksimovi elulooraamat \"Hiiumehe ränd\"\n",
      "Narva Airsoft CQB areen\n",
      "VORONJA SKULPTUURIDE AED\n",
      "Film \"Ankeet\"\n",
      "Curly Strings ja sõbrad - heategevusliku albumi \"Lastele\" välja andmine\n",
      "\"mujal nüüd – elsewhere today\" raamatu väljaandmine\n",
      "Investeerimisraamat \"Sõltumatu naine. 5 sammu rahalise vabaduseni\"\n",
      "Lasteraamat \"Ei taha! Ei taha!\"\n",
      "Puhja kiriku lühtrite restaureerimine\n",
      "Ruudu Rahumaru fotomaali näitus \"Templihoidjad\"\n",
      "Palavikulilled\n",
      "Joel Remmel \"Live at Taff Club\" vinüülplaadi väljaandmine\n",
      "Raamatu \"Kõige magusam vili\" II osa väljaandmine\n",
      "Dagö \"Küte\"\n",
      "Ansambli Boamadu lühialbumi avaldamine\n",
      "Madalseiklusrada Laulasmaa Koolile\n",
      "Culpas - \"Leo Põld\" Muusikavideo\n",
      "Kristiina Ehini uue luulekogu \"Janu on kõikidel üks\" väljaandmine\n",
      "Raamat \"Riigid, mida pole olemas\"\n",
      "Kevin Jurs CrossFit Gamesile 2020\n",
      "Rupert Sheldrake Eestis: \"Teadus ja vaimne praktika\"\n",
      "Merisiil ja karuäke\n",
      "Jazzilegend Stéphane Grappelli elulooraamat \"Pagasiks vaid viiul\"\n",
      "Tartu Tamme Kooli suurlavastus \"Prints ja kerjus\"\n"
     ]
    }
   ],
   "source": []
  },
  {
   "cell_type": "code",
   "execution_count": null,
   "metadata": {},
   "outputs": [],
   "source": []
  },
  {
   "cell_type": "code",
   "execution_count": null,
   "metadata": {},
   "outputs": [],
   "source": []
  },
  {
   "cell_type": "code",
   "execution_count": null,
   "metadata": {},
   "outputs": [],
   "source": []
  },
  {
   "cell_type": "code",
   "execution_count": null,
   "metadata": {},
   "outputs": [],
   "source": []
  },
  {
   "cell_type": "code",
   "execution_count": null,
   "metadata": {},
   "outputs": [],
   "source": []
  },
  {
   "cell_type": "code",
   "execution_count": null,
   "metadata": {},
   "outputs": [],
   "source": []
  },
  {
   "cell_type": "code",
   "execution_count": null,
   "metadata": {},
   "outputs": [],
   "source": []
  },
  {
   "cell_type": "code",
   "execution_count": null,
   "metadata": {},
   "outputs": [],
   "source": []
  },
  {
   "cell_type": "code",
   "execution_count": null,
   "metadata": {},
   "outputs": [],
   "source": [
    "title"
   ]
  },
  {
   "cell_type": "code",
   "execution_count": null,
   "metadata": {},
   "outputs": [],
   "source": []
  },
  {
   "cell_type": "code",
   "execution_count": null,
   "metadata": {},
   "outputs": [],
   "source": []
  },
  {
   "cell_type": "code",
   "execution_count": null,
   "metadata": {},
   "outputs": [],
   "source": []
  },
  {
   "cell_type": "code",
   "execution_count": null,
   "metadata": {},
   "outputs": [],
   "source": []
  },
  {
   "cell_type": "code",
   "execution_count": 97,
   "metadata": {},
   "outputs": [],
   "source": [
    "links = html.find_all(\"a\")"
   ]
  },
  {
   "cell_type": "code",
   "execution_count": 98,
   "metadata": {},
   "outputs": [
    {
     "name": "stdout",
     "output_type": "stream",
     "text": [
      "[<a href=\"/\" id=\"logo\"><img alt=\"Home\" src=\"https://www.hooandja.ee/sites/all/themes/hooandjatheme/logo.png\"/></a>, <a href=\"/avasta/viimati-lisatud\"><span>Avasta</span>suurepäraseid projekte</a>, <a href=\"/alusta\"><span>Alusta</span> oma projektiga</a>, <a class=\"primary\" href=\"/user\">Logi sisse</a>, <a class=\"primary\" href=\"\">Eesti</a>, <a class=\"language-link active\" href=\"/avasta/edukad\" xml:lang=\"et\">Eesti</a>, <a class=\"language-link\" href=\"/en/avasta/edukad\" xml:lang=\"en\">English</a>, <a class=\"language-link\" href=\"/ru/avasta/edukad\" xml:lang=\"ru\">Русский</a>, <a href=\"https://www.hooandja.ee/users/info220\" target=\"_top\"><span>Eesti Loodus- ja Loomateraapiakeskus </span></a>, <a href=\"https://www.hooandja.ee/avasta/kategooriad/keskkond\" target=\"_top\">Keskkond</a>, <a href=\"https://www.hooandja.ee/projekt/teraapia-ja-meelesusteemideaed-aegviitu\" target=\"_top\"><img src=\"https://www.hooandja.ee/sites/default/files/styles/200x229/public/project_images/foto_1.jpg?itok=t7YMPrFk\" width=\"200\"/></a>, <a href=\"https://www.hooandja.ee/users/erikjuhandi\" target=\"_top\"><span>Erik Juhandi </span></a>, <a href=\"https://www.hooandja.ee/avasta/kategooriad/trukis\" target=\"_top\">Trükis</a>, <a href=\"https://www.hooandja.ee/projekt/exitus\" target=\"_top\"><img src=\"https://www.hooandja.ee/sites/default/files/styles/200x229/public/project_images/20171010_174054000_ios.jpg?itok=ATinqSlx\" width=\"200\"/></a>, <a href=\"https://www.hooandja.ee/users/nataliamachenene\" target=\"_top\"><span>Natalja Matsenene </span></a>, <a href=\"https://www.hooandja.ee/avasta/kategooriad/film-foto\" target=\"_top\">Film &amp; Foto</a>, <a href=\"https://www.hooandja.ee/projekt/luhifilm-ohver\" target=\"_top\"><img src=\"https://www.hooandja.ee/sites/default/files/styles/200x229/public/project_images/foto1.png?itok=Hffi9ME5\" width=\"200\"/></a>, <a href=\"https://www.hooandja.ee/users/marikalkun\" target=\"_top\"><span>Mari Kalkun </span></a>, <a href=\"https://www.hooandja.ee/avasta/kategooriad/muusika\" target=\"_top\">Muusika</a>, <a href=\"https://www.hooandja.ee/projekt/mari-kalkuni-ounaaia-luhialbum\" target=\"_top\"><img src=\"https://www.hooandja.ee/sites/default/files/styles/200x229/public/project_images/mari_kalkun_ruudurahumaru_2019_12.jpg?itok=0pylvjD-\" width=\"200\"/></a>, <a href=\"https://www.hooandja.ee/users/birgititse\" target=\"_top\"><span>Birgit Itse </span></a>, <a href=\"https://www.hooandja.ee/avasta/kategooriad/trukis\" target=\"_top\">Trükis</a>, <a href=\"https://www.hooandja.ee/projekt/kinkeraamat-onnelikteekond-becominghappy\" target=\"_top\"><img src=\"https://www.hooandja.ee/sites/default/files/styles/200x229/public/project_images/100733368_273507630504012_8516640661561147392_n.jpg?itok=mvaj0P_Z\" width=\"200\"/></a>, <a href=\"https://www.hooandja.ee/users/353\" target=\"_top\"><span>Lexsoul Dancemachine </span></a>, <a href=\"https://www.hooandja.ee/avasta/kategooriad/muusika\" target=\"_top\">Muusika</a>, <a href=\"https://www.hooandja.ee/projekt/lexsoul-dancemachine-lexplosion-ii-album\" target=\"_top\"><img src=\"https://www.hooandja.ee/sites/default/files/styles/200x229/public/project_images/lexplosion_ii_lp_cover.jpg?itok=q_UUBiQm\" width=\"200\"/></a>, <a href=\"https://www.hooandja.ee/users/tiinalelumees\" target=\"_top\"><span>Tiina Lelumees </span></a>, <a href=\"https://www.hooandja.ee/avasta/kategooriad/trukis\" target=\"_top\">Trükis</a>, <a href=\"https://www.hooandja.ee/projekt/valeri-maksimovi-elulooraamat\" target=\"_top\"><img src=\"https://www.hooandja.ee/sites/default/files/styles/200x229/public/project_images/valeri12_0.jpg?itok=koRS3pEC\" width=\"200\"/></a>, <a href=\"https://www.hooandja.ee/users/zrasahan\" target=\"_top\"><span>Alex Zrajev </span></a>, <a href=\"https://www.hooandja.ee/avasta/kategooriad/sport\" target=\"_top\">Sport</a>, <a href=\"https://www.hooandja.ee/projekt/narva-airsoft-cqb-areen\" target=\"_top\"><img src=\"https://www.hooandja.ee/sites/default/files/styles/200x229/public/project_images/kaanepilt_ida-paasuke.jpg?itok=Elo8Ohwb\" width=\"200\"/></a>, <a href=\"https://www.hooandja.ee/users/raul\" target=\"_top\"><span>Raul Oreškin </span></a>, <a href=\"https://www.hooandja.ee/avasta/kategooriad/kunst\" target=\"_top\">Kunst</a>, <a href=\"https://www.hooandja.ee/projekt/voronja-skulptuuride-aed\" target=\"_top\"><img src=\"https://www.hooandja.ee/sites/default/files/styles/200x229/public/project_images/hooandja_paisepilt.jpg?itok=zpVGcFMs\" width=\"200\"/></a>, <a href=\"https://www.hooandja.ee/users/saljona\" target=\"_top\"><span>Aljona Surzhikova </span></a>, <a href=\"https://www.hooandja.ee/avasta/kategooriad/film-foto\" target=\"_top\">Film &amp; Foto</a>, <a href=\"https://www.hooandja.ee/projekt/film-ankeet\" target=\"_top\"><img src=\"https://www.hooandja.ee/sites/default/files/styles/200x229/public/project_images/algus2.jpg?itok=Id7l8g8f\" width=\"200\"/></a>, <a href=\"https://www.hooandja.ee/users/curlystringsestonia\" target=\"_top\"><span>Curly Strings </span></a>, <a href=\"https://www.hooandja.ee/avasta/kategooriad/trukis\" target=\"_top\">Trükis</a>, <a href=\"https://www.hooandja.ee/projekt/curly-strings-heategevuslik-album-lastele\" target=\"_top\"><img src=\"https://www.hooandja.ee/sites/default/files/styles/200x229/public/project_images/zfpveg3c.jpeg?itok=Xe9Ll-Ns\" width=\"200\"/></a>, <a href=\"https://www.hooandja.ee/users/lembelokk\" target=\"_top\"><span>Lembe Lokk </span></a>, <a href=\"https://www.hooandja.ee/avasta/kategooriad/trukis\" target=\"_top\">Trükis</a>, <a href=\"https://www.hooandja.ee/projekt/elsewhere-today\" target=\"_top\"><img src=\"https://www.hooandja.ee/sites/default/files/styles/200x229/public/project_images/hooandja_lembe_lokk.jpg?itok=Xuf5igRb\" width=\"200\"/></a>, <a href=\"https://www.hooandja.ee/users/meritraju\" target=\"_top\"><span>Merit Raju </span></a>, <a href=\"https://www.hooandja.ee/avasta/kategooriad/trukis\" target=\"_top\">Trükis</a>, <a href=\"https://www.hooandja.ee/projekt/raamat-soltumatu-naine\" target=\"_top\"><img src=\"https://www.hooandja.ee/sites/default/files/styles/200x229/public/project_images/merit_raju-fotograaf_triin_maasik.jpg?itok=i-0Zazrf\" width=\"200\"/></a>, <a href=\"https://www.hooandja.ee/users/terjevooglaid\" target=\"_top\"><span>Terje Vooglaid </span></a>, <a href=\"https://www.hooandja.ee/avasta/kategooriad/trukis\" target=\"_top\">Trükis</a>, <a href=\"https://www.hooandja.ee/projekt/ei-taha-ei-taha\" target=\"_top\"><img src=\"https://www.hooandja.ee/sites/default/files/styles/200x229/public/project_images/eitaharaamat.png?itok=ZXew5vwh\" width=\"200\"/></a>, <a href=\"https://www.hooandja.ee/users/tiitkuusemaa\" target=\"_top\"><span>Tiit Kuusemaa </span></a>, <a href=\"https://www.hooandja.ee/avasta/kategooriad/kodanikualgatus\" target=\"_top\">Kodanikualgatus</a>, <a href=\"https://www.hooandja.ee/projekt/puhja-kiriku-luhtrite-restaureerimine\" target=\"_top\"><img src=\"https://www.hooandja.ee/sites/default/files/styles/200x229/public/project_images/hooandjale_0.jpg?itok=dGRoP4cg\" width=\"200\"/></a>, <a href=\"https://www.hooandja.ee/users/ruudusandra\" target=\"_top\"><span>Ruudu Sandra </span></a>, <a href=\"https://www.hooandja.ee/avasta/kategooriad/kunst\" target=\"_top\">Kunst</a>, <a href=\"https://www.hooandja.ee/projekt/templihoidjad\" target=\"_top\"><img src=\"https://www.hooandja.ee/sites/default/files/styles/200x229/public/project_images/projekti_iseloomustav_pilt_2_1.jpg?itok=b6EEJrSh\" width=\"200\"/></a>, <a href=\"https://www.hooandja.ee/users/teejakohvi\" target=\"_top\"><span>Indrek Koff </span></a>, <a href=\"https://www.hooandja.ee/avasta/kategooriad/trukis\" target=\"_top\">Trükis</a>, <a href=\"https://www.hooandja.ee/projekt/palavikulilled\" target=\"_top\"><img src=\"https://www.hooandja.ee/sites/default/files/styles/200x229/public/project_images/capture_decran_2020-03-27_a_07.28.32.jpg?itok=XY77cFeH\" width=\"200\"/></a>, <a href=\"https://www.hooandja.ee/users/joelremmel\" target=\"_top\"><span>joelremmel </span></a>, <a href=\"https://www.hooandja.ee/avasta/kategooriad/muusika\" target=\"_top\">Muusika</a>, <a href=\"https://www.hooandja.ee/projekt/joel-remmel-live-taff-club\" target=\"_top\"><img src=\"https://www.hooandja.ee/sites/default/files/styles/200x229/public/project_images/joel-ig-story3_0.jpg?itok=7-rcOYEW\" width=\"200\"/></a>, <a href=\"https://www.hooandja.ee/users/reginaatkajaakson1\" target=\"_top\"><span>Regina Jaakson </span></a>, <a href=\"https://www.hooandja.ee/avasta/kategooriad/trukis\" target=\"_top\">Trükis</a>, <a href=\"https://www.hooandja.ee/projekt/raamatu-koige-magusam-vili-ii-osa-valjaandmine\" target=\"_top\"><img src=\"https://www.hooandja.ee/sites/default/files/styles/200x229/public/project_images/poimunud_hinged-_kaas.jpg?itok=aiRJGhp9\" width=\"200\"/></a>, <a href=\"https://www.hooandja.ee/users/lauri8\" target=\"_top\"><span>Lauri Saatpalu </span></a>, <a href=\"https://www.hooandja.ee/avasta/kategooriad/muusika\" target=\"_top\">Muusika</a>, <a href=\"https://www.hooandja.ee/projekt/dago-kute\" target=\"_top\"><img src=\"https://www.hooandja.ee/sites/default/files/styles/200x229/public/project_images/dago-kute-esikaas-k-04.jpg?itok=qpcp2usm\" width=\"200\"/></a>, <a href=\"https://www.hooandja.ee/users/veli1\" target=\"_top\"><span>Veli Rooger </span></a>, <a href=\"https://www.hooandja.ee/avasta/kategooriad/muusika\" target=\"_top\">Muusika</a>, <a href=\"https://www.hooandja.ee/projekt/ansambli-boamadu-luhialbum-20\" target=\"_top\"><img src=\"https://www.hooandja.ee/sites/default/files/styles/200x229/public/project_images/boa_must_ruut_puhas_0.jpg?itok=zaULxqp9\" width=\"200\"/></a>, <a href=\"https://www.hooandja.ee/users/kristiinavahk\" target=\"_top\"><span>Kristiina Vähk </span></a>, <a href=\"https://www.hooandja.ee/avasta/kategooriad/haridus\" target=\"_top\">Haridus</a>, <a href=\"https://www.hooandja.ee/projekt/madalseiklusrada-laulasmaa-koolile\" target=\"_top\"><img src=\"https://www.hooandja.ee/sites/default/files/styles/200x229/public/project_images/89875975_3673882922653113_6932539800901648384_o.jpg?itok=tGz7pnUl\" width=\"200\"/></a>, <a href=\"https://www.hooandja.ee/users/keiokardla\" target=\"_top\"><span>Keio Kärdla </span></a>, <a href=\"https://www.hooandja.ee/avasta/kategooriad/muusika\" target=\"_top\">Muusika</a>, <a href=\"https://www.hooandja.ee/projekt/culpas-leo-pold-muusikavideo\" target=\"_top\"><img src=\"https://www.hooandja.ee/sites/default/files/styles/200x229/public/project_images/img_5117.jpg?itok=JWM8yGaw\" width=\"200\"/></a>, <a href=\"https://www.hooandja.ee/users/kristiinaehin\" target=\"_top\"><span>kristiina ehin </span></a>, <a href=\"https://www.hooandja.ee/avasta/kategooriad/trukis\" target=\"_top\">Trükis</a>, <a href=\"https://www.hooandja.ee/projekt/kristiina-ehini-uue-luulekogu-janu-koikidel-uks-valjaandmine\" target=\"_top\"><img src=\"https://www.hooandja.ee/sites/default/files/styles/200x229/public/project_images/kristina_raamatukuhjaga._kaari_pilt.jpg?itok=AMHdqQh0\" width=\"200\"/></a>, <a href=\"https://www.hooandja.ee/users/silviaparmann\" target=\"_top\"><span>Silvia Pärmann </span></a>, <a href=\"https://www.hooandja.ee/avasta/kategooriad/trukis\" target=\"_top\">Trükis</a>, <a href=\"https://www.hooandja.ee/projekt/raamat-riigid-mida-pole-olemas\" target=\"_top\"><img src=\"https://www.hooandja.ee/sites/default/files/styles/200x229/public/project_images/riigid1_0.jpg?itok=stC4Iin_\" width=\"200\"/></a>, <a href=\"https://www.hooandja.ee/users/kevinjurs\" target=\"_top\"><span>Kevin Jurs </span></a>, <a href=\"https://www.hooandja.ee/avasta/kategooriad/sport\" target=\"_top\">Sport</a>, <a href=\"https://www.hooandja.ee/projekt/kevin-jurs-crossfit-gamesile-2020\" target=\"_top\"><img src=\"https://www.hooandja.ee/sites/default/files/styles/200x229/public/project_images/proktiiseloomustus.jpg?itok=fqpXsKJc\" width=\"200\"/></a>, <a href=\"https://www.hooandja.ee/users/hardopajula\" target=\"_top\"><span>Hardo Pajula </span></a>, <a href=\"https://www.hooandja.ee/avasta/kategooriad/looduskaitse\" target=\"_top\">Sündmus</a>, <a href=\"https://www.hooandja.ee/projekt/rupert-sheldrake-eestis-teadus-ja-vaimne-praktika\" target=\"_top\"><img src=\"https://www.hooandja.ee/sites/default/files/styles/200x229/public/project_images/sheldrake.jpeg?itok=kVH7m6oM\" width=\"200\"/></a>, <a href=\"https://www.hooandja.ee/users/vendvemmal\" target=\"_top\"><span>Gunnar Vemmal Saar </span></a>, <a href=\"https://www.hooandja.ee/avasta/kategooriad/trukis\" target=\"_top\">Trükis</a>, <a href=\"https://www.hooandja.ee/projekt/merisiil-ja-karuake\" target=\"_top\"><img src=\"https://www.hooandja.ee/sites/default/files/styles/200x229/public/project_images/20190126_205107_0.jpg?itok=onO9_T7W\" width=\"200\"/></a>, <a href=\"https://www.hooandja.ee/users/kpiret\" target=\"_top\"><span>Piret Kärm </span></a>, <a href=\"https://www.hooandja.ee/avasta/kategooriad/trukis\" target=\"_top\">Trükis</a>, <a href=\"https://www.hooandja.ee/projekt/stephane-grappelli-elulooraamat\" target=\"_top\"><img src=\"https://www.hooandja.ee/sites/default/files/styles/200x229/public/project_images/20200207_kiurkaasik_grappelli.jpg?itok=jzq-oCvS\" width=\"200\"/></a>, <a href=\"https://www.hooandja.ee/users/anti5\" target=\"_top\"><span>Anti Kadajane </span></a>, <a href=\"https://www.hooandja.ee/avasta/kategooriad/haridus\" target=\"_top\">Haridus</a>, <a href=\"https://www.hooandja.ee/projekt/prints-ja-kerjus\" target=\"_top\"><img src=\"https://www.hooandja.ee/sites/default/files/styles/200x229/public/project_images/tamme_kooli_pilt_1.jpg?itok=iNupWgul\" width=\"200\"/></a>, <a href=\"/avasta/edukad?page=1\" title=\"Go to page 2\">2</a>, <a href=\"/avasta/edukad?page=2\" title=\"Go to page 3\">3</a>, <a href=\"/avasta/edukad?page=3\" title=\"Go to page 4\">4</a>, <a href=\"/avasta/edukad?page=4\" title=\"Go to page 5\">5</a>, <a href=\"/avasta/edukad?page=5\" title=\"Go to page 6\">6</a>, <a href=\"/avasta/edukad?page=6\" title=\"Go to page 7\">7</a>, <a href=\"/avasta/edukad?page=7\" title=\"Go to page 8\">8</a>, <a href=\"/avasta/edukad?page=8\" title=\"Go to page 9\">9</a>, <a href=\"/avasta/edukad?page=1\" title=\"Go to next page\">järgmine › </a>, <a href=\"/avasta/edukad?page=39\" title=\"Go to last page\">viimane » </a>, <a href=\"/avasta/esiletostetud\" title=\"\">Esiletõstetud</a>, <a class=\"active-trail active\" href=\"/avasta/edukad\" title=\"\">Edukalt lõppenud</a>, <a href=\"/avasta/viimati-lisatud\" title=\"\">Viimati lisatud</a>, <a href=\"/avasta/loppevad\" title=\"\">Lõppevad</a>, <a href=\"/avasta/enim-toetatud\" title=\"\">Enim toetatud</a>, <a class=\"\" href=\"/avasta/kategooriad/disain\">Disain</a>, <a class=\"\" href=\"/avasta/kategooriad/kodanikualgatus\">Kodanikualgatus</a>, <a class=\"\" href=\"/avasta/kategooriad/film-foto\">Film &amp; Foto</a>, <a class=\"\" href=\"/avasta/kategooriad/ev100\">EV100</a>, <a class=\"\" href=\"/avasta/kategooriad/Kultuurisaadikud\">Kultuurisaadikud</a>, <a class=\"\" href=\"/avasta/kategooriad/kunst\">Kunst</a>, <a class=\"\" href=\"/avasta/kategooriad/meedia\">Meedia</a>, <a class=\"\" href=\"/avasta/kategooriad/muusika\">Muusika</a>, <a class=\"\" href=\"/avasta/kategooriad/M%C3%A4ng\">Mäng</a>, <a class=\"\" href=\"/avasta/kategooriad/sundmused\">Sündmus</a>, <a class=\"\" href=\"/avasta/kategooriad/teater\">Teater</a>, <a class=\"\" href=\"/avasta/kategooriad/tehnoloogia\">Tehnoloogia</a>, <a class=\"\" href=\"/avasta/kategooriad/trukis\">Trükis</a>, <a class=\"top\" href=\"#top\"><img alt=\"Up\" src=\"https://www.hooandja.ee/sites/all/themes/hooandjatheme/static/imgs/up.png\"/></a>, <a href=\"/content/kasutustingimused\">Kasutustingimused</a>, <a href=\"/content/hooandja-teenustasud\">Teenustasud</a>, <a href=\"/abinurk\">Abinurk</a>, <a href=\"http://www.hooandja.ee/sites/default/files/uploads/pohikiri.pdf\">Põhikiri</a>, <a href=\"http://www.hooandja.ee/sites/default/files/uploads/eetilise_tegutsemise_pohimotted.pdf\">Eetilise tegutsemise põhimõtted</a>, <a href=\"http://www.hooandja.ee/aruanded/\">Majandusaasta aruanded</a>, <a href=\"/content/projektid\">PROJEKTID</a>, <a href=\"/content/press-meist\">Press</a>, <a class=\"twitter-follow-button\" data-show-count=\"false\" data-show-screen-name=\"false\" data-size=\"large\" href=\"https://twitter.com/hooandja\">Follow @hooandja</a>]\n"
     ]
    }
   ],
   "source": [
    "print (links)"
   ]
  },
  {
   "cell_type": "code",
   "execution_count": 114,
   "metadata": {},
   "outputs": [],
   "source": [
    "  def find_links (links, keyword):\n",
    "    title = job.find(\"h3\", {\"class\": \"desc\"})  \n",
    "    links_filtered = {}\n",
    "    for link in links:\n",
    "        if link.has_attr(\"href\") and link[\"href\"].find(keyword) > -1:\n",
    "            links_filtered[link[\"href\"]] = 1\n",
    "    return list(links_filtered.keys())\n",
    "proj = []\n",
    "proj.extend(find_links(soup.find_all(\"a\"), \"/projekt/\"))\n",
    "pages = []\n",
    "pages.extend(find_links(soup.find_all(\"a\"), \"/avasta/edukad?page\"))    \n",
    "\n",
    "for page in pages:\n",
    "    r = requests.get(\"https://www.hooandja.ee\" + page)\n",
    "    html = BeautifulSoup(r.content)\n",
    "    proj.extend(find_links(html.find_all(\"a\"), \"/projekt/\"))\n",
    "with open(\"hooandja_edukad.txt\", \"w\") as f:\n",
    "    f.write(\"\\n\".join(proj))"
   ]
  },
  {
   "cell_type": "code",
   "execution_count": null,
   "metadata": {},
   "outputs": [],
   "source": [
    "# мультипроцессинг\n",
    "\n"
   ]
  }
 ],
 "metadata": {
  "kernelspec": {
   "display_name": "Python 3",
   "language": "python",
   "name": "python3"
  },
  "language_info": {
   "codemirror_mode": {
    "name": "ipython",
    "version": 3
   },
   "file_extension": ".py",
   "mimetype": "text/x-python",
   "name": "python",
   "nbconvert_exporter": "python",
   "pygments_lexer": "ipython3",
   "version": "3.8.2"
  }
 },
 "nbformat": 4,
 "nbformat_minor": 4
}
