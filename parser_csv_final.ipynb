{
 "cells": [
  {
   "cell_type": "code",
   "execution_count": 23,
   "metadata": {},
   "outputs": [],
   "source": [
    "from bs4 import BeautifulSoup\n",
    "import requests\n",
    "import pandas as pd"
   ]
  },
  {
   "cell_type": "code",
   "execution_count": 24,
   "metadata": {},
   "outputs": [],
   "source": [
    "url = \"https://www.hooandja.ee/avasta/edukad\""
   ]
  },
  {
   "cell_type": "code",
   "execution_count": 25,
   "metadata": {},
   "outputs": [],
   "source": [
    "response = requests.get(url)"
   ]
  },
  {
   "cell_type": "code",
   "execution_count": 26,
   "metadata": {},
   "outputs": [
    {
     "data": {
      "text/plain": [
       "<Response [200]>"
      ]
     },
     "execution_count": 26,
     "metadata": {},
     "output_type": "execute_result"
    }
   ],
   "source": [
    "response"
   ]
  },
  {
   "cell_type": "code",
   "execution_count": 27,
   "metadata": {},
   "outputs": [],
   "source": [
    "data = response.text"
   ]
  },
  {
   "cell_type": "code",
   "execution_count": 28,
   "metadata": {},
   "outputs": [],
   "source": [
    "soup = BeautifulSoup(data,'html.parser')"
   ]
  },
  {
   "cell_type": "code",
   "execution_count": 104,
   "metadata": {},
   "outputs": [],
   "source": [
    "jobs = soup.find_all(\"div\", {\"class\": \"project_white_box\"})"
   ]
  },
  {
   "cell_type": "code",
   "execution_count": 130,
   "metadata": {},
   "outputs": [
    {
     "name": "stdout",
     "output_type": "stream",
     "text": [
      "Title: Teraapia -ja meelesüsteemideaed Eesti matkapealinna Aegviitu \n",
      "Project_link: None \n",
      "Author: Eesti Loodus- ja Loomateraapiakeskus  \n",
      "AuthorInfo: https://www.hooandja.ee/users/info220 \n",
      "Category: Eesti Loodus- ja Loomateraapiakeskus  \n",
      "---\n",
      "Title: Erik Juhandi debüütluulekogu \"Exitus\" \n",
      "Project_link: None \n",
      "Author: Erik Juhandi  \n",
      "AuthorInfo: https://www.hooandja.ee/users/erikjuhandi \n",
      "Category: Erik Juhandi  \n",
      "---\n",
      "Title: Lühifilm \"Ohver\" \n",
      "Project_link: None \n",
      "Author: Natalja Matsenene  \n",
      "AuthorInfo: https://www.hooandja.ee/users/nataliamachenene \n",
      "Category: Natalja Matsenene  \n",
      "---\n",
      "Title: Mari Kalkuni plaadi \"Õunaaia album\" ja video väljaandmine \n",
      "Project_link: None \n",
      "Author: Mari Kalkun  \n",
      "AuthorInfo: https://www.hooandja.ee/users/marikalkun \n",
      "Category: Mari Kalkun  \n",
      "---\n",
      "Title: Kinkeraamat #õnnelikteekond #becominghappy \n",
      "Project_link: None \n",
      "Author: Birgit Itse  \n",
      "AuthorInfo: https://www.hooandja.ee/users/birgititse \n",
      "Category: Birgit Itse  \n",
      "---\n",
      "Title: Lexsoul Dancemachine \"Lexplosion II\" album \n",
      "Project_link: None \n",
      "Author: Lexsoul Dancemachine  \n",
      "AuthorInfo: https://www.hooandja.ee/users/353 \n",
      "Category: Lexsoul Dancemachine  \n",
      "---\n",
      "Title: Endise spordiajakirjaniku Valeri Maksimovi elulooraamat \"Hiiumehe ränd\" \n",
      "Project_link: None \n",
      "Author: Tiina Lelumees  \n",
      "AuthorInfo: https://www.hooandja.ee/users/tiinalelumees \n",
      "Category: Tiina Lelumees  \n",
      "---\n",
      "Title: Narva Airsoft CQB areen \n",
      "Project_link: None \n",
      "Author: Alex Zrajev  \n",
      "AuthorInfo: https://www.hooandja.ee/users/zrasahan \n",
      "Category: Alex Zrajev  \n",
      "---\n",
      "Title: VORONJA SKULPTUURIDE AED \n",
      "Project_link: None \n",
      "Author: Raul Oreškin  \n",
      "AuthorInfo: https://www.hooandja.ee/users/raul \n",
      "Category: Raul Oreškin  \n",
      "---\n",
      "Title: Film \"Ankeet\" \n",
      "Project_link: None \n",
      "Author: Aljona Surzhikova  \n",
      "AuthorInfo: https://www.hooandja.ee/users/saljona \n",
      "Category: Aljona Surzhikova  \n",
      "---\n",
      "Title: Curly Strings ja sõbrad - heategevusliku albumi \"Lastele\" välja andmine \n",
      "Project_link: None \n",
      "Author: Curly Strings  \n",
      "AuthorInfo: https://www.hooandja.ee/users/curlystringsestonia \n",
      "Category: Curly Strings  \n",
      "---\n",
      "Title: \"mujal nüüd – elsewhere today\" raamatu väljaandmine \n",
      "Project_link: None \n",
      "Author: Lembe Lokk  \n",
      "AuthorInfo: https://www.hooandja.ee/users/lembelokk \n",
      "Category: Lembe Lokk  \n",
      "---\n",
      "Title: Investeerimisraamat \"Sõltumatu naine. 5 sammu rahalise vabaduseni\" \n",
      "Project_link: None \n",
      "Author: Merit Raju  \n",
      "AuthorInfo: https://www.hooandja.ee/users/meritraju \n",
      "Category: Merit Raju  \n",
      "---\n",
      "Title: Lasteraamat \"Ei taha! Ei taha!\" \n",
      "Project_link: None \n",
      "Author: Terje Vooglaid  \n",
      "AuthorInfo: https://www.hooandja.ee/users/terjevooglaid \n",
      "Category: Terje Vooglaid  \n",
      "---\n",
      "Title: Puhja kiriku lühtrite restaureerimine \n",
      "Project_link: None \n",
      "Author: Tiit Kuusemaa  \n",
      "AuthorInfo: https://www.hooandja.ee/users/tiitkuusemaa \n",
      "Category: Tiit Kuusemaa  \n",
      "---\n",
      "Title: Ruudu Rahumaru fotomaali näitus \"Templihoidjad\" \n",
      "Project_link: None \n",
      "Author: Ruudu Sandra  \n",
      "AuthorInfo: https://www.hooandja.ee/users/ruudusandra \n",
      "Category: Ruudu Sandra  \n",
      "---\n",
      "Title: Palavikulilled \n",
      "Project_link: None \n",
      "Author: Indrek Koff  \n",
      "AuthorInfo: https://www.hooandja.ee/users/teejakohvi \n",
      "Category: Indrek Koff  \n",
      "---\n",
      "Title: Joel Remmel \"Live at Taff Club\" vinüülplaadi väljaandmine \n",
      "Project_link: None \n",
      "Author: joelremmel  \n",
      "AuthorInfo: https://www.hooandja.ee/users/joelremmel \n",
      "Category: joelremmel  \n",
      "---\n",
      "Title: Raamatu \"Kõige magusam vili\" II osa väljaandmine \n",
      "Project_link: None \n",
      "Author: Regina Jaakson  \n",
      "AuthorInfo: https://www.hooandja.ee/users/reginaatkajaakson1 \n",
      "Category: Regina Jaakson  \n",
      "---\n",
      "Title: Dagö \"Küte\" \n",
      "Project_link: None \n",
      "Author: Lauri Saatpalu  \n",
      "AuthorInfo: https://www.hooandja.ee/users/lauri8 \n",
      "Category: Lauri Saatpalu  \n",
      "---\n",
      "Title: Ansambli Boamadu lühialbumi avaldamine \n",
      "Project_link: None \n",
      "Author: Veli Rooger  \n",
      "AuthorInfo: https://www.hooandja.ee/users/veli1 \n",
      "Category: Veli Rooger  \n",
      "---\n",
      "Title: Madalseiklusrada Laulasmaa Koolile \n",
      "Project_link: None \n",
      "Author: Kristiina Vähk  \n",
      "AuthorInfo: https://www.hooandja.ee/users/kristiinavahk \n",
      "Category: Kristiina Vähk  \n",
      "---\n",
      "Title: Culpas - \"Leo Põld\" Muusikavideo \n",
      "Project_link: None \n",
      "Author: Keio Kärdla  \n",
      "AuthorInfo: https://www.hooandja.ee/users/keiokardla \n",
      "Category: Keio Kärdla  \n",
      "---\n",
      "Title: Kristiina Ehini uue luulekogu \"Janu on kõikidel üks\" väljaandmine \n",
      "Project_link: None \n",
      "Author: kristiina ehin  \n",
      "AuthorInfo: https://www.hooandja.ee/users/kristiinaehin \n",
      "Category: kristiina ehin  \n",
      "---\n",
      "Title: Raamat \"Riigid, mida pole olemas\" \n",
      "Project_link: None \n",
      "Author: Silvia Pärmann  \n",
      "AuthorInfo: https://www.hooandja.ee/users/silviaparmann \n",
      "Category: Silvia Pärmann  \n",
      "---\n",
      "Title: Kevin Jurs CrossFit Gamesile 2020 \n",
      "Project_link: None \n",
      "Author: Kevin Jurs  \n",
      "AuthorInfo: https://www.hooandja.ee/users/kevinjurs \n",
      "Category: Kevin Jurs  \n",
      "---\n",
      "Title: Rupert Sheldrake Eestis: \"Teadus ja vaimne praktika\" \n",
      "Project_link: None \n",
      "Author: Hardo Pajula  \n",
      "AuthorInfo: https://www.hooandja.ee/users/hardopajula \n",
      "Category: Hardo Pajula  \n",
      "---\n",
      "Title: Merisiil ja karuäke \n",
      "Project_link: None \n",
      "Author: Gunnar Vemmal Saar  \n",
      "AuthorInfo: https://www.hooandja.ee/users/vendvemmal \n",
      "Category: Gunnar Vemmal Saar  \n",
      "---\n",
      "Title: Jazzilegend Stéphane Grappelli elulooraamat \"Pagasiks vaid viiul\" \n",
      "Project_link: None \n",
      "Author: Piret Kärm  \n",
      "AuthorInfo: https://www.hooandja.ee/users/kpiret \n",
      "Category: Piret Kärm  \n",
      "---\n",
      "Title: Tartu Tamme Kooli suurlavastus \"Prints ja kerjus\" \n",
      "Project_link: None \n",
      "Author: Anti Kadajane  \n",
      "AuthorInfo: https://www.hooandja.ee/users/anti5 \n",
      "Category: Anti Kadajane  \n",
      "---\n"
     ]
    }
   ],
   "source": [
    "for job in jobs:\n",
    "    title = job.find(\"h3\").text\n",
    "    project_link = job.find(\"a\", {\"target\": \"_top\"}).get('href')\n",
    "    author = job.find(\"span\").text\n",
    "    author_link = job.find(\"a\", {\"target\": \"_top\"}).get('href')\n",
    "    project = job.find(\"div\", {\"class\": \"image\"}).get('href')\n",
    "    cat = job.find(\"a\", {\"target\": \"_top\"}).text\n",
    "    print ('Title:', title, '\\nProject_link:', project,\n",
    "           '\\nAuthor:', author, '\\nAuthorInfo:', author_link,  \n",
    "           '\\nCategory:', cat, '\\n---')"
   ]
  },
  {
   "cell_type": "code",
   "execution_count": 136,
   "metadata": {},
   "outputs": [
    {
     "name": "stdout",
     "output_type": "stream",
     "text": [
      "Title: Teraapia -ja meelesüsteemideaed Eesti matkapealinna Aegviitu \n",
      "Project_link: None \n",
      "Author: Eesti Loodus- ja Loomateraapiakeskus  \n",
      "AuthorInfo: https://www.hooandja.ee/users/info220 \n",
      "Bio \n",
      "\n",
      "Viimased tegevused\n",
      "\n",
      "\n",
      " \n",
      "Category: Eesti Loodus- ja Loomateraapiakeskus  \n",
      "---\n",
      "Title: Erik Juhandi debüütluulekogu \"Exitus\" \n",
      "Project_link: None \n",
      "Author: Erik Juhandi  \n",
      "AuthorInfo: https://www.hooandja.ee/users/erikjuhandi \n",
      "Bio \n",
      "\n",
      "Viimased tegevused\n",
      "\n",
      "\n",
      " \n",
      "Category: Erik Juhandi  \n",
      "---\n",
      "Title: Lühifilm \"Ohver\" \n",
      "Project_link: None \n",
      "Author: Natalja Matsenene  \n",
      "AuthorInfo: https://www.hooandja.ee/users/nataliamachenene \n",
      "Bio \n",
      "Наталья Маченене, ментор, автор курсов по продюсированию, создатель и продюсер Другого театра (2001-2007 гг.), документального проекта «Русские, они такие…» (2013 г., реж. Юлия Ауг), со-продюсер и сценарист детской передачи «Технолик» (2017-2018) для телеканала ETV+.\n",
      "Автор сценария и режиссёр короткометражного фильма ЛЮБИЛА (2019)\n",
      "\n",
      "\n",
      "Viimased tegevused\n",
      "\n",
      "\n",
      " \n",
      "Category: Natalja Matsenene  \n",
      "---\n",
      "Title: Mari Kalkuni plaadi \"Õunaaia album\" ja video väljaandmine \n",
      "Project_link: None \n",
      "Author: Mari Kalkun  \n",
      "AuthorInfo: https://www.hooandja.ee/users/marikalkun \n",
      "Bio \n",
      "Mari Kalkun on eesti laulja, laululooja ja muusik, kes oma loomingus toetub tugevalt oma Võrumaa juurtele. Mari muusikutee algas autorialbumiga ”Üü tulõk” (2007), mis sai kodumaal sooja vastuvõtu osaliseks ning mida märgati ka välismaal. Temalt on tänaseks kokku ilmunud viis albumit, mis on avaldatud nii Euroopas kui Jaapanis. Oma muusikat on ta tutvustanud paljudes Euroopa riikides ning Aasias. Mari Kalkuni rahvusvahelise ansambliga Runorun salvestatud album “Tii ilo” nomineeriti 2015. aasta etnomuusika albumi tiitlile nii Eesti kui Soome muusikaauhindadel.\n",
      "Viimased tegevused\n",
      "\n",
      "\n",
      " \n",
      "Category: Mari Kalkun  \n",
      "---\n",
      "Title: Kinkeraamat #õnnelikteekond #becominghappy \n",
      "Project_link: None \n",
      "Author: Birgit Itse  \n",
      "AuthorInfo: https://www.hooandja.ee/users/birgititse \n",
      "Bio \n",
      "Võib vist öelda, et mu elu on kirju nagu ka mu kirjutiste žanrivalik.\n",
      "\n",
      "Ca 14 aastat töötasin ajakirjanikuna, lisaks olen viimase 20 aasta jooksul kirjutanud luulet ja laulusõnu, kõnesid ja tervitusi, ürituste stsenaariumeid ja vahetekste, turundusjuhina kodulehekülje ja sotsiaalmeedia sisu. Olen tekste tõlkinud ja toimetanud.\n",
      "\n",
      "Kas see näitab mitmekülgsust või pealiskaudsust, otsusta ise. Samas - paljud kokad on suurepärased kondiitrid ja vastupidi.\n",
      "\n",
      "Mu töid on kogumikes avaldatud nii Eestis kui ka Šotimaal. \n",
      "Viimased tegevused\n",
      "\n",
      "\n",
      " \n",
      "Category: Birgit Itse  \n",
      "---\n",
      "Title: Lexsoul Dancemachine \"Lexplosion II\" album \n",
      "Project_link: None \n",
      "Author: Lexsoul Dancemachine  \n",
      "AuthorInfo: https://www.hooandja.ee/users/353 \n",
      "Bio \n",
      "Funk-soul bänd, mis vürtsitab su elu plahvatusliku kraamiga!\n",
      "Viimased tegevused\n",
      "\n",
      "\n",
      " \n",
      "Category: Lexsoul Dancemachine  \n",
      "---\n"
     ]
    },
    {
     "ename": "AttributeError",
     "evalue": "'NoneType' object has no attribute 'text'",
     "output_type": "error",
     "traceback": [
      "\u001b[0;31m---------------------------------------------------------------------------\u001b[0m",
      "\u001b[0;31mAttributeError\u001b[0m                            Traceback (most recent call last)",
      "\u001b[0;32m<ipython-input-136-a6c9c0426e26>\u001b[0m in \u001b[0;36m<module>\u001b[0;34m\u001b[0m\n\u001b[1;32m      9\u001b[0m     \u001b[0mjob_data\u001b[0m \u001b[0;34m=\u001b[0m \u001b[0mjob_response\u001b[0m\u001b[0;34m.\u001b[0m\u001b[0mtext\u001b[0m\u001b[0;34m\u001b[0m\u001b[0;34m\u001b[0m\u001b[0m\n\u001b[1;32m     10\u001b[0m     \u001b[0mjob_soup\u001b[0m \u001b[0;34m=\u001b[0m \u001b[0mBeautifulSoup\u001b[0m\u001b[0;34m(\u001b[0m\u001b[0mjob_data\u001b[0m\u001b[0;34m,\u001b[0m \u001b[0;34m'html.parser'\u001b[0m\u001b[0;34m)\u001b[0m\u001b[0;34m\u001b[0m\u001b[0;34m\u001b[0m\u001b[0m\n\u001b[0;32m---> 11\u001b[0;31m     \u001b[0mjob_description\u001b[0m \u001b[0;34m=\u001b[0m \u001b[0mjob_soup\u001b[0m\u001b[0;34m.\u001b[0m\u001b[0mfind\u001b[0m\u001b[0;34m(\u001b[0m\u001b[0;34m'div'\u001b[0m\u001b[0;34m,\u001b[0m\u001b[0;34m{\u001b[0m\u001b[0;34m'class'\u001b[0m\u001b[0;34m:\u001b[0m\u001b[0;34m'w700 leftside'\u001b[0m\u001b[0;34m}\u001b[0m\u001b[0;34m)\u001b[0m\u001b[0;34m.\u001b[0m\u001b[0mtext\u001b[0m\u001b[0;34m\u001b[0m\u001b[0;34m\u001b[0m\u001b[0m\n\u001b[0m\u001b[1;32m     12\u001b[0m     \u001b[0mjob_attributes_tag\u001b[0m \u001b[0;34m=\u001b[0m \u001b[0mjob_soup\u001b[0m\u001b[0;34m.\u001b[0m\u001b[0mfind\u001b[0m\u001b[0;34m(\u001b[0m\u001b[0;34m'div'\u001b[0m\u001b[0;34m,\u001b[0m\u001b[0;34m{\u001b[0m\u001b[0;34m'class'\u001b[0m\u001b[0;34m:\u001b[0m\u001b[0;34m'user_about'\u001b[0m\u001b[0;34m}\u001b[0m\u001b[0;34m)\u001b[0m\u001b[0;34m\u001b[0m\u001b[0;34m\u001b[0m\u001b[0m\n\u001b[1;32m     13\u001b[0m     \u001b[0mjob_attributes\u001b[0m \u001b[0;34m=\u001b[0m \u001b[0mjob_attributes_tag\u001b[0m\u001b[0;34m.\u001b[0m\u001b[0mtext\u001b[0m \u001b[0;32mif\u001b[0m \u001b[0mjob_attributes_tag\u001b[0m \u001b[0;32melse\u001b[0m \u001b[0;34m\"N/A\"\u001b[0m\u001b[0;34m\u001b[0m\u001b[0;34m\u001b[0m\u001b[0m\n",
      "\u001b[0;31mAttributeError\u001b[0m: 'NoneType' object has no attribute 'text'"
     ]
    }
   ],
   "source": [
    "for job in jobs:\n",
    "    title = job.find(\"h3\").text\n",
    "    project_link = job.find(\"a\", {\"target\": \"_top\"}).get('href')\n",
    "    author = job.find(\"span\").text\n",
    "    author_link = job.find(\"a\", {\"target\": \"_top\"}).get('href')\n",
    "    project = job.find(\"div\", {\"class\": \"image\"}).get('href')\n",
    "    cat = job.find(\"a\", {\"target\": \"_top\"}).text\n",
    "    job_response = requests.get(author_link)\n",
    "    job_data = job_response.text\n",
    "    job_soup = BeautifulSoup(job_data, 'html.parser')\n",
    "    job_description = job_soup.find('div',{'class':'w700 leftside'}).text\n",
    "    job_attributes_tag = job_soup.find('div',{'class':'user_about'})\n",
    "    job_attributes = job_attributes_tag.text if job_attributes_tag else \"N/A\"\n",
    "    \n",
    "    print ('Title:', title, '\\nProject_link:', project,\n",
    "           '\\nAuthor:', author, '\\nAuthorInfo:', author_link,  \n",
    "           '\\nBio', job_description, \n",
    "           '\\nCategory:', cat, '\\n---')"
   ]
  },
  {
   "cell_type": "code",
   "execution_count": null,
   "metadata": {},
   "outputs": [],
   "source": []
  },
  {
   "cell_type": "code",
   "execution_count": null,
   "metadata": {},
   "outputs": [],
   "source": []
  },
  {
   "cell_type": "code",
   "execution_count": null,
   "metadata": {},
   "outputs": [],
   "source": []
  },
  {
   "cell_type": "code",
   "execution_count": null,
   "metadata": {},
   "outputs": [],
   "source": []
  },
  {
   "cell_type": "code",
   "execution_count": null,
   "metadata": {},
   "outputs": [],
   "source": []
  },
  {
   "cell_type": "code",
   "execution_count": null,
   "metadata": {},
   "outputs": [],
   "source": []
  },
  {
   "cell_type": "code",
   "execution_count": null,
   "metadata": {},
   "outputs": [],
   "source": []
  },
  {
   "cell_type": "code",
   "execution_count": null,
   "metadata": {},
   "outputs": [],
   "source": []
  },
  {
   "cell_type": "code",
   "execution_count": null,
   "metadata": {},
   "outputs": [],
   "source": []
  },
  {
   "cell_type": "code",
   "execution_count": null,
   "metadata": {},
   "outputs": [],
   "source": []
  },
  {
   "cell_type": "code",
   "execution_count": null,
   "metadata": {},
   "outputs": [],
   "source": []
  },
  {
   "cell_type": "code",
   "execution_count": null,
   "metadata": {},
   "outputs": [],
   "source": []
  },
  {
   "cell_type": "code",
   "execution_count": null,
   "metadata": {},
   "outputs": [],
   "source": []
  },
  {
   "cell_type": "code",
   "execution_count": null,
   "metadata": {},
   "outputs": [],
   "source": []
  },
  {
   "cell_type": "code",
   "execution_count": null,
   "metadata": {},
   "outputs": [],
   "source": []
  },
  {
   "cell_type": "code",
   "execution_count": null,
   "metadata": {},
   "outputs": [],
   "source": []
  },
  {
   "cell_type": "code",
   "execution_count": null,
   "metadata": {},
   "outputs": [],
   "source": []
  },
  {
   "cell_type": "code",
   "execution_count": null,
   "metadata": {},
   "outputs": [],
   "source": []
  },
  {
   "cell_type": "code",
   "execution_count": null,
   "metadata": {},
   "outputs": [],
   "source": []
  },
  {
   "cell_type": "code",
   "execution_count": null,
   "metadata": {},
   "outputs": [],
   "source": []
  },
  {
   "cell_type": "code",
   "execution_count": null,
   "metadata": {},
   "outputs": [],
   "source": []
  },
  {
   "cell_type": "code",
   "execution_count": null,
   "metadata": {},
   "outputs": [],
   "source": []
  },
  {
   "cell_type": "code",
   "execution_count": null,
   "metadata": {},
   "outputs": [],
   "source": []
  },
  {
   "cell_type": "code",
   "execution_count": null,
   "metadata": {},
   "outputs": [],
   "source": []
  },
  {
   "cell_type": "code",
   "execution_count": null,
   "metadata": {},
   "outputs": [],
   "source": []
  },
  {
   "cell_type": "code",
   "execution_count": null,
   "metadata": {},
   "outputs": [],
   "source": []
  },
  {
   "cell_type": "code",
   "execution_count": null,
   "metadata": {},
   "outputs": [],
   "source": []
  },
  {
   "cell_type": "code",
   "execution_count": null,
   "metadata": {},
   "outputs": [],
   "source": []
  },
  {
   "cell_type": "code",
   "execution_count": null,
   "metadata": {},
   "outputs": [],
   "source": []
  },
  {
   "cell_type": "code",
   "execution_count": null,
   "metadata": {},
   "outputs": [],
   "source": []
  },
  {
   "cell_type": "code",
   "execution_count": null,
   "metadata": {},
   "outputs": [],
   "source": []
  },
  {
   "cell_type": "code",
   "execution_count": null,
   "metadata": {},
   "outputs": [],
   "source": []
  },
  {
   "cell_type": "code",
   "execution_count": null,
   "metadata": {},
   "outputs": [],
   "source": []
  },
  {
   "cell_type": "code",
   "execution_count": null,
   "metadata": {},
   "outputs": [],
   "source": []
  },
  {
   "cell_type": "code",
   "execution_count": null,
   "metadata": {},
   "outputs": [],
   "source": []
  },
  {
   "cell_type": "code",
   "execution_count": null,
   "metadata": {},
   "outputs": [],
   "source": []
  },
  {
   "cell_type": "code",
   "execution_count": null,
   "metadata": {},
   "outputs": [],
   "source": []
  },
  {
   "cell_type": "code",
   "execution_count": null,
   "metadata": {},
   "outputs": [],
   "source": []
  },
  {
   "cell_type": "code",
   "execution_count": null,
   "metadata": {},
   "outputs": [],
   "source": []
  },
  {
   "cell_type": "code",
   "execution_count": null,
   "metadata": {},
   "outputs": [],
   "source": []
  },
  {
   "cell_type": "code",
   "execution_count": null,
   "metadata": {},
   "outputs": [],
   "source": []
  },
  {
   "cell_type": "code",
   "execution_count": null,
   "metadata": {},
   "outputs": [],
   "source": []
  },
  {
   "cell_type": "code",
   "execution_count": null,
   "metadata": {},
   "outputs": [],
   "source": []
  },
  {
   "cell_type": "code",
   "execution_count": null,
   "metadata": {},
   "outputs": [],
   "source": []
  },
  {
   "cell_type": "code",
   "execution_count": null,
   "metadata": {},
   "outputs": [],
   "source": []
  },
  {
   "cell_type": "code",
   "execution_count": null,
   "metadata": {},
   "outputs": [],
   "source": []
  },
  {
   "cell_type": "code",
   "execution_count": 75,
   "metadata": {},
   "outputs": [
    {
     "name": "stdout",
     "output_type": "stream",
     "text": [
      "Title:  Teraapia -ja meelesüsteemideaed Eesti matkapealinna Aegviitu Link:  https://www.hooandja.ee/projekt/prints-ja-kerjus\n",
      "Title:  Erik Juhandi debüütluulekogu \"Exitus\" Link:  https://www.hooandja.ee/projekt/prints-ja-kerjus\n",
      "Title:  Lühifilm \"Ohver\" Link:  https://www.hooandja.ee/projekt/prints-ja-kerjus\n",
      "Title:  Mari Kalkuni plaadi \"Õunaaia album\" ja video väljaandmine Link:  https://www.hooandja.ee/projekt/prints-ja-kerjus\n",
      "Title:  Kinkeraamat #õnnelikteekond #becominghappy Link:  https://www.hooandja.ee/projekt/prints-ja-kerjus\n",
      "Title:  Lexsoul Dancemachine \"Lexplosion II\" album Link:  https://www.hooandja.ee/projekt/prints-ja-kerjus\n",
      "Title:  Endise spordiajakirjaniku Valeri Maksimovi elulooraamat \"Hiiumehe ränd\" Link:  https://www.hooandja.ee/projekt/prints-ja-kerjus\n",
      "Title:  Narva Airsoft CQB areen Link:  https://www.hooandja.ee/projekt/prints-ja-kerjus\n",
      "Title:  VORONJA SKULPTUURIDE AED Link:  https://www.hooandja.ee/projekt/prints-ja-kerjus\n",
      "Title:  Film \"Ankeet\" Link:  https://www.hooandja.ee/projekt/prints-ja-kerjus\n",
      "Title:  Curly Strings ja sõbrad - heategevusliku albumi \"Lastele\" välja andmine Link:  https://www.hooandja.ee/projekt/prints-ja-kerjus\n",
      "Title:  \"mujal nüüd – elsewhere today\" raamatu väljaandmine Link:  https://www.hooandja.ee/projekt/prints-ja-kerjus\n",
      "Title:  Investeerimisraamat \"Sõltumatu naine. 5 sammu rahalise vabaduseni\" Link:  https://www.hooandja.ee/projekt/prints-ja-kerjus\n",
      "Title:  Lasteraamat \"Ei taha! Ei taha!\" Link:  https://www.hooandja.ee/projekt/prints-ja-kerjus\n",
      "Title:  Puhja kiriku lühtrite restaureerimine Link:  https://www.hooandja.ee/projekt/prints-ja-kerjus\n",
      "Title:  Ruudu Rahumaru fotomaali näitus \"Templihoidjad\" Link:  https://www.hooandja.ee/projekt/prints-ja-kerjus\n",
      "Title:  Palavikulilled Link:  https://www.hooandja.ee/projekt/prints-ja-kerjus\n",
      "Title:  Joel Remmel \"Live at Taff Club\" vinüülplaadi väljaandmine Link:  https://www.hooandja.ee/projekt/prints-ja-kerjus\n",
      "Title:  Raamatu \"Kõige magusam vili\" II osa väljaandmine Link:  https://www.hooandja.ee/projekt/prints-ja-kerjus\n",
      "Title:  Dagö \"Küte\" Link:  https://www.hooandja.ee/projekt/prints-ja-kerjus\n",
      "Title:  Ansambli Boamadu lühialbumi avaldamine Link:  https://www.hooandja.ee/projekt/prints-ja-kerjus\n",
      "Title:  Madalseiklusrada Laulasmaa Koolile Link:  https://www.hooandja.ee/projekt/prints-ja-kerjus\n",
      "Title:  Culpas - \"Leo Põld\" Muusikavideo Link:  https://www.hooandja.ee/projekt/prints-ja-kerjus\n",
      "Title:  Kristiina Ehini uue luulekogu \"Janu on kõikidel üks\" väljaandmine Link:  https://www.hooandja.ee/projekt/prints-ja-kerjus\n",
      "Title:  Raamat \"Riigid, mida pole olemas\" Link:  https://www.hooandja.ee/projekt/prints-ja-kerjus\n",
      "Title:  Kevin Jurs CrossFit Gamesile 2020 Link:  https://www.hooandja.ee/projekt/prints-ja-kerjus\n",
      "Title:  Rupert Sheldrake Eestis: \"Teadus ja vaimne praktika\" Link:  https://www.hooandja.ee/projekt/prints-ja-kerjus\n",
      "Title:  Merisiil ja karuäke Link:  https://www.hooandja.ee/projekt/prints-ja-kerjus\n",
      "Title:  Jazzilegend Stéphane Grappelli elulooraamat \"Pagasiks vaid viiul\" Link:  https://www.hooandja.ee/projekt/prints-ja-kerjus\n",
      "Title:  Tartu Tamme Kooli suurlavastus \"Prints ja kerjus\" Link:  https://www.hooandja.ee/projekt/prints-ja-kerjus\n"
     ]
    }
   ],
   "source": [
    "jobs = soup.find_all(\"div\", {\"class\": \"desc\"})\n",
    "for job in jobs:\n",
    "    title = job.find(\"h3\").text\n",
    "    print ('Title: ', title, 'Link: ', block)"
   ]
  },
  {
   "cell_type": "code",
   "execution_count": null,
   "metadata": {},
   "outputs": [],
   "source": []
  },
  {
   "cell_type": "code",
   "execution_count": 67,
   "metadata": {},
   "outputs": [],
   "source": []
  },
  {
   "cell_type": "code",
   "execution_count": 68,
   "metadata": {},
   "outputs": [],
   "source": []
  },
  {
   "cell_type": "code",
   "execution_count": 72,
   "metadata": {},
   "outputs": [
    {
     "name": "stdout",
     "output_type": "stream",
     "text": [
      "Title:  Tartu Tamme Kooli suurlavastus \"Prints ja kerjus\" Link:  https://www.hooandja.ee/projekt/prints-ja-kerjus\n"
     ]
    }
   ],
   "source": []
  },
  {
   "cell_type": "code",
   "execution_count": 51,
   "metadata": {},
   "outputs": [
    {
     "name": "stdout",
     "output_type": "stream",
     "text": [
      "Tartu Tamme Kooli suurlavastus \"Prints ja kerjus\"\n"
     ]
    }
   ],
   "source": [
    "print(title.text)"
   ]
  },
  {
   "cell_type": "code",
   "execution_count": null,
   "metadata": {},
   "outputs": [],
   "source": []
  },
  {
   "cell_type": "code",
   "execution_count": 50,
   "metadata": {},
   "outputs": [
    {
     "name": "stdout",
     "output_type": "stream",
     "text": [
      "Teraapia -ja meelesüsteemideaed Eesti matkapealinna Aegviitu\n",
      "Erik Juhandi debüütluulekogu \"Exitus\"\n",
      "Lühifilm \"Ohver\"\n",
      "Mari Kalkuni plaadi \"Õunaaia album\" ja video väljaandmine\n",
      "Kinkeraamat #õnnelikteekond #becominghappy\n",
      "Lexsoul Dancemachine \"Lexplosion II\" album\n",
      "Endise spordiajakirjaniku Valeri Maksimovi elulooraamat \"Hiiumehe ränd\"\n",
      "Narva Airsoft CQB areen\n",
      "VORONJA SKULPTUURIDE AED\n",
      "Film \"Ankeet\"\n",
      "Curly Strings ja sõbrad - heategevusliku albumi \"Lastele\" välja andmine\n",
      "\"mujal nüüd – elsewhere today\" raamatu väljaandmine\n",
      "Investeerimisraamat \"Sõltumatu naine. 5 sammu rahalise vabaduseni\"\n",
      "Lasteraamat \"Ei taha! Ei taha!\"\n",
      "Puhja kiriku lühtrite restaureerimine\n",
      "Ruudu Rahumaru fotomaali näitus \"Templihoidjad\"\n",
      "Palavikulilled\n",
      "Joel Remmel \"Live at Taff Club\" vinüülplaadi väljaandmine\n",
      "Raamatu \"Kõige magusam vili\" II osa väljaandmine\n",
      "Dagö \"Küte\"\n",
      "Ansambli Boamadu lühialbumi avaldamine\n",
      "Madalseiklusrada Laulasmaa Koolile\n",
      "Culpas - \"Leo Põld\" Muusikavideo\n",
      "Kristiina Ehini uue luulekogu \"Janu on kõikidel üks\" väljaandmine\n",
      "Raamat \"Riigid, mida pole olemas\"\n",
      "Kevin Jurs CrossFit Gamesile 2020\n",
      "Rupert Sheldrake Eestis: \"Teadus ja vaimne praktika\"\n",
      "Merisiil ja karuäke\n",
      "Jazzilegend Stéphane Grappelli elulooraamat \"Pagasiks vaid viiul\"\n",
      "Tartu Tamme Kooli suurlavastus \"Prints ja kerjus\"\n"
     ]
    }
   ],
   "source": [
    "titles = soup.find_all('h3')\n",
    "for title in titles:\n",
    "    print(title.text)"
   ]
  },
  {
   "cell_type": "code",
   "execution_count": 44,
   "metadata": {},
   "outputs": [
    {
     "name": "stdout",
     "output_type": "stream",
     "text": [
      "Teraapia -ja meelesüsteemideaed Eesti matkapealinna Aegviitu\n",
      "Erik Juhandi debüütluulekogu \"Exitus\"\n",
      "Lühifilm \"Ohver\"\n",
      "Mari Kalkuni plaadi \"Õunaaia album\" ja video väljaandmine\n",
      "Kinkeraamat #õnnelikteekond #becominghappy\n",
      "Lexsoul Dancemachine \"Lexplosion II\" album\n",
      "Endise spordiajakirjaniku Valeri Maksimovi elulooraamat \"Hiiumehe ränd\"\n",
      "Narva Airsoft CQB areen\n",
      "VORONJA SKULPTUURIDE AED\n",
      "Film \"Ankeet\"\n",
      "Curly Strings ja sõbrad - heategevusliku albumi \"Lastele\" välja andmine\n",
      "\"mujal nüüd – elsewhere today\" raamatu väljaandmine\n",
      "Investeerimisraamat \"Sõltumatu naine. 5 sammu rahalise vabaduseni\"\n",
      "Lasteraamat \"Ei taha! Ei taha!\"\n",
      "Puhja kiriku lühtrite restaureerimine\n",
      "Ruudu Rahumaru fotomaali näitus \"Templihoidjad\"\n",
      "Palavikulilled\n",
      "Joel Remmel \"Live at Taff Club\" vinüülplaadi väljaandmine\n",
      "Raamatu \"Kõige magusam vili\" II osa väljaandmine\n",
      "Dagö \"Küte\"\n",
      "Ansambli Boamadu lühialbumi avaldamine\n",
      "Madalseiklusrada Laulasmaa Koolile\n",
      "Culpas - \"Leo Põld\" Muusikavideo\n",
      "Kristiina Ehini uue luulekogu \"Janu on kõikidel üks\" väljaandmine\n",
      "Raamat \"Riigid, mida pole olemas\"\n",
      "Kevin Jurs CrossFit Gamesile 2020\n",
      "Rupert Sheldrake Eestis: \"Teadus ja vaimne praktika\"\n",
      "Merisiil ja karuäke\n",
      "Jazzilegend Stéphane Grappelli elulooraamat \"Pagasiks vaid viiul\"\n",
      "Tartu Tamme Kooli suurlavastus \"Prints ja kerjus\"\n"
     ]
    }
   ],
   "source": []
  },
  {
   "cell_type": "code",
   "execution_count": null,
   "metadata": {},
   "outputs": [],
   "source": []
  },
  {
   "cell_type": "code",
   "execution_count": null,
   "metadata": {},
   "outputs": [],
   "source": []
  },
  {
   "cell_type": "code",
   "execution_count": null,
   "metadata": {},
   "outputs": [],
   "source": []
  },
  {
   "cell_type": "code",
   "execution_count": null,
   "metadata": {},
   "outputs": [],
   "source": []
  },
  {
   "cell_type": "code",
   "execution_count": null,
   "metadata": {},
   "outputs": [],
   "source": []
  },
  {
   "cell_type": "code",
   "execution_count": null,
   "metadata": {},
   "outputs": [],
   "source": []
  },
  {
   "cell_type": "code",
   "execution_count": null,
   "metadata": {},
   "outputs": [],
   "source": []
  },
  {
   "cell_type": "code",
   "execution_count": null,
   "metadata": {},
   "outputs": [],
   "source": []
  },
  {
   "cell_type": "code",
   "execution_count": null,
   "metadata": {},
   "outputs": [],
   "source": [
    "title"
   ]
  },
  {
   "cell_type": "code",
   "execution_count": null,
   "metadata": {},
   "outputs": [],
   "source": []
  },
  {
   "cell_type": "code",
   "execution_count": null,
   "metadata": {},
   "outputs": [],
   "source": []
  },
  {
   "cell_type": "code",
   "execution_count": null,
   "metadata": {},
   "outputs": [],
   "source": []
  },
  {
   "cell_type": "code",
   "execution_count": null,
   "metadata": {},
   "outputs": [],
   "source": []
  },
  {
   "cell_type": "code",
   "execution_count": 97,
   "metadata": {},
   "outputs": [],
   "source": [
    "links = html.find_all(\"a\")"
   ]
  },
  {
   "cell_type": "code",
   "execution_count": 98,
   "metadata": {},
   "outputs": [
    {
     "name": "stdout",
     "output_type": "stream",
     "text": [
      "[<a href=\"/\" id=\"logo\"><img alt=\"Home\" src=\"https://www.hooandja.ee/sites/all/themes/hooandjatheme/logo.png\"/></a>, <a href=\"/avasta/viimati-lisatud\"><span>Avasta</span>suurepäraseid projekte</a>, <a href=\"/alusta\"><span>Alusta</span> oma projektiga</a>, <a class=\"primary\" href=\"/user\">Logi sisse</a>, <a class=\"primary\" href=\"\">Eesti</a>, <a class=\"language-link active\" href=\"/avasta/edukad\" xml:lang=\"et\">Eesti</a>, <a class=\"language-link\" href=\"/en/avasta/edukad\" xml:lang=\"en\">English</a>, <a class=\"language-link\" href=\"/ru/avasta/edukad\" xml:lang=\"ru\">Русский</a>, <a href=\"https://www.hooandja.ee/users/info220\" target=\"_top\"><span>Eesti Loodus- ja Loomateraapiakeskus </span></a>, <a href=\"https://www.hooandja.ee/avasta/kategooriad/keskkond\" target=\"_top\">Keskkond</a>, <a href=\"https://www.hooandja.ee/projekt/teraapia-ja-meelesusteemideaed-aegviitu\" target=\"_top\"><img src=\"https://www.hooandja.ee/sites/default/files/styles/200x229/public/project_images/foto_1.jpg?itok=t7YMPrFk\" width=\"200\"/></a>, <a href=\"https://www.hooandja.ee/users/erikjuhandi\" target=\"_top\"><span>Erik Juhandi </span></a>, <a href=\"https://www.hooandja.ee/avasta/kategooriad/trukis\" target=\"_top\">Trükis</a>, <a href=\"https://www.hooandja.ee/projekt/exitus\" target=\"_top\"><img src=\"https://www.hooandja.ee/sites/default/files/styles/200x229/public/project_images/20171010_174054000_ios.jpg?itok=ATinqSlx\" width=\"200\"/></a>, <a href=\"https://www.hooandja.ee/users/nataliamachenene\" target=\"_top\"><span>Natalja Matsenene </span></a>, <a href=\"https://www.hooandja.ee/avasta/kategooriad/film-foto\" target=\"_top\">Film &amp; Foto</a>, <a href=\"https://www.hooandja.ee/projekt/luhifilm-ohver\" target=\"_top\"><img src=\"https://www.hooandja.ee/sites/default/files/styles/200x229/public/project_images/foto1.png?itok=Hffi9ME5\" width=\"200\"/></a>, <a href=\"https://www.hooandja.ee/users/marikalkun\" target=\"_top\"><span>Mari Kalkun </span></a>, <a href=\"https://www.hooandja.ee/avasta/kategooriad/muusika\" target=\"_top\">Muusika</a>, <a href=\"https://www.hooandja.ee/projekt/mari-kalkuni-ounaaia-luhialbum\" target=\"_top\"><img src=\"https://www.hooandja.ee/sites/default/files/styles/200x229/public/project_images/mari_kalkun_ruudurahumaru_2019_12.jpg?itok=0pylvjD-\" width=\"200\"/></a>, <a href=\"https://www.hooandja.ee/users/birgititse\" target=\"_top\"><span>Birgit Itse </span></a>, <a href=\"https://www.hooandja.ee/avasta/kategooriad/trukis\" target=\"_top\">Trükis</a>, <a href=\"https://www.hooandja.ee/projekt/kinkeraamat-onnelikteekond-becominghappy\" target=\"_top\"><img src=\"https://www.hooandja.ee/sites/default/files/styles/200x229/public/project_images/100733368_273507630504012_8516640661561147392_n.jpg?itok=mvaj0P_Z\" width=\"200\"/></a>, <a href=\"https://www.hooandja.ee/users/353\" target=\"_top\"><span>Lexsoul Dancemachine </span></a>, <a href=\"https://www.hooandja.ee/avasta/kategooriad/muusika\" target=\"_top\">Muusika</a>, <a href=\"https://www.hooandja.ee/projekt/lexsoul-dancemachine-lexplosion-ii-album\" target=\"_top\"><img src=\"https://www.hooandja.ee/sites/default/files/styles/200x229/public/project_images/lexplosion_ii_lp_cover.jpg?itok=q_UUBiQm\" width=\"200\"/></a>, <a href=\"https://www.hooandja.ee/users/tiinalelumees\" target=\"_top\"><span>Tiina Lelumees </span></a>, <a href=\"https://www.hooandja.ee/avasta/kategooriad/trukis\" target=\"_top\">Trükis</a>, <a href=\"https://www.hooandja.ee/projekt/valeri-maksimovi-elulooraamat\" target=\"_top\"><img src=\"https://www.hooandja.ee/sites/default/files/styles/200x229/public/project_images/valeri12_0.jpg?itok=koRS3pEC\" width=\"200\"/></a>, <a href=\"https://www.hooandja.ee/users/zrasahan\" target=\"_top\"><span>Alex Zrajev </span></a>, <a href=\"https://www.hooandja.ee/avasta/kategooriad/sport\" target=\"_top\">Sport</a>, <a href=\"https://www.hooandja.ee/projekt/narva-airsoft-cqb-areen\" target=\"_top\"><img src=\"https://www.hooandja.ee/sites/default/files/styles/200x229/public/project_images/kaanepilt_ida-paasuke.jpg?itok=Elo8Ohwb\" width=\"200\"/></a>, <a href=\"https://www.hooandja.ee/users/raul\" target=\"_top\"><span>Raul Oreškin </span></a>, <a href=\"https://www.hooandja.ee/avasta/kategooriad/kunst\" target=\"_top\">Kunst</a>, <a href=\"https://www.hooandja.ee/projekt/voronja-skulptuuride-aed\" target=\"_top\"><img src=\"https://www.hooandja.ee/sites/default/files/styles/200x229/public/project_images/hooandja_paisepilt.jpg?itok=zpVGcFMs\" width=\"200\"/></a>, <a href=\"https://www.hooandja.ee/users/saljona\" target=\"_top\"><span>Aljona Surzhikova </span></a>, <a href=\"https://www.hooandja.ee/avasta/kategooriad/film-foto\" target=\"_top\">Film &amp; Foto</a>, <a href=\"https://www.hooandja.ee/projekt/film-ankeet\" target=\"_top\"><img src=\"https://www.hooandja.ee/sites/default/files/styles/200x229/public/project_images/algus2.jpg?itok=Id7l8g8f\" width=\"200\"/></a>, <a href=\"https://www.hooandja.ee/users/curlystringsestonia\" target=\"_top\"><span>Curly Strings </span></a>, <a href=\"https://www.hooandja.ee/avasta/kategooriad/trukis\" target=\"_top\">Trükis</a>, <a href=\"https://www.hooandja.ee/projekt/curly-strings-heategevuslik-album-lastele\" target=\"_top\"><img src=\"https://www.hooandja.ee/sites/default/files/styles/200x229/public/project_images/zfpveg3c.jpeg?itok=Xe9Ll-Ns\" width=\"200\"/></a>, <a href=\"https://www.hooandja.ee/users/lembelokk\" target=\"_top\"><span>Lembe Lokk </span></a>, <a href=\"https://www.hooandja.ee/avasta/kategooriad/trukis\" target=\"_top\">Trükis</a>, <a href=\"https://www.hooandja.ee/projekt/elsewhere-today\" target=\"_top\"><img src=\"https://www.hooandja.ee/sites/default/files/styles/200x229/public/project_images/hooandja_lembe_lokk.jpg?itok=Xuf5igRb\" width=\"200\"/></a>, <a href=\"https://www.hooandja.ee/users/meritraju\" target=\"_top\"><span>Merit Raju </span></a>, <a href=\"https://www.hooandja.ee/avasta/kategooriad/trukis\" target=\"_top\">Trükis</a>, <a href=\"https://www.hooandja.ee/projekt/raamat-soltumatu-naine\" target=\"_top\"><img src=\"https://www.hooandja.ee/sites/default/files/styles/200x229/public/project_images/merit_raju-fotograaf_triin_maasik.jpg?itok=i-0Zazrf\" width=\"200\"/></a>, <a href=\"https://www.hooandja.ee/users/terjevooglaid\" target=\"_top\"><span>Terje Vooglaid </span></a>, <a href=\"https://www.hooandja.ee/avasta/kategooriad/trukis\" target=\"_top\">Trükis</a>, <a href=\"https://www.hooandja.ee/projekt/ei-taha-ei-taha\" target=\"_top\"><img src=\"https://www.hooandja.ee/sites/default/files/styles/200x229/public/project_images/eitaharaamat.png?itok=ZXew5vwh\" width=\"200\"/></a>, <a href=\"https://www.hooandja.ee/users/tiitkuusemaa\" target=\"_top\"><span>Tiit Kuusemaa </span></a>, <a href=\"https://www.hooandja.ee/avasta/kategooriad/kodanikualgatus\" target=\"_top\">Kodanikualgatus</a>, <a href=\"https://www.hooandja.ee/projekt/puhja-kiriku-luhtrite-restaureerimine\" target=\"_top\"><img src=\"https://www.hooandja.ee/sites/default/files/styles/200x229/public/project_images/hooandjale_0.jpg?itok=dGRoP4cg\" width=\"200\"/></a>, <a href=\"https://www.hooandja.ee/users/ruudusandra\" target=\"_top\"><span>Ruudu Sandra </span></a>, <a href=\"https://www.hooandja.ee/avasta/kategooriad/kunst\" target=\"_top\">Kunst</a>, <a href=\"https://www.hooandja.ee/projekt/templihoidjad\" target=\"_top\"><img src=\"https://www.hooandja.ee/sites/default/files/styles/200x229/public/project_images/projekti_iseloomustav_pilt_2_1.jpg?itok=b6EEJrSh\" width=\"200\"/></a>, <a href=\"https://www.hooandja.ee/users/teejakohvi\" target=\"_top\"><span>Indrek Koff </span></a>, <a href=\"https://www.hooandja.ee/avasta/kategooriad/trukis\" target=\"_top\">Trükis</a>, <a href=\"https://www.hooandja.ee/projekt/palavikulilled\" target=\"_top\"><img src=\"https://www.hooandja.ee/sites/default/files/styles/200x229/public/project_images/capture_decran_2020-03-27_a_07.28.32.jpg?itok=XY77cFeH\" width=\"200\"/></a>, <a href=\"https://www.hooandja.ee/users/joelremmel\" target=\"_top\"><span>joelremmel </span></a>, <a href=\"https://www.hooandja.ee/avasta/kategooriad/muusika\" target=\"_top\">Muusika</a>, <a href=\"https://www.hooandja.ee/projekt/joel-remmel-live-taff-club\" target=\"_top\"><img src=\"https://www.hooandja.ee/sites/default/files/styles/200x229/public/project_images/joel-ig-story3_0.jpg?itok=7-rcOYEW\" width=\"200\"/></a>, <a href=\"https://www.hooandja.ee/users/reginaatkajaakson1\" target=\"_top\"><span>Regina Jaakson </span></a>, <a href=\"https://www.hooandja.ee/avasta/kategooriad/trukis\" target=\"_top\">Trükis</a>, <a href=\"https://www.hooandja.ee/projekt/raamatu-koige-magusam-vili-ii-osa-valjaandmine\" target=\"_top\"><img src=\"https://www.hooandja.ee/sites/default/files/styles/200x229/public/project_images/poimunud_hinged-_kaas.jpg?itok=aiRJGhp9\" width=\"200\"/></a>, <a href=\"https://www.hooandja.ee/users/lauri8\" target=\"_top\"><span>Lauri Saatpalu </span></a>, <a href=\"https://www.hooandja.ee/avasta/kategooriad/muusika\" target=\"_top\">Muusika</a>, <a href=\"https://www.hooandja.ee/projekt/dago-kute\" target=\"_top\"><img src=\"https://www.hooandja.ee/sites/default/files/styles/200x229/public/project_images/dago-kute-esikaas-k-04.jpg?itok=qpcp2usm\" width=\"200\"/></a>, <a href=\"https://www.hooandja.ee/users/veli1\" target=\"_top\"><span>Veli Rooger </span></a>, <a href=\"https://www.hooandja.ee/avasta/kategooriad/muusika\" target=\"_top\">Muusika</a>, <a href=\"https://www.hooandja.ee/projekt/ansambli-boamadu-luhialbum-20\" target=\"_top\"><img src=\"https://www.hooandja.ee/sites/default/files/styles/200x229/public/project_images/boa_must_ruut_puhas_0.jpg?itok=zaULxqp9\" width=\"200\"/></a>, <a href=\"https://www.hooandja.ee/users/kristiinavahk\" target=\"_top\"><span>Kristiina Vähk </span></a>, <a href=\"https://www.hooandja.ee/avasta/kategooriad/haridus\" target=\"_top\">Haridus</a>, <a href=\"https://www.hooandja.ee/projekt/madalseiklusrada-laulasmaa-koolile\" target=\"_top\"><img src=\"https://www.hooandja.ee/sites/default/files/styles/200x229/public/project_images/89875975_3673882922653113_6932539800901648384_o.jpg?itok=tGz7pnUl\" width=\"200\"/></a>, <a href=\"https://www.hooandja.ee/users/keiokardla\" target=\"_top\"><span>Keio Kärdla </span></a>, <a href=\"https://www.hooandja.ee/avasta/kategooriad/muusika\" target=\"_top\">Muusika</a>, <a href=\"https://www.hooandja.ee/projekt/culpas-leo-pold-muusikavideo\" target=\"_top\"><img src=\"https://www.hooandja.ee/sites/default/files/styles/200x229/public/project_images/img_5117.jpg?itok=JWM8yGaw\" width=\"200\"/></a>, <a href=\"https://www.hooandja.ee/users/kristiinaehin\" target=\"_top\"><span>kristiina ehin </span></a>, <a href=\"https://www.hooandja.ee/avasta/kategooriad/trukis\" target=\"_top\">Trükis</a>, <a href=\"https://www.hooandja.ee/projekt/kristiina-ehini-uue-luulekogu-janu-koikidel-uks-valjaandmine\" target=\"_top\"><img src=\"https://www.hooandja.ee/sites/default/files/styles/200x229/public/project_images/kristina_raamatukuhjaga._kaari_pilt.jpg?itok=AMHdqQh0\" width=\"200\"/></a>, <a href=\"https://www.hooandja.ee/users/silviaparmann\" target=\"_top\"><span>Silvia Pärmann </span></a>, <a href=\"https://www.hooandja.ee/avasta/kategooriad/trukis\" target=\"_top\">Trükis</a>, <a href=\"https://www.hooandja.ee/projekt/raamat-riigid-mida-pole-olemas\" target=\"_top\"><img src=\"https://www.hooandja.ee/sites/default/files/styles/200x229/public/project_images/riigid1_0.jpg?itok=stC4Iin_\" width=\"200\"/></a>, <a href=\"https://www.hooandja.ee/users/kevinjurs\" target=\"_top\"><span>Kevin Jurs </span></a>, <a href=\"https://www.hooandja.ee/avasta/kategooriad/sport\" target=\"_top\">Sport</a>, <a href=\"https://www.hooandja.ee/projekt/kevin-jurs-crossfit-gamesile-2020\" target=\"_top\"><img src=\"https://www.hooandja.ee/sites/default/files/styles/200x229/public/project_images/proktiiseloomustus.jpg?itok=fqpXsKJc\" width=\"200\"/></a>, <a href=\"https://www.hooandja.ee/users/hardopajula\" target=\"_top\"><span>Hardo Pajula </span></a>, <a href=\"https://www.hooandja.ee/avasta/kategooriad/looduskaitse\" target=\"_top\">Sündmus</a>, <a href=\"https://www.hooandja.ee/projekt/rupert-sheldrake-eestis-teadus-ja-vaimne-praktika\" target=\"_top\"><img src=\"https://www.hooandja.ee/sites/default/files/styles/200x229/public/project_images/sheldrake.jpeg?itok=kVH7m6oM\" width=\"200\"/></a>, <a href=\"https://www.hooandja.ee/users/vendvemmal\" target=\"_top\"><span>Gunnar Vemmal Saar </span></a>, <a href=\"https://www.hooandja.ee/avasta/kategooriad/trukis\" target=\"_top\">Trükis</a>, <a href=\"https://www.hooandja.ee/projekt/merisiil-ja-karuake\" target=\"_top\"><img src=\"https://www.hooandja.ee/sites/default/files/styles/200x229/public/project_images/20190126_205107_0.jpg?itok=onO9_T7W\" width=\"200\"/></a>, <a href=\"https://www.hooandja.ee/users/kpiret\" target=\"_top\"><span>Piret Kärm </span></a>, <a href=\"https://www.hooandja.ee/avasta/kategooriad/trukis\" target=\"_top\">Trükis</a>, <a href=\"https://www.hooandja.ee/projekt/stephane-grappelli-elulooraamat\" target=\"_top\"><img src=\"https://www.hooandja.ee/sites/default/files/styles/200x229/public/project_images/20200207_kiurkaasik_grappelli.jpg?itok=jzq-oCvS\" width=\"200\"/></a>, <a href=\"https://www.hooandja.ee/users/anti5\" target=\"_top\"><span>Anti Kadajane </span></a>, <a href=\"https://www.hooandja.ee/avasta/kategooriad/haridus\" target=\"_top\">Haridus</a>, <a href=\"https://www.hooandja.ee/projekt/prints-ja-kerjus\" target=\"_top\"><img src=\"https://www.hooandja.ee/sites/default/files/styles/200x229/public/project_images/tamme_kooli_pilt_1.jpg?itok=iNupWgul\" width=\"200\"/></a>, <a href=\"/avasta/edukad?page=1\" title=\"Go to page 2\">2</a>, <a href=\"/avasta/edukad?page=2\" title=\"Go to page 3\">3</a>, <a href=\"/avasta/edukad?page=3\" title=\"Go to page 4\">4</a>, <a href=\"/avasta/edukad?page=4\" title=\"Go to page 5\">5</a>, <a href=\"/avasta/edukad?page=5\" title=\"Go to page 6\">6</a>, <a href=\"/avasta/edukad?page=6\" title=\"Go to page 7\">7</a>, <a href=\"/avasta/edukad?page=7\" title=\"Go to page 8\">8</a>, <a href=\"/avasta/edukad?page=8\" title=\"Go to page 9\">9</a>, <a href=\"/avasta/edukad?page=1\" title=\"Go to next page\">järgmine › </a>, <a href=\"/avasta/edukad?page=39\" title=\"Go to last page\">viimane » </a>, <a href=\"/avasta/esiletostetud\" title=\"\">Esiletõstetud</a>, <a class=\"active-trail active\" href=\"/avasta/edukad\" title=\"\">Edukalt lõppenud</a>, <a href=\"/avasta/viimati-lisatud\" title=\"\">Viimati lisatud</a>, <a href=\"/avasta/loppevad\" title=\"\">Lõppevad</a>, <a href=\"/avasta/enim-toetatud\" title=\"\">Enim toetatud</a>, <a class=\"\" href=\"/avasta/kategooriad/disain\">Disain</a>, <a class=\"\" href=\"/avasta/kategooriad/kodanikualgatus\">Kodanikualgatus</a>, <a class=\"\" href=\"/avasta/kategooriad/film-foto\">Film &amp; Foto</a>, <a class=\"\" href=\"/avasta/kategooriad/ev100\">EV100</a>, <a class=\"\" href=\"/avasta/kategooriad/Kultuurisaadikud\">Kultuurisaadikud</a>, <a class=\"\" href=\"/avasta/kategooriad/kunst\">Kunst</a>, <a class=\"\" href=\"/avasta/kategooriad/meedia\">Meedia</a>, <a class=\"\" href=\"/avasta/kategooriad/muusika\">Muusika</a>, <a class=\"\" href=\"/avasta/kategooriad/M%C3%A4ng\">Mäng</a>, <a class=\"\" href=\"/avasta/kategooriad/sundmused\">Sündmus</a>, <a class=\"\" href=\"/avasta/kategooriad/teater\">Teater</a>, <a class=\"\" href=\"/avasta/kategooriad/tehnoloogia\">Tehnoloogia</a>, <a class=\"\" href=\"/avasta/kategooriad/trukis\">Trükis</a>, <a class=\"top\" href=\"#top\"><img alt=\"Up\" src=\"https://www.hooandja.ee/sites/all/themes/hooandjatheme/static/imgs/up.png\"/></a>, <a href=\"/content/kasutustingimused\">Kasutustingimused</a>, <a href=\"/content/hooandja-teenustasud\">Teenustasud</a>, <a href=\"/abinurk\">Abinurk</a>, <a href=\"http://www.hooandja.ee/sites/default/files/uploads/pohikiri.pdf\">Põhikiri</a>, <a href=\"http://www.hooandja.ee/sites/default/files/uploads/eetilise_tegutsemise_pohimotted.pdf\">Eetilise tegutsemise põhimõtted</a>, <a href=\"http://www.hooandja.ee/aruanded/\">Majandusaasta aruanded</a>, <a href=\"/content/projektid\">PROJEKTID</a>, <a href=\"/content/press-meist\">Press</a>, <a class=\"twitter-follow-button\" data-show-count=\"false\" data-show-screen-name=\"false\" data-size=\"large\" href=\"https://twitter.com/hooandja\">Follow @hooandja</a>]\n"
     ]
    }
   ],
   "source": [
    "print (links)"
   ]
  },
  {
   "cell_type": "code",
   "execution_count": 114,
   "metadata": {},
   "outputs": [],
   "source": [
    "  def find_links (links, keyword):\n",
    "    title = job.find(\"h3\", {\"class\": \"desc\"})  \n",
    "    links_filtered = {}\n",
    "    for link in links:\n",
    "        if link.has_attr(\"href\") and link[\"href\"].find(keyword) > -1:\n",
    "            links_filtered[link[\"href\"]] = 1\n",
    "    return list(links_filtered.keys())\n",
    "proj = []\n",
    "proj.extend(find_links(soup.find_all(\"a\"), \"/projekt/\"))\n",
    "pages = []\n",
    "pages.extend(find_links(soup.find_all(\"a\"), \"/avasta/edukad?page\"))    \n",
    "\n",
    "for page in pages:\n",
    "    r = requests.get(\"https://www.hooandja.ee\" + page)\n",
    "    html = BeautifulSoup(r.content)\n",
    "    proj.extend(find_links(html.find_all(\"a\"), \"/projekt/\"))\n",
    "with open(\"hooandja_edukad.txt\", \"w\") as f:\n",
    "    f.write(\"\\n\".join(proj))"
   ]
  },
  {
   "cell_type": "code",
   "execution_count": null,
   "metadata": {},
   "outputs": [],
   "source": [
    "# мультипроцессинг\n",
    "\n"
   ]
  }
 ],
 "metadata": {
  "kernelspec": {
   "display_name": "Python 3",
   "language": "python",
   "name": "python3"
  },
  "language_info": {
   "codemirror_mode": {
    "name": "ipython",
    "version": 3
   },
   "file_extension": ".py",
   "mimetype": "text/x-python",
   "name": "python",
   "nbconvert_exporter": "python",
   "pygments_lexer": "ipython3",
   "version": "3.8.2"
  }
 },
 "nbformat": 4,
 "nbformat_minor": 4
}
