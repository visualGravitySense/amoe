{
 "cells": [
  {
   "cell_type": "code",
   "execution_count": 3,
   "metadata": {},
   "outputs": [
    {
     "name": "stdout",
     "output_type": "stream",
     "text": [
      "['39 490 ₽', '44 490 ₽', '49 990 ₽', '44 990 ₽', '44 351 ₽', '49 280 ₽', '28 990 ₽', '49 990 ₽', '59 990 ₽', '59 990 ₽', '54 990 ₽', '64 990 ₽', '22 990 ₽', '22 990 ₽', '27 990 ₽', '75 990 ₽', '19 490 ₽', '113 990 ₽', '69 990 ₽', '34 990 ₽', '7 990 ₽', '86 490 ₽', '38 421 ₽', '99 990 ₽']\n"
     ]
    }
   ],
   "source": [
    "import requests\n",
    "from bs4 import BeautifulSoup\n",
    "r = requests.get(\"https://beru.ru/catalog/smartfony-i-mobilnye-telefony/80542/list?cvredirect=3&suggest_reqId=36288023465357252998098266051946&text=Iphone%208\")\n",
    "html = BeautifulSoup(r.content)\n",
    "prices = [p.get_text() for p in html.find_all(\"span\", {\"class\": \"_1u3j_pk1db\"})]\n",
    "print(prices)"
   ]
  }
 ],
 "metadata": {
  "kernelspec": {
   "display_name": "Python 3",
   "language": "python",
   "name": "python3"
  },
  "language_info": {
   "codemirror_mode": {
    "name": "ipython",
    "version": 3
   },
   "file_extension": ".py",
   "mimetype": "text/x-python",
   "name": "python",
   "nbconvert_exporter": "python",
   "pygments_lexer": "ipython3",
   "version": "3.8.2"
  }
 },
 "nbformat": 4,
 "nbformat_minor": 2
}
