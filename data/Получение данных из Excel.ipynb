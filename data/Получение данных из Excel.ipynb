{
 "cells": [
  {
   "cell_type": "code",
   "execution_count": 68,
   "metadata": {},
   "outputs": [
    {
     "name": "stdout",
     "output_type": "stream",
     "text": [
      "DOM time      4026.705882\n",
      "Load time    11352.862745\n",
      "dtype: float64\n"
     ]
    }
   ],
   "source": [
    "import pandas as pd\n",
    "data = pd.ExcelFile(\"https://video.ittensive.com/python-advanced/website.load.timings.xlsx\").parse(sheet_name=0, \n",
    "        names=[\"Date\", \"DOM time\", \"Load time\"], converters={\"Date\": pd.to_datetime, \"DOM time\": int, \"Load time\": int})\n",
    "print (data.mean())"
   ]
  }
 ],
 "metadata": {
  "kernelspec": {
   "display_name": "Python 3",
   "language": "python",
   "name": "python3"
  },
  "language_info": {
   "codemirror_mode": {
    "name": "ipython",
    "version": 3
   },
   "file_extension": ".py",
   "mimetype": "text/x-python",
   "name": "python",
   "nbconvert_exporter": "python",
   "pygments_lexer": "ipython3",
   "version": "3.8.2"
  }
 },
 "nbformat": 4,
 "nbformat_minor": 2
}
