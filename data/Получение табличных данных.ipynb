{
 "cells": [
  {
   "cell_type": "code",
   "execution_count": 1,
   "metadata": {},
   "outputs": [
    {
     "name": "stdout",
     "output_type": "stream",
     "text": [
      "     Год Количество\n",
      "0   1959  2 796 228\n",
      "1   1960  2 782 353\n",
      "2   1961  2 662 135\n",
      "3   1962  2 482 539\n",
      "4   1963  2 331 505\n",
      "..   ...        ...\n",
      "56  2015  1 944 136\n",
      "57  2016  1 893 256\n",
      "58  2017  1 689 884\n",
      "59  2018  1 599 316\n",
      "60  2019  1 484 517\n",
      "\n",
      "[61 rows x 2 columns]\n"
     ]
    },
    {
     "name": "stderr",
     "output_type": "stream",
     "text": [
      "/Users/dmitrigornakov/Documents/jupyter/venv/lib/python3.8/site-packages/bs4/__init__.py:177: UserWarning: No parser was explicitly specified, so I'm using the best available HTML parser for this system (\"lxml\"). This usually isn't a problem, but if you run this code on another system, or in a different virtual environment, it may use a different parser and behave differently.\n",
      "\n",
      "The code that caused this warning is on line 193 of the file /Library/Frameworks/Python.framework/Versions/3.8/lib/python3.8/runpy.py. To get rid of this warning, change code that looks like this:\n",
      "\n",
      " BeautifulSoup(YOUR_MARKUP})\n",
      "\n",
      "to this:\n",
      "\n",
      " BeautifulSoup(YOUR_MARKUP, \"lxml\")\n",
      "\n",
      "  warnings.warn(self.NO_PARSER_SPECIFIED_WARNING % dict(\n"
     ]
    }
   ],
   "source": [
    "import requests\n",
    "import pandas as pd\n",
    "from bs4 import BeautifulSoup\n",
    "r = requests.get(\"https://worldtable.info/gosudarstvo/tablica-rozhdaemosti-po-godam-rossija.html\")\n",
    "html = BeautifulSoup(r.content)\n",
    "data = []\n",
    "table = html.find(\"table\")\n",
    "for tr in table.find_all(\"tr\"):\n",
    "    data.append([td.get_text() for td in tr.find_all(\"td\")])\n",
    "data = pd.DataFrame(data[1:], columns=[\"Год\", \"Количество\"])\n",
    "print (data)"
   ]
  },
  {
   "cell_type": "code",
   "execution_count": null,
   "metadata": {},
   "outputs": [],
   "source": []
  }
 ],
 "metadata": {
  "kernelspec": {
   "display_name": "Python 3",
   "language": "python",
   "name": "python3"
  },
  "language_info": {
   "codemirror_mode": {
    "name": "ipython",
    "version": 3
   },
   "file_extension": ".py",
   "mimetype": "text/x-python",
   "name": "python",
   "nbconvert_exporter": "python",
   "pygments_lexer": "ipython3",
   "version": "3.8.2"
  }
 },
 "nbformat": 4,
 "nbformat_minor": 2
}
