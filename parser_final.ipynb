{
 "cells": [
  {
   "cell_type": "markdown",
   "metadata": {},
   "source": [
    "### ПОЛУЧЕНИЕ ССЫЛОК СО ВСЕХ СТРАНИЦ "
   ]
  },
  {
   "cell_type": "code",
   "execution_count": 1,
   "metadata": {},
   "outputs": [],
   "source": [
    "from multiprocess import cpu_count, Pool\n",
    "import requests as requests\n",
    "from bs4 import BeautifulSoup\n",
    "import random\n",
    "import time\n",
    "import pandas as pd\n",
    "\n",
    "def get_film (url):\n",
    "#    print(url)\n",
    "#    time.sleep(random.randint(1, 5))\n",
    "    r = requests.get(url)\n",
    "    html = BeautifulSoup(r.content.decode('utf-8'))\n",
    "#     print(html)\n",
    "    title = html.find(\"div\", {\"class\":\"leftside w780\"}).get_text()\n",
    "    title = title.split('\\n')[1].split('\\xa0')\n",
    "    tags = html.find_all(\"span\", {\"class\":\"h1\"})\n",
    "    budget = \"\"\n",
    "    sales_www = \"\"\n",
    "    \n",
    "    if len(tags) > 0:\n",
    "        sales_www = tags[0].get_text()\n",
    "        if len(tags) > 1:\n",
    "            budget = tags[0].get_text()\n",
    "            sales_www = tags[1].get_text()\n",
    "            if len(tags) > 2:\n",
    "                sales_www = tags[2].get_text()\n",
    "    return [url, title, budget, sales_www]\n",
    "\n",
    "\n"
   ]
  },
  {
   "cell_type": "code",
   "execution_count": 2,
   "metadata": {},
   "outputs": [
    {
     "data": {
      "text/plain": [
       "['https://www.hooandja.ee/projekt/kulalaulik-1-rahvalaule-sajanditaguseilt-eesti-kulatanavailt',\n",
       " 'https://www.hooandja.ee/projekt/eesti-jooksu-kullafond',\n",
       " 'https://www.hooandja.ee/projekt/randteater-vaba-vanker',\n",
       " 'https://www.hooandja.ee/projekt/kogukonnamuusikal-veterahva-needus',\n",
       " 'https://www.hooandja.ee/projekt/elektriteater']"
      ]
     },
     "execution_count": 2,
     "metadata": {},
     "output_type": "execute_result"
    }
   ],
   "source": [
    "with open(\"hooandja.txt\", \"r\") as f:\n",
    "    links = list(map(lambda x: x.strip(), f.readlines()))\n",
    "links\n",
    "# get_film(links[0])"
   ]
  },
  {
   "cell_type": "code",
   "execution_count": null,
   "metadata": {},
   "outputs": [],
   "source": []
  },
  {
   "cell_type": "code",
   "execution_count": null,
   "metadata": {},
   "outputs": [],
   "source": []
  }
 ],
 "metadata": {
  "kernelspec": {
   "display_name": "Python 3",
   "language": "python",
   "name": "python3"
  },
  "language_info": {
   "codemirror_mode": {
    "name": "ipython",
    "version": 3
   },
   "file_extension": ".py",
   "mimetype": "text/x-python",
   "name": "python",
   "nbconvert_exporter": "python",
   "pygments_lexer": "ipython3",
   "version": "3.8.2"
  }
 },
 "nbformat": 4,
 "nbformat_minor": 4
}
