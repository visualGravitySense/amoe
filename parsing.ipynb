{
 "cells": [
  {
   "cell_type": "code",
   "execution_count": 1,
   "metadata": {},
   "outputs": [],
   "source": [
    "from bs4 import BeautifulSoup\n",
    "import requests"
   ]
  },
  {
   "cell_type": "code",
   "execution_count": 2,
   "metadata": {},
   "outputs": [],
   "source": [
    "url = \"https://www.hooandja.ee/avasta/edukad\""
   ]
  },
  {
   "cell_type": "code",
   "execution_count": 3,
   "metadata": {},
   "outputs": [
    {
     "data": {
      "text/plain": [
       "<Response [200]>"
      ]
     },
     "execution_count": 3,
     "metadata": {},
     "output_type": "execute_result"
    }
   ],
   "source": [
    "response = requests.get(url)\n",
    "response"
   ]
  },
  {
   "cell_type": "code",
   "execution_count": 4,
   "metadata": {},
   "outputs": [],
   "source": [
    "data = response.text"
   ]
  },
  {
   "cell_type": "code",
   "execution_count": 98,
   "metadata": {},
   "outputs": [],
   "source": [
    "soup = BeautifulSoup(data, 'html.parser')"
   ]
  },
  {
   "cell_type": "code",
   "execution_count": 101,
   "metadata": {},
   "outputs": [
    {
     "name": "stdout",
     "output_type": "stream",
     "text": [
      "Projekt: Teraapia -ja meelesüsteemideaed Eesti matkapealinna Aegviitu \n",
      "Looja Eesti Loodus- ja Loomateraapiakeskus  \n",
      "Link https://www.hooandja.ee/users/info220 \n",
      "---\n",
      "Projekt: Erik Juhandi debüütluulekogu \"Exitus\" \n",
      "Looja Erik Juhandi  \n",
      "Link https://www.hooandja.ee/users/erikjuhandi \n",
      "---\n",
      "Projekt: Lühifilm \"Ohver\" \n",
      "Looja Natalja Matsenene  \n",
      "Link https://www.hooandja.ee/users/nataliamachenene \n",
      "---\n",
      "Projekt: Mari Kalkuni plaadi \"Õunaaia album\" ja video väljaandmine \n",
      "Looja Mari Kalkun  \n",
      "Link https://www.hooandja.ee/users/marikalkun \n",
      "---\n",
      "Projekt: Kinkeraamat #õnnelikteekond #becominghappy \n",
      "Looja Birgit Itse  \n",
      "Link https://www.hooandja.ee/users/birgititse \n",
      "---\n",
      "Projekt: Lexsoul Dancemachine \"Lexplosion II\" album \n",
      "Looja Lexsoul Dancemachine  \n",
      "Link https://www.hooandja.ee/users/353 \n",
      "---\n",
      "Projekt: Endise spordiajakirjaniku Valeri Maksimovi elulooraamat \"Hiiumehe ränd\" \n",
      "Looja Tiina Lelumees  \n",
      "Link https://www.hooandja.ee/users/tiinalelumees \n",
      "---\n",
      "Projekt: Narva Airsoft CQB areen \n",
      "Looja Alex Zrajev  \n",
      "Link https://www.hooandja.ee/users/zrasahan \n",
      "---\n",
      "Projekt: VORONJA SKULPTUURIDE AED \n",
      "Looja Raul Oreškin  \n",
      "Link https://www.hooandja.ee/users/raul \n",
      "---\n",
      "Projekt: Film \"Ankeet\" \n",
      "Looja Aljona Surzhikova  \n",
      "Link https://www.hooandja.ee/users/saljona \n",
      "---\n",
      "Projekt: Curly Strings ja sõbrad - heategevusliku albumi \"Lastele\" välja andmine \n",
      "Looja Curly Strings  \n",
      "Link https://www.hooandja.ee/users/curlystringsestonia \n",
      "---\n",
      "Projekt: \"mujal nüüd – elsewhere today\" raamatu väljaandmine \n",
      "Looja Lembe Lokk  \n",
      "Link https://www.hooandja.ee/users/lembelokk \n",
      "---\n",
      "Projekt: Investeerimisraamat \"Sõltumatu naine. 5 sammu rahalise vabaduseni\" \n",
      "Looja Merit Raju  \n",
      "Link https://www.hooandja.ee/users/meritraju \n",
      "---\n",
      "Projekt: Lasteraamat \"Ei taha! Ei taha!\" \n",
      "Looja Terje Vooglaid  \n",
      "Link https://www.hooandja.ee/users/terjevooglaid \n",
      "---\n",
      "Projekt: Puhja kiriku lühtrite restaureerimine \n",
      "Looja Tiit Kuusemaa  \n",
      "Link https://www.hooandja.ee/users/tiitkuusemaa \n",
      "---\n",
      "Projekt: Ruudu Rahumaru fotomaali näitus \"Templihoidjad\" \n",
      "Looja Ruudu Sandra  \n",
      "Link https://www.hooandja.ee/users/ruudusandra \n",
      "---\n",
      "Projekt: Palavikulilled \n",
      "Looja Indrek Koff  \n",
      "Link https://www.hooandja.ee/users/teejakohvi \n",
      "---\n",
      "Projekt: Joel Remmel \"Live at Taff Club\" vinüülplaadi väljaandmine \n",
      "Looja joelremmel  \n",
      "Link https://www.hooandja.ee/users/joelremmel \n",
      "---\n",
      "Projekt: Raamatu \"Kõige magusam vili\" II osa väljaandmine \n",
      "Looja Regina Jaakson  \n",
      "Link https://www.hooandja.ee/users/reginaatkajaakson1 \n",
      "---\n",
      "Projekt: Dagö \"Küte\" \n",
      "Looja Lauri Saatpalu  \n",
      "Link https://www.hooandja.ee/users/lauri8 \n",
      "---\n",
      "Projekt: Ansambli Boamadu lühialbumi avaldamine \n",
      "Looja Veli Rooger  \n",
      "Link https://www.hooandja.ee/users/veli1 \n",
      "---\n",
      "Projekt: Madalseiklusrada Laulasmaa Koolile \n",
      "Looja Kristiina Vähk  \n",
      "Link https://www.hooandja.ee/users/kristiinavahk \n",
      "---\n",
      "Projekt: Culpas - \"Leo Põld\" Muusikavideo \n",
      "Looja Keio Kärdla  \n",
      "Link https://www.hooandja.ee/users/keiokardla \n",
      "---\n",
      "Projekt: Kristiina Ehini uue luulekogu \"Janu on kõikidel üks\" väljaandmine \n",
      "Looja kristiina ehin  \n",
      "Link https://www.hooandja.ee/users/kristiinaehin \n",
      "---\n",
      "Projekt: Raamat \"Riigid, mida pole olemas\" \n",
      "Looja Silvia Pärmann  \n",
      "Link https://www.hooandja.ee/users/silviaparmann \n",
      "---\n",
      "Projekt: Kevin Jurs CrossFit Gamesile 2020 \n",
      "Looja Kevin Jurs  \n",
      "Link https://www.hooandja.ee/users/kevinjurs \n",
      "---\n",
      "Projekt: Rupert Sheldrake Eestis: \"Teadus ja vaimne praktika\" \n",
      "Looja Hardo Pajula  \n",
      "Link https://www.hooandja.ee/users/hardopajula \n",
      "---\n",
      "Projekt: Merisiil ja karuäke \n",
      "Looja Gunnar Vemmal Saar  \n",
      "Link https://www.hooandja.ee/users/vendvemmal \n",
      "---\n",
      "Projekt: Jazzilegend Stéphane Grappelli elulooraamat \"Pagasiks vaid viiul\" \n",
      "Looja Piret Kärm  \n",
      "Link https://www.hooandja.ee/users/kpiret \n",
      "---\n",
      "Projekt: Tartu Tamme Kooli suurlavastus \"Prints ja kerjus\" \n",
      "Looja Anti Kadajane  \n",
      "Link https://www.hooandja.ee/users/anti5 \n",
      "---\n"
     ]
    }
   ],
   "source": [
    "jobs = soup.find_all(\"div\", {\"class\": \"project_white_box\"})\n",
    "\n",
    "for job in jobs:\n",
    "    title = job.find('h3').text\n",
    "    location = job.find('span').text\n",
    "    link = job.find('a', {'target': '_top'}).get('href')\n",
    "    \n",
    "    print('Projekt:', title, '\\nLooja', location, '\\nLink', link, '\\n---')"
   ]
  },
  {
   "cell_type": "code",
   "execution_count": null,
   "metadata": {},
   "outputs": [],
   "source": []
  },
  {
   "cell_type": "code",
   "execution_count": null,
   "metadata": {},
   "outputs": [],
   "source": []
  },
  {
   "cell_type": "code",
   "execution_count": null,
   "metadata": {},
   "outputs": [],
   "source": []
  },
  {
   "cell_type": "code",
   "execution_count": null,
   "metadata": {},
   "outputs": [],
   "source": []
  },
  {
   "cell_type": "code",
   "execution_count": null,
   "metadata": {},
   "outputs": [],
   "source": []
  },
  {
   "cell_type": "code",
   "execution_count": null,
   "metadata": {},
   "outputs": [],
   "source": []
  },
  {
   "cell_type": "code",
   "execution_count": null,
   "metadata": {},
   "outputs": [],
   "source": []
  },
  {
   "cell_type": "code",
   "execution_count": null,
   "metadata": {},
   "outputs": [],
   "source": []
  },
  {
   "cell_type": "code",
   "execution_count": null,
   "metadata": {},
   "outputs": [],
   "source": []
  },
  {
   "cell_type": "code",
   "execution_count": null,
   "metadata": {},
   "outputs": [],
   "source": []
  },
  {
   "cell_type": "code",
   "execution_count": null,
   "metadata": {},
   "outputs": [],
   "source": []
  },
  {
   "cell_type": "markdown",
   "metadata": {},
   "source": [
    "### Получение списка проектов и их авторов с первой страницы"
   ]
  },
  {
   "cell_type": "code",
   "execution_count": null,
   "metadata": {},
   "outputs": [],
   "source": []
  },
  {
   "cell_type": "code",
   "execution_count": null,
   "metadata": {},
   "outputs": [],
   "source": []
  },
  {
   "cell_type": "code",
   "execution_count": null,
   "metadata": {},
   "outputs": [],
   "source": []
  },
  {
   "cell_type": "code",
   "execution_count": null,
   "metadata": {},
   "outputs": [],
   "source": []
  },
  {
   "cell_type": "code",
   "execution_count": null,
   "metadata": {},
   "outputs": [],
   "source": []
  },
  {
   "cell_type": "code",
   "execution_count": null,
   "metadata": {},
   "outputs": [],
   "source": []
  },
  {
   "cell_type": "code",
   "execution_count": null,
   "metadata": {},
   "outputs": [],
   "source": []
  },
  {
   "cell_type": "code",
   "execution_count": null,
   "metadata": {},
   "outputs": [],
   "source": []
  },
  {
   "cell_type": "code",
   "execution_count": null,
   "metadata": {},
   "outputs": [],
   "source": []
  },
  {
   "cell_type": "code",
   "execution_count": null,
   "metadata": {},
   "outputs": [],
   "source": []
  },
  {
   "cell_type": "code",
   "execution_count": null,
   "metadata": {},
   "outputs": [],
   "source": []
  },
  {
   "cell_type": "code",
   "execution_count": null,
   "metadata": {},
   "outputs": [],
   "source": []
  },
  {
   "cell_type": "code",
   "execution_count": null,
   "metadata": {},
   "outputs": [],
   "source": []
  },
  {
   "cell_type": "code",
   "execution_count": null,
   "metadata": {},
   "outputs": [],
   "source": []
  },
  {
   "cell_type": "code",
   "execution_count": null,
   "metadata": {},
   "outputs": [],
   "source": []
  },
  {
   "cell_type": "code",
   "execution_count": null,
   "metadata": {},
   "outputs": [],
   "source": []
  },
  {
   "cell_type": "code",
   "execution_count": null,
   "metadata": {},
   "outputs": [],
   "source": []
  },
  {
   "cell_type": "code",
   "execution_count": null,
   "metadata": {},
   "outputs": [],
   "source": []
  },
  {
   "cell_type": "code",
   "execution_count": null,
   "metadata": {},
   "outputs": [],
   "source": []
  },
  {
   "cell_type": "code",
   "execution_count": null,
   "metadata": {},
   "outputs": [],
   "source": []
  },
  {
   "cell_type": "code",
   "execution_count": null,
   "metadata": {},
   "outputs": [],
   "source": []
  },
  {
   "cell_type": "code",
   "execution_count": null,
   "metadata": {},
   "outputs": [],
   "source": []
  },
  {
   "cell_type": "code",
   "execution_count": null,
   "metadata": {},
   "outputs": [],
   "source": []
  },
  {
   "cell_type": "code",
   "execution_count": null,
   "metadata": {},
   "outputs": [],
   "source": []
  },
  {
   "cell_type": "code",
   "execution_count": null,
   "metadata": {},
   "outputs": [],
   "source": []
  },
  {
   "cell_type": "code",
   "execution_count": null,
   "metadata": {},
   "outputs": [],
   "source": []
  },
  {
   "cell_type": "code",
   "execution_count": null,
   "metadata": {},
   "outputs": [],
   "source": []
  },
  {
   "cell_type": "code",
   "execution_count": null,
   "metadata": {},
   "outputs": [],
   "source": []
  },
  {
   "cell_type": "code",
   "execution_count": null,
   "metadata": {},
   "outputs": [],
   "source": []
  },
  {
   "cell_type": "code",
   "execution_count": null,
   "metadata": {},
   "outputs": [],
   "source": []
  },
  {
   "cell_type": "code",
   "execution_count": null,
   "metadata": {},
   "outputs": [],
   "source": []
  },
  {
   "cell_type": "code",
   "execution_count": null,
   "metadata": {},
   "outputs": [],
   "source": []
  },
  {
   "cell_type": "code",
   "execution_count": null,
   "metadata": {},
   "outputs": [],
   "source": []
  },
  {
   "cell_type": "code",
   "execution_count": null,
   "metadata": {},
   "outputs": [],
   "source": []
  },
  {
   "cell_type": "code",
   "execution_count": null,
   "metadata": {},
   "outputs": [],
   "source": []
  },
  {
   "cell_type": "code",
   "execution_count": null,
   "metadata": {},
   "outputs": [],
   "source": []
  },
  {
   "cell_type": "code",
   "execution_count": null,
   "metadata": {},
   "outputs": [],
   "source": []
  },
  {
   "cell_type": "code",
   "execution_count": null,
   "metadata": {},
   "outputs": [],
   "source": []
  },
  {
   "cell_type": "code",
   "execution_count": null,
   "metadata": {},
   "outputs": [],
   "source": []
  },
  {
   "cell_type": "code",
   "execution_count": null,
   "metadata": {},
   "outputs": [],
   "source": []
  },
  {
   "cell_type": "code",
   "execution_count": null,
   "metadata": {},
   "outputs": [],
   "source": []
  },
  {
   "cell_type": "code",
   "execution_count": null,
   "metadata": {},
   "outputs": [],
   "source": []
  },
  {
   "cell_type": "code",
   "execution_count": null,
   "metadata": {},
   "outputs": [],
   "source": []
  },
  {
   "cell_type": "code",
   "execution_count": null,
   "metadata": {},
   "outputs": [],
   "source": []
  },
  {
   "cell_type": "code",
   "execution_count": null,
   "metadata": {},
   "outputs": [],
   "source": []
  },
  {
   "cell_type": "code",
   "execution_count": null,
   "metadata": {},
   "outputs": [],
   "source": []
  },
  {
   "cell_type": "code",
   "execution_count": null,
   "metadata": {},
   "outputs": [],
   "source": []
  },
  {
   "cell_type": "code",
   "execution_count": null,
   "metadata": {},
   "outputs": [],
   "source": []
  },
  {
   "cell_type": "code",
   "execution_count": null,
   "metadata": {},
   "outputs": [],
   "source": []
  },
  {
   "cell_type": "code",
   "execution_count": null,
   "metadata": {},
   "outputs": [],
   "source": []
  },
  {
   "cell_type": "code",
   "execution_count": null,
   "metadata": {},
   "outputs": [],
   "source": []
  },
  {
   "cell_type": "code",
   "execution_count": null,
   "metadata": {},
   "outputs": [],
   "source": []
  },
  {
   "cell_type": "code",
   "execution_count": null,
   "metadata": {},
   "outputs": [],
   "source": []
  },
  {
   "cell_type": "code",
   "execution_count": null,
   "metadata": {},
   "outputs": [],
   "source": []
  },
  {
   "cell_type": "code",
   "execution_count": null,
   "metadata": {},
   "outputs": [],
   "source": []
  },
  {
   "cell_type": "code",
   "execution_count": null,
   "metadata": {},
   "outputs": [],
   "source": []
  },
  {
   "cell_type": "code",
   "execution_count": null,
   "metadata": {},
   "outputs": [],
   "source": []
  },
  {
   "cell_type": "code",
   "execution_count": null,
   "metadata": {},
   "outputs": [],
   "source": []
  },
  {
   "cell_type": "code",
   "execution_count": null,
   "metadata": {},
   "outputs": [],
   "source": []
  },
  {
   "cell_type": "code",
   "execution_count": null,
   "metadata": {},
   "outputs": [],
   "source": []
  },
  {
   "cell_type": "code",
   "execution_count": null,
   "metadata": {},
   "outputs": [],
   "source": []
  },
  {
   "cell_type": "code",
   "execution_count": null,
   "metadata": {},
   "outputs": [],
   "source": []
  }
 ],
 "metadata": {
  "kernelspec": {
   "display_name": "Python 3",
   "language": "python",
   "name": "python3"
  },
  "language_info": {
   "codemirror_mode": {
    "name": "ipython",
    "version": 3
   },
   "file_extension": ".py",
   "mimetype": "text/x-python",
   "name": "python",
   "nbconvert_exporter": "python",
   "pygments_lexer": "ipython3",
   "version": "3.8.2"
  }
 },
 "nbformat": 4,
 "nbformat_minor": 4
}
