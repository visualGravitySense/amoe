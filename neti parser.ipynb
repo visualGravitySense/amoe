{
 "cells": [
  {
   "cell_type": "code",
   "execution_count": 5,
   "metadata": {},
   "outputs": [],
   "source": [
    "import requests\n",
    "from bs4 import BeautifulSoup as BS\n",
    "import codecs\n",
    "import time\n",
    "import datetime\n",
    "session = requests.Session()\n",
    "headers = {'User-Agent': 'Mozilla/5.0 (Windows NT 5.1; rv:47.0) Gecko/20100101 Firefox/47.0',\n",
    "           'Accept':'text/html,application/xhtml+xml,application/xml;q=0.9,*/*;q=0.8'\n",
    "    }\n",
    "base_url = 'https://www.neti.ee/cgi-bin/teema/ARI/Reklaam_ja_Disain/'\n",
    "\n",
    "domain = 'https://neti.ee'\n",
    "jobs = []\n",
    "urls = []\n",
    "\n",
    "req = session.get(base_url, headers=headers)\n",
    "if req.status_code == 200:\n",
    "    bsObj = BS(req.content, \"html.parser\")\n",
    "    table = bsObj.find('ul', attrs={'class': 'results-type'})\n",
    "    if table:\n",
    "        tr_list = bsObj.find_all('li', attrs={'class': 'result-item company fc-bi-ok'})\n",
    "        for tr in tr_list:\n",
    "            h3 = tr.find('h3', attrs={'class': 'name inline-block'})\n",
    "            title = h3.a.text\n",
    "            href = h3.a['href']\n",
    "            short = 'No description'\n",
    "            company = \"No name\"\n",
    "            logo = tr.find('p', attrs={'class': 'result-text'})\n",
    "            if logo:\n",
    "                company = logo.text\n",
    "            \n",
    "            jobs.append({'href': domain + href,\n",
    "                        'title': title, \n",
    "                        'company': company})\n",
    "    \n",
    "    # print(div.find('p', attrs={'class': 'overflow'}).text)\n",
    "# data = bsObj.prettify()#.encode('utf8')\n",
    "template = '<!doctype html><html lang=\"en\"><head><meta charset=\"utf-8\"></head><body>'\n",
    "end = '</body></html>'\n",
    "content = '<h2> Rabota.ua</h2>'\n",
    "for job in jobs:\n",
    "    content += '<a href=\"{href}\" target=\"_blank\">{title}</a><br/><p>{company}</p><br/>'.format(**job)\n",
    "    content += '<hr/><br/><br/>'\n",
    "data = template + content + end\n",
    "handle = codecs.open('neti.ee.html', \"w\", 'utf-8')\n",
    "handle.write(str(data))\n",
    "handle.close() \n"
   ]
  },
  {
   "cell_type": "code",
   "execution_count": null,
   "metadata": {},
   "outputs": [],
   "source": []
  }
 ],
 "metadata": {
  "kernelspec": {
   "display_name": "Python 3",
   "language": "python",
   "name": "python3"
  },
  "language_info": {
   "codemirror_mode": {
    "name": "ipython",
    "version": 3
   },
   "file_extension": ".py",
   "mimetype": "text/x-python",
   "name": "python",
   "nbconvert_exporter": "python",
   "pygments_lexer": "ipython3",
   "version": "3.8.2"
  }
 },
 "nbformat": 4,
 "nbformat_minor": 4
}
