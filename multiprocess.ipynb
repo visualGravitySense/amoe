{
 "cells": [
  {
   "cell_type": "code",
   "execution_count": 3,
   "metadata": {},
   "outputs": [],
   "source": [
    "?map"
   ]
  },
  {
   "cell_type": "code",
   "execution_count": 10,
   "metadata": {},
   "outputs": [],
   "source": [
    "## from multiprocess import Pool\n",
    "from multiprocess import cpu_count, Pool\n",
    "import requests as requests\n",
    "from bs4 import BeautifulSoup\n",
    "import random\n",
    "import time\n",
    "\n",
    "def get_film (url):\n",
    "    print(url)\n",
    "#    time.sleep(random.randint(1, 5))\n",
    "    r = requests.get(url)\n",
    "    html = BeautifulSoup(r.content)\n",
    "#     print(html)\n",
    "    title = html.find(\"div\", {\"class\":\"leftside w780\"}).get_text()\n",
    "    tags = html.find_all(\"span\", {\"class\":\"h1\"})\n",
    "    budget = \"\"\n",
    "    sales_www = \"\"\n",
    "    \n",
    "    if len(tags) > 0:\n",
    "        sales_www = tags[0].get_text()\n",
    "        if len(tags) > 1:\n",
    "            budget = tags[0].get_text()\n",
    "            sales_www = tags[1].get_text()\n",
    "            if len(tags) > 2:\n",
    "                sales_www = tags[2].get_text()\n",
    "    return [url, title, budget, sales_www]\n",
    "\n"
   ]
  },
  {
   "cell_type": "code",
   "execution_count": 6,
   "metadata": {},
   "outputs": [
    {
     "data": {
      "text/plain": [
       "['https://www.hooandja.ee/projekt/kulalaulik-1-rahvalaule-sajanditaguseilt-eesti-kulatanavailt',\n",
       " 'https://www.hooandja.ee/projekt/eesti-jooksu-kullafond',\n",
       " 'https://www.hooandja.ee/projekt/randteater-vaba-vanker',\n",
       " 'https://www.hooandja.ee/projekt/kogukonnamuusikal-veterahva-needus',\n",
       " 'https://www.hooandja.ee/projekt/elektriteater']"
      ]
     },
     "execution_count": 6,
     "metadata": {},
     "output_type": "execute_result"
    }
   ],
   "source": [
    "with open(\"hooandja.txt\", \"r\") as f:\n",
    "    links = list(map(lambda x: x.strip(), f.readlines()))\n",
    "links\n",
    "# get_film(links[0])"
   ]
  },
  {
   "cell_type": "code",
   "execution_count": 11,
   "metadata": {},
   "outputs": [
    {
     "name": "stdout",
     "output_type": "stream",
     "text": [
      "https://www.hooandja.ee/projekt/eesti-jooksu-kullafond\n",
      "https://www.hooandja.ee/projekt/kulalaulik-1-rahvalaule-sajanditaguseilt-eesti-kulatanavailt\n",
      "https://www.hooandja.ee/projekt/randteater-vaba-vanker\n",
      "https://www.hooandja.ee/projekt/kogukonnamuusikal-veterahva-needus\n",
      "https://www.hooandja.ee/projekt/elektriteater\n",
      "[['https://www.hooandja.ee/projekt/kulalaulik-1-rahvalaule-sajanditaguseilt-eesti-kulatanavailt', '\\nKülalaulik 1. Rahvalaule sajanditaguseilt Eesti külatänavailtKasutaja\\xa0\\xa0Lauri Õunapuu\\xa0projekt kategoorias\\xa0Muusika\\n\\n', '116', '2112€']]\n",
      "[['https://www.hooandja.ee/projekt/kulalaulik-1-rahvalaule-sajanditaguseilt-eesti-kulatanavailt', '\\nKülalaulik 1. Rahvalaule sajanditaguseilt Eesti külatänavailtKasutaja\\xa0\\xa0Lauri Õunapuu\\xa0projekt kategoorias\\xa0Muusika\\n\\n', '116', '2112€'], ['https://www.hooandja.ee/projekt/eesti-jooksu-kullafond', '\\nEesti Jooksu KullafondKasutaja\\xa0\\xa0kristo.reinsalu\\xa0projekt kategoorias\\xa0Trükis\\n\\n', '248', '9668€']]\n",
      "[['https://www.hooandja.ee/projekt/kulalaulik-1-rahvalaule-sajanditaguseilt-eesti-kulatanavailt', '\\nKülalaulik 1. Rahvalaule sajanditaguseilt Eesti külatänavailtKasutaja\\xa0\\xa0Lauri Õunapuu\\xa0projekt kategoorias\\xa0Muusika\\n\\n', '116', '2112€'], ['https://www.hooandja.ee/projekt/eesti-jooksu-kullafond', '\\nEesti Jooksu KullafondKasutaja\\xa0\\xa0kristo.reinsalu\\xa0projekt kategoorias\\xa0Trükis\\n\\n', '248', '9668€'], ['https://www.hooandja.ee/projekt/randteater-vaba-vanker', '\\nRändteater Vaba VankerKasutaja\\xa0\\xa0Kadri Sprenk\\xa0projekt kategoorias\\xa0Teater\\n\\n', '124', '3625€']]\n",
      "[['https://www.hooandja.ee/projekt/kulalaulik-1-rahvalaule-sajanditaguseilt-eesti-kulatanavailt', '\\nKülalaulik 1. Rahvalaule sajanditaguseilt Eesti külatänavailtKasutaja\\xa0\\xa0Lauri Õunapuu\\xa0projekt kategoorias\\xa0Muusika\\n\\n', '116', '2112€'], ['https://www.hooandja.ee/projekt/eesti-jooksu-kullafond', '\\nEesti Jooksu KullafondKasutaja\\xa0\\xa0kristo.reinsalu\\xa0projekt kategoorias\\xa0Trükis\\n\\n', '248', '9668€'], ['https://www.hooandja.ee/projekt/randteater-vaba-vanker', '\\nRändteater Vaba VankerKasutaja\\xa0\\xa0Kadri Sprenk\\xa0projekt kategoorias\\xa0Teater\\n\\n', '124', '3625€'], ['https://www.hooandja.ee/projekt/kogukonnamuusikal-veterahva-needus', '\\nKogukonnamuusikal \"Veterahva needus\" Kasutaja\\xa0\\xa0Anneliis Kõiv\\xa0projekt kategoorias\\xa0Teater\\n\\n', '102', '1581€']]\n",
      "[['https://www.hooandja.ee/projekt/kulalaulik-1-rahvalaule-sajanditaguseilt-eesti-kulatanavailt', '\\nKülalaulik 1. Rahvalaule sajanditaguseilt Eesti külatänavailtKasutaja\\xa0\\xa0Lauri Õunapuu\\xa0projekt kategoorias\\xa0Muusika\\n\\n', '116', '2112€'], ['https://www.hooandja.ee/projekt/eesti-jooksu-kullafond', '\\nEesti Jooksu KullafondKasutaja\\xa0\\xa0kristo.reinsalu\\xa0projekt kategoorias\\xa0Trükis\\n\\n', '248', '9668€'], ['https://www.hooandja.ee/projekt/randteater-vaba-vanker', '\\nRändteater Vaba VankerKasutaja\\xa0\\xa0Kadri Sprenk\\xa0projekt kategoorias\\xa0Teater\\n\\n', '124', '3625€'], ['https://www.hooandja.ee/projekt/kogukonnamuusikal-veterahva-needus', '\\nKogukonnamuusikal \"Veterahva needus\" Kasutaja\\xa0\\xa0Anneliis Kõiv\\xa0projekt kategoorias\\xa0Teater\\n\\n', '102', '1581€'], ['https://www.hooandja.ee/projekt/elektriteater', '\\nKinoprojektori töölepanekKasutaja\\xa0\\xa0Elektriteater\\xa0projekt kategoorias\\xa0Film & Foto\\n\\n', '94', '1852€']]\n"
     ]
    }
   ],
   "source": [
    "pool = Pool(4)\n",
    "data = []\n",
    "\n",
    "    \n",
    "result_iter = pool.map(get_film, links)\n",
    "for result in result_iter:\n",
    "    data.append(result)\n",
    "    print (data)"
   ]
  },
  {
   "cell_type": "code",
   "execution_count": null,
   "metadata": {},
   "outputs": [],
   "source": [
    "links"
   ]
  },
  {
   "cell_type": "code",
   "execution_count": null,
   "metadata": {},
   "outputs": [],
   "source": []
  },
  {
   "cell_type": "code",
   "execution_count": null,
   "metadata": {},
   "outputs": [],
   "source": []
  }
 ],
 "metadata": {
  "kernelspec": {
   "display_name": "Python 3",
   "language": "python",
   "name": "python3"
  },
  "language_info": {
   "codemirror_mode": {
    "name": "ipython",
    "version": 3
   },
   "file_extension": ".py",
   "mimetype": "text/x-python",
   "name": "python",
   "nbconvert_exporter": "python",
   "pygments_lexer": "ipython3",
   "version": "3.8.2"
  }
 },
 "nbformat": 4,
 "nbformat_minor": 4
}
