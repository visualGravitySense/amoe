{
 "cells": [
  {
   "cell_type": "code",
   "execution_count": 3,
   "metadata": {},
   "outputs": [],
   "source": [
    "?map"
   ]
  },
  {
   "cell_type": "code",
   "execution_count": 46,
   "metadata": {},
   "outputs": [],
   "source": [
    "## from multiprocess import Pool\n",
    "from multiprocess import cpu_count, Pool\n",
    "import requests as requests\n",
    "from bs4 import BeautifulSoup\n",
    "import random\n",
    "import time\n",
    "\n",
    "def get_film (url):\n",
    "    print(url)\n",
    "#    time.sleep(random.randint(1, 5))\n",
    "    r = requests.get(url)\n",
    "    html = BeautifulSoup(r.content.decode('utf-8'))\n",
    "#     print(html)\n",
    "    title = html.find(\"div\", {\"class\":\"leftside w780\"}).get_text()\n",
    "    title = title.split('\\n')[1].split('\\xa0')\n",
    "    tags = html.find_all(\"span\", {\"class\":\"h1\"})\n",
    "    budget = \"\"\n",
    "    sales_www = \"\"\n",
    "    \n",
    "    if len(tags) > 0:\n",
    "        sales_www = tags[0].get_text()\n",
    "        if len(tags) > 1:\n",
    "            budget = tags[0].get_text()\n",
    "            sales_www = tags[1].get_text()\n",
    "            if len(tags) > 2:\n",
    "                sales_www = tags[2].get_text()\n",
    "    return [url, title, budget, sales_www]\n",
    "\n"
   ]
  },
  {
   "cell_type": "code",
   "execution_count": null,
   "metadata": {},
   "outputs": [],
   "source": []
  },
  {
   "cell_type": "code",
   "execution_count": null,
   "metadata": {},
   "outputs": [],
   "source": []
  },
  {
   "cell_type": "code",
   "execution_count": 6,
   "metadata": {},
   "outputs": [
    {
     "data": {
      "text/plain": [
       "['https://www.hooandja.ee/projekt/kulalaulik-1-rahvalaule-sajanditaguseilt-eesti-kulatanavailt',\n",
       " 'https://www.hooandja.ee/projekt/eesti-jooksu-kullafond',\n",
       " 'https://www.hooandja.ee/projekt/randteater-vaba-vanker',\n",
       " 'https://www.hooandja.ee/projekt/kogukonnamuusikal-veterahva-needus',\n",
       " 'https://www.hooandja.ee/projekt/elektriteater']"
      ]
     },
     "execution_count": 6,
     "metadata": {},
     "output_type": "execute_result"
    }
   ],
   "source": [
    "with open(\"hooandja.txt\", \"r\") as f:\n",
    "    links = list(map(lambda x: x.strip(), f.readlines()))\n",
    "links\n",
    "# get_film(links[0])"
   ]
  },
  {
   "cell_type": "code",
   "execution_count": 47,
   "metadata": {},
   "outputs": [
    {
     "name": "stdout",
     "output_type": "stream",
     "text": [
      "https://www.hooandja.ee/projekt/kulalaulik-1-rahvalaule-sajanditaguseilt-eesti-kulatanavailt\n",
      "https://www.hooandja.ee/projekt/eesti-jooksu-kullafond\n",
      "https://www.hooandja.ee/projekt/kogukonnamuusikal-veterahva-needus\n",
      "https://www.hooandja.ee/projekt/randteater-vaba-vanker\n",
      "https://www.hooandja.ee/projekt/elektriteater\n",
      "[['https://www.hooandja.ee/projekt/kulalaulik-1-rahvalaule-sajanditaguseilt-eesti-kulatanavailt', ['Külalaulik 1. Rahvalaule sajanditaguseilt Eesti külatänavailtKasutaja', '', 'Lauri Õunapuu', 'projekt kategoorias', 'Muusika'], '116', '2112€']]\n",
      "[['https://www.hooandja.ee/projekt/kulalaulik-1-rahvalaule-sajanditaguseilt-eesti-kulatanavailt', ['Külalaulik 1. Rahvalaule sajanditaguseilt Eesti külatänavailtKasutaja', '', 'Lauri Õunapuu', 'projekt kategoorias', 'Muusika'], '116', '2112€'], ['https://www.hooandja.ee/projekt/eesti-jooksu-kullafond', ['Eesti Jooksu KullafondKasutaja', '', 'kristo.reinsalu', 'projekt kategoorias', 'Trükis'], '248', '9668€']]\n",
      "[['https://www.hooandja.ee/projekt/kulalaulik-1-rahvalaule-sajanditaguseilt-eesti-kulatanavailt', ['Külalaulik 1. Rahvalaule sajanditaguseilt Eesti külatänavailtKasutaja', '', 'Lauri Õunapuu', 'projekt kategoorias', 'Muusika'], '116', '2112€'], ['https://www.hooandja.ee/projekt/eesti-jooksu-kullafond', ['Eesti Jooksu KullafondKasutaja', '', 'kristo.reinsalu', 'projekt kategoorias', 'Trükis'], '248', '9668€'], ['https://www.hooandja.ee/projekt/randteater-vaba-vanker', ['Rändteater Vaba VankerKasutaja', '', 'Kadri Sprenk', 'projekt kategoorias', 'Teater'], '124', '3625€']]\n",
      "[['https://www.hooandja.ee/projekt/kulalaulik-1-rahvalaule-sajanditaguseilt-eesti-kulatanavailt', ['Külalaulik 1. Rahvalaule sajanditaguseilt Eesti külatänavailtKasutaja', '', 'Lauri Õunapuu', 'projekt kategoorias', 'Muusika'], '116', '2112€'], ['https://www.hooandja.ee/projekt/eesti-jooksu-kullafond', ['Eesti Jooksu KullafondKasutaja', '', 'kristo.reinsalu', 'projekt kategoorias', 'Trükis'], '248', '9668€'], ['https://www.hooandja.ee/projekt/randteater-vaba-vanker', ['Rändteater Vaba VankerKasutaja', '', 'Kadri Sprenk', 'projekt kategoorias', 'Teater'], '124', '3625€'], ['https://www.hooandja.ee/projekt/kogukonnamuusikal-veterahva-needus', ['Kogukonnamuusikal \"Veterahva needus\" Kasutaja', '', 'Anneliis Kõiv', 'projekt kategoorias', 'Teater'], '102', '1581€']]\n",
      "[['https://www.hooandja.ee/projekt/kulalaulik-1-rahvalaule-sajanditaguseilt-eesti-kulatanavailt', ['Külalaulik 1. Rahvalaule sajanditaguseilt Eesti külatänavailtKasutaja', '', 'Lauri Õunapuu', 'projekt kategoorias', 'Muusika'], '116', '2112€'], ['https://www.hooandja.ee/projekt/eesti-jooksu-kullafond', ['Eesti Jooksu KullafondKasutaja', '', 'kristo.reinsalu', 'projekt kategoorias', 'Trükis'], '248', '9668€'], ['https://www.hooandja.ee/projekt/randteater-vaba-vanker', ['Rändteater Vaba VankerKasutaja', '', 'Kadri Sprenk', 'projekt kategoorias', 'Teater'], '124', '3625€'], ['https://www.hooandja.ee/projekt/kogukonnamuusikal-veterahva-needus', ['Kogukonnamuusikal \"Veterahva needus\" Kasutaja', '', 'Anneliis Kõiv', 'projekt kategoorias', 'Teater'], '102', '1581€'], ['https://www.hooandja.ee/projekt/elektriteater', ['Kinoprojektori töölepanekKasutaja', '', 'Elektriteater', 'projekt kategoorias', 'Film & Foto'], '94', '1852€']]\n"
     ]
    }
   ],
   "source": [
    "pool = Pool(4)\n",
    "data = []\n",
    "\n",
    "    \n",
    "result_iter = pool.map(get_film, links)\n",
    "for result in result_iter:\n",
    "    data.append(result)\n",
    "    print (data)"
   ]
  },
  {
   "cell_type": "code",
   "execution_count": null,
   "metadata": {},
   "outputs": [],
   "source": []
  },
  {
   "cell_type": "code",
   "execution_count": 37,
   "metadata": {},
   "outputs": [
    {
     "data": {
      "text/plain": [
       "['Külalaulik 1. Rahvalaule sajanditaguseilt Eesti külatänavailtKasutaja',\n",
       " '',\n",
       " 'Lauri Õunapuu',\n",
       " 'projekt kategoorias',\n",
       " 'Muusika']"
      ]
     },
     "execution_count": 37,
     "metadata": {},
     "output_type": "execute_result"
    }
   ],
   "source": [
    "(('\\nKülalaulik 1. Rahvalaule sajanditaguseilt Eesti külatänavailtKasutaja\\xa0\\xa0Lauri Õunapuu\\xa0projekt kategoorias\\xa0Muusika\\n\\n').split('\\n')[1]).split('\\xa0')"
   ]
  },
  {
   "cell_type": "code",
   "execution_count": 25,
   "metadata": {},
   "outputs": [
    {
     "data": {
      "text/plain": [
       "[['\\nKülalaulik 1. Rahvalaule sajanditaguseilt Eesti külatänavailtKasutaja\\xa0\\xa0Lauri Õunapuu\\xa0projekt kategoorias\\xa0Muusika\\n\\n',\n",
       "  '116',\n",
       "  '2112€'],\n",
       " ['\\nEesti Jooksu KullafondKasutaja\\xa0\\xa0kristo.reinsalu\\xa0projekt kategoorias\\xa0Trükis\\n\\n',\n",
       "  '248',\n",
       "  '9668€'],\n",
       " ['\\nRändteater Vaba VankerKasutaja\\xa0\\xa0Kadri Sprenk\\xa0projekt kategoorias\\xa0Teater\\n\\n',\n",
       "  '124',\n",
       "  '3625€'],\n",
       " ['\\nKogukonnamuusikal \"Veterahva needus\" Kasutaja\\xa0\\xa0Anneliis Kõiv\\xa0projekt kategoorias\\xa0Teater\\n\\n',\n",
       "  '102',\n",
       "  '1581€'],\n",
       " ['\\nKinoprojektori töölepanekKasutaja\\xa0\\xa0Elektriteater\\xa0projekt kategoorias\\xa0Film & Foto\\n\\n',\n",
       "  '94',\n",
       "  '1852€']]"
      ]
     },
     "execution_count": 25,
     "metadata": {},
     "output_type": "execute_result"
    }
   ],
   "source": [
    "[[i[1], i[2], i[3]] for i in data]"
   ]
  },
  {
   "cell_type": "code",
   "execution_count": null,
   "metadata": {},
   "outputs": [],
   "source": []
  },
  {
   "cell_type": "code",
   "execution_count": null,
   "metadata": {},
   "outputs": [],
   "source": []
  }
 ],
 "metadata": {
  "kernelspec": {
   "display_name": "Python 3",
   "language": "python",
   "name": "python3"
  },
  "language_info": {
   "codemirror_mode": {
    "name": "ipython",
    "version": 3
   },
   "file_extension": ".py",
   "mimetype": "text/x-python",
   "name": "python",
   "nbconvert_exporter": "python",
   "pygments_lexer": "ipython3",
   "version": "3.8.2"
  }
 },
 "nbformat": 4,
 "nbformat_minor": 4
}
