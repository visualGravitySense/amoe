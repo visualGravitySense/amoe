{
 "cells": [
  {
   "cell_type": "markdown",
   "metadata": {},
   "source": [
    "### Задачи: Hooandja Parser\n",
    "#Пройти тест\n",
    "#Спарить информацию по подаркам\n",
    "#Совместить 2 базы\n",
    "#Перейти к матплотлиб\n",
    "#отчистка данных\n",
    "#спарсить информацию по всем вкладчикам"
   ]
  },
  {
   "cell_type": "code",
   "execution_count": 7,
   "metadata": {},
   "outputs": [
    {
     "name": "stdout",
     "output_type": "stream",
     "text": [
      "Средняя сумма подарка 147.0\n",
      "Среднее количество вкладчиков на подарок 13.0\n"
     ]
    }
   ],
   "source": [
    "# Какое среднее значение по данным от вкладчиков\n",
    "import pandas as pd\n",
    "data = pd.read_csv(\"bakers.csv\", na_values=\"NA\")\n",
    "#print (data.head())\n",
    "print (\"Средняя сумма подарка\", data[\"amount\"].mean().round())\n",
    "print (\"Среднее количество вкладчиков на подарок\", data[\"bakers\"].mean().round())"
   ]
  },
  {
   "cell_type": "code",
   "execution_count": null,
   "metadata": {},
   "outputs": [],
   "source": []
  },
  {
   "cell_type": "code",
   "execution_count": 10,
   "metadata": {},
   "outputs": [
    {
     "name": "stdout",
     "output_type": "stream",
     "text": [
      "Средний процент полученного бюджета 115.0\n",
      "Среднее количество полученных средств 3100.0\n"
     ]
    }
   ],
   "source": [
    "# Какое среднее значение по данным от удачных проектов\n",
    "import pandas as pd\n",
    "data = pd.read_csv(\"projektid1b.csv\", na_values=\"NA\")\n",
    "#print (data.head())\n",
    "print (\"Средний процент полученного бюджета\", data[\"Plan\"].mean().round())\n",
    "print (\"Среднее количество полученных средств\", data[\"Budget\"].mean().round())"
   ]
  },
  {
   "cell_type": "code",
   "execution_count": 3,
   "metadata": {},
   "outputs": [
    {
     "name": "stdout",
     "output_type": "stream",
     "text": [
      "Возможный бжджет: 3100.0 € От цели ... €\n"
     ]
    }
   ],
   "source": [
    "data.fillna(0, axis=1, inplace=True)\n",
    "data_array = data.values\n",
    "print (\"Возможный бжджет:\", data[\"Budget\"].mean().round(),\"€\", 'От цели ... €')"
   ]
  },
  {
   "cell_type": "markdown",
   "metadata": {},
   "source": [
    "#создаём набор индексов, и хотим получить все номера строк \n",
    "#которые содержат в столбце А название Б"
   ]
  },
  {
   "cell_type": "code",
   "execution_count": 57,
   "metadata": {},
   "outputs": [],
   "source": [
    "import pandas as pd\n",
    "data = pd.read_csv(\"projektid1c.csv\", na_values=\"NA\", \n",
    "                   names = [\"9\", \"8\", \"7\", \"6\", \"5\", \"4\", \"3\", \"2\", \"1\"], \n",
    "                   skiprows=1, converters={\"1\": pd.to_datetime})\n",
    "#print (data.head())\n",
    "area_indexes = data[data[\"8\"].str.contains(\"kool\")].index\n",
    "#print (area_indexes)\n",
    "data_areas_index = [(lambda n: \"KOOL\" if n in area_indexes else \"MEDIUM\")(i) \n",
    "                    for i in range(0, len(data.index))]\n",
    "#print (data_areas_index)\n",
    "data[\"Type\"] = data_areas_index\n",
    "data = data.set_index([\"Type\", \"8\"])\n",
    "data = data.sort_index()\n",
    "#print (data)\n",
    "areas = data.loc[\"KOOL\"]\n",
    "#print (areas)\n",
    "\n"
   ]
  },
  {
   "cell_type": "markdown",
   "metadata": {},
   "source": [
    "### Фильтрация данных:\n",
    "#Собрать общую сумму вкладов за каждый год\n",
    "#Средний процент удачных проектов"
   ]
  },
  {
   "cell_type": "code",
   "execution_count": null,
   "metadata": {},
   "outputs": [],
   "source": []
  },
  {
   "cell_type": "code",
   "execution_count": null,
   "metadata": {},
   "outputs": [],
   "source": []
  },
  {
   "cell_type": "code",
   "execution_count": null,
   "metadata": {},
   "outputs": [],
   "source": []
  },
  {
   "cell_type": "markdown",
   "metadata": {},
   "source": [
    "### Линейная регрессия: предсказание изменения показателей по всем категориям за год\n",
    "#Средняя Сумма Удачного проекта \n",
    "#Средний Процент Удачных проектов"
   ]
  },
  {
   "cell_type": "code",
   "execution_count": null,
   "metadata": {},
   "outputs": [],
   "source": [
    "# Линейная Регрессия\n",
    "data_avg = data.groupby(\"Cat\").mean()\n",
    "x = np.array(data_avg.index).reshape(len(data_avg.index), 1)\n",
    "y = np.array(data_avg[\"Budget\"]).reshape(len(data_avg.index), 1)\n",
    "model = LinearRegression()\n",
    "model.fit(x, y)\n",
    "plt.scatter(x, y, color=\"orange\")\n",
    "x = np.append(x, [2021]).reshape(len(data_avg.index)+1, 1)\n",
    "plt.plot(x, model.predict(x), color=\"blue\", linewidth=3)\n",
    "plt.show()\n",
    "print (model.predict(np.array(2021).reshape(1, 1)))"
   ]
  },
  {
   "cell_type": "code",
   "execution_count": 48,
   "metadata": {},
   "outputs": [
    {
     "name": "stdout",
     "output_type": "stream",
     "text": [
      "0       False\n",
      "1       False\n",
      "2       False\n",
      "3       False\n",
      "4       False\n",
      "        ...  \n",
      "7994    False\n",
      "7995    False\n",
      "7996    False\n",
      "7997    False\n",
      "7998    False\n",
      "Name: Gift, Length: 7999, dtype: bool\n"
     ]
    }
   ],
   "source": [
    "#Фильтрация данных: Получение подарков разделённых на ценовые категории 1 5 10 15 ...\n",
    "import pandas as pd\n",
    "data = pd.read_csv(\"bakers.csv\", na_values=\"NA\", \n",
    "                   names = [\"link\", \"Gift\", \"Bakers\"], skiprows=1, \n",
    "                  converters={})\n",
    "data.fillna(0, axis=1, inplace=True)\n",
    "print (data[\"Gift\"]<=1)\n",
    "#print (data > 10)"
   ]
  },
  {
   "cell_type": "markdown",
   "metadata": {},
   "source": [
    "#ОБЪЕДИНЕНИЕ ФРЕЙМОВ"
   ]
  },
  {
   "cell_type": "code",
   "execution_count": 29,
   "metadata": {},
   "outputs": [
    {
     "data": {
      "image/png": "[encoded data removed]",
      "text/plain": [
       "<Figure size 432x288 with 1 Axes>"
      ]
     },
     "metadata": {
      "needs_background": "light"
     },
     "output_type": "display_data"
    }
   ],
   "source": [
    "import pandas as pd\n",
    "import matplotlib.pyplot as plt\n",
    "data_2017 = pd.read_csv(\"projektid2017.csv\", na_values=\"NA\", names = [\"Доход\", \"2017\"], skiprows=1, index_col=\"Доход\")\n",
    "data_2018 = pd.read_csv(\"projektid2018.csv\", na_values=\"NA\", names = [\"Доход\", \"2018\"], skiprows=1, index_col=\"Доход\")\n",
    "data = pd.merge(data_2017, data_2018, left_index=True, right_index=True)\n",
    "data.fillna(0, axis=1, inplace=True)\n",
    "data.mean().plot.line()\n",
    "plt.show()"
   ]
  },
  {
   "cell_type": "code",
   "execution_count": 30,
   "metadata": {},
   "outputs": [
    {
     "data": {
      "image/png": "[encoded data removed]",
      "text/plain": [
       "<Figure size 432x288 with 1 Axes>"
      ]
     },
     "metadata": {
      "needs_background": "light"
     },
     "output_type": "display_data"
    }
   ],
   "source": [
    "# объединение данных с двух таблиц\n",
    "%matplotlib inline\n",
    "import pandas as pd\n",
    "import matplotlib.pyplot as plt\n",
    "data_2017 = pd.read_csv(\"http://video.ittensive.com/python-advanced/internet-2017.csv\", na_values=\"NA\", skiprows=1, decimal=\",\", names=[\"Регион\", \"2017\"], index_col=\"Регион\")\n",
    "data_2018 = pd.read_csv(\"http://video.ittensive.com/python-advanced/internet-2018.csv\", na_values=\"NA\", skiprows=1, decimal=\",\", names=[\"Регион\", \"2018\"], index_col=\"Регион\")\n",
    "data = pd.merge(data_2017, data_2018, left_index=True, right_index=True)\n",
    "data.fillna(0, axis=1, inplace=True)\n",
    "data.mean().plot.line()\n",
    "plt.show()"
   ]
  },
  {
   "cell_type": "code",
   "execution_count": 36,
   "metadata": {},
   "outputs": [
    {
     "name": "stdout",
     "output_type": "stream",
     "text": [
      "Calls\n",
      "402    15730\n",
      "Name: UnemployedMen, dtype: int64\n"
     ]
    }
   ],
   "source": [
    "import pandas as pd\n",
    "\n",
    "data_1 = pd.read_csv('http://video.ittensive.com/python-advanced/data-9753-2019-07-25.utf.csv', delimiter=';')\n",
    "data_1 = data_1.set_index(['Year', 'Period'])\n",
    "\n",
    "data_2 = pd.read_csv('http://video.ittensive.com/python-advanced/data-5283-2019-10-04.utf.csv', delimiter=';')\n",
    "data_2 = data_2.set_index(['AdmArea', 'Year', 'Month'])\n",
    "data_2 = data_2.loc['Центральный административный округ']\n",
    "data_2.index.names = ['Year', 'Period']\n",
    "\n",
    "data = pd.merge(data_1, data_2, left_index=True, right_index=True)\n",
    "\n",
    "data = data.reset_index()\n",
    "data = data.set_index('Calls')\n",
    "# print(data_1.head())\n",
    "# print(data_2.head())\n",
    "print(data['UnemployedMen'][0:1])\n"
   ]
  },
  {
   "cell_type": "code",
   "execution_count": 58,
   "metadata": {},
   "outputs": [
    {
     "name": "stdout",
     "output_type": "stream",
     "text": [
      "2020-06-17\n"
     ]
    }
   ],
   "source": [
    "# преобразовывание данных в числа\n",
    "data = pd.read_csv(\"projektid1b.csv\", na_values=\"NA\")\n",
    "dt = data['Date'].values[0]\n",
    "day, month, year = dt.split('.')\n",
    "dt = date(int(year), int(month), int(day))\n",
    "\n",
    "print (dt)\n"
   ]
  },
  {
   "cell_type": "code",
   "execution_count": 53,
   "metadata": {},
   "outputs": [
    {
     "name": "stdout",
     "output_type": "stream",
     "text": [
      "2020-06-17\n"
     ]
    }
   ],
   "source": [
    "# преобразовывание данных в числа 2\n",
    "\n",
    "data = pd.read_csv(\"projektid1b.csv\", na_values=\"NA\")\n",
    "dt = data['Date'].values[0]\n",
    "day, month, year = dt.split('.')\n",
    "dt = date(int(year), int(month), int(day))\n",
    "\n",
    "print(dt)"
   ]
  },
  {
   "cell_type": "code",
   "execution_count": null,
   "metadata": {},
   "outputs": [],
   "source": []
  },
  {
   "cell_type": "code",
   "execution_count": null,
   "metadata": {},
   "outputs": [],
   "source": [
    "dt = data['Date'].values[0]\n",
    "day, month, year = dt.split('.')\n",
    "dt = date(int(year), int(month), int(day))\n",
    "print(dt, type(dt))"
   ]
  },
  {
   "cell_type": "code",
   "execution_count": 42,
   "metadata": {},
   "outputs": [
    {
     "name": "stdout",
     "output_type": "stream",
     "text": [
      "2020-06-17 <class 'datetime.date'>\n"
     ]
    }
   ],
   "source": [
    "# преобразовывание данных в числа 2\n",
    "\n",
    "from datetime import date\n",
    "\n",
    "dt = data['Date'].values[0]\n",
    "day, month, year = dt.split('.')\n",
    "dt = date(int(year), int(month), int(day))\n",
    "print(dt, type(dt))"
   ]
  },
  {
   "cell_type": "code",
   "execution_count": 31,
   "metadata": {},
   "outputs": [
    {
     "name": "stdout",
     "output_type": "stream",
     "text": [
      "0       17.06.2020\n",
      "1       12.06.2020\n",
      "2       11.06.2020\n",
      "3       08.06.2020\n",
      "4       05.06.2020\n",
      "           ...    \n",
      "1187    08.08.2012\n",
      "1188    31.07.2012\n",
      "1189    22.07.2012\n",
      "1190    16.07.2012\n",
      "1191    06.07.2012\n",
      "Name: Date, Length: 1192, dtype: object\n"
     ]
    }
   ],
   "source": [
    "print (data[\"Date\"])"
   ]
  },
  {
   "cell_type": "code",
   "execution_count": 39,
   "metadata": {},
   "outputs": [
    {
     "data": {
      "text/plain": [
       "datetime.date(2020, 6, 17)"
      ]
     },
     "execution_count": 39,
     "metadata": {},
     "output_type": "execute_result"
    }
   ],
   "source": []
  },
  {
   "cell_type": "code",
   "execution_count": 11,
   "metadata": {},
   "outputs": [
    {
     "name": "stdout",
     "output_type": "stream",
     "text": [
      "0       4790\n",
      "1       2970\n",
      "2       1064\n",
      "3       1535\n",
      "4       7338\n",
      "        ... \n",
      "1187    2236\n",
      "1188    1382\n",
      "1189    2303\n",
      "1190     636\n",
      "1191    1252\n",
      "Name: Budget, Length: 1192, dtype: int64\n"
     ]
    }
   ],
   "source": [
    "print (data[\"Budget\"])"
   ]
  },
  {
   "cell_type": "code",
   "execution_count": null,
   "metadata": {},
   "outputs": [],
   "source": []
  },
  {
   "cell_type": "code",
   "execution_count": null,
   "metadata": {},
   "outputs": [],
   "source": []
  },
  {
   "cell_type": "code",
   "execution_count": null,
   "metadata": {},
   "outputs": [],
   "source": []
  },
  {
   "cell_type": "code",
   "execution_count": null,
   "metadata": {},
   "outputs": [],
   "source": []
  },
  {
   "cell_type": "code",
   "execution_count": null,
   "metadata": {},
   "outputs": [],
   "source": []
  }
 ],
 "metadata": {
  "kernelspec": {
   "display_name": "Python 3",
   "language": "python",
   "name": "python3"
  },
  "language_info": {
   "codemirror_mode": {
    "name": "ipython",
    "version": 3
   },
   "file_extension": ".py",
   "mimetype": "text/x-python",
   "name": "python",
   "nbconvert_exporter": "python",
   "pygments_lexer": "ipython3",
   "version": "3.8.2"
  }
 },
 "nbformat": 4,
 "nbformat_minor": 4
}
