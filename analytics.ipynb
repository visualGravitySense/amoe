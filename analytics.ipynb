{
 "cells": [
  {
   "cell_type": "markdown",
   "metadata": {},
   "source": [
    "### Задачи: Hooandja Parser\n",
    "#Пройти тест\n",
    "#Спарить информацию по подаркам\n",
    "#Совместить 2 базы\n",
    "#Перейти к матплотлиб\n",
    "#отчистка данных"
   ]
  },
  {
   "cell_type": "code",
   "execution_count": 27,
   "metadata": {},
   "outputs": [],
   "source": [
    "import pandas as pd\n",
    "import numpy as np\n",
    "import matplotlib.pyplot as plt\n",
    "data = pd.read_csv(\"http://digo.ee/projektid1b.csv\", na_values=\"NA\")"
   ]
  },
  {
   "cell_type": "code",
   "execution_count": 28,
   "metadata": {},
   "outputs": [
    {
     "name": "stdout",
     "output_type": "stream",
     "text": [
      "Возможный бжджет: 3100.0 € От цели 250000 €\n"
     ]
    }
   ],
   "source": [
    "data.fillna(0, axis=1, inplace=True)\n",
    "data_array = data.values\n",
    "print (\"Возможный бжджет:\", data[\"Budget\"].mean().round(),\"€\", 'От цели 250000 €')"
   ]
  },
  {
   "cell_type": "code",
   "execution_count": 29,
   "metadata": {},
   "outputs": [
    {
     "name": "stdout",
     "output_type": "stream",
     "text": [
      "Int64Index([  54,   56,   80,   92,  105,  145,  160,  174,  252,  300,  339,\n",
      "             356,  363,  390,  434,  504,  514,  540,  588,  596,  599,  615,\n",
      "             618,  624,  658,  713,  718,  731,  740,  742,  743,  763,  769,\n",
      "             863,  897,  914,  946, 1010, 1014, 1020, 1107, 1129, 1150],\n",
      "           dtype='int64')\n"
     ]
    }
   ],
   "source": [
    "# создаём набор индексов, и хотим получить все номера строк \n",
    "# которые содержат в столбце А название Б\n",
    "area_indexes = data[data[\"Title\"].str.contains(\"kool\")].index\n",
    "print (area_indexes)"
   ]
  },
  {
   "cell_type": "code",
   "execution_count": 30,
   "metadata": {},
   "outputs": [
    {
     "name": "stdout",
     "output_type": "stream",
     "text": [
      "['MEDIUM', 'MEDIUM', 'MEDIUM', 'MEDIUM', 'MEDIUM', 'MEDIUM', 'MEDIUM', 'MEDIUM', 'MEDIUM', 'MEDIUM', 'MEDIUM', 'MEDIUM', 'MEDIUM', 'MEDIUM', 'MEDIUM', 'MEDIUM', 'MEDIUM', 'MEDIUM', 'MEDIUM', 'MEDIUM', 'MEDIUM', 'MEDIUM', 'MEDIUM', 'MEDIUM', 'MEDIUM', 'MEDIUM', 'MEDIUM', 'MEDIUM', 'MEDIUM', 'MEDIUM', 'MEDIUM', 'MEDIUM', 'MEDIUM', 'MEDIUM', 'MEDIUM', 'MEDIUM', 'MEDIUM', 'MEDIUM', 'MEDIUM', 'MEDIUM', 'MEDIUM', 'MEDIUM', 'MEDIUM', 'MEDIUM', 'MEDIUM', 'MEDIUM', 'MEDIUM', 'MEDIUM', 'MEDIUM', 'MEDIUM', 'MEDIUM', 'MEDIUM', 'MEDIUM', 'MEDIUM', 'FILM', 'MEDIUM', 'FILM', 'MEDIUM', 'MEDIUM', 'MEDIUM', 'MEDIUM', 'MEDIUM', 'MEDIUM', 'MEDIUM', 'MEDIUM', 'MEDIUM', 'MEDIUM', 'MEDIUM', 'MEDIUM', 'MEDIUM', 'MEDIUM', 'MEDIUM', 'MEDIUM', 'MEDIUM', 'MEDIUM', 'MEDIUM', 'MEDIUM', 'MEDIUM', 'MEDIUM', 'MEDIUM', 'FILM', 'MEDIUM', 'MEDIUM', 'MEDIUM', 'MEDIUM', 'MEDIUM', 'MEDIUM', 'MEDIUM', 'MEDIUM', 'MEDIUM', 'MEDIUM', 'MEDIUM', 'FILM', 'MEDIUM', 'MEDIUM', 'MEDIUM', 'MEDIUM', 'MEDIUM', 'MEDIUM', 'MEDIUM', 'MEDIUM', 'MEDIUM', 'MEDIUM', 'MEDIUM', 'MEDIUM', 'FILM', 'MEDIUM', 'MEDIUM', 'MEDIUM', 'MEDIUM', 'MEDIUM', 'MEDIUM', 'MEDIUM', 'MEDIUM', 'MEDIUM', 'MEDIUM', 'MEDIUM', 'MEDIUM', 'MEDIUM', 'MEDIUM', 'MEDIUM', 'MEDIUM', 'MEDIUM', 'MEDIUM', 'MEDIUM', 'MEDIUM', 'MEDIUM', 'MEDIUM', 'MEDIUM', 'MEDIUM', 'MEDIUM', 'MEDIUM', 'MEDIUM', 'MEDIUM', 'MEDIUM', 'MEDIUM', 'MEDIUM', 'MEDIUM', 'MEDIUM', 'MEDIUM', 'MEDIUM', 'MEDIUM', 'MEDIUM', 'MEDIUM', 'MEDIUM', 'FILM', 'MEDIUM', 'MEDIUM', 'MEDIUM', 'MEDIUM', 'MEDIUM', 'MEDIUM', 'MEDIUM', 'MEDIUM', 'MEDIUM', 'MEDIUM', 'MEDIUM', 'MEDIUM', 'MEDIUM', 'MEDIUM', 'FILM', 'MEDIUM', 'MEDIUM', 'MEDIUM', 'MEDIUM', 'MEDIUM', 'MEDIUM', 'MEDIUM', 'MEDIUM', 'MEDIUM', 'MEDIUM', 'MEDIUM', 'MEDIUM', 'MEDIUM', 'FILM', 'MEDIUM', 'MEDIUM', 'MEDIUM', 'MEDIUM', 'MEDIUM', 'MEDIUM', 'MEDIUM', 'MEDIUM', 'MEDIUM', 'MEDIUM', 'MEDIUM', 'MEDIUM', 'MEDIUM', 'MEDIUM', 'MEDIUM', 'MEDIUM', 'MEDIUM', 'MEDIUM', 'MEDIUM', 'MEDIUM', 'MEDIUM', 'MEDIUM', 'MEDIUM', 'MEDIUM', 'MEDIUM', 'MEDIUM', 'MEDIUM', 'MEDIUM', 'MEDIUM', 'MEDIUM', 'MEDIUM', 'MEDIUM', 'MEDIUM', 'MEDIUM', 'MEDIUM', 'MEDIUM', 'MEDIUM', 'MEDIUM', 'MEDIUM', 'MEDIUM', 'MEDIUM', 'MEDIUM', 'MEDIUM', 'MEDIUM', 'MEDIUM', 'MEDIUM', 'MEDIUM', 'MEDIUM', 'MEDIUM', 'MEDIUM', 'MEDIUM', 'MEDIUM', 'MEDIUM', 'MEDIUM', 'MEDIUM', 'MEDIUM', 'MEDIUM', 'MEDIUM', 'MEDIUM', 'MEDIUM', 'MEDIUM', 'MEDIUM', 'MEDIUM', 'MEDIUM', 'MEDIUM', 'MEDIUM', 'MEDIUM', 'MEDIUM', 'MEDIUM', 'MEDIUM', 'MEDIUM', 'MEDIUM', 'MEDIUM', 'MEDIUM', 'MEDIUM', 'MEDIUM', 'MEDIUM', 'FILM', 'MEDIUM', 'MEDIUM', 'MEDIUM', 'MEDIUM', 'MEDIUM', 'MEDIUM', 'MEDIUM', 'MEDIUM', 'MEDIUM', 'MEDIUM', 'MEDIUM', 'MEDIUM', 'MEDIUM', 'MEDIUM', 'MEDIUM', 'MEDIUM', 'MEDIUM', 'MEDIUM', 'MEDIUM', 'MEDIUM', 'MEDIUM', 'MEDIUM', 'MEDIUM', 'MEDIUM', 'MEDIUM', 'MEDIUM', 'MEDIUM', 'MEDIUM', 'MEDIUM', 'MEDIUM', 'MEDIUM', 'MEDIUM', 'MEDIUM', 'MEDIUM', 'MEDIUM', 'MEDIUM', 'MEDIUM', 'MEDIUM', 'MEDIUM', 'MEDIUM', 'MEDIUM', 'MEDIUM', 'MEDIUM', 'MEDIUM', 'MEDIUM', 'MEDIUM', 'MEDIUM', 'FILM', 'MEDIUM', 'MEDIUM', 'MEDIUM', 'MEDIUM', 'MEDIUM', 'MEDIUM', 'MEDIUM', 'MEDIUM', 'MEDIUM', 'MEDIUM', 'MEDIUM', 'MEDIUM', 'MEDIUM', 'MEDIUM', 'MEDIUM', 'MEDIUM', 'MEDIUM', 'MEDIUM', 'MEDIUM', 'MEDIUM', 'MEDIUM', 'MEDIUM', 'MEDIUM', 'MEDIUM', 'MEDIUM', 'MEDIUM', 'MEDIUM', 'MEDIUM', 'MEDIUM', 'MEDIUM', 'MEDIUM', 'MEDIUM', 'MEDIUM', 'MEDIUM', 'MEDIUM', 'MEDIUM', 'MEDIUM', 'MEDIUM', 'FILM', 'MEDIUM', 'MEDIUM', 'MEDIUM', 'MEDIUM', 'MEDIUM', 'MEDIUM', 'MEDIUM', 'MEDIUM', 'MEDIUM', 'MEDIUM', 'MEDIUM', 'MEDIUM', 'MEDIUM', 'MEDIUM', 'MEDIUM', 'MEDIUM', 'FILM', 'MEDIUM', 'MEDIUM', 'MEDIUM', 'MEDIUM', 'MEDIUM', 'MEDIUM', 'FILM', 'MEDIUM', 'MEDIUM', 'MEDIUM', 'MEDIUM', 'MEDIUM', 'MEDIUM', 'MEDIUM', 'MEDIUM', 'MEDIUM', 'MEDIUM', 'MEDIUM', 'MEDIUM', 'MEDIUM', 'MEDIUM', 'MEDIUM', 'MEDIUM', 'MEDIUM', 'MEDIUM', 'MEDIUM', 'MEDIUM', 'MEDIUM', 'MEDIUM', 'MEDIUM', 'MEDIUM', 'MEDIUM', 'MEDIUM', 'FILM', 'MEDIUM', 'MEDIUM', 'MEDIUM', 'MEDIUM', 'MEDIUM', 'MEDIUM', 'MEDIUM', 'MEDIUM', 'MEDIUM', 'MEDIUM', 'MEDIUM', 'MEDIUM', 'MEDIUM', 'MEDIUM', 'MEDIUM', 'MEDIUM', 'MEDIUM', 'MEDIUM', 'MEDIUM', 'MEDIUM', 'MEDIUM', 'MEDIUM', 'MEDIUM', 'MEDIUM', 'MEDIUM', 'MEDIUM', 'MEDIUM', 'MEDIUM', 'MEDIUM', 'MEDIUM', 'MEDIUM', 'MEDIUM', 'MEDIUM', 'MEDIUM', 'MEDIUM', 'MEDIUM', 'MEDIUM', 'MEDIUM', 'MEDIUM', 'MEDIUM', 'MEDIUM', 'MEDIUM', 'MEDIUM', 'FILM', 'MEDIUM', 'MEDIUM', 'MEDIUM', 'MEDIUM', 'MEDIUM', 'MEDIUM', 'MEDIUM', 'MEDIUM', 'MEDIUM', 'MEDIUM', 'MEDIUM', 'MEDIUM', 'MEDIUM', 'MEDIUM', 'MEDIUM', 'MEDIUM', 'MEDIUM', 'MEDIUM', 'MEDIUM', 'MEDIUM', 'MEDIUM', 'MEDIUM', 'MEDIUM', 'MEDIUM', 'MEDIUM', 'MEDIUM', 'MEDIUM', 'MEDIUM', 'MEDIUM', 'MEDIUM', 'MEDIUM', 'MEDIUM', 'MEDIUM', 'MEDIUM', 'MEDIUM', 'MEDIUM', 'MEDIUM', 'MEDIUM', 'MEDIUM', 'MEDIUM', 'MEDIUM', 'MEDIUM', 'MEDIUM', 'MEDIUM', 'MEDIUM', 'MEDIUM', 'MEDIUM', 'MEDIUM', 'MEDIUM', 'MEDIUM', 'MEDIUM', 'MEDIUM', 'MEDIUM', 'MEDIUM', 'MEDIUM', 'MEDIUM', 'MEDIUM', 'MEDIUM', 'MEDIUM', 'MEDIUM', 'MEDIUM', 'MEDIUM', 'MEDIUM', 'MEDIUM', 'MEDIUM', 'MEDIUM', 'MEDIUM', 'MEDIUM', 'MEDIUM', 'FILM', 'MEDIUM', 'MEDIUM', 'MEDIUM', 'MEDIUM', 'MEDIUM', 'MEDIUM', 'MEDIUM', 'MEDIUM', 'MEDIUM', 'FILM', 'MEDIUM', 'MEDIUM', 'MEDIUM', 'MEDIUM', 'MEDIUM', 'MEDIUM', 'MEDIUM', 'MEDIUM', 'MEDIUM', 'MEDIUM', 'MEDIUM', 'MEDIUM', 'MEDIUM', 'MEDIUM', 'MEDIUM', 'MEDIUM', 'MEDIUM', 'MEDIUM', 'MEDIUM', 'MEDIUM', 'MEDIUM', 'MEDIUM', 'MEDIUM', 'MEDIUM', 'MEDIUM', 'FILM', 'MEDIUM', 'MEDIUM', 'MEDIUM', 'MEDIUM', 'MEDIUM', 'MEDIUM', 'MEDIUM', 'MEDIUM', 'MEDIUM', 'MEDIUM', 'MEDIUM', 'MEDIUM', 'MEDIUM', 'MEDIUM', 'MEDIUM', 'MEDIUM', 'MEDIUM', 'MEDIUM', 'MEDIUM', 'MEDIUM', 'MEDIUM', 'MEDIUM', 'MEDIUM', 'MEDIUM', 'MEDIUM', 'MEDIUM', 'MEDIUM', 'MEDIUM', 'MEDIUM', 'MEDIUM', 'MEDIUM', 'MEDIUM', 'MEDIUM', 'MEDIUM', 'MEDIUM', 'MEDIUM', 'MEDIUM', 'MEDIUM', 'MEDIUM', 'MEDIUM', 'MEDIUM', 'MEDIUM', 'MEDIUM', 'MEDIUM', 'MEDIUM', 'MEDIUM', 'MEDIUM', 'FILM', 'MEDIUM', 'MEDIUM', 'MEDIUM', 'MEDIUM', 'MEDIUM', 'MEDIUM', 'MEDIUM', 'FILM', 'MEDIUM', 'MEDIUM', 'FILM', 'MEDIUM', 'MEDIUM', 'MEDIUM', 'MEDIUM', 'MEDIUM', 'MEDIUM', 'MEDIUM', 'MEDIUM', 'MEDIUM', 'MEDIUM', 'MEDIUM', 'MEDIUM', 'MEDIUM', 'MEDIUM', 'MEDIUM', 'FILM', 'MEDIUM', 'MEDIUM', 'FILM', 'MEDIUM', 'MEDIUM', 'MEDIUM', 'MEDIUM', 'MEDIUM', 'FILM', 'MEDIUM', 'MEDIUM', 'MEDIUM', 'MEDIUM', 'MEDIUM', 'MEDIUM', 'MEDIUM', 'MEDIUM', 'MEDIUM', 'MEDIUM', 'MEDIUM', 'MEDIUM', 'MEDIUM', 'MEDIUM', 'MEDIUM', 'MEDIUM', 'MEDIUM', 'MEDIUM', 'MEDIUM', 'MEDIUM', 'MEDIUM', 'MEDIUM', 'MEDIUM', 'MEDIUM', 'MEDIUM', 'MEDIUM', 'MEDIUM', 'MEDIUM', 'MEDIUM', 'MEDIUM', 'MEDIUM', 'MEDIUM', 'MEDIUM', 'FILM', 'MEDIUM', 'MEDIUM', 'MEDIUM', 'MEDIUM', 'MEDIUM', 'MEDIUM', 'MEDIUM', 'MEDIUM', 'MEDIUM', 'MEDIUM', 'MEDIUM', 'MEDIUM', 'MEDIUM', 'MEDIUM', 'MEDIUM', 'MEDIUM', 'MEDIUM', 'MEDIUM', 'MEDIUM', 'MEDIUM', 'MEDIUM', 'MEDIUM', 'MEDIUM', 'MEDIUM', 'MEDIUM', 'MEDIUM', 'MEDIUM', 'MEDIUM', 'MEDIUM', 'MEDIUM', 'MEDIUM', 'MEDIUM', 'MEDIUM', 'MEDIUM', 'MEDIUM', 'MEDIUM', 'MEDIUM', 'MEDIUM', 'MEDIUM', 'MEDIUM', 'MEDIUM', 'MEDIUM', 'MEDIUM', 'MEDIUM', 'MEDIUM', 'MEDIUM', 'MEDIUM', 'MEDIUM', 'MEDIUM', 'MEDIUM', 'MEDIUM', 'MEDIUM', 'MEDIUM', 'MEDIUM', 'FILM', 'MEDIUM', 'MEDIUM', 'MEDIUM', 'MEDIUM', 'FILM', 'MEDIUM', 'MEDIUM', 'MEDIUM', 'MEDIUM', 'MEDIUM', 'MEDIUM', 'MEDIUM', 'MEDIUM', 'MEDIUM', 'MEDIUM', 'MEDIUM', 'MEDIUM', 'FILM', 'MEDIUM', 'MEDIUM', 'MEDIUM', 'MEDIUM', 'MEDIUM', 'MEDIUM', 'MEDIUM', 'MEDIUM', 'FILM', 'MEDIUM', 'FILM', 'FILM', 'MEDIUM', 'MEDIUM', 'MEDIUM', 'MEDIUM', 'MEDIUM', 'MEDIUM', 'MEDIUM', 'MEDIUM', 'MEDIUM', 'MEDIUM', 'MEDIUM', 'MEDIUM', 'MEDIUM', 'MEDIUM', 'MEDIUM', 'MEDIUM', 'MEDIUM', 'MEDIUM', 'MEDIUM', 'FILM', 'MEDIUM', 'MEDIUM', 'MEDIUM', 'MEDIUM', 'MEDIUM', 'FILM', 'MEDIUM', 'MEDIUM', 'MEDIUM', 'MEDIUM', 'MEDIUM', 'MEDIUM', 'MEDIUM', 'MEDIUM', 'MEDIUM', 'MEDIUM', 'MEDIUM', 'MEDIUM', 'MEDIUM', 'MEDIUM', 'MEDIUM', 'MEDIUM', 'MEDIUM', 'MEDIUM', 'MEDIUM', 'MEDIUM', 'MEDIUM', 'MEDIUM', 'MEDIUM', 'MEDIUM', 'MEDIUM', 'MEDIUM', 'MEDIUM', 'MEDIUM', 'MEDIUM', 'MEDIUM', 'MEDIUM', 'MEDIUM', 'MEDIUM', 'MEDIUM', 'MEDIUM', 'MEDIUM', 'MEDIUM', 'MEDIUM', 'MEDIUM', 'MEDIUM', 'MEDIUM', 'MEDIUM', 'MEDIUM', 'MEDIUM', 'MEDIUM', 'MEDIUM', 'MEDIUM', 'MEDIUM', 'MEDIUM', 'MEDIUM', 'MEDIUM', 'MEDIUM', 'MEDIUM', 'MEDIUM', 'MEDIUM', 'MEDIUM', 'MEDIUM', 'MEDIUM', 'MEDIUM', 'MEDIUM', 'MEDIUM', 'MEDIUM', 'MEDIUM', 'MEDIUM', 'MEDIUM', 'MEDIUM', 'MEDIUM', 'MEDIUM', 'MEDIUM', 'MEDIUM', 'MEDIUM', 'MEDIUM', 'MEDIUM', 'MEDIUM', 'MEDIUM', 'MEDIUM', 'MEDIUM', 'MEDIUM', 'MEDIUM', 'MEDIUM', 'MEDIUM', 'MEDIUM', 'MEDIUM', 'MEDIUM', 'MEDIUM', 'MEDIUM', 'MEDIUM', 'MEDIUM', 'MEDIUM', 'MEDIUM', 'MEDIUM', 'MEDIUM', 'MEDIUM', 'FILM', 'MEDIUM', 'MEDIUM', 'MEDIUM', 'MEDIUM', 'MEDIUM', 'MEDIUM', 'MEDIUM', 'MEDIUM', 'MEDIUM', 'MEDIUM', 'MEDIUM', 'MEDIUM', 'MEDIUM', 'MEDIUM', 'MEDIUM', 'MEDIUM', 'MEDIUM', 'MEDIUM', 'MEDIUM', 'MEDIUM', 'MEDIUM', 'MEDIUM', 'MEDIUM', 'MEDIUM', 'MEDIUM', 'MEDIUM', 'MEDIUM', 'MEDIUM', 'MEDIUM', 'MEDIUM', 'MEDIUM', 'MEDIUM', 'MEDIUM', 'FILM', 'MEDIUM', 'MEDIUM', 'MEDIUM', 'MEDIUM', 'MEDIUM', 'MEDIUM', 'MEDIUM', 'MEDIUM', 'MEDIUM', 'MEDIUM', 'MEDIUM', 'MEDIUM', 'MEDIUM', 'MEDIUM', 'MEDIUM', 'MEDIUM', 'FILM', 'MEDIUM', 'MEDIUM', 'MEDIUM', 'MEDIUM', 'MEDIUM', 'MEDIUM', 'MEDIUM', 'MEDIUM', 'MEDIUM', 'MEDIUM', 'MEDIUM', 'MEDIUM', 'MEDIUM', 'MEDIUM', 'MEDIUM', 'MEDIUM', 'MEDIUM', 'MEDIUM', 'MEDIUM', 'MEDIUM', 'MEDIUM', 'MEDIUM', 'MEDIUM', 'MEDIUM', 'MEDIUM', 'MEDIUM', 'MEDIUM', 'MEDIUM', 'MEDIUM', 'MEDIUM', 'MEDIUM', 'FILM', 'MEDIUM', 'MEDIUM', 'MEDIUM', 'MEDIUM', 'MEDIUM', 'MEDIUM', 'MEDIUM', 'MEDIUM', 'MEDIUM', 'MEDIUM', 'MEDIUM', 'MEDIUM', 'MEDIUM', 'MEDIUM', 'MEDIUM', 'MEDIUM', 'MEDIUM', 'MEDIUM', 'MEDIUM', 'MEDIUM', 'MEDIUM', 'MEDIUM', 'MEDIUM', 'MEDIUM', 'MEDIUM', 'MEDIUM', 'MEDIUM', 'MEDIUM', 'MEDIUM', 'MEDIUM', 'MEDIUM', 'MEDIUM', 'MEDIUM', 'MEDIUM', 'MEDIUM', 'MEDIUM', 'MEDIUM', 'MEDIUM', 'MEDIUM', 'MEDIUM', 'MEDIUM', 'MEDIUM', 'MEDIUM', 'MEDIUM', 'MEDIUM', 'MEDIUM', 'MEDIUM', 'MEDIUM', 'MEDIUM', 'MEDIUM', 'MEDIUM', 'MEDIUM', 'MEDIUM', 'MEDIUM', 'MEDIUM', 'MEDIUM', 'MEDIUM', 'MEDIUM', 'MEDIUM', 'MEDIUM', 'MEDIUM', 'MEDIUM', 'MEDIUM', 'FILM', 'MEDIUM', 'MEDIUM', 'MEDIUM', 'FILM', 'MEDIUM', 'MEDIUM', 'MEDIUM', 'MEDIUM', 'MEDIUM', 'FILM', 'MEDIUM', 'MEDIUM', 'MEDIUM', 'MEDIUM', 'MEDIUM', 'MEDIUM', 'MEDIUM', 'MEDIUM', 'MEDIUM', 'MEDIUM', 'MEDIUM', 'MEDIUM', 'MEDIUM', 'MEDIUM', 'MEDIUM', 'MEDIUM', 'MEDIUM', 'MEDIUM', 'MEDIUM', 'MEDIUM', 'MEDIUM', 'MEDIUM', 'MEDIUM', 'MEDIUM', 'MEDIUM', 'MEDIUM', 'MEDIUM', 'MEDIUM', 'MEDIUM', 'MEDIUM', 'MEDIUM', 'MEDIUM', 'MEDIUM', 'MEDIUM', 'MEDIUM', 'MEDIUM', 'MEDIUM', 'MEDIUM', 'MEDIUM', 'MEDIUM', 'MEDIUM', 'MEDIUM', 'MEDIUM', 'MEDIUM', 'MEDIUM', 'MEDIUM', 'MEDIUM', 'MEDIUM', 'MEDIUM', 'MEDIUM', 'MEDIUM', 'MEDIUM', 'MEDIUM', 'MEDIUM', 'MEDIUM', 'MEDIUM', 'MEDIUM', 'MEDIUM', 'MEDIUM', 'MEDIUM', 'MEDIUM', 'MEDIUM', 'MEDIUM', 'MEDIUM', 'MEDIUM', 'MEDIUM', 'MEDIUM', 'MEDIUM', 'MEDIUM', 'MEDIUM', 'MEDIUM', 'MEDIUM', 'MEDIUM', 'MEDIUM', 'MEDIUM', 'MEDIUM', 'MEDIUM', 'MEDIUM', 'MEDIUM', 'MEDIUM', 'MEDIUM', 'MEDIUM', 'MEDIUM', 'MEDIUM', 'MEDIUM', 'MEDIUM', 'FILM', 'MEDIUM', 'MEDIUM', 'MEDIUM', 'MEDIUM', 'MEDIUM', 'MEDIUM', 'MEDIUM', 'MEDIUM', 'MEDIUM', 'MEDIUM', 'MEDIUM', 'MEDIUM', 'MEDIUM', 'MEDIUM', 'MEDIUM', 'MEDIUM', 'MEDIUM', 'MEDIUM', 'MEDIUM', 'MEDIUM', 'MEDIUM', 'FILM', 'MEDIUM', 'MEDIUM', 'MEDIUM', 'MEDIUM', 'MEDIUM', 'MEDIUM', 'MEDIUM', 'MEDIUM', 'MEDIUM', 'MEDIUM', 'MEDIUM', 'MEDIUM', 'MEDIUM', 'MEDIUM', 'MEDIUM', 'MEDIUM', 'MEDIUM', 'MEDIUM', 'MEDIUM', 'MEDIUM', 'FILM', 'MEDIUM', 'MEDIUM', 'MEDIUM', 'MEDIUM', 'MEDIUM', 'MEDIUM', 'MEDIUM', 'MEDIUM', 'MEDIUM', 'MEDIUM', 'MEDIUM', 'MEDIUM', 'MEDIUM', 'MEDIUM', 'MEDIUM', 'MEDIUM', 'MEDIUM', 'MEDIUM', 'MEDIUM', 'MEDIUM', 'MEDIUM', 'MEDIUM', 'MEDIUM', 'MEDIUM', 'MEDIUM', 'MEDIUM', 'MEDIUM', 'MEDIUM', 'MEDIUM', 'MEDIUM', 'MEDIUM', 'MEDIUM', 'MEDIUM', 'MEDIUM', 'MEDIUM', 'MEDIUM', 'MEDIUM', 'MEDIUM', 'MEDIUM', 'MEDIUM', 'MEDIUM']\n"
     ]
    }
   ],
   "source": [
    "# создаём список и мультииндексы с lambda функцией и присваиваем новые имена\n",
    "# для выделенных и оставшихся строк\n",
    "data_areas_index = [(lambda n: \"KOOL\" if n in area_indexes else \"MEDIUM\")(i) \n",
    " for i in range(0, len(data.index))]\n",
    "print (data_areas_index)"
   ]
  },
  {
   "cell_type": "code",
   "execution_count": 31,
   "metadata": {},
   "outputs": [
    {
     "name": "stdout",
     "output_type": "stream",
     "text": [
      "                                                           Unnamed: 0  \\\n",
      "Titl   Title                                                            \n",
      "FILM   \"Mäepealse lood\" (raamat esimesele kooliastmele...          93   \n",
      "       2000 koolinoort rahatargaks ja ettevõtlikuks!              619   \n",
      "       Digiklaver Orissaare Muusikakooli                          600   \n",
      "       E.T.A. Tantsukooli 8. lennu lõpulavastuse laval...        1021   \n",
      "       E.T.A. Tantsukooli 9. lennu lõpulavastus „See o...         915   \n",
      "...                                                               ...   \n",
      "MEDIUM „Muusika südames“                                          418   \n",
      "       „Palgaga rikkaks. Kuidas lõpetada enda odavmüük...         205   \n",
      "       „Tuhkatriinu“ lend Saksamaale                              633   \n",
      "       „Väikse printsi“ eriväljaanne                              427   \n",
      "       „Väinamere tütar“                                          789   \n",
      "\n",
      "                                                                                                        Link  \\\n",
      "Titl   Title                                                                                                   \n",
      "FILM   \"Mäepealse lood\" (raamat esimesele kooliastmele...     https://www.hooandja.ee/projekt/maepealse-lood   \n",
      "       2000 koolinoort rahatargaks ja ettevõtlikuks!       https://www.hooandja.ee/projekt/2000-koolinoor...   \n",
      "       Digiklaver Orissaare Muusikakooli                   https://www.hooandja.ee/projekt/digiklaver-ori...   \n",
      "       E.T.A. Tantsukooli 8. lennu lõpulavastuse laval...  https://www.hooandja.ee/projekt/eta-tantsukool...   \n",
      "       E.T.A. Tantsukooli 9. lennu lõpulavastus „See o...  https://www.hooandja.ee/projekt/eta-tantsukool...   \n",
      "...                                                                                                      ...   \n",
      "MEDIUM „Muusika südames“                                     https://www.hooandja.ee/projekt/muusika-sudames   \n",
      "       „Palgaga rikkaks. Kuidas lõpetada enda odavmüük...    https://www.hooandja.ee/projekt/palgaga-rikkaks   \n",
      "       „Tuhkatriinu“ lend Saksamaale                       https://www.hooandja.ee/projekt/tuhkatriinu-le...   \n",
      "       „Väikse printsi“ eriväljaanne                       https://www.hooandja.ee/projekt/vaikse-printsi...   \n",
      "       „Väinamere tütar“                                     https://www.hooandja.ee/projekt/vainamere-tutar   \n",
      "\n",
      "                                                                                     Name  \\\n",
      "Titl   Title                                                                                \n",
      "FILM   \"Mäepealse lood\" (raamat esimesele kooliastmele...           Maarja Astover Trükis   \n",
      "       2000 koolinoort rahatargaks ja ettevõtlikuks!           MTÜ Ettevõtlusküla Haridus   \n",
      "       Digiklaver Orissaare Muusikakooli                                 Martti Nõu EV100   \n",
      "       E.T.A. Tantsukooli 8. lennu lõpulavastuse laval...  SA Eesti Tantsuagentuur Teater   \n",
      "       E.T.A. Tantsukooli 9. lennu lõpulavastus „See o...  SA Eesti Tantsuagentuur Teater   \n",
      "...                                                                                   ...   \n",
      "MEDIUM „Muusika südames“                                      Sillamäe Kannuka Kool EV100   \n",
      "       „Palgaga rikkaks. Kuidas lõpetada enda odavmüük...            Ekke Lainsalu Trükis   \n",
      "       „Tuhkatriinu“ lend Saksamaale                                  Külli Ehastu Teater   \n",
      "       „Väikse printsi“ eriväljaanne                        MTÜ Eesti Trükimuuseum Trükis   \n",
      "       „Väinamere tütar“                                       Ilmar Tamm Kodanikualgatus   \n",
      "\n",
      "                                                                       Cat  \\\n",
      "Titl   Title                                                                 \n",
      "FILM   \"Mäepealse lood\" (raamat esimesele kooliastmele...           Trükis   \n",
      "       2000 koolinoort rahatargaks ja ettevõtlikuks!               Haridus   \n",
      "       Digiklaver Orissaare Muusikakooli                             EV100   \n",
      "       E.T.A. Tantsukooli 8. lennu lõpulavastuse laval...           Teater   \n",
      "       E.T.A. Tantsukooli 9. lennu lõpulavastus „See o...           Teater   \n",
      "...                                                                    ...   \n",
      "MEDIUM „Muusika südames“                                             EV100   \n",
      "       „Palgaga rikkaks. Kuidas lõpetada enda odavmüük...           Trükis   \n",
      "       „Tuhkatriinu“ lend Saksamaale                                Teater   \n",
      "       „Väikse printsi“ eriväljaanne                                Trükis   \n",
      "       „Väinamere tütar“                                   Kodanikualgatus   \n",
      "\n",
      "                                                                                              Aut link  \\\n",
      "Titl   Title                                                                                             \n",
      "FILM   \"Mäepealse lood\" (raamat esimesele kooliastmele...  https://www.hooandja.ee/users/astovermaarja   \n",
      "       2000 koolinoort rahatargaks ja ettevõtlikuks!             https://www.hooandja.ee/users/info127   \n",
      "       Digiklaver Orissaare Muusikakooli                       https://www.hooandja.ee/users/marttinou   \n",
      "       E.T.A. Tantsukooli 8. lennu lõpulavastuse laval...        https://www.hooandja.ee/users/helena1   \n",
      "       E.T.A. Tantsukooli 9. lennu lõpulavastus „See o...        https://www.hooandja.ee/users/helena1   \n",
      "...                                                                                                ...   \n",
      "MEDIUM „Muusika südames“                                      https://www.hooandja.ee/users/aidaionova   \n",
      "       „Palgaga rikkaks. Kuidas lõpetada enda odavmüük...           https://www.hooandja.ee/users/ekke   \n",
      "       „Tuhkatriinu“ lend Saksamaale                         https://www.hooandja.ee/users/kylliehastu   \n",
      "       „Väikse printsi“ eriväljaanne                             https://www.hooandja.ee/users/maarja9   \n",
      "       „Väinamere tütar“                                       https://www.hooandja.ee/users/ilmartamm   \n",
      "\n",
      "                                                           Plan  Budget  \\\n",
      "Titl   Title                                                              \n",
      "FILM   \"Mäepealse lood\" (raamat esimesele kooliastmele...   100    2679   \n",
      "       2000 koolinoort rahatargaks ja ettevõtlikuks!        126    6420   \n",
      "       Digiklaver Orissaare Muusikakooli                    103     965   \n",
      "       E.T.A. Tantsukooli 8. lennu lõpulavastuse laval...   102    1020   \n",
      "       E.T.A. Tantsukooli 9. lennu lõpulavastus „See o...   111     890   \n",
      "...                                                         ...     ...   \n",
      "MEDIUM „Muusika südames“                                    107     429   \n",
      "       „Palgaga rikkaks. Kuidas lõpetada enda odavmüük...   107    2469   \n",
      "       „Tuhkatriinu“ lend Saksamaale                        104     833   \n",
      "       „Väikse printsi“ eriväljaanne                        290   17428   \n",
      "       „Väinamere tütar“                                    108   17025   \n",
      "\n",
      "                                                                 Date  \n",
      "Titl   Title                                                           \n",
      "FILM   \"Mäepealse lood\" (raamat esimesele kooliastmele...  10.11.2019  \n",
      "       2000 koolinoort rahatargaks ja ettevõtlikuks!       26.11.2016  \n",
      "       Digiklaver Orissaare Muusikakooli                   30.12.2016  \n",
      "       E.T.A. Tantsukooli 8. lennu lõpulavastuse laval...  23.05.2014  \n",
      "       E.T.A. Tantsukooli 9. lennu lõpulavastus „See o...  12.04.2015  \n",
      "...                                                               ...  \n",
      "MEDIUM „Muusika südames“                                   21.12.2017  \n",
      "       „Palgaga rikkaks. Kuidas lõpetada enda odavmüük...  31.03.2019  \n",
      "       „Tuhkatriinu“ lend Saksamaale                       10.11.2016  \n",
      "       „Väikse printsi“ eriväljaanne                       06.12.2017  \n",
      "       „Väinamere tütar“                                   01.01.2016  \n",
      "\n",
      "[1192 rows x 8 columns]\n"
     ]
    }
   ],
   "source": [
    "data[\"Titl\"] = data_areas_index\n",
    "data = data.set_index([\"Titl\", \"Title\"])\n",
    "data = data.sort_index()\n",
    "print (data)"
   ]
  },
  {
   "cell_type": "code",
   "execution_count": 32,
   "metadata": {},
   "outputs": [
    {
     "name": "stdout",
     "output_type": "stream",
     "text": [
      "                                                    Unnamed: 0  \\\n",
      "Title                                                            \n",
      "\"Mäepealse lood\" (raamat esimesele kooliastmele...          93   \n",
      "2000 koolinoort rahatargaks ja ettevõtlikuks!              619   \n",
      "Digiklaver Orissaare Muusikakooli                          600   \n",
      "E.T.A. Tantsukooli 8. lennu lõpulavastuse laval...        1021   \n",
      "E.T.A. Tantsukooli 9. lennu lõpulavastus „See o...         915   \n",
      "ELFi talgute suvekool Nedrema puisniidul                   864   \n",
      "ELFi talgute suvekool Palupõhjas                           505   \n",
      "ETA Tantsukooli X lennu lõpulavastus                       732   \n",
      "Eesti Maaülikooli kammerkoor rahvusvahelisele k...         764   \n",
      "FACE tantsukooli oma stuudio loomine                       253   \n",
      "Filmifestival Kino maale animakoolituste korral...         106   \n",
      "Just Tantsukooli lõpetajate etendus                       1130   \n",
      "Jõulinnak Tallinna 32. Keskkoolile                         340   \n",
      "Kaare kooli klaasi- ja keraamika töökoda                  1015   \n",
      "Kaks tšellot Kuressaare muusikakoolile                     597   \n",
      "Kasuperede suvekool                                        161   \n",
      "Kehtna põhikooli digiklaver                                625   \n",
      "Kostüümid IDA Tantsukooli etendusele Arabesque             391   \n",
      "Kuusalu Keskkooli tantsulaste rahvarõivad                  616   \n",
      "Leiutajate külakool                                       1108   \n",
      "Narva Muusikakooli projekt “Muusika inimeste me...         364   \n",
      "Portatiivne elektriklaver Roland FP 90 Kose muu...         357   \n",
      "Puutesein Käo Põhikoolile                                  947   \n",
      "Rakvere Põhikooli Mudilaskoor suveks \"vormi\"!              175   \n",
      "Rakvere Põhikooli lapsed: „Me ei taha pulgabänd...         719   \n",
      "Rakvere Waldorfkooli kasvamine 9-klassiliseks k...         515   \n",
      "Rosma Johannese waldorfkooli katuse vahetus                898   \n",
      "Salliv kool                                                770   \n",
      "Shaté Tantsukooli kolmanda saali ehitus                    659   \n",
      "Tamme kooli mänguväljaku muutmine ohutumaks                435   \n",
      "Tartu Erakooli õpilaste reis Udmurtiasse                   301   \n",
      "Tartu Ülikooli korvpallikooli U17 võistkond too...          57   \n",
      "Tartu ülikooli kammerkoori 45. aastapäeva lavas...         714   \n",
      "Tehnikaülikooli Akadeemilise Meeskoori kevadkon...        1011   \n",
      "Timpanid Lihula muusikakoolile                             744   \n",
      "TÜ korvpallikooli U14 võistkond Eurosarja                   81   \n",
      "Uus Pianiino Nõo Muusikakooli                               55   \n",
      "Uus Tantsukool vajab hoogu!                                146   \n",
      "Uus klarnet Märjamaa Muusika- ja Kunstikooli õp...         741   \n",
      "Viljandi Waldorfkooli Eurütmiastuudio Witten-An...         541   \n",
      "Võru- ja Põlvamaa koolide õpilaste õuesõppekäig...         589   \n",
      "Westholmi Muusikakoolile uued pillid                       743   \n",
      "Üleriigiline heategevuslik koolibändide konkurs...        1151   \n",
      "\n",
      "                                                                                                 Link  \\\n",
      "Title                                                                                                   \n",
      "\"Mäepealse lood\" (raamat esimesele kooliastmele...     https://www.hooandja.ee/projekt/maepealse-lood   \n",
      "2000 koolinoort rahatargaks ja ettevõtlikuks!       https://www.hooandja.ee/projekt/2000-koolinoor...   \n",
      "Digiklaver Orissaare Muusikakooli                   https://www.hooandja.ee/projekt/digiklaver-ori...   \n",
      "E.T.A. Tantsukooli 8. lennu lõpulavastuse laval...  https://www.hooandja.ee/projekt/eta-tantsukool...   \n",
      "E.T.A. Tantsukooli 9. lennu lõpulavastus „See o...  https://www.hooandja.ee/projekt/eta-tantsukool...   \n",
      "ELFi talgute suvekool Nedrema puisniidul            https://www.hooandja.ee/projekt/elfi-talgute-s...   \n",
      "ELFi talgute suvekool Palupõhjas                    https://www.hooandja.ee/projekt/elfi-talgute-s...   \n",
      "ETA Tantsukooli X lennu lõpulavastus                https://www.hooandja.ee/projekt/eta-tantsukool...   \n",
      "Eesti Maaülikooli kammerkoor rahvusvahelisele k...  https://www.hooandja.ee/projekt/eesti-maauliko...   \n",
      "FACE tantsukooli oma stuudio loomine                https://www.hooandja.ee/projekt/face-tantsustu...   \n",
      "Filmifestival Kino maale animakoolituste korral...  https://www.hooandja.ee/projekt/filmifestival-...   \n",
      "Just Tantsukooli lõpetajate etendus                 https://www.hooandja.ee/projekt/just-tantsukoo...   \n",
      "Jõulinnak Tallinna 32. Keskkoolile                  https://www.hooandja.ee/projekt/joulinnak-tall...   \n",
      "Kaare kooli klaasi- ja keraamika töökoda            https://www.hooandja.ee/projekt/kaare-kooli-kl...   \n",
      "Kaks tšellot Kuressaare muusikakoolile              https://www.hooandja.ee/projekt/kaks-tsellot-k...   \n",
      "Kasuperede suvekool                                 https://www.hooandja.ee/projekt/kasuperede-suv...   \n",
      "Kehtna põhikooli digiklaver                         https://www.hooandja.ee/projekt/kehtna-pohikoo...   \n",
      "Kostüümid IDA Tantsukooli etendusele Arabesque              https://www.hooandja.ee/projekt/arabesque   \n",
      "Kuusalu Keskkooli tantsulaste rahvarõivad           https://www.hooandja.ee/projekt/kuusalu-keskko...   \n",
      "Leiutajate külakool                                 https://www.hooandja.ee/projekt/leiutajate-kul...   \n",
      "Narva Muusikakooli projekt “Muusika inimeste me...  https://www.hooandja.ee/projekt/muusika-inimme...   \n",
      "Portatiivne elektriklaver Roland FP 90 Kose muu...  https://www.hooandja.ee/projekt/portatiivne-el...   \n",
      "Puutesein Käo Põhikoolile                           https://www.hooandja.ee/projekt/puutesein-kao-...   \n",
      "Rakvere Põhikooli Mudilaskoor suveks \"vormi\"!       https://www.hooandja.ee/projekt/rakvere-pohiko...   \n",
      "Rakvere Põhikooli lapsed: „Me ei taha pulgabänd...  https://www.hooandja.ee/projekt/lapsed-me-ei-t...   \n",
      "Rakvere Waldorfkooli kasvamine 9-klassiliseks k...  https://www.hooandja.ee/projekt/rakvere-waldor...   \n",
      "Rosma Johannese waldorfkooli katuse vahetus         https://www.hooandja.ee/projekt/rosma-johannes...   \n",
      "Salliv kool                                               https://www.hooandja.ee/projekt/salliv-kool   \n",
      "Shaté Tantsukooli kolmanda saali ehitus             https://www.hooandja.ee/projekt/shate-tantsuko...   \n",
      "Tamme kooli mänguväljaku muutmine ohutumaks         https://www.hooandja.ee/projekt/tamme-kooli-ma...   \n",
      "Tartu Erakooli õpilaste reis Udmurtiasse            https://www.hooandja.ee/projekt/tartu-erakooli...   \n",
      "Tartu Ülikooli korvpallikooli U17 võistkond too...  https://www.hooandja.ee/projekt/tartu-ulikooli...   \n",
      "Tartu ülikooli kammerkoori 45. aastapäeva lavas...  https://www.hooandja.ee/projekt/tartu-ulikooli...   \n",
      "Tehnikaülikooli Akadeemilise Meeskoori kevadkon...  https://www.hooandja.ee/projekt/tehnikaulikool...   \n",
      "Timpanid Lihula muusikakoolile                      https://www.hooandja.ee/projekt/timpanid-lihul...   \n",
      "TÜ korvpallikooli U14 võistkond Eurosarja           https://www.hooandja.ee/projekt/u14-voistkonna...   \n",
      "Uus Pianiino Nõo Muusikakooli                       https://www.hooandja.ee/projekt/uus-pianiino-n...   \n",
      "Uus Tantsukool vajab hoogu!                         https://www.hooandja.ee/projekt/uus-tantsukool...   \n",
      "Uus klarnet Märjamaa Muusika- ja Kunstikooli õp...  https://www.hooandja.ee/projekt/uus-klarnet-ma...   \n",
      "Viljandi Waldorfkooli Eurütmiastuudio Witten-An...  https://www.hooandja.ee/projekt/viljandi-waldo...   \n",
      "Võru- ja Põlvamaa koolide õpilaste õuesõppekäig...  https://www.hooandja.ee/projekt/voru-ja-polvam...   \n",
      "Westholmi Muusikakoolile uued pillid                https://www.hooandja.ee/projekt/westholmi-muus...   \n",
      "Üleriigiline heategevuslik koolibändide konkurs...  https://www.hooandja.ee/projekt/uleriigiline-h...   \n",
      "\n",
      "                                                                                             Name  \\\n",
      "Title                                                                                               \n",
      "\"Mäepealse lood\" (raamat esimesele kooliastmele...                          Maarja Astover Trükis   \n",
      "2000 koolinoort rahatargaks ja ettevõtlikuks!                          MTÜ Ettevõtlusküla Haridus   \n",
      "Digiklaver Orissaare Muusikakooli                                                Martti Nõu EV100   \n",
      "E.T.A. Tantsukooli 8. lennu lõpulavastuse laval...                 SA Eesti Tantsuagentuur Teater   \n",
      "E.T.A. Tantsukooli 9. lennu lõpulavastus „See o...                 SA Eesti Tantsuagentuur Teater   \n",
      "ELFi talgute suvekool Nedrema puisniidul                    Eestimaa Looduse Fond Kodanikualgatus   \n",
      "ELFi talgute suvekool Palupõhjas                                   Eestimaa Looduse Fond Keskkond   \n",
      "ETA Tantsukooli X lennu lõpulavastus                              SA Eesti Tantsuagentuur Sündmus   \n",
      "Eesti Maaülikooli kammerkoor rahvusvahelisele k...                    Mart Ilves Kultuurisaadikud   \n",
      "FACE tantsukooli oma stuudio loomine                                FACE Moe- ja Tantsukool Sport   \n",
      "Filmifestival Kino maale animakoolituste korral...                       Indrek Jurtšenko Sündmus   \n",
      "Just Tantsukooli lõpetajate etendus                                     Anne Tamm-Kivimets Teater   \n",
      "Jõulinnak Tallinna 32. Keskkoolile                                           Jürgen Vainola Sport   \n",
      "Kaare kooli klaasi- ja keraamika töökoda                          Griseldis Luist Kodanikualgatus   \n",
      "Kaks tšellot Kuressaare muusikakoolile                               Kuressaare muusikakool EV100   \n",
      "Kasuperede suvekool                                                             Lea Sõmer Sündmus   \n",
      "Kehtna põhikooli digiklaver                                                 Kersti Mäevälja EV100   \n",
      "Kostüümid IDA Tantsukooli etendusele Arabesque                              Tiit Lilleorg Sündmus   \n",
      "Kuusalu Keskkooli tantsulaste rahvarõivad                              Kaisa Välk Kodanikualgatus   \n",
      "Leiutajate külakool                                            Sänna Kultuurimõis Kodanikualgatus   \n",
      "Narva Muusikakooli projekt “Muusika inimeste me...                                   Marina EV100   \n",
      "Portatiivne elektriklaver Roland FP 90 Kose muu...                             Tarmo Velmet EV100   \n",
      "Puutesein Käo Põhikoolile                                               Hiie Härm Kodanikualgatus   \n",
      "Rakvere Põhikooli Mudilaskoor suveks \"vormi\"!                           Aire Aros Kodanikualgatus   \n",
      "Rakvere Põhikooli lapsed: „Me ei taha pulgabänd...                                Aire Aros EV100   \n",
      "Rakvere Waldorfkooli kasvamine 9-klassiliseks k...        Rakvere Vabakooli Selts Kodanikualgatus   \n",
      "Rosma Johannese waldorfkooli katuse vahetus                             jaanus_10 Kodanikualgatus   \n",
      "Salliv kool                                                               Eleri Pilliroog Haridus   \n",
      "Shaté Tantsukooli kolmanda saali ehitus                                  Shaté Tantsukool Haridus   \n",
      "Tamme kooli mänguväljaku muutmine ohutumaks                                 Alari Avamägi Haridus   \n",
      "Tartu Erakooli õpilaste reis Udmurtiasse                                     Theana Teder Haridus   \n",
      "Tartu Ülikooli korvpallikooli U17 võistkond too...                             Olari Narits Sport   \n",
      "Tartu ülikooli kammerkoori 45. aastapäeva lavas...              Tartu ülikooli kammerkoor Muusika   \n",
      "Tehnikaülikooli Akadeemilise Meeskoori kevadkon...  Tehnikaülikooli Akadeemiline Meeskoor Muusika   \n",
      "Timpanid Lihula muusikakoolile                                                   Mati Põdra EV100   \n",
      "TÜ korvpallikooli U14 võistkond Eurosarja                                       Gert Prants Sport   \n",
      "Uus Pianiino Nõo Muusikakooli                                         Kätlin Virgo Muusikariistad   \n",
      "Uus Tantsukool vajab hoogu!                                         Alissa Montes Kodanikualgatus   \n",
      "Uus klarnet Märjamaa Muusika- ja Kunstikooli õp...                           Maiu Linnamägi EV100   \n",
      "Viljandi Waldorfkooli Eurütmiastuudio Witten-An...                                 Anu Kivi Kunst   \n",
      "Võru- ja Põlvamaa koolide õpilaste õuesõppekäig...                          Martin Suuroja Trükis   \n",
      "Westholmi Muusikakoolile uued pillid                                              Kaja Kaus EV100   \n",
      "Üleriigiline heategevuslik koolibändide konkurs...                           Merli Mändul Muusika   \n",
      "\n",
      "                                                                 Cat  \\\n",
      "Title                                                                  \n",
      "\"Mäepealse lood\" (raamat esimesele kooliastmele...            Trükis   \n",
      "2000 koolinoort rahatargaks ja ettevõtlikuks!                Haridus   \n",
      "Digiklaver Orissaare Muusikakooli                              EV100   \n",
      "E.T.A. Tantsukooli 8. lennu lõpulavastuse laval...            Teater   \n",
      "E.T.A. Tantsukooli 9. lennu lõpulavastus „See o...            Teater   \n",
      "ELFi talgute suvekool Nedrema puisniidul             Kodanikualgatus   \n",
      "ELFi talgute suvekool Palupõhjas                            Keskkond   \n",
      "ETA Tantsukooli X lennu lõpulavastus                         Sündmus   \n",
      "Eesti Maaülikooli kammerkoor rahvusvahelisele k...  Kultuurisaadikud   \n",
      "FACE tantsukooli oma stuudio loomine                           Sport   \n",
      "Filmifestival Kino maale animakoolituste korral...           Sündmus   \n",
      "Just Tantsukooli lõpetajate etendus                           Teater   \n",
      "Jõulinnak Tallinna 32. Keskkoolile                             Sport   \n",
      "Kaare kooli klaasi- ja keraamika töökoda             Kodanikualgatus   \n",
      "Kaks tšellot Kuressaare muusikakoolile                         EV100   \n",
      "Kasuperede suvekool                                          Sündmus   \n",
      "Kehtna põhikooli digiklaver                                    EV100   \n",
      "Kostüümid IDA Tantsukooli etendusele Arabesque               Sündmus   \n",
      "Kuusalu Keskkooli tantsulaste rahvarõivad            Kodanikualgatus   \n",
      "Leiutajate külakool                                  Kodanikualgatus   \n",
      "Narva Muusikakooli projekt “Muusika inimeste me...             EV100   \n",
      "Portatiivne elektriklaver Roland FP 90 Kose muu...             EV100   \n",
      "Puutesein Käo Põhikoolile                            Kodanikualgatus   \n",
      "Rakvere Põhikooli Mudilaskoor suveks \"vormi\"!        Kodanikualgatus   \n",
      "Rakvere Põhikooli lapsed: „Me ei taha pulgabänd...             EV100   \n",
      "Rakvere Waldorfkooli kasvamine 9-klassiliseks k...   Kodanikualgatus   \n",
      "Rosma Johannese waldorfkooli katuse vahetus          Kodanikualgatus   \n",
      "Salliv kool                                                  Haridus   \n",
      "Shaté Tantsukooli kolmanda saali ehitus                      Haridus   \n",
      "Tamme kooli mänguväljaku muutmine ohutumaks                  Haridus   \n",
      "Tartu Erakooli õpilaste reis Udmurtiasse                     Haridus   \n",
      "Tartu Ülikooli korvpallikooli U17 võistkond too...             Sport   \n",
      "Tartu ülikooli kammerkoori 45. aastapäeva lavas...           Muusika   \n",
      "Tehnikaülikooli Akadeemilise Meeskoori kevadkon...           Muusika   \n",
      "Timpanid Lihula muusikakoolile                                 EV100   \n",
      "TÜ korvpallikooli U14 võistkond Eurosarja                      Sport   \n",
      "Uus Pianiino Nõo Muusikakooli                         Muusikariistad   \n",
      "Uus Tantsukool vajab hoogu!                          Kodanikualgatus   \n",
      "Uus klarnet Märjamaa Muusika- ja Kunstikooli õp...             EV100   \n",
      "Viljandi Waldorfkooli Eurütmiastuudio Witten-An...             Kunst   \n",
      "Võru- ja Põlvamaa koolide õpilaste õuesõppekäig...            Trükis   \n",
      "Westholmi Muusikakoolile uued pillid                           EV100   \n",
      "Üleriigiline heategevuslik koolibändide konkurs...           Muusika   \n",
      "\n",
      "                                                                                         Aut link  \\\n",
      "Title                                                                                               \n",
      "\"Mäepealse lood\" (raamat esimesele kooliastmele...    https://www.hooandja.ee/users/astovermaarja   \n",
      "2000 koolinoort rahatargaks ja ettevõtlikuks!               https://www.hooandja.ee/users/info127   \n",
      "Digiklaver Orissaare Muusikakooli                         https://www.hooandja.ee/users/marttinou   \n",
      "E.T.A. Tantsukooli 8. lennu lõpulavastuse laval...          https://www.hooandja.ee/users/helena1   \n",
      "E.T.A. Tantsukooli 9. lennu lõpulavastus „See o...          https://www.hooandja.ee/users/helena1   \n",
      "ELFi talgute suvekool Nedrema puisniidul                   https://www.hooandja.ee/users/kertu2-0   \n",
      "ELFi talgute suvekool Palupõhjas                           https://www.hooandja.ee/users/kertu2-0   \n",
      "ETA Tantsukooli X lennu lõpulavastus                        https://www.hooandja.ee/users/helena1   \n",
      "Eesti Maaülikooli kammerkoor rahvusvahelisele k...        https://www.hooandja.ee/users/martilves   \n",
      "FACE tantsukooli oma stuudio loomine                 https://www.hooandja.ee/users/facetantsukool   \n",
      "Filmifestival Kino maale animakoolituste korral...  https://www.hooandja.ee/users/indrekjurtsenko   \n",
      "Just Tantsukooli lõpetajate etendus                      https://www.hooandja.ee/users/annekoduke   \n",
      "Jõulinnak Tallinna 32. Keskkoolile                    https://www.hooandja.ee/users/jyrgenvainola   \n",
      "Kaare kooli klaasi- ja keraamika töökoda                    https://www.hooandja.ee/users/kaare18   \n",
      "Kaks tšellot Kuressaare muusikakoolile                 https://www.hooandja.ee/users/kuressaaremk   \n",
      "Kasuperede suvekool                                        https://www.hooandja.ee/users/leas6mer   \n",
      "Kehtna põhikooli digiklaver                          https://www.hooandja.ee/users/kerstimaevalja   \n",
      "Kostüümid IDA Tantsukooli etendusele Arabesque               https://www.hooandja.ee/users/tiit14   \n",
      "Kuusalu Keskkooli tantsulaste rahvarõivad                 https://www.hooandja.ee/users/kaisavalk   \n",
      "Leiutajate külakool                                     https://www.hooandja.ee/users/hendriknoor   \n",
      "Narva Muusikakooli projekt “Muusika inimeste me...   https://www.hooandja.ee/users/marinasinitson   \n",
      "Portatiivne elektriklaver Roland FP 90 Kose muu...  https://www.hooandja.ee/users/kosemuusikakool   \n",
      "Puutesein Käo Põhikoolile                                 https://www.hooandja.ee/users/hiieharm2   \n",
      "Rakvere Põhikooli Mudilaskoor suveks \"vormi\"!                  https://www.hooandja.ee/users/aros   \n",
      "Rakvere Põhikooli lapsed: „Me ei taha pulgabänd...             https://www.hooandja.ee/users/aros   \n",
      "Rakvere Waldorfkooli kasvamine 9-klassiliseks k...      https://www.hooandja.ee/users/piretpold-0   \n",
      "Rosma Johannese waldorfkooli katuse vahetus                https://www.hooandja.ee/users/jaanus10   \n",
      "Salliv kool                                          https://www.hooandja.ee/users/eleripilliroog   \n",
      "Shaté Tantsukooli kolmanda saali ehitus                https://www.hooandja.ee/users/kirsikkakurg   \n",
      "Tamme kooli mänguväljaku muutmine ohutumaks            https://www.hooandja.ee/users/alariavamagi   \n",
      "Tartu Erakooli õpilaste reis Udmurtiasse                https://www.hooandja.ee/users/theanavn014   \n",
      "Tartu Ülikooli korvpallikooli U17 võistkond too...      https://www.hooandja.ee/users/olarinarits   \n",
      "Tartu ülikooli kammerkoori 45. aastapäeva lavas...     https://www.hooandja.ee/users/tukammerkoor   \n",
      "Tehnikaülikooli Akadeemilise Meeskoori kevadkon...       https://www.hooandja.ee/users/peeppihlak   \n",
      "Timpanid Lihula muusikakoolile                               https://www.hooandja.ee/users/mati68   \n",
      "TÜ korvpallikooli U14 võistkond Eurosarja                https://www.hooandja.ee/users/gertprants   \n",
      "Uus Pianiino Nõo Muusikakooli                              https://www.hooandja.ee/users/nmuusika   \n",
      "Uus Tantsukool vajab hoogu!                                https://www.hooandja.ee/users/alyssake   \n",
      "Uus klarnet Märjamaa Muusika- ja Kunstikooli õp...    https://www.hooandja.ee/users/maiulinnamagi   \n",
      "Viljandi Waldorfkooli Eurütmiastuudio Witten-An...            https://www.hooandja.ee/users/anu28   \n",
      "Võru- ja Põlvamaa koolide õpilaste õuesõppekäig...          https://www.hooandja.ee/users/suuroja   \n",
      "Westholmi Muusikakoolile uued pillid                       https://www.hooandja.ee/users/kajakaus   \n",
      "Üleriigiline heategevuslik koolibändide konkurs...      https://www.hooandja.ee/users/merlimandul   \n",
      "\n",
      "                                                    Plan  Budget        Date  \n",
      "Title                                                                         \n",
      "\"Mäepealse lood\" (raamat esimesele kooliastmele...   100    2679  10.11.2019  \n",
      "2000 koolinoort rahatargaks ja ettevõtlikuks!        126    6420  26.11.2016  \n",
      "Digiklaver Orissaare Muusikakooli                    103     965  30.12.2016  \n",
      "E.T.A. Tantsukooli 8. lennu lõpulavastuse laval...   102    1020  23.05.2014  \n",
      "E.T.A. Tantsukooli 9. lennu lõpulavastus „See o...   111     890  12.04.2015  \n",
      "ELFi talgute suvekool Nedrema puisniidul             101    2022  17.07.2015  \n",
      "ELFi talgute suvekool Palupõhjas                     106     958  21.07.2017  \n",
      "ETA Tantsukooli X lennu lõpulavastus                 101    1010  22.04.2016  \n",
      "Eesti Maaülikooli kammerkoor rahvusvahelisele k...   104    1555  10.03.2016  \n",
      "FACE tantsukooli oma stuudio loomine                 118    1765  11.12.2018  \n",
      "Filmifestival Kino maale animakoolituste korral...   104     520  18.10.2019  \n",
      "Just Tantsukooli lõpetajate etendus                  112     560  06.06.2013  \n",
      "Jõulinnak Tallinna 32. Keskkoolile                   104    2805  02.06.2018  \n",
      "Kaare kooli klaasi- ja keraamika töökoda             113    2467  10.06.2014  \n",
      "Kaks tšellot Kuressaare muusikakoolile               109     820  01.01.2017  \n",
      "Kasuperede suvekool                                  115    1145  07.06.2019  \n",
      "Kehtna põhikooli digiklaver                          115    1380  18.11.2016  \n",
      "Kostüümid IDA Tantsukooli etendusele Arabesque       116     580  23.02.2018  \n",
      "Kuusalu Keskkooli tantsulaste rahvarõivad            106    1588  29.11.2016  \n",
      "Leiutajate külakool                                  138    3461  31.07.2013  \n",
      "Narva Muusikakooli projekt “Muusika inimeste me...   102     670  17.04.2018  \n",
      "Portatiivne elektriklaver Roland FP 90 Kose muu...    87    1670    Lõppenud  \n",
      "Puutesein Käo Põhikoolile                            112     617  12.12.2014  \n",
      "Rakvere Põhikooli Mudilaskoor suveks \"vormi\"!        150    1570  16.05.2019  \n",
      "Rakvere Põhikooli lapsed: „Me ei taha pulgabänd...   109    2225  06.05.2016  \n",
      "Rakvere Waldorfkooli kasvamine 9-klassiliseks k...   101   13370  04.07.2017  \n",
      "Rosma Johannese waldorfkooli katuse vahetus          125    6860  08.05.2015  \n",
      "Salliv kool                                          166    2660  20.02.2016  \n",
      "Shaté Tantsukooli kolmanda saali ehitus              104    6424  30.08.2016  \n",
      "Tamme kooli mänguväljaku muutmine ohutumaks          117    6997  21.11.2017  \n",
      "Tartu Erakooli õpilaste reis Udmurtiasse             112    1119  16.08.2018  \n",
      "Tartu Ülikooli korvpallikooli U17 võistkond too...   100    1505  27.01.2020  \n",
      "Tartu ülikooli kammerkoori 45. aastapäeva lavas...   115    3395  13.05.2016  \n",
      "Tehnikaülikooli Akadeemilise Meeskoori kevadkon...   153    2453  19.06.2014  \n",
      "Timpanid Lihula muusikakoolile                       102    1949  09.04.2016  \n",
      "TÜ korvpallikooli U14 võistkond Eurosarja            100    2510  30.11.2019  \n",
      "Uus Pianiino Nõo Muusikakooli                        146    2196  31.01.2020  \n",
      "Uus Tantsukool vajab hoogu!                          106    8480  01.07.2019  \n",
      "Uus klarnet Märjamaa Muusika- ja Kunstikooli õp...   120     600  12.04.2016  \n",
      "Viljandi Waldorfkooli Eurütmiastuudio Witten-An...   107    1070  15.05.2017  \n",
      "Võru- ja Põlvamaa koolide õpilaste õuesõppekäig...   101    1005  04.02.2017  \n",
      "Westholmi Muusikakoolile uued pillid                 145    2894  09.04.2016  \n",
      "Üleriigiline heategevuslik koolibändide konkurs...   100    1200  27.03.2013  \n"
     ]
    }
   ],
   "source": [
    "areas = data.loc[\"FILM\"]\n",
    "print (areas)"
   ]
  },
  {
   "cell_type": "code",
   "execution_count": 34,
   "metadata": {},
   "outputs": [
    {
     "data": {
      "image/png": "[encoded data removed]",
      "text/plain": [
       "<Figure size 432x288 with 1 Axes>"
      ]
     },
     "metadata": {
      "needs_background": "light"
     },
     "output_type": "display_data"
    }
   ],
   "source": [
    "# объединение данных с двух таблиц\n",
    "%matplotlib inline\n",
    "import pandas as pd\n",
    "import matplotlib.pyplot as plt\n",
    "data_2017 = pd.read_csv(\"http://video.ittensive.com/python-advanced/internet-2017.csv\", na_values=\"NA\", skiprows=1, decimal=\",\", names=[\"Регион\", \"2017\"], index_col=\"Регион\")\n",
    "data_2018 = pd.read_csv(\"http://video.ittensive.com/python-advanced/internet-2018.csv\", na_values=\"NA\", skiprows=1, decimal=\",\", names=[\"Регион\", \"2018\"], index_col=\"Регион\")\n",
    "data = pd.merge(data_2017, data_2018, left_index=True, right_index=True)\n",
    "data.fillna(0, axis=1, inplace=True)\n",
    "data.mean().plot.line()\n",
    "plt.show()"
   ]
  },
  {
   "cell_type": "code",
   "execution_count": 36,
   "metadata": {},
   "outputs": [
    {
     "name": "stdout",
     "output_type": "stream",
     "text": [
      "Calls\n",
      "402    15730\n",
      "Name: UnemployedMen, dtype: int64\n"
     ]
    }
   ],
   "source": [
    "import pandas as pd\n",
    "\n",
    "data_1 = pd.read_csv('http://video.ittensive.com/python-advanced/data-9753-2019-07-25.utf.csv', delimiter=';')\n",
    "data_1 = data_1.set_index(['Year', 'Period'])\n",
    "\n",
    "data_2 = pd.read_csv('http://video.ittensive.com/python-advanced/data-5283-2019-10-04.utf.csv', delimiter=';')\n",
    "data_2 = data_2.set_index(['AdmArea', 'Year', 'Month'])\n",
    "data_2 = data_2.loc['Центральный административный округ']\n",
    "data_2.index.names = ['Year', 'Period']\n",
    "\n",
    "data = pd.merge(data_1, data_2, left_index=True, right_index=True)\n",
    "\n",
    "data = data.reset_index()\n",
    "data = data.set_index('Calls')\n",
    "# print(data_1.head())\n",
    "# print(data_2.head())\n",
    "print(data['UnemployedMen'][0:1])\n"
   ]
  },
  {
   "cell_type": "code",
   "execution_count": null,
   "metadata": {},
   "outputs": [],
   "source": []
  },
  {
   "cell_type": "code",
   "execution_count": null,
   "metadata": {},
   "outputs": [],
   "source": []
  },
  {
   "cell_type": "code",
   "execution_count": null,
   "metadata": {},
   "outputs": [],
   "source": []
  },
  {
   "cell_type": "code",
   "execution_count": null,
   "metadata": {},
   "outputs": [],
   "source": []
  },
  {
   "cell_type": "code",
   "execution_count": null,
   "metadata": {},
   "outputs": [],
   "source": []
  },
  {
   "cell_type": "code",
   "execution_count": null,
   "metadata": {},
   "outputs": [],
   "source": []
  },
  {
   "cell_type": "code",
   "execution_count": null,
   "metadata": {},
   "outputs": [],
   "source": []
  },
  {
   "cell_type": "code",
   "execution_count": null,
   "metadata": {},
   "outputs": [],
   "source": []
  },
  {
   "cell_type": "code",
   "execution_count": null,
   "metadata": {},
   "outputs": [],
   "source": []
  },
  {
   "cell_type": "code",
   "execution_count": null,
   "metadata": {},
   "outputs": [],
   "source": []
  },
  {
   "cell_type": "code",
   "execution_count": null,
   "metadata": {},
   "outputs": [],
   "source": [
    "\n"
   ]
  },
  {
   "cell_type": "code",
   "execution_count": null,
   "metadata": {},
   "outputs": [],
   "source": []
  },
  {
   "cell_type": "code",
   "execution_count": null,
   "metadata": {},
   "outputs": [],
   "source": []
  },
  {
   "cell_type": "code",
   "execution_count": null,
   "metadata": {},
   "outputs": [],
   "source": []
  },
  {
   "cell_type": "code",
   "execution_count": null,
   "metadata": {},
   "outputs": [],
   "source": []
  },
  {
   "cell_type": "code",
   "execution_count": null,
   "metadata": {},
   "outputs": [],
   "source": []
  },
  {
   "cell_type": "code",
   "execution_count": null,
   "metadata": {},
   "outputs": [],
   "source": []
  },
  {
   "cell_type": "code",
   "execution_count": null,
   "metadata": {},
   "outputs": [],
   "source": []
  },
  {
   "cell_type": "code",
   "execution_count": null,
   "metadata": {},
   "outputs": [],
   "source": []
  },
  {
   "cell_type": "code",
   "execution_count": null,
   "metadata": {},
   "outputs": [],
   "source": []
  },
  {
   "cell_type": "code",
   "execution_count": null,
   "metadata": {},
   "outputs": [],
   "source": []
  },
  {
   "cell_type": "code",
   "execution_count": null,
   "metadata": {},
   "outputs": [],
   "source": []
  },
  {
   "cell_type": "code",
   "execution_count": null,
   "metadata": {},
   "outputs": [],
   "source": []
  },
  {
   "cell_type": "code",
   "execution_count": null,
   "metadata": {},
   "outputs": [],
   "source": []
  },
  {
   "cell_type": "code",
   "execution_count": null,
   "metadata": {},
   "outputs": [],
   "source": []
  },
  {
   "cell_type": "code",
   "execution_count": null,
   "metadata": {},
   "outputs": [],
   "source": []
  },
  {
   "cell_type": "code",
   "execution_count": null,
   "metadata": {},
   "outputs": [],
   "source": []
  },
  {
   "cell_type": "code",
   "execution_count": null,
   "metadata": {},
   "outputs": [],
   "source": []
  },
  {
   "cell_type": "code",
   "execution_count": null,
   "metadata": {},
   "outputs": [],
   "source": []
  },
  {
   "cell_type": "code",
   "execution_count": null,
   "metadata": {},
   "outputs": [],
   "source": []
  },
  {
   "cell_type": "code",
   "execution_count": null,
   "metadata": {},
   "outputs": [],
   "source": []
  },
  {
   "cell_type": "code",
   "execution_count": null,
   "metadata": {},
   "outputs": [],
   "source": []
  },
  {
   "cell_type": "code",
   "execution_count": null,
   "metadata": {},
   "outputs": [],
   "source": []
  },
  {
   "cell_type": "code",
   "execution_count": null,
   "metadata": {},
   "outputs": [],
   "source": []
  },
  {
   "cell_type": "code",
   "execution_count": null,
   "metadata": {},
   "outputs": [],
   "source": []
  },
  {
   "cell_type": "code",
   "execution_count": null,
   "metadata": {},
   "outputs": [],
   "source": []
  },
  {
   "cell_type": "code",
   "execution_count": null,
   "metadata": {},
   "outputs": [],
   "source": []
  },
  {
   "cell_type": "code",
   "execution_count": null,
   "metadata": {},
   "outputs": [],
   "source": []
  },
  {
   "cell_type": "code",
   "execution_count": null,
   "metadata": {},
   "outputs": [],
   "source": []
  },
  {
   "cell_type": "code",
   "execution_count": null,
   "metadata": {},
   "outputs": [],
   "source": []
  },
  {
   "cell_type": "code",
   "execution_count": null,
   "metadata": {},
   "outputs": [],
   "source": []
  },
  {
   "cell_type": "code",
   "execution_count": null,
   "metadata": {},
   "outputs": [],
   "source": []
  },
  {
   "cell_type": "code",
   "execution_count": null,
   "metadata": {},
   "outputs": [],
   "source": []
  }
 ],
 "metadata": {
  "kernelspec": {
   "display_name": "Python 3",
   "language": "python",
   "name": "python3"
  },
  "language_info": {
   "codemirror_mode": {
    "name": "ipython",
    "version": 3
   },
   "file_extension": ".py",
   "mimetype": "text/x-python",
   "name": "python",
   "nbconvert_exporter": "python",
   "pygments_lexer": "ipython3",
   "version": "3.8.2"
  }
 },
 "nbformat": 4,
 "nbformat_minor": 4
}
